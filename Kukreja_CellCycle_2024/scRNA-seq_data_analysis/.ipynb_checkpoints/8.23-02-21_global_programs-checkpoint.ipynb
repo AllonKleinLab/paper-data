{
 "cells": [
  {
   "cell_type": "markdown",
   "metadata": {
    "tags": []
   },
   "source": [
    "# Set up"
   ]
  },
  {
   "cell_type": "code",
   "execution_count": 1,
   "metadata": {},
   "outputs": [],
   "source": [
    "import numpy as np, pandas as pd, matplotlib.pyplot as pl, scipy.sparse as ssp\n",
    "import scanpy as sc,scanpy.external as sce\n",
    "import os\n",
    "import sys\n",
    "#sys.path.append('/Users/kalki/Dropbox (HMS)/PhD_lab/SPRING_dev/data_prep/')\n",
    "sys.path.append('/Users/kalki/Dropbox (HMS)/PhD_lab/SPRING_dev/data_prep/')\n",
    "\n",
    "import helper_functions_py3 as hf\n",
    "\n",
    "sc.settings.verbosity = 2  # verbosity: errors (0), warnings (1), info (2), hints (3)\n",
    "sc.settings.set_figure_params(dpi=100)  # low dpi (dots per inch) yields small inline figures\n",
    "\n",
    "import scipy.stats as ss\n",
    "import seaborn as sn\n",
    "import statsmodels.formula.api as smf \n",
    "import statsmodels.api as sm"
   ]
  },
  {
   "cell_type": "markdown",
   "metadata": {
    "tags": []
   },
   "source": [
    "# Load data"
   ]
  },
  {
   "cell_type": "code",
   "execution_count": 2,
   "metadata": {},
   "outputs": [],
   "source": [
    "# load adata:\n",
    "\n",
    "adata_raw2 = sc.read('../../../data/anndata_objects/adata6_8_10_14_18c_21c_24_old_anndata.h5ad') # old anndata version with apoptotic cells\n",
    " "
   ]
  },
  {
   "cell_type": "code",
   "execution_count": 6,
   "metadata": {},
   "outputs": [],
   "source": [
    "# load cnmf data:\n",
    "\n",
    "# usage and spectra70 from cnmf \n",
    "\n",
    "cnmf_dir = '../../../data/cnmf_6-all8-10-14-18c-21c-24'\n",
    "\n",
    "name = 'run1'\n",
    "cnmf_k70 = 70\n",
    "cnmf_dt = '0_4'\n",
    "\n",
    "\n",
    "usage_matrix70 = pd.read_csv(f'{cnmf_dir}/{name}.usages.k_{cnmf_k70}.dt_{cnmf_dt}.consensus.txt', sep='\\t', index_col=0)\n",
    "usage_matrix70.columns = np.arange(0,cnmf_k70)\n",
    "normalized_usage_matrix70 = usage_matrix70.div(usage_matrix70.sum(axis=1), axis=0)\n",
    "\n",
    "spectra70 = pd.read_csv(f'{cnmf_dir}/{name}.spectra.k_{cnmf_k70}.dt_{cnmf_dt}.consensus.txt', sep='\\t', index_col=0)\n",
    "spectra70_norm = spectra70.div(spectra70.sum(0), axis='columns')\n",
    "\n",
    "usage_matrix70 = usage_matrix70\n",
    "normalized_usage_matrix70 = normalized_usage_matrix70\n",
    "\n",
    "adata_raw2.obsm['usages70'] = normalized_usage_matrix70.values\n",
    "\n"
   ]
  },
  {
   "cell_type": "markdown",
   "metadata": {},
   "source": [
    "# Rename states to by adding time point prefix"
   ]
  },
  {
   "cell_type": "code",
   "execution_count": 7,
   "metadata": {},
   "outputs": [],
   "source": [
    "\n",
    "state_all = np.array(adata_raw2.obs.cell_state)\n",
    "time_all = np.array(adata_raw2.obs.time_point)\n",
    "time_states = np.zeros(adata_raw2.shape[0], dtype = object)\n",
    "\n",
    "for i,names in enumerate(state_all):\n",
    "    if time_all[i] == '06':\n",
    "        time_states[i] = '06-{}'.format(names)\n",
    "    if time_all[i] == '08':\n",
    "        time_states[i] = '08-{}'.format(names)\n",
    "    if time_all[i] == '10':\n",
    "        time_states[i] = '10-{}'.format(names)\n",
    "    if time_all[i] == '14':\n",
    "        time_states[i] = '14-{}'.format(names)\n",
    "    if time_all[i] == '18':\n",
    "        time_states[i] = '18-{}'.format(names)\n",
    "    if time_all[i] == '21':\n",
    "        time_states[i] = '21-{}'.format(names)\n",
    "    if time_all[i] == '24':\n",
    "        time_states[i] = '24-{}'.format(names)\n",
    "\n",
    "adata_raw2.obs['time_states'] = time_states"
   ]
  },
  {
   "cell_type": "markdown",
   "metadata": {},
   "source": [
    "# State wise expression of programs"
   ]
  },
  {
   "cell_type": "code",
   "execution_count": 8,
   "metadata": {},
   "outputs": [],
   "source": [
    "# subset adata into treatments:\n",
    "\n",
    "adatac = adata_raw2[adata_raw2.obs.treatment == 'control'].copy()\n",
    "adatah = adata_raw2[adata_raw2.obs.treatment == 'hua'].copy()\n",
    "adatae = adata_raw2[adata_raw2.obs.treatment == 'emi'].copy()"
   ]
  },
  {
   "cell_type": "code",
   "execution_count": 9,
   "metadata": {},
   "outputs": [],
   "source": [
    "# subset cNMF:\n",
    "\n",
    "normalized_usage_matrix70c = normalized_usage_matrix70.loc[np.array(adata_raw2.obs.treatment == 'control')]\n",
    "normalized_usage_matrix70h = normalized_usage_matrix70.loc[np.array(adata_raw2.obs.treatment == 'hua')]\n",
    "normalized_usage_matrix70e = normalized_usage_matrix70.loc[np.array(adata_raw2.obs.treatment == 'emi')]"
   ]
  },
  {
   "cell_type": "code",
   "execution_count": 10,
   "metadata": {},
   "outputs": [],
   "source": [
    "# state wise expression in control:\n",
    "\n",
    "state_usage_c = np.zeros( (len(set(adatac.obs.time_states)),\n",
    "                        normalized_usage_matrix70c.shape[1]))\n",
    "\n",
    "for i,states in enumerate(set(adatac.obs.time_states)):\n",
    "    state_usage_c[i,:] = normalized_usage_matrix70c.loc[np.array(adatac.obs.time_states == states)].mean(axis=0)\n",
    "\n",
    "state_usage_c = pd.DataFrame(state_usage_c)\n",
    "state_usage_c.index =set(adatac.obs.time_states)\n",
    "state_usage_c = state_usage_c.sort_index()"
   ]
  },
  {
   "cell_type": "code",
   "execution_count": 11,
   "metadata": {
    "tags": []
   },
   "outputs": [],
   "source": [
    "# state wise expression in hua:\n",
    "\n",
    "state_usage_h = np.zeros( (len(set(adatah.obs.time_states)),\n",
    "                        normalized_usage_matrix70h.shape[1]))\n",
    "\n",
    "for i,states in enumerate(set(adatah.obs.time_states)):\n",
    "    state_usage_h[i,:] = normalized_usage_matrix70h.loc[np.array(adatah.obs.time_states == states)].mean(axis=0)\n",
    "\n",
    "state_usage_h = pd.DataFrame(state_usage_h)\n",
    "state_usage_h.index =set(adatah.obs.time_states)\n",
    "state_usage_h = state_usage_h.sort_index()"
   ]
  },
  {
   "cell_type": "code",
   "execution_count": 12,
   "metadata": {},
   "outputs": [],
   "source": [
    "# state wise expression in emi:\n",
    "\n",
    "state_usage_e = np.zeros( (len(set(adatae.obs.time_states)),\n",
    "                        normalized_usage_matrix70e.shape[1]))\n",
    "\n",
    "for i,states in enumerate(set(adatae.obs.time_states)):\n",
    "    state_usage_e[i,:] = normalized_usage_matrix70e.loc[np.array(adatae.obs.time_states == states)].mean(axis=0)\n",
    "\n",
    "state_usage_e = pd.DataFrame(state_usage_e)\n",
    "state_usage_e.index =set(adatae.obs.time_states)\n",
    "state_usage_e = state_usage_e.sort_index()"
   ]
  },
  {
   "cell_type": "code",
   "execution_count": 13,
   "metadata": {},
   "outputs": [],
   "source": [
    "# state wise expression in all cells combined:\n",
    "\n",
    "state_usage_all = np.zeros( (len(set(adata_raw2.obs.time_states)),\n",
    "                        normalized_usage_matrix70.shape[1]))\n",
    "\n",
    "for i,states in enumerate(set(adata_raw2.obs.time_states)):\n",
    "    state_usage_all[i,:] = normalized_usage_matrix70.loc[np.array(adata_raw2.obs.time_states == states)].mean(axis=0)\n",
    "\n",
    "state_usage_all = pd.DataFrame(state_usage_all)\n",
    "state_usage_all.index =set(adata_raw2.obs.time_states)\n",
    "state_usage_all = state_usage_all.sort_index()"
   ]
  },
  {
   "cell_type": "markdown",
   "metadata": {},
   "source": [
    "# Plot overall program expression: control vs perturbed"
   ]
  },
  {
   "cell_type": "code",
   "execution_count": 14,
   "metadata": {},
   "outputs": [],
   "source": [
    "# plotting only 24 h here because of emi\n",
    "# program 38 is the global perturbation program for hua\n",
    "# program 8 is the global perturbation program for emi1\n",
    "\n",
    "mean_hua_prog = np.array([state_usage_c[38][state_usage_e.index].mean(),state_usage_e[38].mean(), state_usage_h[38][state_usage_e.index].mean()])\n",
    "mean_emi_prog = np.array([state_usage_c[8][state_usage_e.index].mean(),state_usage_e[8].mean(), state_usage_h[8][state_usage_e.index].mean()])\n",
    "\n",
    "sem_hua_prog = np.array([ss.sem(state_usage_c[38][state_usage_e.index]),ss.sem(state_usage_e[38]), ss.sem(state_usage_h[38][state_usage_e.index])])\n",
    "sem_emi_prog = np.array([ss.sem(state_usage_c[8][state_usage_e.index]),ss.sem(state_usage_e[8]), ss.sem(state_usage_h[8][state_usage_e.index])])\n"
   ]
  },
  {
   "cell_type": "code",
   "execution_count": 15,
   "metadata": {},
   "outputs": [
    {
     "data": {
      "image/png": "[encoded data removed]",
      "text/plain": [
       "<Figure size 150x250 with 1 Axes>"
      ]
     },
     "metadata": {
      "image/png": {
       "height": 243,
       "width": 179
      }
     },
     "output_type": "display_data"
    }
   ],
   "source": [
    "#my_pal = {'control': \"lightgrey\", 'emi':'#00cdcd', 'hua': '#e78ac3'}\n",
    "pl.figure(figsize = (1.5,2.5))\n",
    "\n",
    "ctrl_color = \"lightgrey\"\n",
    "hua_color = '#e78ac3'\n",
    "emi_color = '#00cdcd'\n",
    "pl.bar(x = np.array([0,1,2]),height = mean_hua_prog, yerr = sem_hua_prog, \n",
    "       color = np.array([ctrl_color, emi_color, hua_color]), alpha = 0.9,\n",
    "       tick_label = ['Control', 'emi1', 'HUA'])\n",
    "pl.grid(False)\n",
    "sn.despine()\n",
    "bla = pl.yticks([0,0.05,0.1,0.15],fontname = 'Helvetica', fontsize = 12)\n",
    "pl.savefig('../../../figures/hua_program_bar.pdf',dpi = 300, bbox_inches='tight')\n"
   ]
  },
  {
   "cell_type": "code",
   "execution_count": 16,
   "metadata": {},
   "outputs": [
    {
     "data": {
      "image/png": "[encoded data removed]",
      "text/plain": [
       "<Figure size 150x250 with 1 Axes>"
      ]
     },
     "metadata": {
      "image/png": {
       "height": 237,
       "width": 179
      }
     },
     "output_type": "display_data"
    }
   ],
   "source": [
    "pl.figure(figsize = (1.5,2.5))\n",
    "ctrl_color = \"lightgrey\"\n",
    "hua_color = '#e78ac3'\n",
    "emi_color = '#00cdcd'\n",
    "pl.bar(x = np.array([0,1,2]),height = mean_emi_prog, yerr = sem_emi_prog, \n",
    "       color = np.array([ctrl_color, emi_color, hua_color]), alpha = 0.9,\n",
    "       tick_label = ['Control', 'emi1', 'HUA'])\n",
    "pl.grid(False)\n",
    "sn.despine()\n",
    "bla = pl.yticks([0,0.05,0.1,0.15],fontname = 'Helvetica', fontsize = 12)\n",
    "pl.savefig('../../../figures/emi_program_bar.pdf',dpi = 300, bbox_inches='tight')\n"
   ]
  },
  {
   "cell_type": "code",
   "execution_count": 16,
   "metadata": {},
   "outputs": [
    {
     "data": {
      "text/plain": [
       "([<matplotlib.axis.YTick at 0x38b7d3850>,\n",
       "  <matplotlib.axis.YTick at 0x38b7d38b0>,\n",
       "  <matplotlib.axis.YTick at 0x38b7f88e0>,\n",
       "  <matplotlib.axis.YTick at 0x3f3f209a0>],\n",
       " [Text(0, 0.001, '$\\\\mathdefault{10^{-3}}$'),\n",
       "  Text(0, 0.01, '$\\\\mathdefault{10^{-2}}$'),\n",
       "  Text(0, 0.1, '$\\\\mathdefault{10^{-1}}$'),\n",
       "  Text(0, 1.0, '$\\\\mathdefault{10^{0}}$')])"
      ]
     },
     "execution_count": 16,
     "metadata": {},
     "output_type": "execute_result"
    },
    {
     "data": {
      "image/png": "[encoded data removed]",
      "text/plain": [
       "<Figure size 300x300 with 1 Axes>"
      ]
     },
     "metadata": {
      "image/png": {
       "height": 285,
       "width": 316
      }
     },
     "output_type": "display_data"
    }
   ],
   "source": [
    "time_color_hua = np.zeros(state_usage_h.shape[0], dtype = object)\n",
    "time_h = np.zeros(state_usage_h.shape[0], dtype = object)\n",
    "time_c = np.zeros(state_usage_c.shape[0], dtype = object)\n",
    "\n",
    "ctrl_color = \"lightgrey\"\n",
    "hua_color = '#e78ac3'\n",
    "emi_color = '#00cdcd'\n",
    "for i,states in enumerate(state_usage_h.index):\n",
    "    if states[:2] == '08':\n",
    "        time_color_hua[i] = '#fcc5c0'\n",
    "        time_h[i] = '08'\n",
    "\n",
    "    if states[:2] == '10':\n",
    "        time_color_hua[i] = '#bdbdbd'\n",
    "        time_h[i] = '10'\n",
    "\n",
    "    if states[:2] == '14':\n",
    "        time_color_hua[i] = '#969696'\n",
    "        time_h[i] = '14'\n",
    "\n",
    "    if states[:2] == '24':\n",
    "        time_color_hua[i] = '#888'\n",
    "        time_h[i] = '24'\n",
    "\n",
    "for i,states in enumerate(state_usage_c.index):\n",
    "    if states[:2] == '08':\n",
    "        time_c[i] = '08'\n",
    "    if states[:2] == '10':\n",
    "        time_c[i] = '10'\n",
    "    if states[:2] == '14':\n",
    "        time_c[i] = '14'\n",
    "    if states[:2] == '24':\n",
    "        time_c[i] = '24'\n",
    "\n",
    "pl.figure(figsize = (3,3))\n",
    "pl.scatter(state_usage_c[38][(state_usage_h[38][time_h == '24']).index], state_usage_h[38][time_h == '24'], color = hua_color, s= 25)\n",
    "pl.yscale('log')\n",
    "pl.xscale('log')\n",
    "\n",
    "pl.xlim((10**-3,1))\n",
    "pl.ylim((10**-3,1))\n",
    "\n",
    "pl.plot([10**-3,1], [10**-3,1] ,linestyle = 'dashed', color = 'lightgrey')\n",
    "pl.grid(False)\n",
    "sn.despine()\n",
    "pl.xticks([10**-3,10**-2,10**-1, 10**0],fontname = 'Helvetica')\n",
    "pl.yticks([10**-3,10**-2,10**-1, 10**0],fontname = 'Helvetica')\n",
    "\n",
    "#pl.savefig('../../../figures/hua_program_ctrl_vs_hua.pdf',dpi = 300, bbox_inches='tight')\n"
   ]
  },
  {
   "cell_type": "code",
   "execution_count": 25,
   "metadata": {},
   "outputs": [
    {
     "data": {
      "image/png": "[encoded data removed]",
      "text/plain": [
       "<Figure size 300x300 with 1 Axes>"
      ]
     },
     "metadata": {
      "image/png": {
       "height": 285,
       "width": 316
      }
     },
     "output_type": "display_data"
    }
   ],
   "source": [
    "pl.figure(figsize = (3,3))\n",
    "pl.scatter(state_usage_c.loc[state_usage_e.index][8],\n",
    "           state_usage_e[8], c=emi_color, s= 25)\n",
    "\n",
    "pl.yscale('log')\n",
    "pl.xscale('log')\n",
    "\n",
    "pl.xlim((10**-3,1))\n",
    "pl.ylim((10**-3,1))\n",
    "\n",
    "pl.plot([10**-3,1], [10**-3,1] ,linestyle = 'dashed', color = 'lightgrey')\n",
    "pl.grid(False)\n",
    "sn.despine()\n",
    "pl.xticks([10**-3,10**-2,10**-1, 10**0],fontname = 'Helvetica')\n",
    "pl.yticks([10**-3,10**-2,10**-1, 10**0],fontname = 'Helvetica')\n",
    "\n",
    "pl.savefig('../../../figures/emi_program_ctrl_vs_emi.pdf',dpi = 300, bbox_inches='tight')\n"
   ]
  },
  {
   "cell_type": "code",
   "execution_count": 22,
   "metadata": {},
   "outputs": [
    {
     "data": {
      "text/plain": [
       "PearsonRResult(statistic=0.4057590416255634, pvalue=7.258503067917399e-05)"
      ]
     },
     "execution_count": 22,
     "metadata": {},
     "output_type": "execute_result"
    }
   ],
   "source": [
    "ss.pearsonr(state_usage_c[38][state_usage_h[38].index], state_usage_h[38][state_usage_h[38].index])\n"
   ]
  },
  {
   "cell_type": "code",
   "execution_count": 23,
   "metadata": {},
   "outputs": [],
   "source": [
    "ix_8h = state_usage_h.index[:13]\n",
    "ix_10h = state_usage_h.index[13:29]\n",
    "ix_14h = state_usage_h.index[29:53]\n",
    "ix_24h = state_usage_h.index[53:]\n"
   ]
  },
  {
   "cell_type": "code",
   "execution_count": 24,
   "metadata": {},
   "outputs": [
    {
     "data": {
      "text/plain": [
       "0.7083650271159717"
      ]
     },
     "execution_count": 24,
     "metadata": {},
     "output_type": "execute_result"
    }
   ],
   "source": [
    "np.mean([ ss.pearsonr(state_usage_c[38][ix_8h],state_usage_h[38][ix_8h])[0],\n",
    "        ss.pearsonr(state_usage_c[38][ix_10h],state_usage_h[38][ix_10h])[0],\n",
    "        ss.pearsonr(state_usage_c[38][ix_14h],state_usage_h[38][ix_14h])[0],\n",
    "        ss.pearsonr(state_usage_c[38][ix_24h],state_usage_h[38][ix_24h])[0] ])\n",
    "        \n"
   ]
  },
  {
   "cell_type": "code",
   "execution_count": 25,
   "metadata": {},
   "outputs": [
    {
     "data": {
      "text/plain": [
       "PearsonRResult(statistic=0.5918258648298882, pvalue=0.00011426878023597081)"
      ]
     },
     "execution_count": 25,
     "metadata": {},
     "output_type": "execute_result"
    }
   ],
   "source": [
    " ss.pearsonr(state_usage_c[38][ix_24h],state_usage_h[38][ix_24h])"
   ]
  },
  {
   "cell_type": "code",
   "execution_count": 26,
   "metadata": {},
   "outputs": [
    {
     "data": {
      "text/plain": [
       "PearsonRResult(statistic=0.8875727439243877, pvalue=2.477757186036475e-13)"
      ]
     },
     "execution_count": 26,
     "metadata": {},
     "output_type": "execute_result"
    }
   ],
   "source": [
    "ss.pearsonr(state_usage_c[8][state_usage_e.index], state_usage_e[8])\n"
   ]
  },
  {
   "cell_type": "code",
   "execution_count": 27,
   "metadata": {},
   "outputs": [],
   "source": [
    "delta_hua_8 = pd.DataFrame((state_usage_h[38]-state_usage_c.loc[state_usage_h.index][38])[time_h == '08'])\n",
    "delta_hua_8.columns = ['delta usage']\n",
    "\n",
    "delta_hua_10 = pd.DataFrame((state_usage_h[38]-state_usage_c.loc[state_usage_h.index][38])[time_h == '10'])\n",
    "delta_hua_10.columns = ['delta usage']\n",
    "\n",
    "delta_hua_14 = pd.DataFrame((state_usage_h[38]-state_usage_c.loc[state_usage_h.index][38])[time_h == '14'])\n",
    "delta_hua_14.columns = ['delta usage']\n",
    "\n",
    "delta_hua_24 = pd.DataFrame((state_usage_h[38]-state_usage_c.loc[state_usage_h.index][38])[time_h == '24'])\n",
    "delta_hua_24.columns = ['delta usage']\n",
    "\n",
    "delta_emi_24 = pd.DataFrame((state_usage_e[38]-state_usage_c.loc[state_usage_e.index][38]) )\n",
    "delta_hua_24.columns = ['delta usage']\n"
   ]
  },
  {
   "cell_type": "code",
   "execution_count": 28,
   "metadata": {},
   "outputs": [],
   "source": [
    "delta_hua_8['Condition'] = 'HUA'*np.ones(delta_hua_8.shape[0],dtype = 'object' )\n",
    "delta_hua_8['Time'] = 8*np.ones(delta_hua_8.shape[0],dtype = 'object' )\n",
    "\n",
    "delta_hua_10['Condition'] = 'HUA'*np.ones(delta_hua_10.shape[0],dtype = 'object' )\n",
    "delta_hua_10['Time'] = 10*np.ones(delta_hua_10.shape[0],dtype = 'object' )\n",
    "\n",
    "delta_hua_14['Condition'] = 'HUA'*np.ones(delta_hua_14.shape[0],dtype = 'object' )\n",
    "delta_hua_14['Time'] = 14*np.ones(delta_hua_14.shape[0],dtype = 'object' )\n",
    "\n",
    "delta_hua_24['Condition'] = 'HUA'*np.ones(delta_hua_24.shape[0],dtype = 'object' )\n",
    "delta_hua_24['Time'] = 24*np.ones(delta_hua_24.shape[0],dtype = 'object' )\n",
    "\n",
    "delta_emi_24['Condition'] = 'Emi1'*np.ones(delta_emi_24.shape[0],dtype = 'object' )\n",
    "delta_emi_24['Time'] = 24.1*np.ones(delta_emi_24.shape[0],dtype = 'object' )\n",
    "\n",
    "                                        "
   ]
  },
  {
   "cell_type": "code",
   "execution_count": 29,
   "metadata": {},
   "outputs": [],
   "source": [
    "delta_hua_10_e = pd.DataFrame((state_usage_h[8] - state_usage_c.loc[state_usage_h.index][8])[time_h == '10'])\n",
    "delta_hua_14_e = pd.DataFrame((state_usage_h[8] - state_usage_c.loc[state_usage_h.index][8])[time_h == '14'])\n",
    "delta_hua_24_e = pd.DataFrame((state_usage_h[8] - state_usage_c.loc[state_usage_h.index][8])[time_h == '24'])\n",
    "delta_emi_24_e = pd.DataFrame((state_usage_e[8] - state_usage_c.loc[state_usage_e.index][8]) )\n",
    "delta_emi_24_e.columns = ['delta usage']\n"
   ]
  },
  {
   "cell_type": "code",
   "execution_count": 30,
   "metadata": {},
   "outputs": [],
   "source": [
    "delta_hua_10_e['Condition'] = 'HUA'*np.ones(delta_hua_10.shape[0],dtype = 'object' )\n",
    "delta_hua_10_e['Time'] = 10*np.ones(delta_hua_10.shape[0],dtype = 'object' )\n",
    "\n",
    "delta_hua_14_e['Condition'] = 'HUA'*np.ones(delta_hua_14.shape[0],dtype = 'object' )\n",
    "delta_hua_14_e['Time'] = 14*np.ones(delta_hua_14.shape[0],dtype = 'object' )\n",
    "\n",
    "delta_hua_24_e['Condition'] = 'HUA'*np.ones(delta_hua_24.shape[0],dtype = 'object' )\n",
    "delta_hua_24_e['Time'] = 24*np.ones(delta_hua_24.shape[0],dtype = 'object' )\n",
    "\n",
    "delta_emi_24_e['Condition'] = 'Emi1'*np.ones(delta_emi_24.shape[0],dtype = 'object' )\n",
    "delta_emi_24_e['Time'] = 24.1*np.ones(delta_emi_24.shape[0],dtype = 'object' )\n",
    "\n",
    "                                        "
   ]
  },
  {
   "cell_type": "code",
   "execution_count": 31,
   "metadata": {},
   "outputs": [],
   "source": [
    "# make lo\n",
    "long_form_delta_usage = pd.concat([ delta_hua_8, delta_hua_10, delta_hua_14, delta_hua_24, delta_emi_24_e])"
   ]
  },
  {
   "cell_type": "code",
   "execution_count": 34,
   "metadata": {},
   "outputs": [],
   "source": [
    "long_form_delta_usage.to_csv('../../../data/Fig4F_delta_usage.csv')"
   ]
  },
  {
   "cell_type": "code",
   "execution_count": 74,
   "metadata": {},
   "outputs": [
    {
     "data": {
      "image/png": "[encoded data removed]",
      "text/plain": [
       "<Figure size 240x320 with 1 Axes>"
      ]
     },
     "metadata": {
      "image/png": {
       "height": 290,
       "width": 244
      }
     },
     "output_type": "display_data"
    }
   ],
   "source": [
    "my_pal = {8: '#e78ac3', 10:'#e78ac3', 14:'#e78ac3', 24:'#e78ac3', 24.1:'#00cdcd'} \n",
    "\n",
    "pl.figure(figsize = (3/1.25,4/1.25))\n",
    "sn.boxplot(data = long_form_delta_usage, y='delta usage', x = 'Time', palette = my_pal,width = 0.6, linewidth = 1)\n",
    "pl.grid(False)\n",
    "sn.despine()\n",
    "pl.axhline(y=0, linestyle='dashed', color = 'Red', linewidth = 1)\n",
    "pl.ylabel(None)\n",
    "pl.xlabel(None)\n",
    "pl.yticks(fontname = 'Helvetica', fontsize = 14)\n",
    "\n",
    "pl.savefig('../../../figures/global_time_wise.pdf',dpi = 300, bbox_inches='tight')\n"
   ]
  },
  {
   "cell_type": "markdown",
   "metadata": {
    "tags": []
   },
   "source": [
    "# Gene expression plots for global programs"
   ]
  },
  {
   "cell_type": "code",
   "execution_count": 35,
   "metadata": {},
   "outputs": [],
   "source": [
    "adata24_raw = adata_raw2[adata_raw2.obs.time_point == '24'].copy()"
   ]
  },
  {
   "cell_type": "code",
   "execution_count": 36,
   "metadata": {},
   "outputs": [
    {
     "name": "stdout",
     "output_type": "stream",
     "text": [
      "normalizing by total count per cell\n",
      "    finished (0:00:01): normalized adata.X and added    'n_counts', counts per cell before normalization (adata.obs)\n"
     ]
    }
   ],
   "source": [
    "# normalize adata 24\n",
    "\n",
    "sc.pp.normalize_per_cell(adata24_raw, counts_per_cell_after = 10000)\n",
    "# subset ctrl, emi and hua data\n",
    "adata24c_raw = adata24_raw[adata24_raw.obs.treatment == 'control'].copy()\n",
    "adata24h_raw = adata24_raw[adata24_raw.obs.treatment == 'hua'].copy()\n",
    "adata24e_raw = adata24_raw[adata24_raw.obs.treatment == 'emi'].copy()\n",
    "\n",
    "\n",
    "# plot mean fraction perturbed/ctrl for gene expression\n",
    "\n"
   ]
  },
  {
   "cell_type": "code",
   "execution_count": 37,
   "metadata": {},
   "outputs": [],
   "source": [
    "spectra70.index = np.arange(spectra70.shape[0])\n"
   ]
  },
  {
   "cell_type": "code",
   "execution_count": 38,
   "metadata": {},
   "outputs": [],
   "source": [
    "spectra70.index = np.arange(spectra70.shape[0])\n",
    "dna_damage_genes = spectra70.loc[38].sort_values(ascending = False)[:15].index\n",
    "#dna_damage_genes = np.array(['ccng1', 'mdm2', 'tp53', 'sesn3', 'cdkn1a', 'foxo3b','txnipa','lnx1', 'bbc3', 'rasl11b'])\n",
    "nuc_biosyn_genes = spectra70.loc[8].sort_values(ascending = False)[:15].index\n",
    "#nuc_biosyn_genes = np.array(['cad', 'dut', 'rrm2', 'tuba1b', 'top2a', 'tuba1a', 'fabp3',\n",
    "#       'ahcy', 'msna', 'paics'])"
   ]
  },
  {
   "cell_type": "code",
   "execution_count": 39,
   "metadata": {},
   "outputs": [],
   "source": [
    "ddamage_expressionC = (adata24c_raw[:,dna_damage_genes].X.todense().mean(axis=0)).A[0]\n",
    "ddamage_semC = ss.sem(adata24c_raw[:,dna_damage_genes].X.todense(), axis=0)\n",
    "\n",
    "ddamage_expressionH = (adata24h_raw[:,dna_damage_genes].X.todense().mean(axis=0)).A[0]\n",
    "ddamage_semH = ss.sem(adata24h_raw[:,dna_damage_genes].X.todense(), axis=0)\n",
    "\n",
    "ddamage_expressionE = (adata24e_raw[:,dna_damage_genes].X.todense().mean(axis=0)).A[0]\n",
    "ddamage_semE = ss.sem(adata24e_raw[:,dna_damage_genes].X.todense(), axis=0)\n",
    "\n",
    "ddamage_fc_hua = np.log2(ddamage_expressionH/ddamage_expressionC)\n",
    "ddamage_fc_emi = np.log2(ddamage_expressionE/ddamage_expressionC)\n",
    "\n",
    "ddamage_sem_hua = np.sqrt((ddamage_semH/ddamage_expressionH)**2 + (ddamage_semC/ddamage_expressionC)**2)/np.log(2)\n",
    "ddnamage_sem_emi = np.sqrt((ddamage_semE/ddamage_expressionE)**2 + (ddamage_semC/ddamage_expressionC)**2)/np.log(2)\n"
   ]
  },
  {
   "cell_type": "code",
   "execution_count": 40,
   "metadata": {},
   "outputs": [],
   "source": [
    "nbiosyn_expressionC = (adata24c_raw[:,nuc_biosyn_genes].X.todense().mean(axis=0)).A[0]\n",
    "nbiosyn_semC = ss.sem(adata24c_raw[:,nuc_biosyn_genes].X.todense(), axis=0)\n",
    "\n",
    "nbiosyn_expressionH = (adata24h_raw[:,nuc_biosyn_genes].X.todense().mean(axis=0)).A[0]\n",
    "nbiosyn_semH = ss.sem(adata24h_raw[:,nuc_biosyn_genes].X.todense(), axis=0)\n",
    "\n",
    "nbiosyn_expressionE = (adata24e_raw[:,nuc_biosyn_genes].X.todense().mean(axis=0)).A[0]\n",
    "nbiosyn_semE = ss.sem(adata24e_raw[:,nuc_biosyn_genes].X.todense(), axis=0)\n",
    "\n",
    "nbiosyn_fc_hua = np.log2(nbiosyn_expressionH/nbiosyn_expressionC)\n",
    "nbiosyn_fc_emi = np.log2(nbiosyn_expressionE/nbiosyn_expressionC)\n",
    "\n",
    "nbiosyn_sem_hua = np.sqrt((nbiosyn_semH/nbiosyn_expressionH)**2 + (nbiosyn_semC/nbiosyn_expressionC)**2)/np.log(2)\n",
    "nbiosyn_sem_emi = np.sqrt((nbiosyn_semE/nbiosyn_expressionE)**2 + (nbiosyn_semC/nbiosyn_expressionC)**2)/np.log(2)\n"
   ]
  },
  {
   "cell_type": "code",
   "execution_count": 41,
   "metadata": {},
   "outputs": [],
   "source": [
    "dna_damage_pd1 = pd.DataFrame(ddamage_fc_hua)\n",
    "dna_damage_pd1['treatment'] = 'hua'*np.ones(15, dtype = object)\n",
    "dna_damage_pd1['genes'] = dna_damage_genes\n"
   ]
  },
  {
   "cell_type": "code",
   "execution_count": 42,
   "metadata": {},
   "outputs": [],
   "source": [
    "\n",
    "\n",
    "nuc_biosyn_pd2 = pd.DataFrame(nbiosyn_fc_emi)\n",
    "nuc_biosyn_pd2['treatment'] = 'emi'*np.ones(15, dtype = object)\n",
    "nuc_biosyn_pd2['genes'] = nuc_biosyn_genes\n",
    "\n",
    "#nuc_biosyn_pd = nuc_biosyn_pd2.append(nuc_biosyn_pd1, ignore_index=True)\n",
    "\n"
   ]
  },
  {
   "cell_type": "code",
   "execution_count": 158,
   "metadata": {},
   "outputs": [
    {
     "data": {
      "image/png": "[encoded data removed]",
      "text/plain": [
       "<Figure size 400x250 with 1 Axes>"
      ]
     },
     "metadata": {
      "image/png": {
       "height": 221,
       "width": 352
      }
     },
     "output_type": "display_data"
    }
   ],
   "source": [
    "pl.figure(figsize= (4,2.5))\n",
    "pl.bar(x = np.arange(dna_damage_pd1.shape[0]), height = dna_damage_pd1[0], yerr = ddamage_sem_hua, \n",
    "       color = '#e78ac3', alpha = 0.8, width = 0.75)\n",
    "#pl.xticks(np.arange(dna_damage_pd1.shape[0]), labels = dna_damage_pd1.genes, rotation = 90, fontstyle = 'italic')\n",
    "pl.xticks(np.arange(dna_damage_pd1.shape[0]), labels = [], rotation = 90, fontname = 'Helvetica')\n",
    "\n",
    "pl.yticks(fontname = 'Helvetica')\n",
    "pl.grid(False)\n",
    "sn.despine()\n",
    "\n",
    "pl.savefig('../../../figures/23-01-21_top15_genes_dna_damage.pdf',dpi = 300, bbox_inches='tight')\n",
    "\n"
   ]
  },
  {
   "cell_type": "code",
   "execution_count": 156,
   "metadata": {},
   "outputs": [
    {
     "data": {
      "image/png": "[encoded data removed]",
      "text/plain": [
       "<Figure size 400x250 with 1 Axes>"
      ]
     },
     "metadata": {
      "image/png": {
       "height": 221,
       "width": 368
      }
     },
     "output_type": "display_data"
    }
   ],
   "source": [
    "pl.figure(figsize= (4,2.5))\n",
    "pl.bar(x = np.arange(nuc_biosyn_pd2.shape[0]), height = nuc_biosyn_pd2[0], yerr = nbiosyn_sem_emi, \n",
    "       color = '#48CBC5',alpha = 0.8, width = 0.75)\n",
    "pl.xticks(np.arange(nuc_biosyn_pd2.shape[0]), labels = [], rotation = 90, fontname='Helvetica')\n",
    "#pl.xticks(np.arange(nuc_biosyn_pd2.shape[0]), labels = nuc_biosyn_pd2.genes, rotation = 90, style='italic')\n",
    "\n",
    "pl.grid(False)\n",
    "sn.despine()\n",
    "\n",
    "pl.savefig('../../../figures/23-01-21_top15_genes_nuc_biosyn.pdf',dpi = 300, bbox_inches='tight')\n",
    "\n"
   ]
  },
  {
   "cell_type": "markdown",
   "metadata": {},
   "source": [
    "# Gene set enrichment analysis"
   ]
  },
  {
   "cell_type": "code",
   "execution_count": 76,
   "metadata": {},
   "outputs": [],
   "source": [
    "genes_p53 = np.array(spectra70.loc[38].sort_values(ascending = False)[:50].index) "
   ]
  },
  {
   "cell_type": "code",
   "execution_count": 77,
   "metadata": {},
   "outputs": [
    {
     "data": {
      "text/plain": [
       "array(['ccng1', 'mdm2', 'sesn3', 'cdkn1a', 'tp53', 'zgc:136826', 'foxo3b',\n",
       "       'LOC100330598', 'LOC555795', 'phlda3', 'si:dkey-204l11.1',\n",
       "       'LOC100535455', 'lnx1', 'bbc3', 'txnipa', 'tp53inp1', 'gadd45aa',\n",
       "       'si:dkey-145p14.5', 'igf2a', 'isg15', 'fosab', 'LOC795545',\n",
       "       'sesn1', 'cdkn1ba', 'rpz5', 'btg2', 'hist2h2l', 'rasl11b', 'ier2',\n",
       "       'gadd45bb', 'LOC101882117', 'fsta', 'phlda2', 'prdx1', 'junba',\n",
       "       'gadd45ga', 'mmrn2b', 'atf3', 'plk3', 'eif4ebp1', 'wu:fb55g09',\n",
       "       'ddit4', 'angptl4', 'igf2b', 'tob1a', 'serpinh1a', 'LOC101885394',\n",
       "       'sh3tc1', 'her9', 'her6'], dtype=object)"
      ]
     },
     "execution_count": 77,
     "metadata": {},
     "output_type": "execute_result"
    }
   ],
   "source": [
    "np.savetxt('../../../data/23-06-19_p53_top50_non-capitalized.txt' ,genes_p53, fmt = '%s')"
   ]
  },
  {
   "cell_type": "code",
   "execution_count": 72,
   "metadata": {},
   "outputs": [],
   "source": [
    "for i,genes in enumerate(genes_p53):\n",
    "    genes_p53[i] = genes.capitalize()\n",
    "    \n",
    "np.savetxt('../../../data/23-01-21_p53_top50.txt' ,genes_p53, fmt = '%s')"
   ]
  },
  {
   "cell_type": "code",
   "execution_count": 79,
   "metadata": {},
   "outputs": [],
   "source": [
    "genes_emi = np.array(spectra70.loc[8].sort_values(ascending = False)[:50].index) "
   ]
  },
  {
   "cell_type": "code",
   "execution_count": 80,
   "metadata": {},
   "outputs": [],
   "source": [
    "np.savetxt('../../../data/23-06-19_emi_top50_non-capitalized.txt' ,genes_emi, fmt = '%s')"
   ]
  },
  {
   "cell_type": "code",
   "execution_count": 164,
   "metadata": {},
   "outputs": [],
   "source": [
    "for i,genes in enumerate(genes_emi):\n",
    "    genes_emi[i] = genes.capitalize()"
   ]
  },
  {
   "cell_type": "code",
   "execution_count": 165,
   "metadata": {},
   "outputs": [],
   "source": [
    "np.savetxt('../../../data/23-01-21_emi_top50.txt' ,genes_emi, fmt = '%s')"
   ]
  },
  {
   "cell_type": "markdown",
   "metadata": {},
   "source": [
    "- Link to find GO terms: http://www.gsea-msigdb.org/gsea/msigdb/annotate.jsp \n",
    "- File names with stored results: 23-01-21_gsea_prog38.tsv , 23-01-21_gsea_prog8.tsv"
   ]
  },
  {
   "cell_type": "code",
   "execution_count": 166,
   "metadata": {},
   "outputs": [],
   "source": [
    "pval_stress1 = np.array([2.83E-09,1.08E-08,3.91E-08,2.83E-05,6.39E-05])[np.arange(4,-1,-1)]\n",
    "\n",
    "\n",
    "pval_stress2 = np.array([3.53E-06,3.53E-06,1.47E-04,4.13E-04,4.82E-04])[np.arange(4,-1,-1)]"
   ]
  },
  {
   "cell_type": "code",
   "execution_count": 171,
   "metadata": {},
   "outputs": [
    {
     "data": {
      "image/png": "[encoded data removed]",
      "text/plain": [
       "<Figure size 250x160 with 1 Axes>"
      ]
     },
     "metadata": {
      "image/png": {
       "height": 169,
       "width": 231
      }
     },
     "output_type": "display_data"
    }
   ],
   "source": [
    "pl.rcParams['pdf.fonttype'] = 42\n",
    "pl.figure(figsize = (2.5,1.6))\n",
    "pl.tick_params( bottom=True,top=False, labelbottom = True, labeltop=False, labelleft = False)\n",
    "pl.barh(y = np.arange(5), width = -np.log10(pval_stress1), color = '#B8B8B8')\n",
    "pl.grid(False)\n",
    "bla1 = pl.yticks(np.arange(5))\n",
    "pl.xticks([0,5,10])\n",
    "sn.despine()\n",
    "\n",
    "pl.savefig('../../../figures/23-01-15_go_programs_stress1.pdf',dpi = 200, bbox_inches='tight')\n"
   ]
  },
  {
   "cell_type": "code",
   "execution_count": 172,
   "metadata": {},
   "outputs": [
    {
     "data": {
      "image/png": "[encoded data removed]",
      "text/plain": [
       "<Figure size 250x160 with 1 Axes>"
      ]
     },
     "metadata": {
      "image/png": {
       "height": 169,
       "width": 225
      }
     },
     "output_type": "display_data"
    }
   ],
   "source": [
    "pl.figure(figsize = (2.5,1.6))\n",
    "pl.tick_params( bottom=True,top=False, labelbottom = True, labeltop=False, labelleft = False)\n",
    "pl.barh(y = np.arange(5), width = -np.log10(pval_stress2), color = '#B8B8B8')\n",
    "pl.grid(False)\n",
    "bla1 = pl.yticks(np.arange(5))\n",
    "pl.xticks([0,2,4,6])\n",
    "sn.despine()\n",
    "\n",
    "pl.savefig('../../../figures/23-01-15_go_programs_stress2.pdf',dpi = 200, bbox_inches='tight')\n"
   ]
  }
 ],
 "metadata": {
  "kernelspec": {
   "display_name": "Python 3 (ipykernel)",
   "language": "python",
   "name": "python3"
  },
  "language_info": {
   "codemirror_mode": {
    "name": "ipython",
    "version": 3
   },
   "file_extension": ".py",
   "mimetype": "text/x-python",
   "name": "python",
   "nbconvert_exporter": "python",
   "pygments_lexer": "ipython3",
   "version": "3.10.8"
  }
 },
 "nbformat": 4,
 "nbformat_minor": 4
}
