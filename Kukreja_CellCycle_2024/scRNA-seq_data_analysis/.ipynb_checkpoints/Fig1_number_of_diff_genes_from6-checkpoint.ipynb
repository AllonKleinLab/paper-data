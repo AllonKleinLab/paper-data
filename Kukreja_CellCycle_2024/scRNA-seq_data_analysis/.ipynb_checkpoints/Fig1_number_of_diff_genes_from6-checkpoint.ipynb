{
 "cells": [
  {
   "cell_type": "markdown",
   "metadata": {},
   "source": [
    "# Set up"
   ]
  },
  {
   "cell_type": "code",
   "execution_count": 1,
   "metadata": {},
   "outputs": [],
   "source": [
    "import numpy as np\n",
    "import pandas as pd\n",
    "import matplotlib.pyplot as pl\n",
    "import scanpy as sc\n",
    "import scanpy.external as sce\n",
    "import os\n",
    "import scipy.sparse as ssp\n",
    "import sys\n",
    "\n",
    "# !!!!\n",
    "# Change this path to point to folder containing helper_functions.py\n",
    "sys.path.append('/Users/kalki/Dropbox (HMS)/PhD_lab/SPRING_dev/data_prep/')\n",
    "import helper_functions_py3 as hf\n",
    "\n",
    "sc.settings.verbosity = 2  # verbosity: errors (0), warnings (1), info (2), hints (3)\n",
    "sc.settings.set_figure_params(dpi=150)  # low dpi (dots per inch) yields small inline figures\n",
    "\n"
   ]
  },
  {
   "cell_type": "markdown",
   "metadata": {},
   "source": [
    "# Load data"
   ]
  },
  {
   "cell_type": "code",
   "execution_count": 2,
   "metadata": {},
   "outputs": [],
   "source": [
    "adata_indrops5 = sc.read_h5ad('../../../../4.Indrops5/data/anndata_objects/adata_indrops5_brep123_trep1.h5ad')\n",
    "adata_indrops4 = sc.read_h5ad('../../../../3.Indrops4/data/anndata_objects/adata_indrops4_all.h5ad')\n",
    "\n",
    "# 24 hpf data:\n",
    "adata24 = sc.read_h5ad('../../../data/anndata_objects/adata24_perturbations.h5ad')\n"
   ]
  },
  {
   "cell_type": "code",
   "execution_count": 3,
   "metadata": {},
   "outputs": [],
   "source": [
    "\n",
    "\n",
    "# subset into conditions:\n",
    "\n",
    "# 24 hpf data:\n",
    "adata24c = adata24[adata24.obs.treatment == 'control'].copy()\n",
    "adata24h = adata24[adata24.obs.treatment == 'perturbed'].copy()\n",
    "adata24e = adata24[adata24.obs.treatment == 'emi'].copy()\n",
    "\n",
    "# control time series data\n",
    "adata_indrops5c = adata_indrops5[adata_indrops5.obs.treatment == 'control'].copy()\n",
    "adata_indrops4c = adata_indrops4[adata_indrops4.obs.treatment == 'control'].copy()\n",
    "\n",
    "# perturbed time series data \n",
    "adata_indrops5p = adata_indrops5[adata_indrops5.obs.treatment == 'perturbed'].copy()\n",
    "adata_indrops4p = adata_indrops4[adata_indrops4.obs.treatment == 'perturbed'].copy()\n",
    "\n"
   ]
  },
  {
   "cell_type": "code",
   "execution_count": 4,
   "metadata": {},
   "outputs": [],
   "source": [
    "# subset into time\n",
    "\n",
    "# control data\n",
    "\n",
    "adata6_indrops5c = adata_indrops5c[adata_indrops5c.obs.time_point == '06'].copy()\n",
    "adata8_indrops5c = adata_indrops5c[adata_indrops5c.obs.time_point == '08'].copy()\n",
    "adata10_indrops5c = adata_indrops5c[adata_indrops5c.obs.time_point == '10'].copy()\n",
    "adata14_indrops5c = adata_indrops5c[adata_indrops5c.obs.time_point == '14'].copy()\n",
    "\n",
    "adata14_indrops4c = adata_indrops4c[adata_indrops4c.obs.time_point == '14'].copy()\n",
    "adata18_indrops4c = adata_indrops4c[adata_indrops4c.obs.time_point == '18'].copy()\n",
    "adata21_indrops4c = adata_indrops4c[adata_indrops4c.obs.time_point == '21'].copy()\n",
    "\n",
    "#adata14c = adata14_indrops5c.concatenate(adata14_indrops4c)"
   ]
  },
  {
   "cell_type": "code",
   "execution_count": 5,
   "metadata": {},
   "outputs": [],
   "source": [
    "# perturbed data:\n",
    "\n",
    "adata6_indrops5p = adata_indrops5p[adata_indrops5p.obs.time_point == '06'].copy()\n",
    "adata8_indrops5p = adata_indrops5p[adata_indrops5p.obs.time_point == '08'].copy()\n",
    "adata10_indrops5p = adata_indrops5p[adata_indrops5p.obs.time_point == '10'].copy()\n",
    "adata14_indrops5p = adata_indrops5p[adata_indrops5p.obs.time_point == '14'].copy()\n",
    "\n",
    "adata14_indrops4p = adata_indrops4p[adata_indrops4p.obs.time_point == '14'].copy()\n",
    "adata18_indrops4p = adata_indrops4p[adata_indrops4p.obs.time_point == '18'].copy()\n",
    "adata21_indrops4p = adata_indrops4p[adata_indrops4p.obs.time_point == '21'].copy()\n",
    "\n",
    "#adata14p = adata14_indrops5p.concatenate(adata14_indrops4p)"
   ]
  },
  {
   "cell_type": "code",
   "execution_count": 6,
   "metadata": {},
   "outputs": [],
   "source": [
    "# subset into replicates:\n",
    "\n",
    "# control data:\n",
    "\n",
    "adata6c_1 = adata6_indrops5c[adata6_indrops5c.obs.replicate == '2'].copy()\n",
    "adata6c_2 = adata6_indrops5c[adata6_indrops5c.obs.replicate == '3'].copy()\n",
    "adata8c_1 = adata8_indrops5c[adata8_indrops5c.obs.replicate == '1'].copy()\n",
    "adata8c_2 = adata8_indrops5c[adata8_indrops5c.obs.replicate == '2'].copy()\n",
    "adata8c_3 = adata8_indrops5c[adata8_indrops5c.obs.replicate == '3'].copy()\n",
    "adata10c_1 = adata10_indrops5c[adata10_indrops5c.obs.replicate == '1'].copy()\n",
    "adata10c_2 = adata10_indrops5c[adata10_indrops5c.obs.replicate == '2'].copy()\n",
    "adata10c_3 = adata10_indrops5c[adata10_indrops5c.obs.replicate == '3'].copy()\n",
    "adata14c_1 = adata14_indrops5c[adata14_indrops5c.obs.replicate == '1'].copy()\n",
    "adata14c_2 = adata14_indrops5c[adata14_indrops5c.obs.replicate == '2'].copy()\n",
    "adata14c_3 = adata14_indrops5c[adata14_indrops5c.obs.replicate == '3'].copy()\n",
    "#adata14c_4 = adata14_indrops4c[adata14_indrops4c.obs.replicate == '1'].copy()\n",
    "#adata14c_5 = adata14_indrops4c[adata14_indrops4c.obs.replicate == '2'].copy()\n",
    "#adata14c_6 = adata14_indrops4c[adata14_indrops4c.obs.replicate == '3'].copy()\n",
    "adata18c_1 = adata18_indrops4c[adata18_indrops4c.obs.replicate == '1'].copy()\n",
    "adata18c_2 = adata18_indrops4c[adata18_indrops4c.obs.replicate == '2'].copy()\n",
    "adata18c_3 = adata18_indrops4c[adata18_indrops4c.obs.replicate == '3'].copy()\n",
    "adata21c_1 = adata21_indrops4c[adata21_indrops4c.obs.replicate == '1'].copy()\n",
    "adata21c_2 = adata21_indrops4c[adata21_indrops4c.obs.replicate == '2'].copy()\n",
    "adata21c_3 = adata21_indrops4c[adata21_indrops4c.obs.replicate == '3'].copy()\n"
   ]
  },
  {
   "cell_type": "code",
   "execution_count": 7,
   "metadata": {},
   "outputs": [],
   "source": [
    "# subset into replicates\n",
    "\n",
    "# perturbed data:\n",
    "\n",
    "adata8p_1 = adata8_indrops5p[adata8_indrops5p.obs.replicate == '1'].copy()\n",
    "adata8p_2 = adata8_indrops5p[adata8_indrops5p.obs.replicate == '2'].copy()\n",
    "adata8p_3 = adata8_indrops5p[adata8_indrops5p.obs.replicate == '3'].copy()\n",
    "adata10p_1 = adata10_indrops5p[adata10_indrops5p.obs.replicate == '1'].copy()\n",
    "adata10p_2 = adata10_indrops5p[adata10_indrops5p.obs.replicate == '2'].copy()\n",
    "adata10p_3 = adata10_indrops5p[adata10_indrops5p.obs.replicate == '3'].copy()\n",
    "adata14p_1 = adata14_indrops5p[adata14_indrops5p.obs.replicate == '1'].copy()\n",
    "adata14p_2 = adata14_indrops5p[adata14_indrops5p.obs.replicate == '2'].copy()\n",
    "adata14p_3 = adata14_indrops5p[adata14_indrops5p.obs.replicate == '3'].copy()\n",
    "adata18p_1 = adata18_indrops4p[adata18_indrops4p.obs.replicate == '1'].copy()\n",
    "adata18p_2 = adata18_indrops4p[adata18_indrops4p.obs.replicate == '2'].copy()\n",
    "adata18p_3 = adata18_indrops4p[adata18_indrops4p.obs.replicate == '3'].copy()\n",
    "adata21p_1 = adata21_indrops4p[adata21_indrops4p.obs.replicate == '1'].copy()\n",
    "adata21p_2 = adata21_indrops4p[adata21_indrops4p.obs.replicate == '2'].copy()\n",
    "adata21p_3 = adata21_indrops4p[adata21_indrops4p.obs.replicate == '3'].copy()\n"
   ]
  },
  {
   "cell_type": "code",
   "execution_count": 8,
   "metadata": {},
   "outputs": [],
   "source": [
    "# 24 hpf data:\n",
    "\n",
    "adata24c_1 = adata24c[adata24c.obs.replicate == '1'].copy()\n",
    "adata24c_2 = adata24c[adata24c.obs.replicate == '2'].copy()\n",
    "adata24c_3 = adata24c[adata24c.obs.replicate == '3'].copy()\n",
    "adata24c_4 = adata24c[adata24c.obs.replicate == '4'].copy()\n",
    "adata24c_5 = adata24c[adata24c.obs.replicate == '5'].copy()\n",
    "adata24c_6 = adata24c[adata24c.obs.replicate == '6'].copy()\n",
    "adata24c_7 = adata24c[adata24c.obs.replicate == '7'].copy()\n",
    "adata24c_8 = adata24c[adata24c.obs.replicate == '8'].copy()\n",
    "\n",
    "adata24h_1 = adata24h[adata24h.obs.replicate == '1'].copy()\n",
    "adata24h_2 = adata24h[adata24h.obs.replicate == '2'].copy()\n",
    "adata24h_3 = adata24h[adata24h.obs.replicate == '3'].copy()\n",
    "adata24h_4 = adata24h[adata24h.obs.replicate == '4'].copy()\n",
    "adata24h_5 = adata24h[adata24h.obs.replicate == '5'].copy()\n",
    "\n",
    "adata24e_1 = adata24e[adata24e.obs.replicate == '6'].copy()\n",
    "adata24e_2 = adata24e[adata24e.obs.replicate == '7'].copy()\n",
    "adata24e_3 = adata24e[adata24e.obs.replicate == '8'].copy()"
   ]
  },
  {
   "cell_type": "code",
   "execution_count": 9,
   "metadata": {},
   "outputs": [],
   "source": [
    "control6 = {'rep1': adata6c_1,'rep2': adata6c_2}\n",
    "\n",
    "control8 = {'rep1': adata8c_1,'rep2': adata8c_2,'rep3': adata8c_3}\n",
    "\n",
    "control10 = {'rep1': adata10c_1,'rep2': adata10c_2, 'rep3': adata10c_3}\n",
    "\n",
    "#control14 = {'rep1': adata14c_1,'rep2': adata14c_2, 'rep3': adata14c_3,\n",
    "#            'rep4': adata14c_4,'rep5': adata14c_5, 'rep6': adata14c_6}\n",
    "\n",
    "control14 = {'rep1': adata14c_1,'rep2': adata14c_2, 'rep3': adata14c_3}\n",
    "\n",
    "control18 = {'rep1': adata18c_1,'rep2': adata18c_2, 'rep3': adata18c_3}\n",
    "\n",
    "control21 = {'rep1': adata21c_1,'rep2': adata21c_2, 'rep3': adata21c_3}\n",
    "\n",
    "control24 = {'rep1': adata24c_1,'rep2': adata24c_2, 'rep3':adata24c_3 ,'rep4': adata24c_4, \n",
    "             'rep5': adata24c_5,'rep6': adata24c_6,'rep7': adata24c_7, 'rep8': adata24c_8}\n",
    "\n"
   ]
  },
  {
   "cell_type": "code",
   "execution_count": 10,
   "metadata": {},
   "outputs": [],
   "source": [
    "perturbed8 = {'rep1': adata8p_1,'rep2': adata8p_2,'rep3': adata8p_3}\n",
    "\n",
    "perturbed10 = {'rep1': adata10p_1,'rep2': adata10p_2, 'rep3': adata10p_3}\n",
    "\n",
    "perturbed14 = {'rep1': adata14p_1,'rep2': adata14p_2, 'rep3': adata14p_3}\n",
    "\n",
    "perturbed18 = {'rep1': adata18p_1,'rep2': adata18p_2, 'rep3': adata18p_3}\n",
    "\n",
    "perturbed21 = {'rep1': adata21p_1,'rep2': adata21p_2, 'rep3': adata21p_3}\n",
    "\n",
    "hua24 = {'rep1': adata24h_1,'rep2': adata24h_2, 'rep3':adata24h_3 ,'rep4': adata24h_4, \n",
    "             'rep5': adata24h_5}\n",
    "\n",
    "emi24 = {'rep1': adata24e_1,'rep2': adata24e_2, 'rep3':adata24e_3}\n",
    "\n"
   ]
  },
  {
   "cell_type": "markdown",
   "metadata": {},
   "source": [
    "# DGE"
   ]
  },
  {
   "cell_type": "markdown",
   "metadata": {},
   "source": [
    "## Replicates"
   ]
  },
  {
   "cell_type": "markdown",
   "metadata": {},
   "source": [
    "### Subset replicates"
   ]
  },
  {
   "cell_type": "code",
   "execution_count": 11,
   "metadata": {},
   "outputs": [],
   "source": [
    "dge_replicates6c_6 = []\n",
    "for r1 in np.arange(len(control6.keys()))+1:\n",
    "    for r2 in np.arange(len(control6.keys()))+1:\n",
    "        dge_temp = hf.dge(control6['rep{}'.format(r1)], control6['rep{}'.format(r2)], alpha = 0.05, pseudocount=1)\n",
    "        dge_replicates6c_6 = dge_replicates6c_6 + [dge_temp['diff_genes'].shape[0]]"
   ]
  },
  {
   "cell_type": "code",
   "execution_count": 12,
   "metadata": {},
   "outputs": [],
   "source": [
    "dge_replicates8c_6 = []\n",
    "for r1 in np.arange(len(control6.keys()))+1:\n",
    "    for r2 in np.arange(len(control8.keys()))+1:\n",
    "        dge_temp = hf.dge(control6['rep{}'.format(r1)], control8['rep{}'.format(r2)], alpha = 0.05,pseudocount=1)\n",
    "        dge_replicates8c_6 = dge_replicates8c_6 + [dge_temp['diff_genes'].shape[0]]"
   ]
  },
  {
   "cell_type": "code",
   "execution_count": 13,
   "metadata": {},
   "outputs": [],
   "source": [
    "dge_replicates10c_6 = []\n",
    "for r1 in np.arange(len(control6.keys()))+1:\n",
    "    for r2 in np.arange(len(control10.keys()))+1:\n",
    "        dge_temp = hf.dge(control6['rep{}'.format(r1)], control10['rep{}'.format(r2)], alpha = 0.05,pseudocount=1)\n",
    "        dge_replicates10c_6 = dge_replicates10c_6 + [dge_temp['diff_genes'].shape[0]]"
   ]
  },
  {
   "cell_type": "code",
   "execution_count": 14,
   "metadata": {},
   "outputs": [],
   "source": [
    "dge_replicates14c_6 = []\n",
    "for r1 in np.arange(len(control6.keys()))+1:\n",
    "    for r2 in np.arange(len(control14.keys()))+1:\n",
    "        dge_temp = hf.dge(control6['rep{}'.format(r1)], control14['rep{}'.format(r2)], alpha = 0.05,pseudocount=1)\n",
    "        dge_replicates14c_6 = dge_replicates14c_6 + [dge_temp['diff_genes'].shape[0]]"
   ]
  },
  {
   "cell_type": "code",
   "execution_count": 15,
   "metadata": {},
   "outputs": [],
   "source": [
    "dge_replicates8p_6 = []\n",
    "for r1 in np.arange(len(control6.keys()))+1:\n",
    "    for r2 in np.arange(len(perturbed8.keys()))+1:\n",
    "        dge_temp = hf.dge(control6['rep{}'.format(r1)], perturbed8['rep{}'.format(r2)], alpha = 0.05,pseudocount=1)\n",
    "        dge_replicates8p_6 = dge_replicates8p_6 + [dge_temp['diff_genes'].shape[0]]"
   ]
  },
  {
   "cell_type": "code",
   "execution_count": 16,
   "metadata": {},
   "outputs": [],
   "source": [
    "dge_replicates10p_6 = []\n",
    "for r1 in np.arange(len(control6.keys()))+1:\n",
    "    for r2 in np.arange(len(perturbed10.keys()))+1:\n",
    "        dge_temp = hf.dge(control6['rep{}'.format(r1)], perturbed10['rep{}'.format(r2)], alpha = 0.05,pseudocount=1)\n",
    "        dge_replicates10p_6 = dge_replicates10p_6 + [dge_temp['diff_genes'].shape[0]]"
   ]
  },
  {
   "cell_type": "code",
   "execution_count": 17,
   "metadata": {},
   "outputs": [],
   "source": [
    "dge_replicates14p_6 = []\n",
    "for r1 in np.arange(len(control6.keys()))+1:\n",
    "    for r2 in np.arange(len(perturbed14.keys()))+1:\n",
    "        dge_temp = hf.dge(control6['rep{}'.format(r1)], perturbed14['rep{}'.format(r2)], alpha = 0.05,pseudocount=1)\n",
    "        dge_replicates14p_6 = dge_replicates14p_6 + [dge_temp['diff_genes'].shape[0]]"
   ]
  },
  {
   "cell_type": "code",
   "execution_count": 18,
   "metadata": {},
   "outputs": [],
   "source": [
    "dge_replicates18c_6 = []\n",
    "for r1 in np.arange(len(control6.keys()))+1:\n",
    "    for r2 in np.arange(len(control18.keys()))+1:\n",
    "        dge_temp = hf.dge(control6['rep{}'.format(r1)], control18['rep{}'.format(r2)], alpha = 0.05,pseudocount=1)\n",
    "        dge_replicates18c_6 = dge_replicates18c_6 + [dge_temp['diff_genes'].shape[0]]"
   ]
  },
  {
   "cell_type": "code",
   "execution_count": 52,
   "metadata": {},
   "outputs": [
    {
     "data": {
      "text/plain": [
       "array([128, 153, 196, 148, 175, 197])"
      ]
     },
     "execution_count": 52,
     "metadata": {},
     "output_type": "execute_result"
    }
   ],
   "source": [
    "np.array(dge_replicates14p_6)"
   ]
  },
  {
   "cell_type": "code",
   "execution_count": 19,
   "metadata": {},
   "outputs": [],
   "source": [
    "dge_replicates21c_6 = []\n",
    "for r1 in np.arange(len(control6.keys()))+1:\n",
    "    for r2 in np.arange(len(control21.keys()))+1:\n",
    "        dge_temp = hf.dge(control6['rep{}'.format(r1)], control21['rep{}'.format(r2)], alpha = 0.05,pseudocount=1)\n",
    "        dge_replicates21c_6 = dge_replicates21c_6 + [dge_temp['diff_genes'].shape[0]]"
   ]
  },
  {
   "cell_type": "code",
   "execution_count": 20,
   "metadata": {},
   "outputs": [],
   "source": [
    "dge_replicates24c_6 = []\n",
    "for r1 in np.arange(len(control6.keys()))+1:\n",
    "    for r2 in np.arange(len(control24.keys()))+1:\n",
    "        dge_temp = hf.dge(control6['rep{}'.format(r1)], control24['rep{}'.format(r2)], alpha = 0.05,pseudocount=1)\n",
    "        dge_replicates24c_6 = dge_replicates24c_6 + [dge_temp['diff_genes'].shape[0]]"
   ]
  },
  {
   "cell_type": "code",
   "execution_count": 21,
   "metadata": {},
   "outputs": [],
   "source": [
    "dge_replicates24h_6 = []\n",
    "for r1 in np.arange(len(control6.keys()))+1:\n",
    "    for r2 in np.arange(len(hua24.keys()))+1:\n",
    "        dge_temp = hf.dge(control6['rep{}'.format(r1)], hua24['rep{}'.format(r2)], alpha = 0.05,pseudocount=1)\n",
    "        dge_replicates24h_6 = dge_replicates24h_6 + [dge_temp['diff_genes'].shape[0]]"
   ]
  },
  {
   "cell_type": "code",
   "execution_count": 22,
   "metadata": {},
   "outputs": [],
   "source": [
    "dge_replicates24e_6 = []\n",
    "for r1 in np.arange(len(control6.keys()))+1:\n",
    "    for r2 in np.arange(len(emi24.keys()))+1:\n",
    "        dge_temp = hf.dge(control6['rep{}'.format(r1)], emi24['rep{}'.format(r2)], alpha = 0.05,pseudocount=1)\n",
    "        dge_replicates24e_6 = dge_replicates24e_6 + [dge_temp['diff_genes'].shape[0]]"
   ]
  },
  {
   "cell_type": "markdown",
   "metadata": {},
   "source": [
    "### Plot data"
   ]
  },
  {
   "cell_type": "code",
   "execution_count": 30,
   "metadata": {},
   "outputs": [
    {
     "data": {
      "text/plain": [
       "[136, 233, 172, 150, 229, 188]"
      ]
     },
     "execution_count": 30,
     "metadata": {},
     "output_type": "execute_result"
    }
   ],
   "source": [
    "dge_replicates14c_6"
   ]
  },
  {
   "cell_type": "code",
   "execution_count": null,
   "metadata": {},
   "outputs": [],
   "source": []
  },
  {
   "cell_type": "code",
   "execution_count": 23,
   "metadata": {},
   "outputs": [],
   "source": [
    "from scipy import stats\n",
    "\n",
    "\n",
    "\n",
    "dge_replicate_means_ctrl = np.array([ np.array(dge_replicates6c_6).mean(),np.array(dge_replicates8c_6).mean(),\n",
    "                                    np.array(dge_replicates10c_6).mean(),np.array(dge_replicates14c_6).mean(),\n",
    "                                    np.array(dge_replicates18c_6).mean(),np.array(dge_replicates21c_6).mean(),\n",
    "                                    np.array(dge_replicates24c_6).mean() ])\n",
    "\n",
    "\n",
    "dge_replicate_sem_ctrl = np.array([stats.sem(dge_replicates6c_6), stats.sem(dge_replicates8c_6), \n",
    "                                  stats.sem(dge_replicates10c_6),stats.sem(dge_replicates14c_6),\n",
    "                                  stats.sem(dge_replicates18c_6), stats.sem(dge_replicates21c_6),\n",
    "                                  stats.sem(dge_replicates24c_6)])\n",
    "\n",
    "\n",
    "dge_replicate_means_ctrl2 = np.array([np.array(dge_replicates6c_6).mean(),np.array(dge_replicates8c_6).mean(),\n",
    "                                    np.array(dge_replicates10c_6).mean(),np.array(dge_replicates14c_6).mean(),\n",
    "                                    np.array(dge_replicates24c_6).mean()])\n",
    "\n",
    "\n",
    "dge_replicate_sem_ctrl2 = np.array([stats.sem(dge_replicates6c_6), stats.sem(dge_replicates8c_6), \n",
    "                                  stats.sem(dge_replicates10c_6),stats.sem(dge_replicates14c_6),\n",
    "                                  stats.sem(dge_replicates24c_6)])\n",
    "\n",
    "\n",
    "\n",
    "dge_replicate_means_perturbed = np.array([np.array(dge_replicates8p_6).mean(), \n",
    "                                          np.array(dge_replicates10p_6).mean(),\n",
    "                                          np.array(dge_replicates14p_6).mean(),\n",
    "                                          np.array(dge_replicates24e_6).mean(),\n",
    "                                          np.array(dge_replicates24h_6).mean()])\n",
    "\n",
    "\n",
    "dge_replicate_sem_perturbed = np.array([stats.sem(dge_replicates8p_6), stats.sem(dge_replicates10p_6), \n",
    "                                  stats.sem(dge_replicates14p_6),stats.sem(dge_replicates24e_6),\n",
    "                                  stats.sem(dge_replicates24h_6)])\n",
    "\n"
   ]
  },
  {
   "cell_type": "code",
   "execution_count": 26,
   "metadata": {},
   "outputs": [
    {
     "data": {
      "image/png": "[encoded data removed]",
      "text/plain": [
       "<Figure size 450x450 with 1 Axes>"
      ]
     },
     "metadata": {
      "image/png": {
       "height": 421,
       "width": 440
      }
     },
     "output_type": "display_data"
    }
   ],
   "source": [
    "emi_color = '#00cdcd'\n",
    "hua_color = '#e78ac3'\n",
    "ctrl_color = '#A9A9A9'\n",
    "\n",
    "x2_ctrl = np.arange(dge_replicate_means_ctrl.shape[0])+1\n",
    "sample_names2 = np.array(['6', '8', '10', '14', '18', '21', '24'])\n",
    "\n",
    "pl.figure(figsize = (3,3))\n",
    "pl.errorbar(x2_ctrl, dge_replicate_means_ctrl, yerr=dge_replicate_sem_ctrl,\n",
    "            ls = 'none', elinewidth=0.5,capsize=2,ecolor='grey',fmt = 'none',capthick = 0.5)\n",
    "\n",
    "pl.scatter(x2_ctrl, dge_replicate_means_ctrl, c= ctrl_color, s = 65)\n",
    "pl.plot(x2_ctrl, dge_replicate_means_ctrl, c= ctrl_color, ls='--' ,lw =1, alpha = 0.7)\n",
    "\n",
    "x2_perturbed = np.array([1.15,2.15,3.15,6.3,6.15])+1\n",
    "pl.errorbar(x2_perturbed, dge_replicate_means_perturbed, yerr=dge_replicate_sem_perturbed,\n",
    "            ls = 'none', elinewidth=0.5,capsize=2,ecolor='grey',fmt = 'none',capthick = 0.5)\n",
    "\n",
    "pl.scatter(x2_perturbed, dge_replicate_means_perturbed, color = [hua_color,hua_color,hua_color,\n",
    "                                                                   emi_color,hua_color], s = 65)\n",
    "\n",
    "\n",
    "\n",
    "pl.grid(False)\n",
    "bla = pl.xticks(x2_ctrl, labels = sample_names2,fontsize = 13, fontname = 'Helvetica')\n",
    "bla2 = pl.yticks([0,100,200,300], fontsize = 13,fontname = 'Helvetica')\n",
    "import seaborn as sn\n",
    "sn.despine()\n",
    "\n",
    "pl.savefig('../../../figures/final_figures/22-01-05_number_of_DEG_number_across_time_6hto24.pdf',bbox_inches=\"tight\", dpi = 300)\n"
   ]
  },
  {
   "cell_type": "markdown",
   "metadata": {
    "tags": []
   },
   "source": [
    "# Save number of differentially expressed genes"
   ]
  },
  {
   "cell_type": "code",
   "execution_count": null,
   "metadata": {},
   "outputs": [],
   "source": [
    "pd.DataFrame({'samples':sample_names2, \n",
    "              'dge_replicates': dge_replicate_means_ctrl, \n",
    "              'sem': dge_replicate_sem_ctrl}).to_csv('../../../data/differentiation_continues/23-01-05_number_of_diff_genes_replicates_ctrl.csv',\n",
    "                                                     sep = ',')"
   ]
  },
  {
   "cell_type": "code",
   "execution_count": null,
   "metadata": {},
   "outputs": [],
   "source": [
    "pd.DataFrame({'samples':['8h','10h','14h','24e','24h'],\n",
    "              'dge_replicates': dge_replicate_means_perturbed,\n",
    "              'sem': dge_replicate_sem_perturbed}).to_csv('../../../data/differentiation_continues/23-01-05_number_of_diff_genes_replicates_perturbed.csv', sep = ',')"
   ]
  },
  {
   "cell_type": "code",
   "execution_count": null,
   "metadata": {},
   "outputs": [],
   "source": [
    "pd.DataFrame({'samples':sample_names2, \n",
    "              'dge_replicates': dge_replicate_means, \n",
    "              'sem': dge_replicate_sem}).to_csv('../../data/differentiation_continues/number_of_diff_genes_replicates.csv', sep = ',')"
   ]
  },
  {
   "cell_type": "code",
   "execution_count": null,
   "metadata": {},
   "outputs": [],
   "source": [
    "pd.DataFrame({'samples':sample_names, \n",
    "              'dge_replicates': diff_genes}).to_csv('../../data/differentiation_continues/number_of_diff_genes.csv', sep = ',')"
   ]
  },
  {
   "cell_type": "code",
   "execution_count": null,
   "metadata": {},
   "outputs": [],
   "source": []
  }
 ],
 "metadata": {
  "kernelspec": {
   "display_name": "Python 3 (ipykernel)",
   "language": "python",
   "name": "python3"
  },
  "language_info": {
   "codemirror_mode": {
    "name": "ipython",
    "version": 3
   },
   "file_extension": ".py",
   "mimetype": "text/x-python",
   "name": "python",
   "nbconvert_exporter": "python",
   "pygments_lexer": "ipython3",
   "version": "3.10.8"
  }
 },
 "nbformat": 4,
 "nbformat_minor": 4
}
