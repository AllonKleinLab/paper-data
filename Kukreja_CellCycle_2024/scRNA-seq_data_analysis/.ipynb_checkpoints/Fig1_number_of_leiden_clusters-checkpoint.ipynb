{
 "cells": [
  {
   "cell_type": "markdown",
   "metadata": {},
   "source": [
    "# Set up"
   ]
  },
  {
   "cell_type": "code",
   "execution_count": 1,
   "metadata": {},
   "outputs": [],
   "source": [
    "import numpy as np\n",
    "import pandas as pd\n",
    "import matplotlib.pyplot as pl\n",
    "import scanpy as sc\n",
    "import scanpy.external as sce\n",
    "import os\n",
    "import scipy.sparse as ssp\n",
    "import sys\n",
    "\n",
    "# !!!!\n",
    "# Change this path to point to folder containing helper_functions.py\n",
    "sys.path.append('/Users/kalki/Dropbox (HMS)/PhD_lab/SPRING_dev/data_prep/')\n",
    "import helper_functions_py3 as hf\n",
    "\n",
    "sc.settings.verbosity = 2  # verbosity: errors (0), warnings (1), info (2), hints (3)\n",
    "sc.settings.set_figure_params(dpi=150)  # low dpi (dots per inch) yields small inline figures\n",
    "\n",
    "import seaborn as sn\n"
   ]
  },
  {
   "cell_type": "markdown",
   "metadata": {},
   "source": [
    "# Load data"
   ]
  },
  {
   "cell_type": "code",
   "execution_count": 2,
   "metadata": {},
   "outputs": [],
   "source": [
    "adata_indrops5 = sc.read_h5ad('../../../../4.Indrops5/data/anndata_objects/adata_indrops5_brep123_trep1.h5ad')\n",
    "adata_indrops4 = sc.read_h5ad('../../../../3.Indrops4/data/anndata_objects/adata_indrops4_all.h5ad')\n",
    "\n",
    "# 24 hpf data:\n",
    "adata24 = sc.read_h5ad('../../../data/anndata_objects/adata24_perturbations.h5ad')\n"
   ]
  },
  {
   "cell_type": "code",
   "execution_count": 3,
   "metadata": {},
   "outputs": [],
   "source": [
    "\n",
    "# subset into conditions:\n",
    "\n",
    "# 24 hpf data:\n",
    "adata24c = adata24[adata24.obs.treatment == 'control'].copy()\n",
    "adata24h = adata24[adata24.obs.treatment == 'perturbed'].copy()\n",
    "adata24e = adata24[adata24.obs.treatment == 'emi'].copy()\n",
    "\n",
    "# control time series data\n",
    "adata_indrops5c = adata_indrops5[adata_indrops5.obs.treatment == 'control'].copy()\n",
    "adata_indrops4c = adata_indrops4[adata_indrops4.obs.treatment == 'control'].copy()\n",
    "\n",
    "# perturbed time series data \n",
    "adata_indrops5p = adata_indrops5[adata_indrops5.obs.treatment == 'perturbed'].copy()\n",
    "adata_indrops4p = adata_indrops4[adata_indrops4.obs.treatment == 'perturbed'].copy()\n",
    "\n"
   ]
  },
  {
   "cell_type": "code",
   "execution_count": 4,
   "metadata": {},
   "outputs": [],
   "source": [
    "# subset into time\n",
    "\n",
    "# control data\n",
    "\n",
    "adata6_indrops5c = adata_indrops5c[adata_indrops5c.obs.time_point == '06'].copy()\n",
    "adata8_indrops5c = adata_indrops5c[adata_indrops5c.obs.time_point == '08'].copy()\n",
    "adata10_indrops5c = adata_indrops5c[adata_indrops5c.obs.time_point == '10'].copy()\n",
    "adata14_indrops5c = adata_indrops5c[adata_indrops5c.obs.time_point == '14'].copy()\n",
    "\n",
    "adata14_indrops4c = adata_indrops4c[adata_indrops4c.obs.time_point == '14'].copy()\n",
    "adata18_indrops4c = adata_indrops4c[adata_indrops4c.obs.time_point == '18'].copy()\n",
    "adata21_indrops4c = adata_indrops4c[adata_indrops4c.obs.time_point == '21'].copy()\n",
    "\n",
    "#adata14c = adata14_indrops5c.concatenate(adata14_indrops4c)"
   ]
  },
  {
   "cell_type": "code",
   "execution_count": 5,
   "metadata": {},
   "outputs": [],
   "source": [
    "# perturbed data:\n",
    "\n",
    "adata6_indrops5p = adata_indrops5p[adata_indrops5p.obs.time_point == '06'].copy()\n",
    "adata8_indrops5p = adata_indrops5p[adata_indrops5p.obs.time_point == '08'].copy()\n",
    "adata10_indrops5p = adata_indrops5p[adata_indrops5p.obs.time_point == '10'].copy()\n",
    "adata14_indrops5p = adata_indrops5p[adata_indrops5p.obs.time_point == '14'].copy()\n",
    "\n",
    "adata14_indrops4p = adata_indrops4p[adata_indrops4p.obs.time_point == '14'].copy()\n",
    "adata18_indrops4p = adata_indrops4p[adata_indrops4p.obs.time_point == '18'].copy()\n",
    "adata21_indrops4p = adata_indrops4p[adata_indrops4p.obs.time_point == '21'].copy()\n",
    "\n",
    "#adata14p = adata14_indrops5p.concatenate(adata14_indrops4p)"
   ]
  },
  {
   "cell_type": "code",
   "execution_count": 6,
   "metadata": {},
   "outputs": [],
   "source": [
    "# subset into replicates:\n",
    "\n",
    "# control data:\n",
    "\n",
    "adata6c_1 = adata6_indrops5c[adata6_indrops5c.obs.replicate == '2'].copy()\n",
    "adata6c_2 = adata6_indrops5c[adata6_indrops5c.obs.replicate == '3'].copy()\n",
    "adata8c_1 = adata8_indrops5c[adata8_indrops5c.obs.replicate == '1'].copy()\n",
    "adata8c_2 = adata8_indrops5c[adata8_indrops5c.obs.replicate == '2'].copy()\n",
    "adata8c_3 = adata8_indrops5c[adata8_indrops5c.obs.replicate == '3'].copy()\n",
    "adata10c_1 = adata10_indrops5c[adata10_indrops5c.obs.replicate == '1'].copy()\n",
    "adata10c_2 = adata10_indrops5c[adata10_indrops5c.obs.replicate == '2'].copy()\n",
    "adata10c_3 = adata10_indrops5c[adata10_indrops5c.obs.replicate == '3'].copy()\n",
    "adata14c_1 = adata14_indrops5c[adata14_indrops5c.obs.replicate == '1'].copy()\n",
    "adata14c_2 = adata14_indrops5c[adata14_indrops5c.obs.replicate == '2'].copy()\n",
    "adata14c_3 = adata14_indrops5c[adata14_indrops5c.obs.replicate == '3'].copy()\n",
    "#adata14c_4 = adata14_indrops4c[adata14_indrops4c.obs.replicate == '1'].copy()\n",
    "#adata14c_5 = adata14_indrops4c[adata14_indrops4c.obs.replicate == '2'].copy()\n",
    "#adata14c_6 = adata14_indrops4c[adata14_indrops4c.obs.replicate == '3'].copy()\n",
    "adata18c_1 = adata18_indrops4c[adata18_indrops4c.obs.replicate == '1'].copy()\n",
    "adata18c_2 = adata18_indrops4c[adata18_indrops4c.obs.replicate == '2'].copy()\n",
    "adata18c_3 = adata18_indrops4c[adata18_indrops4c.obs.replicate == '3'].copy()\n",
    "adata21c_1 = adata21_indrops4c[adata21_indrops4c.obs.replicate == '1'].copy()\n",
    "adata21c_2 = adata21_indrops4c[adata21_indrops4c.obs.replicate == '2'].copy()\n",
    "adata21c_3 = adata21_indrops4c[adata21_indrops4c.obs.replicate == '3'].copy()\n"
   ]
  },
  {
   "cell_type": "code",
   "execution_count": 7,
   "metadata": {},
   "outputs": [],
   "source": [
    "# subset into replicates\n",
    "\n",
    "# perturbed data:\n",
    "\n",
    "adata8p_1 = adata8_indrops5p[adata8_indrops5p.obs.replicate == '1'].copy()\n",
    "adata8p_2 = adata8_indrops5p[adata8_indrops5p.obs.replicate == '2'].copy()\n",
    "adata8p_3 = adata8_indrops5p[adata8_indrops5p.obs.replicate == '3'].copy()\n",
    "adata10p_1 = adata10_indrops5p[adata10_indrops5p.obs.replicate == '1'].copy()\n",
    "adata10p_2 = adata10_indrops5p[adata10_indrops5p.obs.replicate == '2'].copy()\n",
    "adata10p_3 = adata10_indrops5p[adata10_indrops5p.obs.replicate == '3'].copy()\n",
    "adata14p_1 = adata14_indrops5p[adata14_indrops5p.obs.replicate == '1'].copy()\n",
    "adata14p_2 = adata14_indrops5p[adata14_indrops5p.obs.replicate == '2'].copy()\n",
    "adata14p_3 = adata14_indrops5p[adata14_indrops5p.obs.replicate == '3'].copy()\n",
    "#adata14p_4 = adata14_indrops4p[adata14_indrops4p.obs.replicate == '1'].copy()\n",
    "#adata14p_5 = adata14_indrops4p[adata14_indrops4p.obs.replicate == '2'].copy()\n",
    "#adata14p_6 = adata14_indrops4p[adata14_indrops4p.obs.replicate == '3'].copy()\n",
    "adata18p_1 = adata18_indrops4p[adata18_indrops4p.obs.replicate == '1'].copy()\n",
    "adata18p_2 = adata18_indrops4p[adata18_indrops4p.obs.replicate == '2'].copy()\n",
    "adata18p_3 = adata18_indrops4p[adata18_indrops4p.obs.replicate == '3'].copy()\n",
    "adata21p_1 = adata21_indrops4p[adata21_indrops4p.obs.replicate == '1'].copy()\n",
    "adata21p_2 = adata21_indrops4p[adata21_indrops4p.obs.replicate == '2'].copy()\n",
    "adata21p_3 = adata21_indrops4p[adata21_indrops4p.obs.replicate == '3'].copy()\n"
   ]
  },
  {
   "cell_type": "code",
   "execution_count": 8,
   "metadata": {},
   "outputs": [],
   "source": [
    "# 24 hpf data:\n",
    "\n",
    "adata24c_1 = adata24c[adata24c.obs.replicate == '1'].copy()\n",
    "adata24c_2 = adata24c[adata24c.obs.replicate == '2'].copy()\n",
    "adata24c_3 = adata24c[adata24c.obs.replicate == '3'].copy()\n",
    "adata24c_4 = adata24c[adata24c.obs.replicate == '4'].copy()\n",
    "adata24c_5 = adata24c[adata24c.obs.replicate == '5'].copy()\n",
    "adata24c_6 = adata24c[adata24c.obs.replicate == '6'].copy()\n",
    "adata24c_7 = adata24c[adata24c.obs.replicate == '7'].copy()\n",
    "adata24c_8 = adata24c[adata24c.obs.replicate == '8'].copy()\n",
    "\n",
    "adata24h_1 = adata24h[adata24h.obs.replicate == '1'].copy()\n",
    "adata24h_2 = adata24h[adata24h.obs.replicate == '2'].copy()\n",
    "adata24h_3 = adata24h[adata24h.obs.replicate == '3'].copy()\n",
    "adata24h_4 = adata24h[adata24h.obs.replicate == '4'].copy()\n",
    "adata24h_5 = adata24h[adata24h.obs.replicate == '5'].copy()\n",
    "\n",
    "adata24e_1 = adata24e[adata24e.obs.replicate == '6'].copy()\n",
    "adata24e_2 = adata24e[adata24e.obs.replicate == '7'].copy()\n",
    "adata24e_3 = adata24e[adata24e.obs.replicate == '8'].copy()"
   ]
  },
  {
   "cell_type": "code",
   "execution_count": 9,
   "metadata": {},
   "outputs": [],
   "source": [
    "control6 = {'rep1': adata6c_1,'rep2': adata6c_2}\n",
    "\n",
    "control8 = {'rep1': adata8c_1,'rep2': adata8c_2,'rep3': adata8c_3}\n",
    "\n",
    "control10 = {'rep1': adata10c_1,'rep2': adata10c_2, 'rep3': adata10c_3}\n",
    "\n",
    "#control14 = {'rep1': adata14c_1,'rep2': adata14c_2, 'rep3': adata14c_3,\n",
    "#            'rep4': adata14c_4,'rep5': adata14c_5, 'rep6': adata14c_6}\n",
    "\n",
    "control14 = {'rep1': adata14c_1,'rep2': adata14c_2, 'rep3': adata14c_3}\n",
    "\n",
    "control18 = {'rep1': adata18c_1,'rep2': adata18c_2, 'rep3': adata18c_3}\n",
    "\n",
    "control21 = {'rep1': adata21c_1,'rep2': adata21c_2, 'rep3': adata21c_3}\n",
    "\n",
    "control24 = {'rep1': adata24c_1,'rep2': adata24c_2, 'rep3':adata24c_3 ,'rep4': adata24c_4, \n",
    "             'rep5': adata24c_5,'rep6': adata24c_6,'rep7': adata24c_7, 'rep8': adata24c_8}\n",
    "\n"
   ]
  },
  {
   "cell_type": "code",
   "execution_count": 10,
   "metadata": {},
   "outputs": [],
   "source": [
    "perturbed8 = {'rep1': adata8p_1,'rep2': adata8p_2,'rep3': adata8p_3}\n",
    "\n",
    "perturbed10 = {'rep1': adata10p_1,'rep2': adata10p_2, 'rep3': adata10p_3}\n",
    "\n",
    "perturbed14 = {'rep1': adata14p_1,'rep2': adata14p_2, 'rep3': adata14p_3}\n",
    "\n",
    "#perturbed14 = {'rep1': adata14p_1,'rep2': adata14p_2, 'rep3': adata14p_3,\n",
    "#            'rep4': adata14p_4,'rep5': adata14p_5, 'rep6': adata14p_6}\n",
    "\n",
    "perturbed18 = {'rep1': adata18p_1,'rep2': adata18p_2, 'rep3': adata18p_3}\n",
    "\n",
    "perturbed21 = {'rep1': adata21p_1,'rep2': adata21p_2, 'rep3': adata21p_3}\n",
    "\n",
    "hua24 = {'rep1': adata24h_1,'rep2': adata24h_2, 'rep3':adata24h_3 ,'rep4': adata24h_4, \n",
    "             'rep5': adata24h_5}\n",
    "\n",
    "emi24 = {'rep1': adata24e_1,'rep2': adata24e_2, 'rep3':adata24e_3}\n",
    "\n"
   ]
  },
  {
   "cell_type": "markdown",
   "metadata": {},
   "source": [
    "# Define function to get leiden clusters"
   ]
  },
  {
   "cell_type": "code",
   "execution_count": 11,
   "metadata": {},
   "outputs": [],
   "source": [
    "\n",
    "def get_leiden(adata, unimportant_genes, remove_unimportant_genes = True, counts_per_cell=10000, \n",
    "                 neigbhor_number =5, ncomponents = 50, seed = 0, **args):\n",
    "\n",
    "\n",
    "    # normalize data:\n",
    "    sc.pp.normalize_per_cell(adata, counts_per_cell_after=counts_per_cell)\n",
    "    adata_raw = adata.copy()\n",
    "    adata.raw = adata\n",
    "    sc.pp.filter_genes(adata, min_cells=3)\n",
    "\n",
    "    # highly variable genes:\n",
    "    filter_result = sc.pp.filter_genes_dispersion(adata.X, min_mean=0.01, max_mean=3, min_disp=0.5)\n",
    "    adata = adata[:,np.array(pd.DataFrame(filter_result)['gene_subset'])] # adata with only variable genes\n",
    "\n",
    "    # find unimportant genes:\n",
    "    if remove_unimportant_genes == True:\n",
    "\n",
    "        unimportant_genes_iter1  = hf.corr_coeff(adata, unimportant_genes, 0.3)[1]\n",
    "        print ('first iteration of finding unimportant genes done')\n",
    "        unimportant_genes_iter2 = hf.corr_coeff(adata, unimportant_genes_iter1, 0.3)[1]\n",
    "        print ('second iteration of finding unimportant genes done')\n",
    "        genes_to_remove  = list(set(unimportant_genes + list(unimportant_genes_iter1) + list(unimportant_genes_iter2)))\n",
    "        unimportant_genes_mask  = np.in1d(adata.var_names,genes_to_remove )\n",
    "        adata  = adata[:,(1-unimportant_genes_mask).astype(bool)] # update adata \n",
    "\n",
    "    # scale data and find PCs\n",
    "    sc.pp.scale(adata)\n",
    "    sc.tl.pca(adata, n_comps= ncomponents, random_state = seed)\n",
    "\n",
    "    # find k nearest neighbors\n",
    "    sc.pp.neighbors(adata, n_neighbors=neigbhor_number, use_rep='X_pca')\n",
    "    \n",
    "    #sc.tl.umap(adata, random_state = seed)\n",
    "    #sc.tl.leiden(adata)\n",
    "    sc.tl.leiden(adata, random_state = seed)\n",
    "\n",
    "    return len(set(adata.obs.leiden))\n"
   ]
  },
  {
   "cell_type": "markdown",
   "metadata": {},
   "source": [
    "# Find leiden clusters"
   ]
  },
  {
   "cell_type": "markdown",
   "metadata": {},
   "source": [
    "## Replicate wise"
   ]
  },
  {
   "cell_type": "code",
   "execution_count": 12,
   "metadata": {},
   "outputs": [],
   "source": [
    "cc_genes_dan = ['cdk1','mcm2','mcm7','rrm2','cenpa', 'cdc6', 'ccnf', 'cdca4','ccnd1', 'kif4']\n",
    "\n",
    "house_keeping = ['hmgb1b', 'hmgb3a', 'hspd1', 'hspa9', 'rplp0', 'hnrnpaba', 'rps2',\n",
    "                  'rps12', 'rpl12', 'rps13', 'rps14', 'rps15a','rpl10', 'rps3a', \n",
    "                  'rpl31', 'rpl37', 'rps6', 'rpl9', 'rpl11', 'rpl34', 'rpl13', \n",
    "                  'rpl36a', 'rpl26', 'rps8a', 'rpl21','rps27.1','rpl27a', 'cirbpb']\n",
    "\n",
    "\n",
    "cc_hk_genes = cc_genes_dan + house_keeping"
   ]
  },
  {
   "cell_type": "markdown",
   "metadata": {},
   "source": [
    "### 6 hpf"
   ]
  },
  {
   "cell_type": "code",
   "execution_count": 13,
   "metadata": {
    "scrolled": true
   },
   "outputs": [
    {
     "name": "stdout",
     "output_type": "stream",
     "text": [
      "normalizing by total count per cell\n",
      "    finished (0:00:00): normalized adata.X and added    'n_counts', counts per cell before normalization (adata.obs)\n",
      "filtered out 6099 genes that are detected in less than 3 cells\n",
      "extracting highly variable genes\n",
      "    finished (0:00:00)\n"
     ]
    },
    {
     "name": "stderr",
     "output_type": "stream",
     "text": [
      "/Users/kalki/Dropbox (HMS)/PhD_lab/SPRING_dev/data_prep/helper_functions_py3.py:969: RuntimeWarning: invalid value encountered in divide\n",
      "  corr_coeff = corr_num/corr_denom\n"
     ]
    },
    {
     "name": "stdout",
     "output_type": "stream",
     "text": [
      "first iteration of finding unimportant genes done\n",
      "second iteration of finding unimportant genes done\n",
      "... as `zero_center=True`, sparse input is densified and may lead to large memory consumption\n",
      "computing PCA\n",
      "    with n_comps=50\n"
     ]
    },
    {
     "name": "stderr",
     "output_type": "stream",
     "text": [
      "/Users/kalki/opt/miniconda3/envs/cellcycle/lib/python3.10/site-packages/scanpy/preprocessing/_simple.py:843: UserWarning: Received a view of an AnnData. Making a copy.\n",
      "  view_to_actual(adata)\n"
     ]
    },
    {
     "name": "stdout",
     "output_type": "stream",
     "text": [
      "    finished (0:00:01)\n",
      "computing neighbors\n",
      "    finished (0:00:03)\n",
      "running Leiden clustering\n",
      "    finished (0:00:00)\n",
      "normalizing by total count per cell\n",
      "    finished (0:00:00): normalized adata.X and added    'n_counts', counts per cell before normalization (adata.obs)\n",
      "filtered out 12581 genes that are detected in less than 3 cells\n",
      "extracting highly variable genes\n",
      "    finished (0:00:00)\n",
      "first iteration of finding unimportant genes done\n",
      "second iteration of finding unimportant genes done\n",
      "... as `zero_center=True`, sparse input is densified and may lead to large memory consumption\n",
      "computing PCA\n",
      "    with n_comps=50\n"
     ]
    },
    {
     "name": "stderr",
     "output_type": "stream",
     "text": [
      "/Users/kalki/opt/miniconda3/envs/cellcycle/lib/python3.10/site-packages/scanpy/preprocessing/_simple.py:843: UserWarning: Received a view of an AnnData. Making a copy.\n",
      "  view_to_actual(adata)\n"
     ]
    },
    {
     "name": "stdout",
     "output_type": "stream",
     "text": [
      "    finished (0:00:00)\n",
      "computing neighbors\n",
      "    finished (0:00:00)\n",
      "running Leiden clustering\n",
      "    finished (0:00:00)\n"
     ]
    }
   ],
   "source": [
    "leiden6c = []\n",
    "for r1 in np.arange(len(control6.keys()))+1:\n",
    "    leiden_temp = get_leiden(control6['rep{}'.format(r1)], unimportant_genes=cc_hk_genes)\n",
    "    leiden6c = leiden6c + [leiden_temp]"
   ]
  },
  {
   "cell_type": "markdown",
   "metadata": {},
   "source": [
    "### 8 hpf"
   ]
  },
  {
   "cell_type": "code",
   "execution_count": 14,
   "metadata": {
    "scrolled": true
   },
   "outputs": [
    {
     "name": "stdout",
     "output_type": "stream",
     "text": [
      "normalizing by total count per cell\n",
      "    finished (0:00:00): normalized adata.X and added    'n_counts', counts per cell before normalization (adata.obs)\n",
      "filtered out 5955 genes that are detected in less than 3 cells\n",
      "extracting highly variable genes\n",
      "    finished (0:00:00)\n",
      "first iteration of finding unimportant genes done\n",
      "second iteration of finding unimportant genes done\n",
      "... as `zero_center=True`, sparse input is densified and may lead to large memory consumption\n",
      "computing PCA\n",
      "    with n_comps=50\n"
     ]
    },
    {
     "name": "stderr",
     "output_type": "stream",
     "text": [
      "/Users/kalki/opt/miniconda3/envs/cellcycle/lib/python3.10/site-packages/scanpy/preprocessing/_simple.py:843: UserWarning: Received a view of an AnnData. Making a copy.\n",
      "  view_to_actual(adata)\n"
     ]
    },
    {
     "name": "stdout",
     "output_type": "stream",
     "text": [
      "    finished (0:00:01)\n",
      "computing neighbors\n",
      "    finished (0:00:00)\n",
      "running Leiden clustering\n",
      "    finished (0:00:00)\n",
      "normalizing by total count per cell\n",
      "    finished (0:00:00): normalized adata.X and added    'n_counts', counts per cell before normalization (adata.obs)\n",
      "filtered out 9460 genes that are detected in less than 3 cells\n",
      "extracting highly variable genes\n",
      "    finished (0:00:00)\n",
      "first iteration of finding unimportant genes done\n",
      "second iteration of finding unimportant genes done\n",
      "... as `zero_center=True`, sparse input is densified and may lead to large memory consumption\n"
     ]
    },
    {
     "name": "stderr",
     "output_type": "stream",
     "text": [
      "/Users/kalki/Dropbox (HMS)/PhD_lab/SPRING_dev/data_prep/helper_functions_py3.py:969: RuntimeWarning: invalid value encountered in divide\n",
      "  corr_coeff = corr_num/corr_denom\n",
      "/Users/kalki/opt/miniconda3/envs/cellcycle/lib/python3.10/site-packages/scanpy/preprocessing/_simple.py:843: UserWarning: Received a view of an AnnData. Making a copy.\n",
      "  view_to_actual(adata)\n"
     ]
    },
    {
     "name": "stdout",
     "output_type": "stream",
     "text": [
      "computing PCA\n",
      "    with n_comps=50\n",
      "    finished (0:00:00)\n",
      "computing neighbors\n",
      "    finished (0:00:00)\n",
      "running Leiden clustering\n",
      "    finished (0:00:00)\n",
      "normalizing by total count per cell\n",
      "    finished (0:00:00): normalized adata.X and added    'n_counts', counts per cell before normalization (adata.obs)\n",
      "filtered out 13593 genes that are detected in less than 3 cells\n",
      "extracting highly variable genes\n",
      "    finished (0:00:00)\n",
      "first iteration of finding unimportant genes done\n",
      "second iteration of finding unimportant genes done\n",
      "... as `zero_center=True`, sparse input is densified and may lead to large memory consumption\n",
      "computing PCA\n",
      "    with n_comps=50\n"
     ]
    },
    {
     "name": "stderr",
     "output_type": "stream",
     "text": [
      "/Users/kalki/Dropbox (HMS)/PhD_lab/SPRING_dev/data_prep/helper_functions_py3.py:969: RuntimeWarning: invalid value encountered in divide\n",
      "  corr_coeff = corr_num/corr_denom\n",
      "/Users/kalki/opt/miniconda3/envs/cellcycle/lib/python3.10/site-packages/scanpy/preprocessing/_simple.py:843: UserWarning: Received a view of an AnnData. Making a copy.\n",
      "  view_to_actual(adata)\n"
     ]
    },
    {
     "name": "stdout",
     "output_type": "stream",
     "text": [
      "    finished (0:00:00)\n",
      "computing neighbors\n",
      "    finished (0:00:00)\n",
      "running Leiden clustering\n",
      "    finished (0:00:00)\n"
     ]
    }
   ],
   "source": [
    "leiden8c = []\n",
    "for r1 in np.arange(len(control8.keys()))+1:\n",
    "    leiden_temp = get_leiden(control8['rep{}'.format(r1)], unimportant_genes=cc_hk_genes)\n",
    "    leiden8c = leiden8c + [leiden_temp]"
   ]
  },
  {
   "cell_type": "code",
   "execution_count": 15,
   "metadata": {},
   "outputs": [
    {
     "name": "stdout",
     "output_type": "stream",
     "text": [
      "normalizing by total count per cell\n",
      "    finished (0:00:00): normalized adata.X and added    'n_counts', counts per cell before normalization (adata.obs)\n",
      "filtered out 5549 genes that are detected in less than 3 cells\n",
      "extracting highly variable genes\n",
      "    finished (0:00:00)\n",
      "first iteration of finding unimportant genes done\n",
      "second iteration of finding unimportant genes done\n",
      "... as `zero_center=True`, sparse input is densified and may lead to large memory consumption\n"
     ]
    },
    {
     "name": "stderr",
     "output_type": "stream",
     "text": [
      "/Users/kalki/Dropbox (HMS)/PhD_lab/SPRING_dev/data_prep/helper_functions_py3.py:969: RuntimeWarning: invalid value encountered in divide\n",
      "  corr_coeff = corr_num/corr_denom\n",
      "/Users/kalki/opt/miniconda3/envs/cellcycle/lib/python3.10/site-packages/scanpy/preprocessing/_simple.py:843: UserWarning: Received a view of an AnnData. Making a copy.\n",
      "  view_to_actual(adata)\n"
     ]
    },
    {
     "name": "stdout",
     "output_type": "stream",
     "text": [
      "computing PCA\n",
      "    with n_comps=50\n",
      "    finished (0:00:01)\n",
      "computing neighbors\n",
      "    finished (0:00:00)\n",
      "running Leiden clustering\n",
      "    finished (0:00:00)\n",
      "normalizing by total count per cell\n",
      "    finished (0:00:00): normalized adata.X and added    'n_counts', counts per cell before normalization (adata.obs)\n",
      "filtered out 9362 genes that are detected in less than 3 cells\n",
      "extracting highly variable genes\n",
      "    finished (0:00:00)\n",
      "first iteration of finding unimportant genes done\n",
      "second iteration of finding unimportant genes done\n",
      "... as `zero_center=True`, sparse input is densified and may lead to large memory consumption\n",
      "computing PCA\n",
      "    with n_comps=50\n"
     ]
    },
    {
     "name": "stderr",
     "output_type": "stream",
     "text": [
      "/Users/kalki/Dropbox (HMS)/PhD_lab/SPRING_dev/data_prep/helper_functions_py3.py:969: RuntimeWarning: invalid value encountered in divide\n",
      "  corr_coeff = corr_num/corr_denom\n",
      "/Users/kalki/opt/miniconda3/envs/cellcycle/lib/python3.10/site-packages/scanpy/preprocessing/_simple.py:843: UserWarning: Received a view of an AnnData. Making a copy.\n",
      "  view_to_actual(adata)\n"
     ]
    },
    {
     "name": "stdout",
     "output_type": "stream",
     "text": [
      "    finished (0:00:00)\n",
      "computing neighbors\n",
      "    finished (0:00:00)\n",
      "running Leiden clustering\n",
      "    finished (0:00:00)\n",
      "normalizing by total count per cell\n",
      "    finished (0:00:00): normalized adata.X and added    'n_counts', counts per cell before normalization (adata.obs)\n",
      "filtered out 12243 genes that are detected in less than 3 cells\n",
      "extracting highly variable genes\n",
      "    finished (0:00:00)\n",
      "first iteration of finding unimportant genes done\n",
      "second iteration of finding unimportant genes done\n",
      "... as `zero_center=True`, sparse input is densified and may lead to large memory consumption\n",
      "computing PCA\n",
      "    with n_comps=50\n"
     ]
    },
    {
     "name": "stderr",
     "output_type": "stream",
     "text": [
      "/Users/kalki/Dropbox (HMS)/PhD_lab/SPRING_dev/data_prep/helper_functions_py3.py:969: RuntimeWarning: invalid value encountered in divide\n",
      "  corr_coeff = corr_num/corr_denom\n",
      "/Users/kalki/opt/miniconda3/envs/cellcycle/lib/python3.10/site-packages/scanpy/preprocessing/_simple.py:843: UserWarning: Received a view of an AnnData. Making a copy.\n",
      "  view_to_actual(adata)\n"
     ]
    },
    {
     "name": "stdout",
     "output_type": "stream",
     "text": [
      "    finished (0:00:00)\n",
      "computing neighbors\n",
      "    finished (0:00:00)\n",
      "running Leiden clustering\n",
      "    finished (0:00:00)\n"
     ]
    }
   ],
   "source": [
    "leiden8p = []\n",
    "for r1 in np.arange(len(perturbed8.keys()))+1:\n",
    "    leiden_temp = get_leiden(perturbed8['rep{}'.format(r1)], unimportant_genes=cc_hk_genes)\n",
    "    leiden8p = leiden8p + [leiden_temp]"
   ]
  },
  {
   "cell_type": "markdown",
   "metadata": {},
   "source": [
    "### 10 hpf"
   ]
  },
  {
   "cell_type": "code",
   "execution_count": 16,
   "metadata": {
    "scrolled": true
   },
   "outputs": [
    {
     "name": "stdout",
     "output_type": "stream",
     "text": [
      "normalizing by total count per cell\n",
      "    finished (0:00:00): normalized adata.X and added    'n_counts', counts per cell before normalization (adata.obs)\n",
      "filtered out 3417 genes that are detected in less than 3 cells\n",
      "extracting highly variable genes\n",
      "    finished (0:00:00)\n",
      "first iteration of finding unimportant genes done\n",
      "second iteration of finding unimportant genes done\n",
      "... as `zero_center=True`, sparse input is densified and may lead to large memory consumption\n",
      "computing PCA\n",
      "    with n_comps=50\n"
     ]
    },
    {
     "name": "stderr",
     "output_type": "stream",
     "text": [
      "/Users/kalki/opt/miniconda3/envs/cellcycle/lib/python3.10/site-packages/scanpy/preprocessing/_simple.py:843: UserWarning: Received a view of an AnnData. Making a copy.\n",
      "  view_to_actual(adata)\n"
     ]
    },
    {
     "name": "stdout",
     "output_type": "stream",
     "text": [
      "    finished (0:00:01)\n",
      "computing neighbors\n",
      "    finished (0:00:00)\n",
      "running Leiden clustering\n",
      "    finished (0:00:00)\n",
      "normalizing by total count per cell\n",
      "    finished (0:00:00): normalized adata.X and added    'n_counts', counts per cell before normalization (adata.obs)\n",
      "filtered out 7824 genes that are detected in less than 3 cells\n",
      "extracting highly variable genes\n",
      "    finished (0:00:00)\n",
      "first iteration of finding unimportant genes done\n",
      "second iteration of finding unimportant genes done\n",
      "... as `zero_center=True`, sparse input is densified and may lead to large memory consumption\n",
      "computing PCA\n",
      "    with n_comps=50\n"
     ]
    },
    {
     "name": "stderr",
     "output_type": "stream",
     "text": [
      "/Users/kalki/opt/miniconda3/envs/cellcycle/lib/python3.10/site-packages/scanpy/preprocessing/_simple.py:843: UserWarning: Received a view of an AnnData. Making a copy.\n",
      "  view_to_actual(adata)\n"
     ]
    },
    {
     "name": "stdout",
     "output_type": "stream",
     "text": [
      "    finished (0:00:00)\n",
      "computing neighbors\n",
      "    finished (0:00:00)\n",
      "running Leiden clustering\n",
      "    finished (0:00:00)\n",
      "normalizing by total count per cell\n",
      "    finished (0:00:00): normalized adata.X and added    'n_counts', counts per cell before normalization (adata.obs)\n",
      "filtered out 14670 genes that are detected in less than 3 cells\n",
      "extracting highly variable genes\n",
      "    finished (0:00:00)\n",
      "first iteration of finding unimportant genes done\n",
      "second iteration of finding unimportant genes done\n",
      "... as `zero_center=True`, sparse input is densified and may lead to large memory consumption\n",
      "computing PCA\n",
      "    with n_comps=50\n"
     ]
    },
    {
     "name": "stderr",
     "output_type": "stream",
     "text": [
      "/Users/kalki/Dropbox (HMS)/PhD_lab/SPRING_dev/data_prep/helper_functions_py3.py:969: RuntimeWarning: invalid value encountered in divide\n",
      "  corr_coeff = corr_num/corr_denom\n",
      "/Users/kalki/opt/miniconda3/envs/cellcycle/lib/python3.10/site-packages/scanpy/preprocessing/_simple.py:843: UserWarning: Received a view of an AnnData. Making a copy.\n",
      "  view_to_actual(adata)\n"
     ]
    },
    {
     "name": "stdout",
     "output_type": "stream",
     "text": [
      "    finished (0:00:00)\n",
      "computing neighbors\n",
      "    finished (0:00:00)\n",
      "running Leiden clustering\n",
      "    finished (0:00:00)\n"
     ]
    }
   ],
   "source": [
    "leiden10c = []\n",
    "for r1 in np.arange(len(control10.keys()))+1:\n",
    "    leiden_temp = get_leiden(control10['rep{}'.format(r1)], unimportant_genes=cc_hk_genes)\n",
    "    leiden10c = leiden10c + [leiden_temp]"
   ]
  },
  {
   "cell_type": "code",
   "execution_count": 17,
   "metadata": {
    "scrolled": true
   },
   "outputs": [
    {
     "name": "stdout",
     "output_type": "stream",
     "text": [
      "normalizing by total count per cell\n",
      "    finished (0:00:00): normalized adata.X and added    'n_counts', counts per cell before normalization (adata.obs)\n",
      "filtered out 3090 genes that are detected in less than 3 cells\n",
      "extracting highly variable genes\n",
      "    finished (0:00:00)\n",
      "first iteration of finding unimportant genes done\n",
      "second iteration of finding unimportant genes done\n",
      "... as `zero_center=True`, sparse input is densified and may lead to large memory consumption\n",
      "computing PCA\n",
      "    with n_comps=50\n"
     ]
    },
    {
     "name": "stderr",
     "output_type": "stream",
     "text": [
      "/Users/kalki/opt/miniconda3/envs/cellcycle/lib/python3.10/site-packages/scanpy/preprocessing/_simple.py:843: UserWarning: Received a view of an AnnData. Making a copy.\n",
      "  view_to_actual(adata)\n"
     ]
    },
    {
     "name": "stdout",
     "output_type": "stream",
     "text": [
      "    finished (0:00:01)\n",
      "computing neighbors\n",
      "    finished (0:00:00)\n",
      "running Leiden clustering\n",
      "    finished (0:00:00)\n",
      "normalizing by total count per cell\n",
      "    finished (0:00:00): normalized adata.X and added    'n_counts', counts per cell before normalization (adata.obs)\n",
      "filtered out 10198 genes that are detected in less than 3 cells\n",
      "extracting highly variable genes\n",
      "    finished (0:00:00)\n",
      "first iteration of finding unimportant genes done\n",
      "second iteration of finding unimportant genes done\n",
      "... as `zero_center=True`, sparse input is densified and may lead to large memory consumption\n"
     ]
    },
    {
     "name": "stderr",
     "output_type": "stream",
     "text": [
      "/Users/kalki/Dropbox (HMS)/PhD_lab/SPRING_dev/data_prep/helper_functions_py3.py:969: RuntimeWarning: invalid value encountered in divide\n",
      "  corr_coeff = corr_num/corr_denom\n",
      "/Users/kalki/opt/miniconda3/envs/cellcycle/lib/python3.10/site-packages/scanpy/preprocessing/_simple.py:843: UserWarning: Received a view of an AnnData. Making a copy.\n",
      "  view_to_actual(adata)\n"
     ]
    },
    {
     "name": "stdout",
     "output_type": "stream",
     "text": [
      "computing PCA\n",
      "    with n_comps=50\n",
      "    finished (0:00:00)\n",
      "computing neighbors\n",
      "    finished (0:00:00)\n",
      "running Leiden clustering\n",
      "    finished (0:00:00)\n",
      "normalizing by total count per cell\n",
      "    finished (0:00:00): normalized adata.X and added    'n_counts', counts per cell before normalization (adata.obs)\n",
      "filtered out 12048 genes that are detected in less than 3 cells\n",
      "extracting highly variable genes\n",
      "    finished (0:00:00)\n",
      "first iteration of finding unimportant genes done\n",
      "second iteration of finding unimportant genes done\n",
      "... as `zero_center=True`, sparse input is densified and may lead to large memory consumption\n"
     ]
    },
    {
     "name": "stderr",
     "output_type": "stream",
     "text": [
      "/Users/kalki/Dropbox (HMS)/PhD_lab/SPRING_dev/data_prep/helper_functions_py3.py:969: RuntimeWarning: invalid value encountered in divide\n",
      "  corr_coeff = corr_num/corr_denom\n",
      "/Users/kalki/opt/miniconda3/envs/cellcycle/lib/python3.10/site-packages/scanpy/preprocessing/_simple.py:843: UserWarning: Received a view of an AnnData. Making a copy.\n",
      "  view_to_actual(adata)\n"
     ]
    },
    {
     "name": "stdout",
     "output_type": "stream",
     "text": [
      "computing PCA\n",
      "    with n_comps=50\n",
      "    finished (0:00:00)\n",
      "computing neighbors\n",
      "    finished (0:00:00)\n",
      "running Leiden clustering\n",
      "    finished (0:00:00)\n"
     ]
    }
   ],
   "source": [
    "leiden10p = []\n",
    "for r1 in np.arange(len(perturbed10.keys()))+1:\n",
    "    leiden_temp = get_leiden(perturbed10['rep{}'.format(r1)], unimportant_genes=cc_hk_genes)\n",
    "    leiden10p = leiden10p + [leiden_temp]"
   ]
  },
  {
   "cell_type": "markdown",
   "metadata": {},
   "source": [
    "### 14 hpf"
   ]
  },
  {
   "cell_type": "code",
   "execution_count": 18,
   "metadata": {
    "scrolled": true
   },
   "outputs": [
    {
     "name": "stdout",
     "output_type": "stream",
     "text": [
      "normalizing by total count per cell\n",
      "    finished (0:00:00): normalized adata.X and added    'n_counts', counts per cell before normalization (adata.obs)\n",
      "filtered out 4297 genes that are detected in less than 3 cells\n",
      "extracting highly variable genes\n",
      "    finished (0:00:00)\n",
      "first iteration of finding unimportant genes done\n",
      "second iteration of finding unimportant genes done\n",
      "... as `zero_center=True`, sparse input is densified and may lead to large memory consumption\n",
      "computing PCA\n",
      "    with n_comps=50\n"
     ]
    },
    {
     "name": "stderr",
     "output_type": "stream",
     "text": [
      "/Users/kalki/opt/miniconda3/envs/cellcycle/lib/python3.10/site-packages/scanpy/preprocessing/_simple.py:843: UserWarning: Received a view of an AnnData. Making a copy.\n",
      "  view_to_actual(adata)\n"
     ]
    },
    {
     "name": "stdout",
     "output_type": "stream",
     "text": [
      "    finished (0:00:01)\n",
      "computing neighbors\n",
      "    finished (0:00:00)\n",
      "running Leiden clustering\n",
      "    finished (0:00:00)\n",
      "normalizing by total count per cell\n",
      "    finished (0:00:00): normalized adata.X and added    'n_counts', counts per cell before normalization (adata.obs)\n",
      "filtered out 6512 genes that are detected in less than 3 cells\n",
      "extracting highly variable genes\n",
      "    finished (0:00:00)\n"
     ]
    },
    {
     "name": "stderr",
     "output_type": "stream",
     "text": [
      "/Users/kalki/Dropbox (HMS)/PhD_lab/SPRING_dev/data_prep/helper_functions_py3.py:969: RuntimeWarning: invalid value encountered in divide\n",
      "  corr_coeff = corr_num/corr_denom\n"
     ]
    },
    {
     "name": "stdout",
     "output_type": "stream",
     "text": [
      "first iteration of finding unimportant genes done\n",
      "second iteration of finding unimportant genes done\n",
      "... as `zero_center=True`, sparse input is densified and may lead to large memory consumption\n",
      "computing PCA\n",
      "    with n_comps=50\n"
     ]
    },
    {
     "name": "stderr",
     "output_type": "stream",
     "text": [
      "/Users/kalki/opt/miniconda3/envs/cellcycle/lib/python3.10/site-packages/scanpy/preprocessing/_simple.py:843: UserWarning: Received a view of an AnnData. Making a copy.\n",
      "  view_to_actual(adata)\n"
     ]
    },
    {
     "name": "stdout",
     "output_type": "stream",
     "text": [
      "    finished (0:00:00)\n",
      "computing neighbors\n",
      "    finished (0:00:00)\n",
      "running Leiden clustering\n",
      "    finished (0:00:00)\n",
      "normalizing by total count per cell\n",
      "    finished (0:00:00): normalized adata.X and added    'n_counts', counts per cell before normalization (adata.obs)\n",
      "filtered out 14511 genes that are detected in less than 3 cells\n",
      "extracting highly variable genes\n",
      "    finished (0:00:00)\n",
      "first iteration of finding unimportant genes done\n",
      "second iteration of finding unimportant genes done\n",
      "... as `zero_center=True`, sparse input is densified and may lead to large memory consumption\n",
      "computing PCA\n",
      "    with n_comps=50\n"
     ]
    },
    {
     "name": "stderr",
     "output_type": "stream",
     "text": [
      "/Users/kalki/Dropbox (HMS)/PhD_lab/SPRING_dev/data_prep/helper_functions_py3.py:969: RuntimeWarning: invalid value encountered in divide\n",
      "  corr_coeff = corr_num/corr_denom\n",
      "/Users/kalki/opt/miniconda3/envs/cellcycle/lib/python3.10/site-packages/scanpy/preprocessing/_simple.py:843: UserWarning: Received a view of an AnnData. Making a copy.\n",
      "  view_to_actual(adata)\n"
     ]
    },
    {
     "name": "stdout",
     "output_type": "stream",
     "text": [
      "    finished (0:00:00)\n",
      "computing neighbors\n",
      "    finished (0:00:00)\n",
      "running Leiden clustering\n",
      "    finished (0:00:00)\n"
     ]
    }
   ],
   "source": [
    "leiden14c = []\n",
    "for r1 in np.arange(len(control14.keys()))+1:\n",
    "    leiden_temp = get_leiden(control14['rep{}'.format(r1)], unimportant_genes=cc_hk_genes)\n",
    "    leiden14c = leiden14c + [leiden_temp]"
   ]
  },
  {
   "cell_type": "code",
   "execution_count": 19,
   "metadata": {
    "scrolled": true
   },
   "outputs": [
    {
     "name": "stdout",
     "output_type": "stream",
     "text": [
      "normalizing by total count per cell\n",
      "    finished (0:00:00): normalized adata.X and added    'n_counts', counts per cell before normalization (adata.obs)\n",
      "filtered out 4132 genes that are detected in less than 3 cells\n",
      "extracting highly variable genes\n",
      "    finished (0:00:00)\n",
      "first iteration of finding unimportant genes done\n",
      "second iteration of finding unimportant genes done\n",
      "... as `zero_center=True`, sparse input is densified and may lead to large memory consumption\n"
     ]
    },
    {
     "name": "stderr",
     "output_type": "stream",
     "text": [
      "/Users/kalki/Dropbox (HMS)/PhD_lab/SPRING_dev/data_prep/helper_functions_py3.py:969: RuntimeWarning: invalid value encountered in divide\n",
      "  corr_coeff = corr_num/corr_denom\n",
      "/Users/kalki/opt/miniconda3/envs/cellcycle/lib/python3.10/site-packages/scanpy/preprocessing/_simple.py:843: UserWarning: Received a view of an AnnData. Making a copy.\n",
      "  view_to_actual(adata)\n"
     ]
    },
    {
     "name": "stdout",
     "output_type": "stream",
     "text": [
      "computing PCA\n",
      "    with n_comps=50\n",
      "    finished (0:00:01)\n",
      "computing neighbors\n",
      "    finished (0:00:00)\n",
      "running Leiden clustering\n",
      "    finished (0:00:00)\n",
      "normalizing by total count per cell\n",
      "    finished (0:00:00): normalized adata.X and added    'n_counts', counts per cell before normalization (adata.obs)\n",
      "filtered out 8329 genes that are detected in less than 3 cells\n",
      "extracting highly variable genes\n",
      "    finished (0:00:00)\n",
      "first iteration of finding unimportant genes done\n",
      "second iteration of finding unimportant genes done\n",
      "... as `zero_center=True`, sparse input is densified and may lead to large memory consumption\n"
     ]
    },
    {
     "name": "stderr",
     "output_type": "stream",
     "text": [
      "/Users/kalki/Dropbox (HMS)/PhD_lab/SPRING_dev/data_prep/helper_functions_py3.py:969: RuntimeWarning: invalid value encountered in divide\n",
      "  corr_coeff = corr_num/corr_denom\n",
      "/Users/kalki/opt/miniconda3/envs/cellcycle/lib/python3.10/site-packages/scanpy/preprocessing/_simple.py:843: UserWarning: Received a view of an AnnData. Making a copy.\n",
      "  view_to_actual(adata)\n"
     ]
    },
    {
     "name": "stdout",
     "output_type": "stream",
     "text": [
      "computing PCA\n",
      "    with n_comps=50\n",
      "    finished (0:00:00)\n",
      "computing neighbors\n",
      "    finished (0:00:00)\n",
      "running Leiden clustering\n",
      "    finished (0:00:00)\n",
      "normalizing by total count per cell\n",
      "    finished (0:00:00): normalized adata.X and added    'n_counts', counts per cell before normalization (adata.obs)\n",
      "filtered out 13309 genes that are detected in less than 3 cells\n",
      "extracting highly variable genes\n",
      "    finished (0:00:00)\n",
      "first iteration of finding unimportant genes done\n",
      "second iteration of finding unimportant genes done\n",
      "... as `zero_center=True`, sparse input is densified and may lead to large memory consumption\n",
      "computing PCA\n",
      "    with n_comps=50\n"
     ]
    },
    {
     "name": "stderr",
     "output_type": "stream",
     "text": [
      "/Users/kalki/Dropbox (HMS)/PhD_lab/SPRING_dev/data_prep/helper_functions_py3.py:969: RuntimeWarning: invalid value encountered in divide\n",
      "  corr_coeff = corr_num/corr_denom\n",
      "/Users/kalki/opt/miniconda3/envs/cellcycle/lib/python3.10/site-packages/scanpy/preprocessing/_simple.py:843: UserWarning: Received a view of an AnnData. Making a copy.\n",
      "  view_to_actual(adata)\n"
     ]
    },
    {
     "name": "stdout",
     "output_type": "stream",
     "text": [
      "    finished (0:00:00)\n",
      "computing neighbors\n",
      "    finished (0:00:00)\n",
      "running Leiden clustering\n",
      "    finished (0:00:00)\n"
     ]
    }
   ],
   "source": [
    "leiden14p = []\n",
    "for r1 in np.arange(len(perturbed14.keys()))+1:\n",
    "    leiden_temp = get_leiden(perturbed14['rep{}'.format(r1)], unimportant_genes=cc_hk_genes)\n",
    "    leiden14p = leiden14p + [leiden_temp]"
   ]
  },
  {
   "cell_type": "markdown",
   "metadata": {},
   "source": [
    "### 18 hpf"
   ]
  },
  {
   "cell_type": "code",
   "execution_count": 20,
   "metadata": {
    "scrolled": true
   },
   "outputs": [
    {
     "name": "stdout",
     "output_type": "stream",
     "text": [
      "normalizing by total count per cell\n",
      "    finished (0:00:00): normalized adata.X and added    'n_counts', counts per cell before normalization (adata.obs)\n",
      "filtered out 3207 genes that are detected in less than 3 cells\n",
      "extracting highly variable genes\n",
      "    finished (0:00:00)\n",
      "first iteration of finding unimportant genes done\n",
      "second iteration of finding unimportant genes done\n",
      "... as `zero_center=True`, sparse input is densified and may lead to large memory consumption\n",
      "computing PCA\n",
      "    with n_comps=50\n"
     ]
    },
    {
     "name": "stderr",
     "output_type": "stream",
     "text": [
      "/Users/kalki/opt/miniconda3/envs/cellcycle/lib/python3.10/site-packages/scanpy/preprocessing/_simple.py:843: UserWarning: Received a view of an AnnData. Making a copy.\n",
      "  view_to_actual(adata)\n"
     ]
    },
    {
     "name": "stdout",
     "output_type": "stream",
     "text": [
      "    finished (0:00:01)\n",
      "computing neighbors\n",
      "    finished (0:00:00)\n",
      "running Leiden clustering\n",
      "    finished (0:00:00)\n",
      "normalizing by total count per cell\n",
      "    finished (0:00:00): normalized adata.X and added    'n_counts', counts per cell before normalization (adata.obs)\n",
      "filtered out 11361 genes that are detected in less than 3 cells\n",
      "extracting highly variable genes\n",
      "    finished (0:00:00)\n",
      "first iteration of finding unimportant genes done\n",
      "second iteration of finding unimportant genes done\n",
      "... as `zero_center=True`, sparse input is densified and may lead to large memory consumption\n"
     ]
    },
    {
     "name": "stderr",
     "output_type": "stream",
     "text": [
      "/Users/kalki/Dropbox (HMS)/PhD_lab/SPRING_dev/data_prep/helper_functions_py3.py:969: RuntimeWarning: invalid value encountered in divide\n",
      "  corr_coeff = corr_num/corr_denom\n",
      "/Users/kalki/opt/miniconda3/envs/cellcycle/lib/python3.10/site-packages/scanpy/preprocessing/_simple.py:843: UserWarning: Received a view of an AnnData. Making a copy.\n",
      "  view_to_actual(adata)\n"
     ]
    },
    {
     "name": "stdout",
     "output_type": "stream",
     "text": [
      "computing PCA\n",
      "    with n_comps=50\n",
      "    finished (0:00:00)\n",
      "computing neighbors\n",
      "    finished (0:00:00)\n",
      "running Leiden clustering\n",
      "    finished (0:00:00)\n",
      "normalizing by total count per cell\n",
      "    finished (0:00:00): normalized adata.X and added    'n_counts', counts per cell before normalization (adata.obs)\n",
      "filtered out 10023 genes that are detected in less than 3 cells\n",
      "extracting highly variable genes\n",
      "    finished (0:00:00)\n",
      "first iteration of finding unimportant genes done\n",
      "second iteration of finding unimportant genes done\n",
      "... as `zero_center=True`, sparse input is densified and may lead to large memory consumption\n",
      "computing PCA\n",
      "    with n_comps=50\n"
     ]
    },
    {
     "name": "stderr",
     "output_type": "stream",
     "text": [
      "/Users/kalki/opt/miniconda3/envs/cellcycle/lib/python3.10/site-packages/scanpy/preprocessing/_simple.py:843: UserWarning: Received a view of an AnnData. Making a copy.\n",
      "  view_to_actual(adata)\n"
     ]
    },
    {
     "name": "stdout",
     "output_type": "stream",
     "text": [
      "    finished (0:00:00)\n",
      "computing neighbors\n",
      "    finished (0:00:00)\n",
      "running Leiden clustering\n",
      "    finished (0:00:00)\n"
     ]
    }
   ],
   "source": [
    "leiden18c = []\n",
    "for r1 in np.arange(len(control18.keys()))+1:\n",
    "    leiden_temp = get_leiden(control18['rep{}'.format(r1)], unimportant_genes=cc_hk_genes)\n",
    "    leiden18c = leiden18c + [leiden_temp]"
   ]
  },
  {
   "cell_type": "code",
   "execution_count": 21,
   "metadata": {},
   "outputs": [
    {
     "name": "stdout",
     "output_type": "stream",
     "text": [
      "normalizing by total count per cell\n",
      "    finished (0:00:00): normalized adata.X and added    'n_counts', counts per cell before normalization (adata.obs)\n",
      "filtered out 6730 genes that are detected in less than 3 cells\n",
      "extracting highly variable genes\n",
      "    finished (0:00:00)\n",
      "first iteration of finding unimportant genes done\n",
      "second iteration of finding unimportant genes done\n",
      "... as `zero_center=True`, sparse input is densified and may lead to large memory consumption\n",
      "computing PCA\n",
      "    with n_comps=50\n"
     ]
    },
    {
     "name": "stderr",
     "output_type": "stream",
     "text": [
      "/Users/kalki/opt/miniconda3/envs/cellcycle/lib/python3.10/site-packages/scanpy/preprocessing/_simple.py:843: UserWarning: Received a view of an AnnData. Making a copy.\n",
      "  view_to_actual(adata)\n"
     ]
    },
    {
     "name": "stdout",
     "output_type": "stream",
     "text": [
      "    finished (0:00:00)\n",
      "computing neighbors\n",
      "    finished (0:00:00)\n",
      "running Leiden clustering\n",
      "    finished (0:00:00)\n",
      "normalizing by total count per cell\n",
      "    finished (0:00:00): normalized adata.X and added    'n_counts', counts per cell before normalization (adata.obs)\n",
      "filtered out 10956 genes that are detected in less than 3 cells\n",
      "extracting highly variable genes\n",
      "    finished (0:00:00)\n"
     ]
    },
    {
     "name": "stderr",
     "output_type": "stream",
     "text": [
      "/Users/kalki/Dropbox (HMS)/PhD_lab/SPRING_dev/data_prep/helper_functions_py3.py:969: RuntimeWarning: invalid value encountered in divide\n",
      "  corr_coeff = corr_num/corr_denom\n"
     ]
    },
    {
     "name": "stdout",
     "output_type": "stream",
     "text": [
      "first iteration of finding unimportant genes done\n",
      "second iteration of finding unimportant genes done\n",
      "... as `zero_center=True`, sparse input is densified and may lead to large memory consumption\n",
      "computing PCA\n",
      "    with n_comps=50\n"
     ]
    },
    {
     "name": "stderr",
     "output_type": "stream",
     "text": [
      "/Users/kalki/opt/miniconda3/envs/cellcycle/lib/python3.10/site-packages/scanpy/preprocessing/_simple.py:843: UserWarning: Received a view of an AnnData. Making a copy.\n",
      "  view_to_actual(adata)\n"
     ]
    },
    {
     "name": "stdout",
     "output_type": "stream",
     "text": [
      "    finished (0:00:00)\n",
      "computing neighbors\n",
      "    finished (0:00:00)\n",
      "running Leiden clustering\n",
      "    finished (0:00:00)\n",
      "normalizing by total count per cell\n",
      "    finished (0:00:00): normalized adata.X and added    'n_counts', counts per cell before normalization (adata.obs)\n",
      "filtered out 11673 genes that are detected in less than 3 cells\n",
      "extracting highly variable genes\n",
      "    finished (0:00:00)\n",
      "first iteration of finding unimportant genes done\n",
      "second iteration of finding unimportant genes done\n",
      "... as `zero_center=True`, sparse input is densified and may lead to large memory consumption\n"
     ]
    },
    {
     "name": "stderr",
     "output_type": "stream",
     "text": [
      "/Users/kalki/Dropbox (HMS)/PhD_lab/SPRING_dev/data_prep/helper_functions_py3.py:969: RuntimeWarning: invalid value encountered in divide\n",
      "  corr_coeff = corr_num/corr_denom\n",
      "/Users/kalki/opt/miniconda3/envs/cellcycle/lib/python3.10/site-packages/scanpy/preprocessing/_simple.py:843: UserWarning: Received a view of an AnnData. Making a copy.\n",
      "  view_to_actual(adata)\n"
     ]
    },
    {
     "name": "stdout",
     "output_type": "stream",
     "text": [
      "computing PCA\n",
      "    with n_comps=50\n",
      "    finished (0:00:00)\n",
      "computing neighbors\n",
      "    finished (0:00:00)\n",
      "running Leiden clustering\n",
      "    finished (0:00:00)\n"
     ]
    }
   ],
   "source": [
    "leiden18p = []\n",
    "for r1 in np.arange(len(perturbed18.keys()))+1:\n",
    "    leiden_temp = get_leiden(perturbed18['rep{}'.format(r1)], unimportant_genes=cc_hk_genes)\n",
    "    leiden18p = leiden18p + [leiden_temp]"
   ]
  },
  {
   "cell_type": "markdown",
   "metadata": {},
   "source": [
    "### 21 hpf"
   ]
  },
  {
   "cell_type": "code",
   "execution_count": 22,
   "metadata": {
    "scrolled": true
   },
   "outputs": [
    {
     "name": "stdout",
     "output_type": "stream",
     "text": [
      "normalizing by total count per cell\n",
      "    finished (0:00:00): normalized adata.X and added    'n_counts', counts per cell before normalization (adata.obs)\n",
      "filtered out 6663 genes that are detected in less than 3 cells\n",
      "extracting highly variable genes\n",
      "    finished (0:00:00)\n"
     ]
    },
    {
     "name": "stderr",
     "output_type": "stream",
     "text": [
      "/Users/kalki/Dropbox (HMS)/PhD_lab/SPRING_dev/data_prep/helper_functions_py3.py:969: RuntimeWarning: invalid value encountered in divide\n",
      "  corr_coeff = corr_num/corr_denom\n"
     ]
    },
    {
     "name": "stdout",
     "output_type": "stream",
     "text": [
      "first iteration of finding unimportant genes done\n",
      "second iteration of finding unimportant genes done\n",
      "... as `zero_center=True`, sparse input is densified and may lead to large memory consumption\n",
      "computing PCA\n",
      "    with n_comps=50\n"
     ]
    },
    {
     "name": "stderr",
     "output_type": "stream",
     "text": [
      "/Users/kalki/opt/miniconda3/envs/cellcycle/lib/python3.10/site-packages/scanpy/preprocessing/_simple.py:843: UserWarning: Received a view of an AnnData. Making a copy.\n",
      "  view_to_actual(adata)\n"
     ]
    },
    {
     "name": "stdout",
     "output_type": "stream",
     "text": [
      "    finished (0:00:00)\n",
      "computing neighbors\n",
      "    finished (0:00:00)\n",
      "running Leiden clustering\n",
      "    finished (0:00:00)\n",
      "normalizing by total count per cell\n",
      "    finished (0:00:00): normalized adata.X and added    'n_counts', counts per cell before normalization (adata.obs)\n",
      "filtered out 11411 genes that are detected in less than 3 cells\n",
      "extracting highly variable genes\n",
      "    finished (0:00:00)\n"
     ]
    },
    {
     "name": "stderr",
     "output_type": "stream",
     "text": [
      "/Users/kalki/Dropbox (HMS)/PhD_lab/SPRING_dev/data_prep/helper_functions_py3.py:969: RuntimeWarning: invalid value encountered in divide\n",
      "  corr_coeff = corr_num/corr_denom\n"
     ]
    },
    {
     "name": "stdout",
     "output_type": "stream",
     "text": [
      "first iteration of finding unimportant genes done\n",
      "second iteration of finding unimportant genes done\n",
      "... as `zero_center=True`, sparse input is densified and may lead to large memory consumption\n",
      "computing PCA\n",
      "    with n_comps=50\n"
     ]
    },
    {
     "name": "stderr",
     "output_type": "stream",
     "text": [
      "/Users/kalki/opt/miniconda3/envs/cellcycle/lib/python3.10/site-packages/scanpy/preprocessing/_simple.py:843: UserWarning: Received a view of an AnnData. Making a copy.\n",
      "  view_to_actual(adata)\n"
     ]
    },
    {
     "name": "stdout",
     "output_type": "stream",
     "text": [
      "    finished (0:00:00)\n",
      "computing neighbors\n",
      "    finished (0:00:00)\n",
      "running Leiden clustering\n",
      "    finished (0:00:00)\n",
      "normalizing by total count per cell\n",
      "    finished (0:00:00): normalized adata.X and added    'n_counts', counts per cell before normalization (adata.obs)\n",
      "filtered out 9310 genes that are detected in less than 3 cells\n",
      "extracting highly variable genes\n",
      "    finished (0:00:00)\n"
     ]
    },
    {
     "name": "stderr",
     "output_type": "stream",
     "text": [
      "/Users/kalki/Dropbox (HMS)/PhD_lab/SPRING_dev/data_prep/helper_functions_py3.py:969: RuntimeWarning: invalid value encountered in divide\n",
      "  corr_coeff = corr_num/corr_denom\n"
     ]
    },
    {
     "name": "stdout",
     "output_type": "stream",
     "text": [
      "first iteration of finding unimportant genes done\n",
      "second iteration of finding unimportant genes done\n",
      "... as `zero_center=True`, sparse input is densified and may lead to large memory consumption\n",
      "computing PCA\n",
      "    with n_comps=50\n"
     ]
    },
    {
     "name": "stderr",
     "output_type": "stream",
     "text": [
      "/Users/kalki/opt/miniconda3/envs/cellcycle/lib/python3.10/site-packages/scanpy/preprocessing/_simple.py:843: UserWarning: Received a view of an AnnData. Making a copy.\n",
      "  view_to_actual(adata)\n"
     ]
    },
    {
     "name": "stdout",
     "output_type": "stream",
     "text": [
      "    finished (0:00:00)\n",
      "computing neighbors\n",
      "    finished (0:00:00)\n",
      "running Leiden clustering\n",
      "    finished (0:00:00)\n"
     ]
    }
   ],
   "source": [
    "leiden21c = []\n",
    "for r1 in np.arange(len(control21.keys()))+1:\n",
    "    leiden_temp = get_leiden(control21['rep{}'.format(r1)], unimportant_genes=cc_hk_genes)\n",
    "    leiden21c = leiden21c + [leiden_temp]"
   ]
  },
  {
   "cell_type": "code",
   "execution_count": 23,
   "metadata": {
    "scrolled": true
   },
   "outputs": [
    {
     "name": "stdout",
     "output_type": "stream",
     "text": [
      "normalizing by total count per cell\n",
      "    finished (0:00:00): normalized adata.X and added    'n_counts', counts per cell before normalization (adata.obs)\n",
      "filtered out 5972 genes that are detected in less than 3 cells\n",
      "extracting highly variable genes\n",
      "    finished (0:00:00)\n",
      "first iteration of finding unimportant genes done\n",
      "second iteration of finding unimportant genes done\n",
      "... as `zero_center=True`, sparse input is densified and may lead to large memory consumption\n",
      "computing PCA\n",
      "    with n_comps=50\n"
     ]
    },
    {
     "name": "stderr",
     "output_type": "stream",
     "text": [
      "/Users/kalki/opt/miniconda3/envs/cellcycle/lib/python3.10/site-packages/scanpy/preprocessing/_simple.py:843: UserWarning: Received a view of an AnnData. Making a copy.\n",
      "  view_to_actual(adata)\n"
     ]
    },
    {
     "name": "stdout",
     "output_type": "stream",
     "text": [
      "    finished (0:00:00)\n",
      "computing neighbors\n",
      "    finished (0:00:00)\n",
      "running Leiden clustering\n",
      "    finished (0:00:00)\n",
      "normalizing by total count per cell\n",
      "    finished (0:00:00): normalized adata.X and added    'n_counts', counts per cell before normalization (adata.obs)\n",
      "filtered out 10588 genes that are detected in less than 3 cells\n",
      "extracting highly variable genes\n",
      "    finished (0:00:00)\n",
      "first iteration of finding unimportant genes done\n",
      "second iteration of finding unimportant genes done\n",
      "... as `zero_center=True`, sparse input is densified and may lead to large memory consumption\n",
      "computing PCA\n",
      "    with n_comps=50\n"
     ]
    },
    {
     "name": "stderr",
     "output_type": "stream",
     "text": [
      "/Users/kalki/opt/miniconda3/envs/cellcycle/lib/python3.10/site-packages/scanpy/preprocessing/_simple.py:843: UserWarning: Received a view of an AnnData. Making a copy.\n",
      "  view_to_actual(adata)\n"
     ]
    },
    {
     "name": "stdout",
     "output_type": "stream",
     "text": [
      "    finished (0:00:00)\n",
      "computing neighbors\n",
      "    finished (0:00:00)\n",
      "running Leiden clustering\n",
      "    finished (0:00:00)\n",
      "normalizing by total count per cell\n",
      "    finished (0:00:00): normalized adata.X and added    'n_counts', counts per cell before normalization (adata.obs)\n",
      "filtered out 14773 genes that are detected in less than 3 cells\n",
      "extracting highly variable genes\n",
      "    finished (0:00:00)\n",
      "first iteration of finding unimportant genes done\n",
      "second iteration of finding unimportant genes done\n",
      "... as `zero_center=True`, sparse input is densified and may lead to large memory consumption\n",
      "computing PCA\n",
      "    with n_comps=50\n"
     ]
    },
    {
     "name": "stderr",
     "output_type": "stream",
     "text": [
      "/Users/kalki/Dropbox (HMS)/PhD_lab/SPRING_dev/data_prep/helper_functions_py3.py:969: RuntimeWarning: invalid value encountered in divide\n",
      "  corr_coeff = corr_num/corr_denom\n",
      "/Users/kalki/opt/miniconda3/envs/cellcycle/lib/python3.10/site-packages/scanpy/preprocessing/_simple.py:843: UserWarning: Received a view of an AnnData. Making a copy.\n",
      "  view_to_actual(adata)\n"
     ]
    },
    {
     "name": "stdout",
     "output_type": "stream",
     "text": [
      "    finished (0:00:00)\n",
      "computing neighbors\n",
      "    finished (0:00:00)\n",
      "running Leiden clustering\n",
      "    finished (0:00:00)\n"
     ]
    }
   ],
   "source": [
    "leiden21p = []\n",
    "for r1 in np.arange(len(perturbed21.keys()))+1:\n",
    "    leiden_temp = get_leiden(perturbed21['rep{}'.format(r1)], unimportant_genes=cc_hk_genes)\n",
    "    leiden21p = leiden21p + [leiden_temp]"
   ]
  },
  {
   "cell_type": "markdown",
   "metadata": {},
   "source": [
    "### 24 hpf ctrl"
   ]
  },
  {
   "cell_type": "code",
   "execution_count": 24,
   "metadata": {
    "scrolled": true
   },
   "outputs": [
    {
     "name": "stdout",
     "output_type": "stream",
     "text": [
      "normalizing by total count per cell\n",
      "    finished (0:00:00): normalized adata.X and added    'n_counts', counts per cell before normalization (adata.obs)\n",
      "filtered out 3899 genes that are detected in less than 3 cells\n",
      "extracting highly variable genes\n",
      "    finished (0:00:00)\n",
      "first iteration of finding unimportant genes done\n",
      "second iteration of finding unimportant genes done\n",
      "... as `zero_center=True`, sparse input is densified and may lead to large memory consumption\n",
      "computing PCA\n",
      "    with n_comps=50\n"
     ]
    },
    {
     "name": "stderr",
     "output_type": "stream",
     "text": [
      "/Users/kalki/opt/miniconda3/envs/cellcycle/lib/python3.10/site-packages/scanpy/preprocessing/_simple.py:843: UserWarning: Received a view of an AnnData. Making a copy.\n",
      "  view_to_actual(adata)\n"
     ]
    },
    {
     "name": "stdout",
     "output_type": "stream",
     "text": [
      "    finished (0:00:01)\n",
      "computing neighbors\n",
      "    finished (0:00:07)\n",
      "running Leiden clustering\n",
      "    finished (0:00:00)\n",
      "normalizing by total count per cell\n",
      "    finished (0:00:00): normalized adata.X and added    'n_counts', counts per cell before normalization (adata.obs)\n",
      "filtered out 7214 genes that are detected in less than 3 cells\n",
      "extracting highly variable genes\n",
      "    finished (0:00:00)\n",
      "first iteration of finding unimportant genes done\n",
      "second iteration of finding unimportant genes done\n",
      "... as `zero_center=True`, sparse input is densified and may lead to large memory consumption\n",
      "computing PCA\n",
      "    with n_comps=50\n"
     ]
    },
    {
     "name": "stderr",
     "output_type": "stream",
     "text": [
      "/Users/kalki/opt/miniconda3/envs/cellcycle/lib/python3.10/site-packages/scanpy/preprocessing/_simple.py:843: UserWarning: Received a view of an AnnData. Making a copy.\n",
      "  view_to_actual(adata)\n"
     ]
    },
    {
     "name": "stdout",
     "output_type": "stream",
     "text": [
      "    finished (0:00:00)\n",
      "computing neighbors\n",
      "    finished (0:00:00)\n",
      "running Leiden clustering\n",
      "    finished (0:00:00)\n",
      "normalizing by total count per cell\n",
      "    finished (0:00:00): normalized adata.X and added    'n_counts', counts per cell before normalization (adata.obs)\n",
      "filtered out 5409 genes that are detected in less than 3 cells\n",
      "extracting highly variable genes\n",
      "    finished (0:00:00)\n",
      "first iteration of finding unimportant genes done\n",
      "second iteration of finding unimportant genes done\n",
      "... as `zero_center=True`, sparse input is densified and may lead to large memory consumption\n",
      "computing PCA\n",
      "    with n_comps=50\n"
     ]
    },
    {
     "name": "stderr",
     "output_type": "stream",
     "text": [
      "/Users/kalki/opt/miniconda3/envs/cellcycle/lib/python3.10/site-packages/scanpy/preprocessing/_simple.py:843: UserWarning: Received a view of an AnnData. Making a copy.\n",
      "  view_to_actual(adata)\n"
     ]
    },
    {
     "name": "stdout",
     "output_type": "stream",
     "text": [
      "    finished (0:00:00)\n",
      "computing neighbors\n",
      "    finished (0:00:00)\n",
      "running Leiden clustering\n",
      "    finished (0:00:00)\n",
      "normalizing by total count per cell\n",
      "    finished (0:00:00): normalized adata.X and added    'n_counts', counts per cell before normalization (adata.obs)\n",
      "filtered out 5938 genes that are detected in less than 3 cells\n",
      "extracting highly variable genes\n",
      "    finished (0:00:00)\n"
     ]
    },
    {
     "name": "stderr",
     "output_type": "stream",
     "text": [
      "/Users/kalki/Dropbox (HMS)/PhD_lab/SPRING_dev/data_prep/helper_functions_py3.py:969: RuntimeWarning: invalid value encountered in divide\n",
      "  corr_coeff = corr_num/corr_denom\n"
     ]
    },
    {
     "name": "stdout",
     "output_type": "stream",
     "text": [
      "first iteration of finding unimportant genes done\n",
      "second iteration of finding unimportant genes done\n",
      "... as `zero_center=True`, sparse input is densified and may lead to large memory consumption\n",
      "computing PCA\n",
      "    with n_comps=50\n"
     ]
    },
    {
     "name": "stderr",
     "output_type": "stream",
     "text": [
      "/Users/kalki/opt/miniconda3/envs/cellcycle/lib/python3.10/site-packages/scanpy/preprocessing/_simple.py:843: UserWarning: Received a view of an AnnData. Making a copy.\n",
      "  view_to_actual(adata)\n"
     ]
    },
    {
     "name": "stdout",
     "output_type": "stream",
     "text": [
      "    finished (0:00:00)\n",
      "computing neighbors\n",
      "    finished (0:00:00)\n",
      "running Leiden clustering\n",
      "    finished (0:00:00)\n",
      "normalizing by total count per cell\n",
      "    finished (0:00:00): normalized adata.X and added    'n_counts', counts per cell before normalization (adata.obs)\n",
      "filtered out 13456 genes that are detected in less than 3 cells\n",
      "extracting highly variable genes\n",
      "    finished (0:00:00)\n",
      "first iteration of finding unimportant genes done\n",
      "second iteration of finding unimportant genes done\n",
      "... as `zero_center=True`, sparse input is densified and may lead to large memory consumption\n",
      "computing PCA\n",
      "    with n_comps=50\n"
     ]
    },
    {
     "name": "stderr",
     "output_type": "stream",
     "text": [
      "/Users/kalki/Dropbox (HMS)/PhD_lab/SPRING_dev/data_prep/helper_functions_py3.py:969: RuntimeWarning: invalid value encountered in divide\n",
      "  corr_coeff = corr_num/corr_denom\n",
      "/Users/kalki/opt/miniconda3/envs/cellcycle/lib/python3.10/site-packages/scanpy/preprocessing/_simple.py:843: UserWarning: Received a view of an AnnData. Making a copy.\n",
      "  view_to_actual(adata)\n"
     ]
    },
    {
     "name": "stdout",
     "output_type": "stream",
     "text": [
      "    finished (0:00:00)\n",
      "computing neighbors\n",
      "    finished (0:00:00)\n",
      "running Leiden clustering\n",
      "    finished (0:00:00)\n",
      "normalizing by total count per cell\n",
      "    finished (0:00:00): normalized adata.X and added    'n_counts', counts per cell before normalization (adata.obs)\n",
      "filtered out 8399 genes that are detected in less than 3 cells\n",
      "extracting highly variable genes\n",
      "    finished (0:00:00)\n",
      "first iteration of finding unimportant genes done\n",
      "second iteration of finding unimportant genes done\n",
      "... as `zero_center=True`, sparse input is densified and may lead to large memory consumption\n",
      "computing PCA\n",
      "    with n_comps=50\n"
     ]
    },
    {
     "name": "stderr",
     "output_type": "stream",
     "text": [
      "/Users/kalki/opt/miniconda3/envs/cellcycle/lib/python3.10/site-packages/scanpy/preprocessing/_simple.py:843: UserWarning: Received a view of an AnnData. Making a copy.\n",
      "  view_to_actual(adata)\n"
     ]
    },
    {
     "name": "stdout",
     "output_type": "stream",
     "text": [
      "    finished (0:00:00)\n",
      "computing neighbors\n",
      "    finished (0:00:00)\n",
      "running Leiden clustering\n",
      "    finished (0:00:00)\n",
      "normalizing by total count per cell\n",
      "    finished (0:00:00): normalized adata.X and added    'n_counts', counts per cell before normalization (adata.obs)\n",
      "filtered out 10203 genes that are detected in less than 3 cells\n",
      "extracting highly variable genes\n",
      "    finished (0:00:00)\n",
      "first iteration of finding unimportant genes done\n",
      "second iteration of finding unimportant genes done\n",
      "... as `zero_center=True`, sparse input is densified and may lead to large memory consumption\n",
      "computing PCA\n",
      "    with n_comps=50\n"
     ]
    },
    {
     "name": "stderr",
     "output_type": "stream",
     "text": [
      "/Users/kalki/opt/miniconda3/envs/cellcycle/lib/python3.10/site-packages/scanpy/preprocessing/_simple.py:843: UserWarning: Received a view of an AnnData. Making a copy.\n",
      "  view_to_actual(adata)\n"
     ]
    },
    {
     "name": "stdout",
     "output_type": "stream",
     "text": [
      "    finished (0:00:00)\n",
      "computing neighbors\n",
      "    finished (0:00:00)\n",
      "running Leiden clustering\n",
      "    finished (0:00:00)\n",
      "normalizing by total count per cell\n",
      "    finished (0:00:00): normalized adata.X and added    'n_counts', counts per cell before normalization (adata.obs)\n",
      "filtered out 7902 genes that are detected in less than 3 cells\n",
      "extracting highly variable genes\n",
      "    finished (0:00:00)\n",
      "first iteration of finding unimportant genes done\n",
      "second iteration of finding unimportant genes done\n",
      "... as `zero_center=True`, sparse input is densified and may lead to large memory consumption\n",
      "computing PCA\n",
      "    with n_comps=50\n"
     ]
    },
    {
     "name": "stderr",
     "output_type": "stream",
     "text": [
      "/Users/kalki/opt/miniconda3/envs/cellcycle/lib/python3.10/site-packages/scanpy/preprocessing/_simple.py:843: UserWarning: Received a view of an AnnData. Making a copy.\n",
      "  view_to_actual(adata)\n"
     ]
    },
    {
     "name": "stdout",
     "output_type": "stream",
     "text": [
      "    finished (0:00:00)\n",
      "computing neighbors\n",
      "    finished (0:00:00)\n",
      "running Leiden clustering\n",
      "    finished (0:00:00)\n"
     ]
    }
   ],
   "source": [
    "leiden24c = []\n",
    "for r1 in np.arange(len(control24.keys()))+1:\n",
    "    leiden_temp = get_leiden(control24['rep{}'.format(r1)], unimportant_genes=cc_hk_genes)\n",
    "    leiden24c = leiden24c + [leiden_temp]"
   ]
  },
  {
   "cell_type": "markdown",
   "metadata": {},
   "source": [
    "### 24 hpf hua"
   ]
  },
  {
   "cell_type": "code",
   "execution_count": 25,
   "metadata": {},
   "outputs": [
    {
     "name": "stdout",
     "output_type": "stream",
     "text": [
      "normalizing by total count per cell\n",
      "    finished (0:00:00): normalized adata.X and added    'n_counts', counts per cell before normalization (adata.obs)\n",
      "filtered out 3682 genes that are detected in less than 3 cells\n",
      "extracting highly variable genes\n",
      "    finished (0:00:00)\n",
      "first iteration of finding unimportant genes done\n",
      "second iteration of finding unimportant genes done\n",
      "... as `zero_center=True`, sparse input is densified and may lead to large memory consumption\n",
      "computing PCA\n",
      "    with n_comps=50\n"
     ]
    },
    {
     "name": "stderr",
     "output_type": "stream",
     "text": [
      "/Users/kalki/opt/miniconda3/envs/cellcycle/lib/python3.10/site-packages/scanpy/preprocessing/_simple.py:843: UserWarning: Received a view of an AnnData. Making a copy.\n",
      "  view_to_actual(adata)\n"
     ]
    },
    {
     "name": "stdout",
     "output_type": "stream",
     "text": [
      "    finished (0:00:00)\n",
      "computing neighbors\n",
      "    finished (0:00:00)\n",
      "running Leiden clustering\n",
      "    finished (0:00:00)\n",
      "normalizing by total count per cell\n",
      "    finished (0:00:00): normalized adata.X and added    'n_counts', counts per cell before normalization (adata.obs)\n",
      "filtered out 6111 genes that are detected in less than 3 cells\n",
      "extracting highly variable genes\n",
      "    finished (0:00:00)\n",
      "first iteration of finding unimportant genes done\n",
      "second iteration of finding unimportant genes done\n",
      "... as `zero_center=True`, sparse input is densified and may lead to large memory consumption\n",
      "computing PCA\n",
      "    with n_comps=50\n"
     ]
    },
    {
     "name": "stderr",
     "output_type": "stream",
     "text": [
      "/Users/kalki/opt/miniconda3/envs/cellcycle/lib/python3.10/site-packages/scanpy/preprocessing/_simple.py:843: UserWarning: Received a view of an AnnData. Making a copy.\n",
      "  view_to_actual(adata)\n"
     ]
    },
    {
     "name": "stdout",
     "output_type": "stream",
     "text": [
      "    finished (0:00:01)\n",
      "computing neighbors\n",
      "    finished (0:00:00)\n",
      "running Leiden clustering\n",
      "    finished (0:00:00)\n",
      "normalizing by total count per cell\n",
      "    finished (0:00:00): normalized adata.X and added    'n_counts', counts per cell before normalization (adata.obs)\n",
      "filtered out 4737 genes that are detected in less than 3 cells\n",
      "extracting highly variable genes\n",
      "    finished (0:00:00)\n",
      "first iteration of finding unimportant genes done\n",
      "second iteration of finding unimportant genes done\n",
      "... as `zero_center=True`, sparse input is densified and may lead to large memory consumption\n",
      "computing PCA\n",
      "    with n_comps=50\n"
     ]
    },
    {
     "name": "stderr",
     "output_type": "stream",
     "text": [
      "/Users/kalki/opt/miniconda3/envs/cellcycle/lib/python3.10/site-packages/scanpy/preprocessing/_simple.py:843: UserWarning: Received a view of an AnnData. Making a copy.\n",
      "  view_to_actual(adata)\n"
     ]
    },
    {
     "name": "stdout",
     "output_type": "stream",
     "text": [
      "    finished (0:00:01)\n",
      "computing neighbors\n",
      "    finished (0:00:00)\n",
      "running Leiden clustering\n",
      "    finished (0:00:00)\n",
      "normalizing by total count per cell\n",
      "    finished (0:00:00): normalized adata.X and added    'n_counts', counts per cell before normalization (adata.obs)\n",
      "filtered out 9843 genes that are detected in less than 3 cells\n",
      "extracting highly variable genes\n",
      "    finished (0:00:00)\n",
      "first iteration of finding unimportant genes done\n",
      "second iteration of finding unimportant genes done\n",
      "... as `zero_center=True`, sparse input is densified and may lead to large memory consumption\n"
     ]
    },
    {
     "name": "stderr",
     "output_type": "stream",
     "text": [
      "/Users/kalki/Dropbox (HMS)/PhD_lab/SPRING_dev/data_prep/helper_functions_py3.py:969: RuntimeWarning: invalid value encountered in divide\n",
      "  corr_coeff = corr_num/corr_denom\n",
      "/Users/kalki/opt/miniconda3/envs/cellcycle/lib/python3.10/site-packages/scanpy/preprocessing/_simple.py:843: UserWarning: Received a view of an AnnData. Making a copy.\n",
      "  view_to_actual(adata)\n"
     ]
    },
    {
     "name": "stdout",
     "output_type": "stream",
     "text": [
      "computing PCA\n",
      "    with n_comps=50\n",
      "    finished (0:00:00)\n",
      "computing neighbors\n",
      "    finished (0:00:00)\n",
      "running Leiden clustering\n",
      "    finished (0:00:00)\n",
      "normalizing by total count per cell\n",
      "    finished (0:00:00): normalized adata.X and added    'n_counts', counts per cell before normalization (adata.obs)\n",
      "filtered out 11228 genes that are detected in less than 3 cells\n",
      "extracting highly variable genes\n",
      "    finished (0:00:00)\n"
     ]
    },
    {
     "name": "stderr",
     "output_type": "stream",
     "text": [
      "/Users/kalki/Dropbox (HMS)/PhD_lab/SPRING_dev/data_prep/helper_functions_py3.py:969: RuntimeWarning: invalid value encountered in divide\n",
      "  corr_coeff = corr_num/corr_denom\n"
     ]
    },
    {
     "name": "stdout",
     "output_type": "stream",
     "text": [
      "first iteration of finding unimportant genes done\n",
      "second iteration of finding unimportant genes done\n",
      "... as `zero_center=True`, sparse input is densified and may lead to large memory consumption\n",
      "computing PCA\n",
      "    with n_comps=50\n"
     ]
    },
    {
     "name": "stderr",
     "output_type": "stream",
     "text": [
      "/Users/kalki/opt/miniconda3/envs/cellcycle/lib/python3.10/site-packages/scanpy/preprocessing/_simple.py:843: UserWarning: Received a view of an AnnData. Making a copy.\n",
      "  view_to_actual(adata)\n"
     ]
    },
    {
     "name": "stdout",
     "output_type": "stream",
     "text": [
      "    finished (0:00:00)\n",
      "computing neighbors\n",
      "    finished (0:00:00)\n",
      "running Leiden clustering\n",
      "    finished (0:00:00)\n"
     ]
    }
   ],
   "source": [
    "leiden24h = []\n",
    "for r1 in np.arange(len(hua24.keys()))+1:\n",
    "    leiden_temp = get_leiden(hua24['rep{}'.format(r1)], unimportant_genes=cc_hk_genes)\n",
    "    leiden24h = leiden24h + [leiden_temp]"
   ]
  },
  {
   "cell_type": "markdown",
   "metadata": {},
   "source": [
    "### 24 hpf emi"
   ]
  },
  {
   "cell_type": "code",
   "execution_count": 26,
   "metadata": {
    "scrolled": true
   },
   "outputs": [
    {
     "name": "stdout",
     "output_type": "stream",
     "text": [
      "normalizing by total count per cell\n",
      "    finished (0:00:00): normalized adata.X and added    'n_counts', counts per cell before normalization (adata.obs)\n",
      "filtered out 9688 genes that are detected in less than 3 cells\n",
      "extracting highly variable genes\n",
      "    finished (0:00:00)\n"
     ]
    },
    {
     "name": "stderr",
     "output_type": "stream",
     "text": [
      "/Users/kalki/Dropbox (HMS)/PhD_lab/SPRING_dev/data_prep/helper_functions_py3.py:969: RuntimeWarning: invalid value encountered in divide\n",
      "  corr_coeff = corr_num/corr_denom\n"
     ]
    },
    {
     "name": "stdout",
     "output_type": "stream",
     "text": [
      "first iteration of finding unimportant genes done\n",
      "second iteration of finding unimportant genes done\n",
      "... as `zero_center=True`, sparse input is densified and may lead to large memory consumption\n",
      "computing PCA\n",
      "    with n_comps=50\n"
     ]
    },
    {
     "name": "stderr",
     "output_type": "stream",
     "text": [
      "/Users/kalki/opt/miniconda3/envs/cellcycle/lib/python3.10/site-packages/scanpy/preprocessing/_simple.py:843: UserWarning: Received a view of an AnnData. Making a copy.\n",
      "  view_to_actual(adata)\n"
     ]
    },
    {
     "name": "stdout",
     "output_type": "stream",
     "text": [
      "    finished (0:00:00)\n",
      "computing neighbors\n",
      "    finished (0:00:00)\n",
      "running Leiden clustering\n",
      "    finished (0:00:00)\n",
      "normalizing by total count per cell\n",
      "    finished (0:00:00): normalized adata.X and added    'n_counts', counts per cell before normalization (adata.obs)\n",
      "filtered out 7262 genes that are detected in less than 3 cells\n",
      "extracting highly variable genes\n",
      "    finished (0:00:00)\n",
      "first iteration of finding unimportant genes done\n",
      "second iteration of finding unimportant genes done\n",
      "... as `zero_center=True`, sparse input is densified and may lead to large memory consumption\n",
      "computing PCA\n",
      "    with n_comps=50\n"
     ]
    },
    {
     "name": "stderr",
     "output_type": "stream",
     "text": [
      "/Users/kalki/opt/miniconda3/envs/cellcycle/lib/python3.10/site-packages/scanpy/preprocessing/_simple.py:843: UserWarning: Received a view of an AnnData. Making a copy.\n",
      "  view_to_actual(adata)\n"
     ]
    },
    {
     "name": "stdout",
     "output_type": "stream",
     "text": [
      "    finished (0:00:00)\n",
      "computing neighbors\n",
      "    finished (0:00:00)\n",
      "running Leiden clustering\n",
      "    finished (0:00:00)\n",
      "normalizing by total count per cell\n",
      "    finished (0:00:00): normalized adata.X and added    'n_counts', counts per cell before normalization (adata.obs)\n",
      "filtered out 4102 genes that are detected in less than 3 cells\n",
      "extracting highly variable genes\n",
      "    finished (0:00:00)\n"
     ]
    },
    {
     "name": "stderr",
     "output_type": "stream",
     "text": [
      "/Users/kalki/Dropbox (HMS)/PhD_lab/SPRING_dev/data_prep/helper_functions_py3.py:969: RuntimeWarning: invalid value encountered in divide\n",
      "  corr_coeff = corr_num/corr_denom\n"
     ]
    },
    {
     "name": "stdout",
     "output_type": "stream",
     "text": [
      "first iteration of finding unimportant genes done\n",
      "second iteration of finding unimportant genes done\n",
      "... as `zero_center=True`, sparse input is densified and may lead to large memory consumption\n",
      "computing PCA\n",
      "    with n_comps=50\n"
     ]
    },
    {
     "name": "stderr",
     "output_type": "stream",
     "text": [
      "/Users/kalki/opt/miniconda3/envs/cellcycle/lib/python3.10/site-packages/scanpy/preprocessing/_simple.py:843: UserWarning: Received a view of an AnnData. Making a copy.\n",
      "  view_to_actual(adata)\n"
     ]
    },
    {
     "name": "stdout",
     "output_type": "stream",
     "text": [
      "    finished (0:00:01)\n",
      "computing neighbors\n",
      "    finished (0:00:00)\n",
      "running Leiden clustering\n",
      "    finished (0:00:00)\n"
     ]
    }
   ],
   "source": [
    "leiden24e = []\n",
    "for r1 in np.arange(len(emi24.keys()))+1:\n",
    "    leiden_temp = get_leiden(emi24['rep{}'.format(r1)], unimportant_genes=cc_hk_genes)\n",
    "    leiden24e = leiden24e + [leiden_temp]"
   ]
  },
  {
   "cell_type": "markdown",
   "metadata": {},
   "source": [
    "### Plot data"
   ]
  },
  {
   "cell_type": "code",
   "execution_count": null,
   "metadata": {},
   "outputs": [],
   "source": [
    "from scipy import stats\n",
    "\n"
   ]
  },
  {
   "cell_type": "code",
   "execution_count": null,
   "metadata": {},
   "outputs": [],
   "source": [
    "leiden_replicate_means_ctrl = np.array([np.array(leiden6c).mean(),np.array(leiden8c).mean(),\n",
    "                                    np.array(leiden10c).mean(),np.array(leiden14c).mean(),\n",
    "                                    np.array(leiden18c).mean(),np.array(leiden21c).mean(),\n",
    "                                    np.array(leiden24c).mean()])\n",
    "\n",
    "\n",
    "leiden_replicate_sem_ctrl = np.array([stats.sem(leiden6c), stats.sem(leiden8c), stats.sem(leiden10c),\n",
    "                                  stats.sem(leiden14c), stats.sem(leiden18c), stats.sem(leiden21c),\n",
    "                                  stats.sem(leiden24c)])\n",
    "\n",
    "\n",
    "leiden_replicate_means_ctrl2 = np.array([np.array(leiden6c).mean(),np.array(leiden8c).mean(),\n",
    "                                    np.array(leiden10c).mean(),np.array(leiden14c).mean(),\n",
    "                                          np.array(leiden24c).mean()])\n",
    "\n",
    "\n",
    "leiden_replicate_sem_ctrl2 = np.array([stats.sem(leiden6c), stats.sem(leiden8c), stats.sem(leiden10c),\n",
    "                                  stats.sem(leiden14c),stats.sem(leiden24c)])\n",
    "\n",
    "\n"
   ]
  },
  {
   "cell_type": "code",
   "execution_count": null,
   "metadata": {},
   "outputs": [],
   "source": [
    "leiden_replicate_means_perturbed = np.array([np.array(leiden8p).mean(),np.array(leiden10p).mean(),\n",
    "                                              np.array(leiden14p).mean(),np.array(leiden24e).mean(),\n",
    "                                              np.array(leiden24h).mean()])\n",
    "\n",
    "leiden_replicate_sem_perturbed = np.array([stats.sem(leiden8p), stats.sem(leiden10p),\n",
    "                                            stats.sem(leiden14p),stats.sem(leiden24e),stats.sem(leiden24h)])\n",
    "\n",
    "\n",
    "\n"
   ]
  },
  {
   "cell_type": "code",
   "execution_count": null,
   "metadata": {},
   "outputs": [],
   "source": [
    "sample_names_ctrl = np.array(['6', '8', '10', '14', '18', '21', '24'])\n",
    "sample_names_ctrl2 = np.array(['6', '8', '10', '14', '24'])\n",
    "\n",
    "sample_names_perturbed = np.array(['8', '10', '14', '24'])"
   ]
  },
  {
   "cell_type": "code",
   "execution_count": null,
   "metadata": {},
   "outputs": [],
   "source": [
    "#ctrl_color = 'lightgrey'\n",
    "emi_color = '#00cdcd'\n",
    "hua_color = '#e78ac3'\n",
    "ctrl_color = '#A9A9A9'   #'#B8B8B8'"
   ]
  },
  {
   "cell_type": "code",
   "execution_count": 34,
   "metadata": {},
   "outputs": [
    {
     "data": {
      "image/png": "[encoded data removed]",
      "text/plain": [
       "<Figure size 450x450 with 1 Axes>"
      ]
     },
     "metadata": {
      "image/png": {
       "height": 414,
       "width": 428
      }
     },
     "output_type": "display_data"
    }
   ],
   "source": [
    "\n",
    "pl.figure(figsize = (3,3))\n",
    "x_ctrl = np.arange(sample_names_ctrl.shape[0])\n",
    "x_ctrl2 = np.arange(sample_names_ctrl2.shape[0])\n",
    "\n",
    "pl.errorbar(x_ctrl, leiden_replicate_means_ctrl, yerr=leiden_replicate_sem_ctrl,\n",
    "            ls = 'none', elinewidth=0.5,capsize=2,ecolor='grey',fmt = 'none',capthick = 0.5 )\n",
    "    \n",
    "pl.scatter(x_ctrl, leiden_replicate_means_ctrl, c= ctrl_color, s = 65)\n",
    "pl.plot(x_ctrl, leiden_replicate_means_ctrl, c= ctrl_color, linewidth = 1, ls='--' , alpha = 0.7)\n",
    "\n",
    "\n",
    "x_perturbed = np.array([1.15,2.15,3.15,6.3,6.15])\n",
    "pl.errorbar(x_perturbed, leiden_replicate_means_perturbed, yerr=leiden_replicate_sem_perturbed,\n",
    "            ls = 'none', elinewidth=0.5,capsize=2,ecolor='grey',fmt = 'none',capthick = 0.5)\n",
    "\n",
    "pl.scatter(x_perturbed, leiden_replicate_means_perturbed, color = [hua_color,hua_color,hua_color,\n",
    "                                                                   emi_color,hua_color], s = 65, zorder = 10)\n",
    "\n",
    "\n",
    "\n",
    "bla = pl.xticks(x_ctrl, labels = sample_names_ctrl, fontname = 'Helvetica')\n",
    "bla = pl.yticks(fontname = 'Helvetica')\n",
    "\n",
    "#pl.plot(x_line, y_line, color = 'lightgrey', linewidth = 1)\n",
    "\n",
    "pl.grid(False)\n",
    "#pl.ylabel('number of leiden clusters')\n",
    "#pl.xlabel('samples')\n",
    "pl.ylim(10,45)\n",
    "sn.despine()\n",
    "pl.savefig('../../../figures/final_figures/22-01-05_number_of_leiden_clusters_across_time.pdf',\n",
    "           bbox_inches=\"tight\", dpi = 300)\n"
   ]
  }
 ],
 "metadata": {
  "kernelspec": {
   "display_name": "Python 3 (ipykernel)",
   "language": "python",
   "name": "python3"
  },
  "language_info": {
   "codemirror_mode": {
    "name": "ipython",
    "version": 3
   },
   "file_extension": ".py",
   "mimetype": "text/x-python",
   "name": "python",
   "nbconvert_exporter": "python",
   "pygments_lexer": "ipython3",
   "version": "3.10.8"
  },
  "toc-autonumbering": false
 },
 "nbformat": 4,
 "nbformat_minor": 4
}
