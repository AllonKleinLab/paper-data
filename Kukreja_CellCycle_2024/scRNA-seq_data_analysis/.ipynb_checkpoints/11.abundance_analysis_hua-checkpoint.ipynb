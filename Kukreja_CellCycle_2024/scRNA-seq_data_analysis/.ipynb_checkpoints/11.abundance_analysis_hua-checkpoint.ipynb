{
 "cells": [
  {
   "cell_type": "markdown",
   "metadata": {
    "tags": []
   },
   "source": [
    "# Set up and load data"
   ]
  },
  {
   "cell_type": "code",
   "execution_count": 1,
   "metadata": {},
   "outputs": [],
   "source": [
    "import numpy as np, pandas as pd, matplotlib.pyplot as pl, scipy.sparse as ssp\n",
    "import scanpy as sc,scanpy.external as sce\n",
    "import os\n",
    "import sys\n",
    "sys.path.append('/Users/kalki/Dropbox (HMS)/PhD_lab/SPRING_dev/data_prep/')\n",
    "import helper_functions_py3 as hf\n",
    "\n",
    "sc.settings.verbosity = 2  # verbosity: errors (0), warnings (1), info (2), hints (3)\n",
    "sc.settings.set_figure_params(dpi=100)  # low dpi (dots per inch) yields small inline figures\n",
    "\n",
    "\n",
    "import statsmodels.formula.api as smf \n",
    "import statsmodels.api as sm"
   ]
  },
  {
   "cell_type": "code",
   "execution_count": 2,
   "metadata": {},
   "outputs": [],
   "source": [
    "# load data:\n",
    "\n",
    "# entired data of 6 hour to 24 hour perturbation:\n",
    "\n",
    "adata24_all = sc.read_h5ad('../../../../6.Indrops7/data/anndata_objects/adata24_perturbations_pr.h5ad')\n"
   ]
  },
  {
   "cell_type": "code",
   "execution_count": 3,
   "metadata": {},
   "outputs": [],
   "source": [
    "# find state sizes:\n",
    "\n",
    "# control:\n",
    "adata24C_all = adata24_all[adata24_all.obs.treatment == 'control']\n",
    "\n",
    "# calculate cell sizes\n",
    "from collections import Counter\n",
    "\n",
    "state_size = (pd.Series(Counter(adata24C_all.obs.cell_states)))\n",
    "state_size = state_size.sort_index()\n",
    "state_list = np.array(state_size.index)"
   ]
  },
  {
   "cell_type": "code",
   "execution_count": 4,
   "metadata": {},
   "outputs": [],
   "source": [
    "\n",
    "# subset first 5 replicates (non-emi data):\n",
    "mask_emi = np.array(adata24_all.obs.replicate == '6')+np.array(adata24_all.obs.replicate == '7')+np.array(adata24_all.obs.replicate == '8')\n",
    "adata24 = adata24_all[(1- mask_emi).astype(bool)].copy()\n"
   ]
  },
  {
   "cell_type": "markdown",
   "metadata": {},
   "source": [
    "# Abundance analysis"
   ]
  },
  {
   "cell_type": "markdown",
   "metadata": {},
   "source": [
    "## Calculations to get abundances and errors etc"
   ]
  },
  {
   "cell_type": "code",
   "execution_count": 5,
   "metadata": {},
   "outputs": [],
   "source": [
    "# subset data to control and perturbed datasets\n",
    "adata24C = adata24[adata24.obs.treatment == 'control']\n",
    "adata24P = adata24[adata24.obs.treatment == 'hua']\n",
    "\n",
    "# subset obs by replciates\n",
    "rep1c_obs = adata24C.obs.loc[adata24C.obs['replicate'] == '1'] # control replicate 1\n",
    "rep2c_obs = adata24C.obs.loc[adata24C.obs['replicate'] == '2'] # control replicate 2\n",
    "rep3c_obs = adata24C.obs.loc[adata24C.obs['replicate'] == '3'] # control replicate 3\n",
    "rep4c_obs = adata24C.obs.loc[adata24C.obs['replicate'] == '4'] # control replicate 3\n",
    "rep5c_obs = adata24C.obs.loc[adata24C.obs['replicate'] == '5'] # control replicate 3\n",
    "\n",
    "rep1p_obs = adata24P.obs.loc[adata24P.obs['replicate'] == '1'] # perturbed replicate 1 \n",
    "rep2p_obs = adata24P.obs.loc[adata24P.obs['replicate'] == '2'] # perturbed replicate 2\n",
    "rep3p_obs = adata24P.obs.loc[adata24P.obs['replicate'] == '3'] # perturbed replicate 3\n",
    "rep4p_obs = adata24P.obs.loc[adata24P.obs['replicate'] == '4'] # perturbed replicate 4\n",
    "rep5p_obs = adata24P.obs.loc[adata24P.obs['replicate'] == '5'] # perturbed replicate 5\n",
    "\n"
   ]
  },
  {
   "cell_type": "markdown",
   "metadata": {},
   "source": [
    "### abundance ratios"
   ]
  },
  {
   "cell_type": "code",
   "execution_count": 6,
   "metadata": {},
   "outputs": [],
   "source": [
    "# write function to find abundances (percent)\n",
    "\n",
    "# state abundances = states size/total no. of cells \n",
    "\n",
    "def abundance_ratio(control_obs, perturbed_obs, category_list, category):\n",
    "    '''\n",
    "    input: \n",
    "    control_obs     : the \"obs\" of anndata (or dataframe) with control data\n",
    "    perturbed_obs   : the \"obs\" of anndata with perturbation data\n",
    "    category_list   : list of all cell states or whatever category for which abundances need to be calculate.\n",
    "                      I use this so that if there is some sample that doesn't have any cell in a particular state,\n",
    "                      I still have that state name in the dataframe but with the abundance = 0\n",
    "    category        : this is the column name of the obs for which the abundances are being calculated. for example, \n",
    "                      it could be the 'cell state' or 'louvain' etc. whatever label you use\n",
    "    -----------------\n",
    "    returns:\n",
    "    abundances_states: it is a dataframe with abundances of control, perturbed, and their fold change\n",
    "    '''\n",
    "    from collections import Counter\n",
    "    \n",
    "    p_abundances = {}\n",
    "    c_abundances = {}\n",
    "    abundance_ratio = {}\n",
    "    \n",
    "    for k in category_list:\n",
    "        if k in set(control_obs[category]):\n",
    "            c_abundances[k] = Counter(control_obs[category])[k]\n",
    "        else:\n",
    "            c_abundances[k] = 0\n",
    "    \n",
    "        if k in set(perturbed_obs[category]):\n",
    "            p_abundances[k] = Counter(perturbed_obs[category])[k]\n",
    "        else:\n",
    "            p_abundances[k] = 0\n",
    "    \n",
    "    # if state present in both control and perturbed, calculate fold change:\n",
    "        abundance_ratio[k] = (p_abundances[k]/perturbed_obs.shape[0] + 0.001)/(c_abundances[k]/control_obs.shape[0] + 0.001)\n",
    "\n",
    "    # now make dataframe of percentage abundances:\n",
    "                        \n",
    "    p_abundances = {k:p_abundances[k] for k in sorted(p_abundances.keys())} # abundances of perturbed data\n",
    "    c_abundances = {k:c_abundances[k] for k in sorted(c_abundances.keys())} # abundances of control data\n",
    "    abundance_ratio = {k:abundance_ratio[k] for k in sorted(abundance_ratio.keys())} \n",
    "    \n",
    "    abundances_states = pd.concat(( pd.Series(c_abundances, name='control')/sum(pd.Series(c_abundances, name='control')),\n",
    "                                    pd.Series(p_abundances, name='hua')/sum(pd.Series(p_abundances, name='hua')),\n",
    "                                    pd.Series(abundance_ratio, name = 'fc') ) ,\n",
    "                                 axis = 1, sort = True)\n",
    "        \n",
    "        \n",
    "    \n",
    "    return abundances_states\n"
   ]
  },
  {
   "cell_type": "code",
   "execution_count": 7,
   "metadata": {},
   "outputs": [],
   "source": [
    "# abundances and abundance ratios for all states and different replicates:\n",
    "\n",
    "# state abundances = states size/total no. of cells in a state\n",
    "\n",
    "# all states:\n",
    "abundances_all = abundance_ratio(adata24C.obs, adata24P.obs,state_list, category = 'cell_states')\n",
    "\n",
    "# rep1:\n",
    "abundances_rep1 = abundance_ratio(rep1c_obs,rep1p_obs,state_list, category = 'cell_states')\n",
    "\n",
    "# rep2:\n",
    "abundances_rep2 = abundance_ratio(rep2c_obs,rep2p_obs,state_list, category = 'cell_states')\n",
    "\n",
    "# rep3:\n",
    "abundances_rep3 = abundance_ratio(rep3c_obs,rep3p_obs,state_list, category = 'cell_states')\n",
    "\n",
    "# rep4:\n",
    "abundances_rep4 = abundance_ratio(rep4c_obs,rep4p_obs,state_list, category = 'cell_states')\n",
    "\n",
    "# rep5:\n",
    "abundances_rep5 = abundance_ratio(rep5c_obs,rep5p_obs,state_list, category = 'cell_states')\n"
   ]
  },
  {
   "cell_type": "code",
   "execution_count": 8,
   "metadata": {},
   "outputs": [],
   "source": [
    "# put all replicatess in one data frame for calcultion of sem:\n",
    "\n",
    "# state abundances = states size/total no. of cells in a state\n",
    "\n",
    "# control replicates:\n",
    "abundances_repsC = pd.DataFrame({'rep1':abundances_rep1['control'],\n",
    "                                  'rep2':abundances_rep2['control'],\n",
    "                                  'rep3':abundances_rep3['control'],\n",
    "                                  'rep4':abundances_rep4['control'],\n",
    "                                  'rep5':abundances_rep5['control'] })\n",
    "\n",
    "# perturbed replicates:\n",
    "abundances_repsP = pd.DataFrame({'rep1':abundances_rep1['hua'],\n",
    "                                  'rep2':abundances_rep2['hua'],\n",
    "                                  'rep3':abundances_rep3['hua'],\n",
    "                                  'rep4':abundances_rep4['hua'],\n",
    "                                  'rep5':abundances_rep5['hua'] })\n",
    "                                    \n",
    "                                    "
   ]
  },
  {
   "cell_type": "markdown",
   "metadata": {},
   "source": [
    "### Get raw abundances for pvalue code"
   ]
  },
  {
   "cell_type": "code",
   "execution_count": 9,
   "metadata": {},
   "outputs": [],
   "source": [
    "# write function to find abundances (percent)\n",
    "\n",
    "# state abundances = states size/total no. of cells \n",
    "\n",
    "def raw_abundances(data_obs, category_list, category):\n",
    "    from collections import Counter\n",
    "    \n",
    "    data_abundances = {}\n",
    "    \n",
    "    for k in category_list:\n",
    "        if k in set(data_obs[category]):\n",
    "            data_abundances[k] = Counter(data_obs[category])[k]\n",
    "        else:\n",
    "            data_abundances[k] = 0\n",
    "        \n",
    "    return data_abundances\n"
   ]
  },
  {
   "cell_type": "code",
   "execution_count": 10,
   "metadata": {},
   "outputs": [],
   "source": [
    "raw_rep1c = raw_abundances(rep1c_obs, state_list, category = 'cell_states')\n",
    "raw_rep2c = raw_abundances(rep2c_obs, state_list, category = 'cell_states')\n",
    "raw_rep3c = raw_abundances(rep3c_obs, state_list, category = 'cell_states')\n",
    "raw_rep4c = raw_abundances(rep4c_obs, state_list, category = 'cell_states')\n",
    "raw_rep5c = raw_abundances(rep5c_obs, state_list, category = 'cell_states')\n",
    "\n",
    "raw_rep1p = raw_abundances(rep1p_obs, state_list, category = 'cell_states')\n",
    "raw_rep2p = raw_abundances(rep2p_obs, state_list, category = 'cell_states')\n",
    "raw_rep3p = raw_abundances(rep3p_obs, state_list, category = 'cell_states')\n",
    "raw_rep4p = raw_abundances(rep4p_obs, state_list, category = 'cell_states')\n",
    "raw_rep5p = raw_abundances(rep5p_obs, state_list, category = 'cell_states')\n",
    "\n",
    "# control replicates:\n",
    "abundances_raw_repsC = pd.DataFrame({'rep1':raw_rep1c,\n",
    "                                  'rep2':raw_rep2c,\n",
    "                                  'rep3':raw_rep3c,\n",
    "                                  'rep4':raw_rep4c,\n",
    "                                  'rep5':raw_rep5c})\n",
    "\n",
    "# perturbed replicates:\n",
    "abundances_raw_repsP = pd.DataFrame({'rep1':raw_rep1p,\n",
    "                                  'rep2':raw_rep2p,\n",
    "                                  'rep3':raw_rep3p,\n",
    "                                  'rep4':raw_rep4p,\n",
    "                                  'rep5':raw_rep5p })\n",
    "                                    \n",
    "abundances_raw_repsC=abundances_raw_repsC.sort_index()\n",
    "abundances_raw_repsP=abundances_raw_repsP.sort_index()"
   ]
  },
  {
   "cell_type": "code",
   "execution_count": 11,
   "metadata": {},
   "outputs": [
    {
     "data": {
      "text/html": [
       "<div>\n",
       "<style scoped>\n",
       "    .dataframe tbody tr th:only-of-type {\n",
       "        vertical-align: middle;\n",
       "    }\n",
       "\n",
       "    .dataframe tbody tr th {\n",
       "        vertical-align: top;\n",
       "    }\n",
       "\n",
       "    .dataframe thead th {\n",
       "        text-align: right;\n",
       "    }\n",
       "</style>\n",
       "<table border=\"1\" class=\"dataframe\">\n",
       "  <thead>\n",
       "    <tr style=\"text-align: right;\">\n",
       "      <th></th>\n",
       "      <th>rep1</th>\n",
       "      <th>rep2</th>\n",
       "      <th>rep3</th>\n",
       "      <th>rep4</th>\n",
       "      <th>rep5</th>\n",
       "    </tr>\n",
       "  </thead>\n",
       "  <tbody>\n",
       "    <tr>\n",
       "      <th>Cardiac muscle 1</th>\n",
       "      <td>0.013626</td>\n",
       "      <td>0.016736</td>\n",
       "      <td>0.014930</td>\n",
       "      <td>0.014874</td>\n",
       "      <td>0.023566</td>\n",
       "    </tr>\n",
       "    <tr>\n",
       "      <th>Cardiac muscle 2</th>\n",
       "      <td>0.000568</td>\n",
       "      <td>0.000787</td>\n",
       "      <td>0.001422</td>\n",
       "      <td>0.001017</td>\n",
       "      <td>0.000000</td>\n",
       "    </tr>\n",
       "    <tr>\n",
       "      <th>Differentiating neurons</th>\n",
       "      <td>0.061319</td>\n",
       "      <td>0.094049</td>\n",
       "      <td>0.078814</td>\n",
       "      <td>0.085558</td>\n",
       "      <td>0.066771</td>\n",
       "    </tr>\n",
       "    <tr>\n",
       "      <th>Endodermal lining</th>\n",
       "      <td>0.005678</td>\n",
       "      <td>0.008726</td>\n",
       "      <td>0.008735</td>\n",
       "      <td>0.008136</td>\n",
       "      <td>0.007463</td>\n",
       "    </tr>\n",
       "    <tr>\n",
       "      <th>Endodermal: pancreatic</th>\n",
       "      <td>0.000487</td>\n",
       "      <td>0.001502</td>\n",
       "      <td>0.001117</td>\n",
       "      <td>0.001017</td>\n",
       "      <td>0.001178</td>\n",
       "    </tr>\n",
       "  </tbody>\n",
       "</table>\n",
       "</div>"
      ],
      "text/plain": [
       "                             rep1      rep2      rep3      rep4      rep5\n",
       "Cardiac muscle 1         0.013626  0.016736  0.014930  0.014874  0.023566\n",
       "Cardiac muscle 2         0.000568  0.000787  0.001422  0.001017  0.000000\n",
       "Differentiating neurons  0.061319  0.094049  0.078814  0.085558  0.066771\n",
       "Endodermal lining        0.005678  0.008726  0.008735  0.008136  0.007463\n",
       "Endodermal: pancreatic   0.000487  0.001502  0.001117  0.001017  0.001178"
      ]
     },
     "execution_count": 11,
     "metadata": {},
     "output_type": "execute_result"
    }
   ],
   "source": [
    "abundances_repsC.head()"
   ]
  },
  {
   "cell_type": "code",
   "execution_count": 12,
   "metadata": {},
   "outputs": [],
   "source": [
    "abundances_raw_repsC.to_csv('../../../data/abundance_data/abundances_hua_ctrl_v3p2.csv', sep = ',')\n",
    "abundances_raw_repsP.to_csv('../../../data/abundance_data/abundances_hua_perturbed_v3p2.csv', sep = ',')"
   ]
  },
  {
   "cell_type": "markdown",
   "metadata": {},
   "source": [
    "### load p values (beta binomial)"
   ]
  },
  {
   "cell_type": "code",
   "execution_count": 1,
   "metadata": {
    "collapsed": true,
    "jupyter": {
     "outputs_hidden": true
    },
    "tags": []
   },
   "outputs": [
    {
     "ename": "NameError",
     "evalue": "name 'pd' is not defined",
     "output_type": "error",
     "traceback": [
      "\u001b[0;31m---------------------------------------------------------------------------\u001b[0m",
      "\u001b[0;31mNameError\u001b[0m                                 Traceback (most recent call last)",
      "Cell \u001b[0;32mIn[1], line 3\u001b[0m\n\u001b[1;32m      1\u001b[0m \u001b[38;5;66;03m# p-values from beta binomial test - see notebooks 13.beta_binomial_test_abundance_hua.ipynb and 12.R_ibb_script_hua.txt to get p-values\u001b[39;00m\n\u001b[0;32m----> 3\u001b[0m pvals_bb \u001b[38;5;241m=\u001b[39m \u001b[43mpd\u001b[49m\u001b[38;5;241m.\u001b[39mread_csv(\u001b[38;5;124m'\u001b[39m\u001b[38;5;124m../../../data/abundance_data/23-01-15_ibb_pvals_hua_states_v3p2.csv\u001b[39m\u001b[38;5;124m'\u001b[39m, index_col \u001b[38;5;241m=\u001b[39m \u001b[38;5;241m0\u001b[39m)\n",
      "\u001b[0;31mNameError\u001b[0m: name 'pd' is not defined"
     ]
    }
   ],
   "source": [
    "# p-values from beta binomial test\n",
    "# see notebooks 12.beta_binomial_test_abundance_hua.ipynb and 13.R_ibb_script_hua.txt to get p-values\n",
    "\n",
    "pvals_bb = pd.read_csv('../../../data/abundance_data/23-01-15_ibb_pvals_hua_states_v3p2.csv', index_col = 0)\n"
   ]
  },
  {
   "cell_type": "markdown",
   "metadata": {},
   "source": [
    "### calculate SEM"
   ]
  },
  {
   "cell_type": "code",
   "execution_count": 16,
   "metadata": {},
   "outputs": [],
   "source": [
    "# standard error of mean for state abundances:\n",
    "\n",
    "from scipy import stats\n",
    "\n",
    "# control:\n",
    "sem_c = stats.sem(abundances_repsC.T)\n",
    "\n",
    "# perturbed:\n",
    "sem_p = stats.sem(abundances_repsP.T)\n",
    "\n",
    "fc_avg = abundances_all['fc']\n",
    "c_avg = abundances_all['control']\n",
    "p_avg = abundances_all['hua']\n",
    "\n",
    "# sem perturbed/control (error propagation):\n",
    "sem_fc = fc_avg*(np.sqrt( (sem_c/c_avg)**2 + (sem_p/p_avg)**2 ))"
   ]
  },
  {
   "cell_type": "markdown",
   "metadata": {},
   "source": [
    "## Plot abundances"
   ]
  },
  {
   "cell_type": "markdown",
   "metadata": {},
   "source": [
    "### Fold change v. state size"
   ]
  },
  {
   "cell_type": "code",
   "execution_count": 21,
   "metadata": {},
   "outputs": [],
   "source": [
    "# make color array to color significant changes with red and rest of the points with grey\n",
    "\n",
    "sig_colors = np.zeros(len(abundances_all.index), dtype = object)\n",
    "sigmask1=pvals_bb['ibb_p_corr']<0.05# bonferroni correction\n",
    "\n",
    "for i,states in enumerate(abundances_all.index):\n",
    "    if states in (pvals_bb[sigmask1]).index:\n",
    "        sig_colors[i] = 'red'\n",
    "\n",
    "    else:  sig_colors[i] = 'lightgrey'\n",
    "        "
   ]
  },
  {
   "cell_type": "code",
   "execution_count": 23,
   "metadata": {},
   "outputs": [
    {
     "name": "stderr",
     "output_type": "stream",
     "text": [
      "/var/folders/jd/x961ps155v79krncxn3p4nhm0000gq/T/ipykernel_38923/3873959.py:18: UserWarning: No data for colormapping provided via 'c'. Parameters 'vmax' will be ignored\n",
      "  pl.scatter(np.log10(state_size)[o], np.log2(fc_avg)[o], c = sig_colors[o],\n",
      "1 extra bytes in post.stringData array\n",
      "'created' timestamp seems very low; regarding as unix timestamp\n",
      "Zapf NOT subset; don't know how to subset; dropped\n",
      "feat NOT subset; don't know how to subset; dropped\n",
      "meta NOT subset; don't know how to subset; dropped\n",
      "morx NOT subset; don't know how to subset; dropped\n"
     ]
    },
    {
     "data": {
      "image/png": "[encoded data removed]",
      "text/plain": [
       "<Figure size 250x200 with 1 Axes>"
      ]
     },
     "metadata": {
      "image/png": {
       "height": 199,
       "width": 240
      }
     },
     "output_type": "display_data"
    }
   ],
   "source": [
    "# state size per 50k cells (since 24hpf embryos has approx 50k cells):\n",
    "state_size = 50000*state_size/state_size.sum()\n",
    "\n",
    "# plot abundance ratios vs cluster size:\n",
    "pl.rcParams['pdf.fonttype'] = 42\n",
    "import math\n",
    "\n",
    "o = np.argsort(-np.array(pvals_bb['ibb_p'])) # sort points by significance so the red points are on the top\n",
    "                                                     # and not hidden by grey points\n",
    "\n",
    "# error propagation with logs for sem:\n",
    "f=pl.figure(figsize = (2.5,2))\n",
    "pl.axhline(linewidth=0.5, color='grey')\n",
    "pl.errorbar(x=np.log10(state_size)[o], y=np.log2(fc_avg)[o], yerr=(sem_fc/(fc_avg*math.log(2)))[o],\n",
    "            ls= 'none',elinewidth=0.5,capsize = 2,\n",
    "            ecolor='grey', fmt = 'none',capthick = 0.5, color = None)\n",
    "\n",
    "pl.scatter(np.log10(state_size)[o], np.log2(fc_avg)[o], c = sig_colors[o],\n",
    "            s=20, vmax=3)\n",
    "\n",
    "\n",
    "pl.ylabel('log2(abundance ratio)')\n",
    "pl.xlabel('log10(size of the cluster)')\n",
    "\n",
    "pl.xlabel(None)\n",
    "pl.ylabel(None)\n",
    "pl.grid(False)\n",
    "#pl.box(False)\n",
    "import seaborn as sn\n",
    "sn.despine()\n",
    "pl.yticks([-4,-2,0,2,4],fontsize=10, fontname = 'Helvetica')\n",
    "pl.xticks([1,2,3,4],fontsize=10 , fontname = 'Helvetica')\n",
    "#pl.ylim((-3,3))\n",
    "\n",
    "f.savefig(\"../../../figures/23-01-15_abundance_ratios_24hua.pdf\", bbox_inches='tight', dpi = 300)\n"
   ]
  },
  {
   "cell_type": "code",
   "execution_count": 27,
   "metadata": {},
   "outputs": [],
   "source": [
    "# save fold change and sem values:\n",
    "\n",
    "fc_avg.to_csv('../../../data/abundance_data/23-01-15_abundance_fc_hua_states_v3p2.csv', sep = ',')\n",
    "(sem_fc/(fc_avg*math.log(2))).to_csv('../../../data/abundance_data/23-01-15_abundance_sem_hua_states_v3p2.csv', sep = ',')"
   ]
  }
 ],
 "metadata": {
  "kernelspec": {
   "display_name": "Python 3 (ipykernel)",
   "language": "python",
   "name": "python3"
  },
  "language_info": {
   "codemirror_mode": {
    "name": "ipython",
    "version": 3
   },
   "file_extension": ".py",
   "mimetype": "text/x-python",
   "name": "python",
   "nbconvert_exporter": "python",
   "pygments_lexer": "ipython3",
   "version": "3.10.8"
  }
 },
 "nbformat": 4,
 "nbformat_minor": 4
}
