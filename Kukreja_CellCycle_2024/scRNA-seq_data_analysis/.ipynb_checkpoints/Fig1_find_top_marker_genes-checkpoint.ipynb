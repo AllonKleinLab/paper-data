{
 "cells": [
  {
   "cell_type": "markdown",
   "metadata": {},
   "source": [
    "# Set up"
   ]
  },
  {
   "cell_type": "code",
   "execution_count": 1,
   "metadata": {},
   "outputs": [],
   "source": [
    "import numpy as np\n",
    "import pandas as pd\n",
    "import matplotlib.pyplot as pl\n",
    "import scanpy as sc\n",
    "import scanpy.external as sce\n",
    "import os\n",
    "import scipy.sparse as ssp\n",
    "import sys\n",
    "import pickle\n",
    "from collections import Counter\n",
    "\n",
    "# !!!!\n",
    "# Change this path to point to folder containing helper_functions.py\n",
    "sys.path.append('/Users/kalki/Dropbox (HMS)/PhD_lab/SPRING_dev/data_prep/')\n",
    "import helper_functions_py3 as hf\n",
    "\n",
    "sc.settings.verbosity = 2  # verbosity: errors (0), warnings (1), info (2), hints (3)\n",
    "sc.settings.set_figure_params(dpi=150)  # low dpi (dots per inch) yields small inline figures"
   ]
  },
  {
   "cell_type": "markdown",
   "metadata": {},
   "source": [
    "# Load data"
   ]
  },
  {
   "cell_type": "code",
   "execution_count": 2,
   "metadata": {
    "tags": []
   },
   "outputs": [],
   "source": [
    "# load 24 perturbation data:\n",
    "\n",
    "adata = sc.read_h5ad('../../../data/anndata_objects/adata24_perturbations.h5ad')\n"
   ]
  },
  {
   "cell_type": "code",
   "execution_count": 3,
   "metadata": {},
   "outputs": [],
   "source": [
    "adata6 =  sc.read_h5ad('../../../../4.Indrops5/data/anndata_objects/adata6_raw.h5ad')\n",
    "adata8 =  sc.read_h5ad('../../../../4.Indrops5/data/anndata_objects/adata8_raw.h5ad')\n",
    "adata10 =  sc.read_h5ad('../../../../4.Indrops5/data/anndata_objects/adata10_raw.h5ad')\n",
    "adata14 = sc.read_h5ad('../../../../4.Indrops5/data/anndata_objects/adata14_raw.h5ad')\n",
    "adata18 = sc.read_h5ad('../../../../3.Indrops4/data/anndata_objects/adata18_raw.h5ad')\n",
    "adata21 = sc.read_h5ad('../../../../3.Indrops4/data/anndata_objects/adata21_raw.h5ad')\n",
    "\n",
    "adata8c = adata8[adata8.obs.treatment == 'control'].copy()\n",
    "adata10c = adata10[adata10.obs.treatment == 'control'].copy()\n",
    "adata14c = adata14[adata14.obs.treatment == 'control'].copy()\n",
    "adata18c = adata18[adata18.obs.treatment == 'control'].copy()\n",
    "adata21c = adata21[adata21.obs.treatment == 'control'].copy()"
   ]
  },
  {
   "cell_type": "code",
   "execution_count": 4,
   "metadata": {},
   "outputs": [
    {
     "name": "stdout",
     "output_type": "stream",
     "text": [
      "normalizing by total count per cell\n",
      "    finished (0:00:01): normalized adata.X and added    'n_counts', counts per cell before normalization (adata.obs)\n",
      "normalizing by total count per cell\n",
      "    finished (0:00:00): normalized adata.X and added    'n_counts', counts per cell before normalization (adata.obs)\n",
      "normalizing by total count per cell\n",
      "    finished (0:00:00): normalized adata.X and added    'n_counts', counts per cell before normalization (adata.obs)\n",
      "normalizing by total count per cell\n",
      "    finished (0:00:00): normalized adata.X and added    'n_counts', counts per cell before normalization (adata.obs)\n",
      "normalizing by total count per cell\n",
      "    finished (0:00:00): normalized adata.X and added    'n_counts', counts per cell before normalization (adata.obs)\n",
      "normalizing by total count per cell\n",
      "    finished (0:00:00): normalized adata.X and added    'n_counts', counts per cell before normalization (adata.obs)\n",
      "normalizing by total count per cell\n",
      "    finished (0:00:00): normalized adata.X and added    'n_counts', counts per cell before normalization (adata.obs)\n"
     ]
    }
   ],
   "source": [
    "# normalize counts per 10k\n",
    "\n",
    "sc.pp.normalize_per_cell(adata, counts_per_cell_after=10000)\n",
    "sc.pp.normalize_per_cell(adata6, counts_per_cell_after=10000)\n",
    "sc.pp.normalize_per_cell(adata8c, counts_per_cell_after=10000)\n",
    "sc.pp.normalize_per_cell(adata10c, counts_per_cell_after=10000)\n",
    "sc.pp.normalize_per_cell(adata14c, counts_per_cell_after=10000)\n",
    "sc.pp.normalize_per_cell(adata18c, counts_per_cell_after=10000)\n",
    "sc.pp.normalize_per_cell(adata21c, counts_per_cell_after=10000)\n",
    "\n",
    "\n"
   ]
  },
  {
   "cell_type": "code",
   "execution_count": 5,
   "metadata": {},
   "outputs": [],
   "source": [
    "# subset data:\n",
    "\n",
    "\n",
    "adata24c = adata[adata.obs.treatment == 'control'].copy()\n",
    "adata24h = adata[adata.obs.treatment == 'perturbed'].copy()\n",
    "adata24e = adata[adata.obs.treatment == 'emi'].copy()\n",
    "\n",
    "ctrl_mask1 = (adata24c.obs.replicate == '1')|(adata24c.obs.replicate == '3')|(adata24c.obs.replicate == '5')|(adata24c.obs.replicate == '7') \n",
    "ctrl_mask2 = (adata24c.obs.replicate == '2')|(adata24c.obs.replicate == '4')|(adata24c.obs.replicate == '6')|(adata24c.obs.replicate == '8') \n",
    "\n",
    "adata24c1 = adata24c[ctrl_mask1].copy()\n",
    "adata24c2 = adata24c[ctrl_mask2].copy()"
   ]
  },
  {
   "cell_type": "markdown",
   "metadata": {},
   "source": [
    "# Find marker genes"
   ]
  },
  {
   "cell_type": "code",
   "execution_count": 6,
   "metadata": {
    "collapsed": true,
    "jupyter": {
     "outputs_hidden": true
    },
    "tags": []
   },
   "outputs": [
    {
     "name": "stdout",
     "output_type": "stream",
     "text": [
      "Testing 9622 genes for cluster Cardiac muscle 1\n",
      "cluster=Cardiac muscle 1, n_cells=860, n_diff=4\n",
      "Testing 9726 genes for cluster Cardiac muscle 2\n",
      "cluster=Cardiac muscle 2, n_cells=49, n_diff=86\n",
      "Testing 9738 genes for cluster Differentiating neurons\n",
      "cluster=Differentiating neurons, n_cells=4390, n_diff=325\n",
      "Testing 10020 genes for cluster Endodermal lining\n",
      "cluster=Endodermal lining, n_cells=411, n_diff=17\n",
      "Testing 10608 genes for cluster Endodermal: pancreatic\n",
      "cluster=Endodermal: pancreatic, n_cells=55, n_diff=117\n",
      "Testing 9889 genes for cluster Endodermal: pharyngeal pouch\n",
      "cluster=Endodermal: pharyngeal pouch, n_cells=431, n_diff=29\n",
      "Testing 9246 genes for cluster Endothelial\n",
      "cluster=Endothelial, n_cells=1307, n_diff=241\n",
      "Testing 10511 genes for cluster Epidermal other\n",
      "cluster=Epidermal other, n_cells=5666, n_diff=85\n",
      "Testing 8893 genes for cluster Erythroid\n",
      "cluster=Erythroid, n_cells=2139, n_diff=238\n",
      "Testing 10441 genes for cluster Floorplate\n",
      "cluster=Floorplate, n_cells=127, n_diff=94\n",
      "Testing 9081 genes for cluster Forebrain\n",
      "cluster=Forebrain, n_cells=2795, n_diff=28\n",
      "Testing 8697 genes for cluster Germline\n",
      "cluster=Germline, n_cells=17, n_diff=32\n",
      "Testing 14953 genes for cluster Hatching gland\n",
      "cluster=Hatching gland, n_cells=188, n_diff=222\n",
      "Testing 8703 genes for cluster Hindbrain\n",
      "cluster=Hindbrain, n_cells=9847, n_diff=27\n",
      "Testing 10148 genes for cluster Ionocyte\n",
      "cluster=Ionocyte, n_cells=222, n_diff=295\n",
      "Testing 9492 genes for cluster Lens\n",
      "cluster=Lens, n_cells=706, n_diff=84\n",
      "Testing 8736 genes for cluster Midbrain\n",
      "cluster=Midbrain, n_cells=7830, n_diff=6\n",
      "Testing 10427 genes for cluster Monocytic\n",
      "cluster=Monocytic, n_cells=284, n_diff=251\n",
      "Testing 9120 genes for cluster Muscle/myotome 1\n",
      "cluster=Muscle/myotome 1, n_cells=918, n_diff=92\n",
      "Testing 8832 genes for cluster Muscle/myotome 2\n",
      "cluster=Muscle/myotome 2, n_cells=165, n_diff=70\n",
      "Testing 9692 genes for cluster Muscle/myotome 3\n",
      "cluster=Muscle/myotome 3, n_cells=155, n_diff=112\n",
      "Testing 9667 genes for cluster Neural crest\n",
      "cluster=Neural crest, n_cells=2131, n_diff=69\n",
      "Testing 9541 genes for cluster Neutrophil\n",
      "cluster=Neutrophil, n_cells=104, n_diff=221\n",
      "Testing 12097 genes for cluster Notochord\n",
      "cluster=Notochord, n_cells=83, n_diff=226\n",
      "Testing 8909 genes for cluster Optic cup\n",
      "cluster=Optic cup, n_cells=4849, n_diff=59\n",
      "Testing 11127 genes for cluster Otic placode\n",
      "cluster=Otic placode, n_cells=298, n_diff=33\n",
      "Testing 9181 genes for cluster Pectoral fin bud\n",
      "cluster=Pectoral fin bud, n_cells=420, n_diff=52\n",
      "Testing 10418 genes for cluster Periderm\n",
      "cluster=Periderm, n_cells=998, n_diff=402\n",
      "Testing 9326 genes for cluster Pharyngeal arch\n",
      "cluster=Pharyngeal arch, n_cells=2681, n_diff=53\n",
      "Testing 9493 genes for cluster Presomitic mesoderm\n",
      "cluster=Presomitic mesoderm, n_cells=413, n_diff=76\n",
      "Testing 11338 genes for cluster Proctodeum\n",
      "cluster=Proctodeum, n_cells=63, n_diff=55\n",
      "Testing 10144 genes for cluster Pronephros\n",
      "cluster=Pronephros, n_cells=43, n_diff=170\n",
      "Testing 10005 genes for cluster Retinal pigmented epithelium\n",
      "cluster=Retinal pigmented epithelium, n_cells=437, n_diff=75\n",
      "Testing 10577 genes for cluster Rohon-Beard neurons\n",
      "cluster=Rohon-Beard neurons, n_cells=463, n_diff=89\n",
      "Testing 9328 genes for cluster Roofplate\n",
      "cluster=Roofplate, n_cells=261, n_diff=81\n",
      "Testing 9351 genes for cluster Sclerotome\n",
      "cluster=Sclerotome, n_cells=1385, n_diff=34\n",
      "Testing 9249 genes for cluster Spinal cord\n"
     ]
    },
    {
     "ename": "KeyboardInterrupt",
     "evalue": "",
     "output_type": "error",
     "traceback": [
      "\u001b[0;31m---------------------------------------------------------------------------\u001b[0m",
      "\u001b[0;31mKeyboardInterrupt\u001b[0m                         Traceback (most recent call last)",
      "Cell \u001b[0;32mIn[6], line 1\u001b[0m\n\u001b[0;32m----> 1\u001b[0m marker_ctrl_coarse \u001b[38;5;241m=\u001b[39m \u001b[43mhf\u001b[49m\u001b[38;5;241;43m.\u001b[39;49m\u001b[43mfind_markers\u001b[49m\u001b[43m(\u001b[49m\u001b[43madata24c\u001b[49m\u001b[38;5;241;43m.\u001b[39;49m\u001b[43mX\u001b[49m\u001b[43m,\u001b[49m\u001b[43m \u001b[49m\u001b[43mgene_list\u001b[49m\u001b[43m \u001b[49m\u001b[38;5;241;43m=\u001b[39;49m\u001b[43m \u001b[49m\u001b[43mnp\u001b[49m\u001b[38;5;241;43m.\u001b[39;49m\u001b[43marray\u001b[49m\u001b[43m(\u001b[49m\u001b[43madata24c\u001b[49m\u001b[38;5;241;43m.\u001b[39;49m\u001b[43mvar_names\u001b[49m\u001b[43m)\u001b[49m\u001b[43m,\u001b[49m\n\u001b[1;32m      2\u001b[0m \u001b[43m                              \u001b[49m\u001b[43mgroups\u001b[49m\u001b[43m \u001b[49m\u001b[38;5;241;43m=\u001b[39;49m\u001b[43m \u001b[49m\u001b[43mnp\u001b[49m\u001b[38;5;241;43m.\u001b[39;49m\u001b[43marray\u001b[49m\u001b[43m(\u001b[49m\u001b[43madata_pr\u001b[49m\u001b[38;5;241;43m.\u001b[39;49m\u001b[43mobs\u001b[49m\u001b[38;5;241;43m.\u001b[39;49m\u001b[43mstate_v3p2\u001b[49m\u001b[43m)\u001b[49m\u001b[43m[\u001b[49m\u001b[43madata\u001b[49m\u001b[38;5;241;43m.\u001b[39;49m\u001b[43mobs\u001b[49m\u001b[38;5;241;43m.\u001b[39;49m\u001b[43mtreatment\u001b[49m\u001b[43m \u001b[49m\u001b[38;5;241;43m==\u001b[39;49m\u001b[43m \u001b[49m\u001b[38;5;124;43m'\u001b[39;49m\u001b[38;5;124;43mcontrol\u001b[39;49m\u001b[38;5;124;43m'\u001b[39;49m\u001b[43m]\u001b[49m\u001b[43m,\u001b[49m\n\u001b[1;32m      3\u001b[0m \u001b[43m                              \u001b[49m\u001b[43mmin_frac_expr\u001b[49m\u001b[38;5;241;43m=\u001b[39;49m\u001b[38;5;241;43m0.01\u001b[39;49m\u001b[43m,\u001b[49m\u001b[43m \u001b[49m\u001b[43mmin_fold_change\u001b[49m\u001b[38;5;241;43m=\u001b[39;49m\u001b[38;5;241;43m1.2\u001b[39;49m\u001b[43m,\u001b[49m\u001b[43m \u001b[49m\u001b[43mpseudocount\u001b[49m\u001b[38;5;241;43m=\u001b[39;49m\u001b[38;5;241;43m0.1\u001b[39;49m\u001b[43m,\u001b[49m\u001b[43m \u001b[49m\u001b[43mmax_p\u001b[49m\u001b[38;5;241;43m=\u001b[39;49m\u001b[38;5;241;43m0.05\u001b[39;49m\u001b[43m)\u001b[49m\n",
      "File \u001b[0;32m~/Dropbox (HMS)/PhD_lab/SPRING_dev/data_prep/helper_functions_py3.py:1170\u001b[0m, in \u001b[0;36mfind_markers\u001b[0;34m(norm_counts, gene_list, groups, min_frac_expr, min_fold_change, pseudocount, max_p)\u001b[0m\n\u001b[1;32m   1164\u001b[0m \u001b[38;5;28mprint\u001b[39m(\u001b[38;5;124m'\u001b[39m\u001b[38;5;124mTesting \u001b[39m\u001b[38;5;132;01m{}\u001b[39;00m\u001b[38;5;124m genes for cluster \u001b[39m\u001b[38;5;132;01m{}\u001b[39;00m\u001b[38;5;124m'\u001b[39m\u001b[38;5;241m.\u001b[39mformat(gix\u001b[38;5;241m.\u001b[39msum(), c1))\n\u001b[1;32m   1167\u001b[0m \u001b[38;5;66;03m#############    P-VALUES\u001b[39;00m\n\u001b[0;32m-> 1170\u001b[0m E1 \u001b[38;5;241m=\u001b[39m \u001b[43mnorm_counts\u001b[49m\u001b[38;5;241;43m.\u001b[39;49m\u001b[43mA\u001b[49m[i1,:][:,gix] \u001b[38;5;66;03m# expression profile of cells in test cluster\u001b[39;00m\n\u001b[1;32m   1171\u001b[0m E2 \u001b[38;5;241m=\u001b[39m norm_counts\u001b[38;5;241m.\u001b[39mA[i2,:][:,gix] \u001b[38;5;66;03m# expression profile of cells in all other clusters\u001b[39;00m\n\u001b[1;32m   1172\u001b[0m pv \u001b[38;5;241m=\u001b[39m np\u001b[38;5;241m.\u001b[39mzeros(gix\u001b[38;5;241m.\u001b[39msum())  \u001b[38;5;66;03m# initialize p-value matrix\u001b[39;00m\n",
      "File \u001b[0;32m~/opt/miniconda3/envs/cellcycle/lib/python3.10/site-packages/scipy/sparse/_base.py:755\u001b[0m, in \u001b[0;36mspmatrix.__getattr__\u001b[0;34m(self, attr)\u001b[0m\n\u001b[1;32m    751\u001b[0m     \u001b[38;5;28;01mif\u001b[39;00m \u001b[38;5;28mself\u001b[39m\u001b[38;5;241m.\u001b[39m_is_array:\n\u001b[1;32m    752\u001b[0m         warn(np\u001b[38;5;241m.\u001b[39mVisibleDeprecationWarning(\n\u001b[1;32m    753\u001b[0m             \u001b[38;5;124m\"\u001b[39m\u001b[38;5;124mPlease use `.todense()` instead\u001b[39m\u001b[38;5;124m\"\u001b[39m\n\u001b[1;32m    754\u001b[0m         ))\n\u001b[0;32m--> 755\u001b[0m     \u001b[38;5;28;01mreturn\u001b[39;00m \u001b[38;5;28;43mself\u001b[39;49m\u001b[38;5;241;43m.\u001b[39;49m\u001b[43mtoarray\u001b[49m\u001b[43m(\u001b[49m\u001b[43m)\u001b[49m\n\u001b[1;32m    756\u001b[0m \u001b[38;5;28;01melif\u001b[39;00m attr \u001b[38;5;241m==\u001b[39m \u001b[38;5;124m'\u001b[39m\u001b[38;5;124mT\u001b[39m\u001b[38;5;124m'\u001b[39m:\n\u001b[1;32m    757\u001b[0m     \u001b[38;5;28;01mreturn\u001b[39;00m \u001b[38;5;28mself\u001b[39m\u001b[38;5;241m.\u001b[39mtranspose()\n",
      "File \u001b[0;32m~/opt/miniconda3/envs/cellcycle/lib/python3.10/site-packages/scipy/sparse/_compressed.py:1062\u001b[0m, in \u001b[0;36m_cs_matrix.toarray\u001b[0;34m(self, order, out)\u001b[0m\n\u001b[1;32m   1060\u001b[0m     y \u001b[38;5;241m=\u001b[39m out\u001b[38;5;241m.\u001b[39mT\n\u001b[1;32m   1061\u001b[0m M, N \u001b[38;5;241m=\u001b[39m x\u001b[38;5;241m.\u001b[39m_swap(x\u001b[38;5;241m.\u001b[39mshape)\n\u001b[0;32m-> 1062\u001b[0m \u001b[43mcsr_todense\u001b[49m\u001b[43m(\u001b[49m\u001b[43mM\u001b[49m\u001b[43m,\u001b[49m\u001b[43m \u001b[49m\u001b[43mN\u001b[49m\u001b[43m,\u001b[49m\u001b[43m \u001b[49m\u001b[43mx\u001b[49m\u001b[38;5;241;43m.\u001b[39;49m\u001b[43mindptr\u001b[49m\u001b[43m,\u001b[49m\u001b[43m \u001b[49m\u001b[43mx\u001b[49m\u001b[38;5;241;43m.\u001b[39;49m\u001b[43mindices\u001b[49m\u001b[43m,\u001b[49m\u001b[43m \u001b[49m\u001b[43mx\u001b[49m\u001b[38;5;241;43m.\u001b[39;49m\u001b[43mdata\u001b[49m\u001b[43m,\u001b[49m\u001b[43m \u001b[49m\u001b[43my\u001b[49m\u001b[43m)\u001b[49m\n\u001b[1;32m   1063\u001b[0m \u001b[38;5;28;01mreturn\u001b[39;00m out\n",
      "\u001b[0;31mKeyboardInterrupt\u001b[0m: "
     ]
    }
   ],
   "source": [
    "marker_ctrl_coarse = hf.find_markers(adata24c.X, gene_list = np.array(adata24c.var_names),\n",
    "                              groups = np.array(adata_pr.obs.state_v3p2)[adata.obs.treatment == 'control'],\n",
    "                              min_frac_expr=0.01, min_fold_change=1.2, pseudocount=0.1, max_p=0.05) \n"
   ]
  },
  {
   "cell_type": "code",
   "execution_count": null,
   "metadata": {
    "tags": []
   },
   "outputs": [],
   "source": [
    "marker_ctrl1_coarse = hf.find_markers(adata24c1.X, gene_list = np.array(adata24c1.var_names),\n",
    "                              groups = np.array(adata24c1.obs.state_v3p2),\n",
    "                              min_frac_expr=0.01, min_fold_change=1.2, pseudocount=0.1, max_p=0.05) \n"
   ]
  },
  {
   "cell_type": "code",
   "execution_count": null,
   "metadata": {
    "tags": []
   },
   "outputs": [],
   "source": [
    "marker_ctrl2_coarse = hf.find_markers(adata24c2.X, gene_list = np.array(adata24c2.var_names),\n",
    "                              groups = np.array(adata24c2.obs.state_v3p2),\n",
    "                              min_frac_expr=0.01, min_fold_change=1.2, pseudocount=0.1, max_p=0.05) \n"
   ]
  },
  {
   "cell_type": "code",
   "execution_count": null,
   "metadata": {
    "scrolled": true,
    "tags": []
   },
   "outputs": [],
   "source": [
    "marker_emi_coarse = hf.find_markers(adata24e.X, gene_list = np.array(adata24e.var_names),\n",
    "                              groups = np.array(adata_pr.obs.state_v3p2)[adata.obs.treatment == 'emi'],\n",
    "                              min_frac_expr=0.01, min_fold_change=1.2, pseudocount=0.1, max_p=0.05) \n"
   ]
  },
  {
   "cell_type": "code",
   "execution_count": null,
   "metadata": {
    "tags": []
   },
   "outputs": [],
   "source": [
    "marker_hua_coarse = hf.find_markers(adata24h.X, gene_list = np.array(adata24h.var_names),\n",
    "                              groups = np.array(adata_pr.obs.state_v3p2)[adata.obs.treatment == 'perturbed'],\n",
    "                              min_frac_expr=0.01, min_fold_change=1.2, pseudocount=0.1, max_p=0.05) \n"
   ]
  },
  {
   "cell_type": "code",
   "execution_count": null,
   "metadata": {
    "tags": []
   },
   "outputs": [],
   "source": [
    "marker_6_coarse = hf.find_markers(adata6.X, gene_list = np.array(adata6.var_names),\n",
    "                              groups = np.array(adata6.obs.state_v3p2),\n",
    "                              min_frac_expr=0.01, min_fold_change=1.2, pseudocount=0.1, max_p=0.05) \n"
   ]
  },
  {
   "cell_type": "code",
   "execution_count": null,
   "metadata": {
    "tags": []
   },
   "outputs": [],
   "source": [
    "marker_8_coarse = hf.find_markers(adata8c.X, gene_list = np.array(adata8c.var_names),\n",
    "                              groups = np.array(adata8c.obs.state_v3p2),\n",
    "                              min_frac_expr=0.01, min_fold_change=1.2, pseudocount=0.1, max_p=0.05) \n"
   ]
  },
  {
   "cell_type": "code",
   "execution_count": null,
   "metadata": {
    "tags": []
   },
   "outputs": [],
   "source": [
    "\n",
    "marker_10_coarse = hf.find_markers(adata10c.X, gene_list = np.array(adata10c.var_names),\n",
    "                              groups = np.array(adata10c.obs.state_v3p2),\n",
    "                              min_frac_expr=0.01, min_fold_change=1.2, pseudocount=0.1, max_p=0.05) \n"
   ]
  },
  {
   "cell_type": "code",
   "execution_count": null,
   "metadata": {
    "tags": []
   },
   "outputs": [],
   "source": [
    "\n",
    "marker_14_coarse = hf.find_markers(adata14c.X, gene_list = np.array(adata14c.var_names),\n",
    "                              groups = np.array(adata14c.obs.state_v3p2),\n",
    "                              min_frac_expr=0.01, min_fold_change=1.2, pseudocount=0.1, max_p=0.05) \n"
   ]
  },
  {
   "cell_type": "code",
   "execution_count": null,
   "metadata": {
    "tags": []
   },
   "outputs": [],
   "source": [
    "\n",
    "marker_18_coarse = hf.find_markers(adata18c.X, gene_list = np.array(adata18c.var_names),\n",
    "                              groups = np.array(adata18c.obs.state_v3p2),\n",
    "                              min_frac_expr=0.01, min_fold_change=1.2, pseudocount=0.1, max_p=0.05) \n"
   ]
  },
  {
   "cell_type": "code",
   "execution_count": null,
   "metadata": {
    "tags": []
   },
   "outputs": [],
   "source": [
    "# Find marker genes between 6 h and 24 h control data\n",
    "\n",
    "marker_21_coarse = hf.find_markers(adata21c.X, gene_list = np.array(adata21c.var_names),\n",
    "                              groups = np.array(adata21c.obs.state_v3p2),\n",
    "                              min_frac_expr=0.01, min_fold_change=1.2, pseudocount=0.1, max_p=0.05) \n"
   ]
  },
  {
   "cell_type": "code",
   "execution_count": null,
   "metadata": {},
   "outputs": [],
   "source": [
    "\n",
    "marker_ctrl1_coarse.to_csv('../../../data/differentiation_continues/marker_genes24h_ctrl1_coarse_grain.csv', sep=',')\n",
    "marker_ctrl2_coarse.to_csv('../../../data/differentiation_continues/marker_genes24h_ctrl2_coarse_grain.csv', sep=',')\n",
    "\n",
    "marker_ctrl_coarse.to_csv('../../../data/differentiation_continues/marker_genes24h_ctrl_coarse_grain.csv', sep=',')\n",
    "marker_emi_coarse.to_csv('../../../data/differentiation_continues/marker_genes24h_emi_coarse_grain.csv', sep=',')\n",
    "marker_hua_coarse.to_csv('../../../data/differentiation_continues/marker_genes24h_hua_coarse_grain.csv', sep=',')"
   ]
  },
  {
   "cell_type": "code",
   "execution_count": null,
   "metadata": {},
   "outputs": [],
   "source": [
    "\n",
    "marker_6_coarse.to_csv('../../../data/differentiation_continues/marker_genes6_coarse_grain.csv', sep=',')\n",
    "marker_8_coarse.to_csv('../../../data/differentiation_continues/marker_genes8_coarse_grain.csv', sep=',')\n",
    "marker_10_coarse.to_csv('../../../data/differentiation_continues/marker_genes10_coarse_grain.csv', sep=',')\n",
    "marker_14_coarse.to_csv('../../../data/differentiation_continues/marker_genes14_coarse_grain.csv', sep=',')\n",
    "marker_18_coarse.to_csv('../../../data/differentiation_continues/marker_genes18_coarse_grain.csv', sep=',')\n",
    "marker_21_coarse.to_csv('../../../data/differentiation_continues/marker_genes21_coarse_grain.csv', sep=',')\n"
   ]
  }
 ],
 "metadata": {
  "kernelspec": {
   "display_name": "Python 3 (ipykernel)",
   "language": "python",
   "name": "python3"
  },
  "language_info": {
   "codemirror_mode": {
    "name": "ipython",
    "version": 3
   },
   "file_extension": ".py",
   "mimetype": "text/x-python",
   "name": "python",
   "nbconvert_exporter": "python",
   "pygments_lexer": "ipython3",
   "version": "3.10.8"
  }
 },
 "nbformat": 4,
 "nbformat_minor": 4
}
