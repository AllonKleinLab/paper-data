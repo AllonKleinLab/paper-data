{
 "cells": [
  {
   "cell_type": "markdown",
   "metadata": {},
   "source": [
    "# Set up"
   ]
  },
  {
   "cell_type": "code",
   "execution_count": 1,
   "metadata": {},
   "outputs": [],
   "source": [
    "import numpy as np\n",
    "import pandas as pd\n",
    "import matplotlib.pyplot as pl\n",
    "import scanpy as sc\n",
    "import scanpy.external as sce\n",
    "import os\n",
    "import scipy.sparse as ssp\n",
    "import sys\n",
    "import pickle\n",
    "from collections import Counter\n",
    "import seaborn as sn\n",
    "# !!!!\n",
    "# Change this path to point to folder containing helper_functions.py\n",
    "sys.path.append('/Users/kalki/Dropbox (HMS)/PhD_lab/SPRING_dev/data_prep/')\n",
    "import helper_functions_py3 as hf\n",
    "\n",
    "sc.settings.verbosity = 2  # verbosity: errors (0), warnings (1), info (2), hints (3)\n",
    "sc.settings.set_figure_params(dpi=150)  # low dpi (dots per inch) yields small inline figures"
   ]
  },
  {
   "cell_type": "markdown",
   "metadata": {},
   "source": [
    "# Load data"
   ]
  },
  {
   "cell_type": "code",
   "execution_count": 3,
   "metadata": {},
   "outputs": [],
   "source": [
    "data_path = '/Users/kalki/Dropbox (HMS)/PhD_lab/0.projects/Cell_cycle/indrop_analysis_cellcycle/6.Indrops7/data/differentiation_continues/'\n",
    "\n",
    "marker_ctrl1_coarse = pd.read_table(data_path + 'marker_genes24h_ctrl1_coarse_grain.csv', sep=',')\n",
    "marker_ctrl2_coarse = pd.read_table(data_path + 'marker_genes24h_ctrl2_coarse_grain.csv', sep=',')\n",
    "marker_ctrl_coarse = pd.read_table(data_path + 'marker_genes24h_ctrl_coarse_grain.csv', sep=',')\n",
    "marker_emi_coarse = pd.read_table(data_path + 'marker_genes24h_emi_coarse_grain.csv', sep=',')\n",
    "marker_hua_coarse  = pd.read_table(data_path +  'marker_genes24h_hua_coarse_grain.csv', sep=',')\n",
    "\n",
    "marker6_coarse = pd.read_table(data_path +  'marker_genes6_coarse_grain.csv', sep=',')\n",
    "marker8_coarse = pd.read_table(data_path +  'marker_genes8_coarse_grain.csv', sep=',')\n",
    "marker10_coarse = pd.read_table(data_path + 'marker_genes10_coarse_grain.csv', sep=',')\n",
    "marker14_coarse = pd.read_table(data_path + 'marker_genes14c_coarse_grain.csv', sep=',')\n",
    "marker18_coarse = pd.read_table(data_path + 'marker_genes18_coarse_grain.csv', sep=',')\n",
    "marker21_coarse = pd.read_table(data_path + 'marker_genes21_coarse_grain.csv', sep=',')\n"
   ]
  },
  {
   "cell_type": "code",
   "execution_count": 4,
   "metadata": {},
   "outputs": [
    {
     "data": {
      "text/html": [
       "<div>\n",
       "<style scoped>\n",
       "    .dataframe tbody tr th:only-of-type {\n",
       "        vertical-align: middle;\n",
       "    }\n",
       "\n",
       "    .dataframe tbody tr th {\n",
       "        vertical-align: top;\n",
       "    }\n",
       "\n",
       "    .dataframe thead th {\n",
       "        text-align: right;\n",
       "    }\n",
       "</style>\n",
       "<table border=\"1\" class=\"dataframe\">\n",
       "  <thead>\n",
       "    <tr style=\"text-align: right;\">\n",
       "      <th></th>\n",
       "      <th>Unnamed: 0</th>\n",
       "      <th>group</th>\n",
       "      <th>gene</th>\n",
       "      <th>p-value</th>\n",
       "      <th>log2_fold_change</th>\n",
       "    </tr>\n",
       "  </thead>\n",
       "  <tbody>\n",
       "    <tr>\n",
       "      <th>0</th>\n",
       "      <td>0</td>\n",
       "      <td>Cardiac muscle 1</td>\n",
       "      <td>lbx2</td>\n",
       "      <td>1.945715e-02</td>\n",
       "      <td>0.802226</td>\n",
       "    </tr>\n",
       "    <tr>\n",
       "      <th>1</th>\n",
       "      <td>1</td>\n",
       "      <td>Cardiac muscle 1</td>\n",
       "      <td>meis3</td>\n",
       "      <td>2.037819e-29</td>\n",
       "      <td>0.923158</td>\n",
       "    </tr>\n",
       "    <tr>\n",
       "      <th>2</th>\n",
       "      <td>2</td>\n",
       "      <td>Cardiac muscle 1</td>\n",
       "      <td>twist3</td>\n",
       "      <td>9.782979e-04</td>\n",
       "      <td>0.631622</td>\n",
       "    </tr>\n",
       "    <tr>\n",
       "      <th>3</th>\n",
       "      <td>3</td>\n",
       "      <td>Cardiac muscle 2</td>\n",
       "      <td>LOC570454</td>\n",
       "      <td>1.386080e-04</td>\n",
       "      <td>2.351261</td>\n",
       "    </tr>\n",
       "    <tr>\n",
       "      <th>4</th>\n",
       "      <td>4</td>\n",
       "      <td>Cardiac muscle 2</td>\n",
       "      <td>abtb2b</td>\n",
       "      <td>1.169551e-02</td>\n",
       "      <td>1.055492</td>\n",
       "    </tr>\n",
       "  </tbody>\n",
       "</table>\n",
       "</div>"
      ],
      "text/plain": [
       "   Unnamed: 0             group       gene       p-value  log2_fold_change\n",
       "0           0  Cardiac muscle 1       lbx2  1.945715e-02          0.802226\n",
       "1           1  Cardiac muscle 1      meis3  2.037819e-29          0.923158\n",
       "2           2  Cardiac muscle 1     twist3  9.782979e-04          0.631622\n",
       "3           3  Cardiac muscle 2  LOC570454  1.386080e-04          2.351261\n",
       "4           4  Cardiac muscle 2     abtb2b  1.169551e-02          1.055492"
      ]
     },
     "execution_count": 4,
     "metadata": {},
     "output_type": "execute_result"
    }
   ],
   "source": [
    "marker_ctrl1_coarse.head()"
   ]
  },
  {
   "cell_type": "code",
   "execution_count": 3,
   "metadata": {},
   "outputs": [],
   "source": [
    "adata = sc.read_h5ad(data_path + 'anndata_objects/adata24_perturbations.h5ad')\n"
   ]
  },
  {
   "cell_type": "markdown",
   "metadata": {
    "tags": []
   },
   "source": [
    "# Percentage common marker genes"
   ]
  },
  {
   "cell_type": "markdown",
   "metadata": {
    "tags": []
   },
   "source": [
    "## 24 hpf vs 24 hpf\n"
   ]
  },
  {
   "cell_type": "code",
   "execution_count": 7,
   "metadata": {},
   "outputs": [],
   "source": [
    "def common_markers(data1, data2):\n",
    "    percentage_common_markers = {}\n",
    "    min_markergenes = {}\n",
    "    for states in set(data1.group):\n",
    "        if states in set(data2.group):\n",
    "            genes1 = np.array(data1[data1.group == states].gene) # ctrl 1 marker genes\n",
    "            genes2 = np.array(data2[data2.group == states].gene) # ctrl 2 marker genes\n",
    "            min_markergenes[states] =  min(len(genes1),len(genes2)) # minimum length of the intersection set\n",
    "            # percentage of genes common between the 2:\n",
    "            percentage_common_markers[states] = 100*(len(set(genes1).intersection(set(genes2)))/ min_markergenes[states])\n",
    "     \n",
    "        else: print(states, 'not in data 2')\n",
    "        \n",
    "    return percentage_common_markers, min_markergenes\n",
    "    "
   ]
  },
  {
   "cell_type": "code",
   "execution_count": 8,
   "metadata": {},
   "outputs": [
    {
     "name": "stdout",
     "output_type": "stream",
     "text": [
      "Cardiac muscle 1 not in data 2\n",
      "Midbrain not in data 2\n"
     ]
    }
   ],
   "source": [
    "percentage_common_markers_cc, min_markergenes_cc = common_markers(marker_ctrl1_coarse, marker_ctrl2_coarse)\n",
    "percentage_common_markers_chua, min_markergenes_chua = common_markers(marker_ctrl_coarse, marker_hua_coarse)\n",
    "percentage_common_markers_cemi, min_markergenes_cemi = common_markers(marker_ctrl_coarse, marker_emi_coarse)"
   ]
  },
  {
   "cell_type": "markdown",
   "metadata": {},
   "source": [
    "## Intra state comparison"
   ]
  },
  {
   "cell_type": "code",
   "execution_count": 9,
   "metadata": {},
   "outputs": [],
   "source": [
    "common_markers_neg = np.zeros( (len(set(marker_ctrl_coarse.group)),len(set(marker_ctrl_coarse.group)) ) )\n",
    "min_markergenes_neg = np.zeros( (len(set(marker_ctrl_coarse.group)),len(set(marker_ctrl_coarse.group)) ) )\n",
    "for i,states_i in enumerate(set(marker_ctrl_coarse.group)):\n",
    "    for j, states_j in enumerate(set(marker_ctrl_coarse.group)):\n",
    "#       if j>i:\n",
    "        set1 = np.array(marker_ctrl_coarse[marker_ctrl_coarse.group == states_i].gene)\n",
    "        set2 = np.array(marker_ctrl_coarse[marker_ctrl_coarse.group == states_j].gene)\n",
    "        min_markergenes_neg[i,j] = min(len(set1),len(set2))\n",
    "        common_markers_neg[i,j] = 100*(len(set(set1).intersection(set(set2)))/min_markergenes_neg[i,j])\n",
    "     "
   ]
  },
  {
   "cell_type": "code",
   "execution_count": 10,
   "metadata": {},
   "outputs": [],
   "source": [
    "mean_common_perc_markers = (np.triu(common_markers_neg, k=1)).sum()/( (common_markers_neg.shape[0]**2 - common_markers_neg.shape[0])/2 )\n",
    "\n"
   ]
  },
  {
   "cell_type": "code",
   "execution_count": 11,
   "metadata": {},
   "outputs": [],
   "source": [
    "common_markers_neg_pd = pd.DataFrame(common_markers_neg)\n",
    "common_markers_neg_pd.columns = set(marker_ctrl_coarse.group)\n",
    "common_markers_neg_pd.index = set(marker_ctrl_coarse.group)"
   ]
  },
  {
   "cell_type": "markdown",
   "metadata": {},
   "source": [
    "## 24h vs early time points"
   ]
  },
  {
   "cell_type": "code",
   "execution_count": 12,
   "metadata": {},
   "outputs": [],
   "source": [
    "cell_cycle_path = '/Users/kalki/Dropbox (HMS)/PhD_lab/0.projects/cell_cycle/'\n",
    "\n",
    "parent_pd = pd.read_excel(cell_cycle_path+ 'parent_daughter14_18_24.xlsx', \n",
    "                                     sheet_name = '24_18_14_coarse_grain')\n",
    "\n",
    "# 24 hpf parent:\n",
    "parent24_21dict = {parent_pd['24hpf'][i]:parent_pd['21hpf'][i] for i in range(parent_pd.shape[0])}\n",
    "parent24_18dict = {parent_pd['24hpf'][i]:parent_pd['18hpf'][i] for i in range(parent_pd.shape[0])}\n",
    "parent24_14dict = {parent_pd['24hpf'][i]:parent_pd['14hpf'][i] for i in range(parent_pd.shape[0])}\n",
    "parent24_10dict = {parent_pd['24hpf'][i]:parent_pd['10hpf'][i] for i in range(parent_pd.shape[0])}\n",
    "parent24_8dict = {parent_pd['24hpf'][i]:parent_pd['8hpf'][i] for i in range(parent_pd.shape[0])}\n",
    "parent24_6dict = {parent_pd['24hpf'][i]:parent_pd['6hpf'][i] for i in range(parent_pd.shape[0])}\n"
   ]
  },
  {
   "cell_type": "code",
   "execution_count": 13,
   "metadata": {},
   "outputs": [],
   "source": [
    "def common_markers_early_tp(data24, data_early,parent_dict):\n",
    "    percentage_common_markers = {}\n",
    "    min_markergenes = {}\n",
    "\n",
    "    for states in set(marker_ctrl_coarse.group):\n",
    "        if parent_dict[states] in set(data_early.group):\n",
    "            genes_24 = np.array(data24[data24.group == states].gene)\n",
    "            genes_early = np.array(data_early[data_early.group == parent_dict[states]].gene)\n",
    "            min_markergenes[states] =  min(len(genes_early),len(genes_24)) # minimum length of the intersection set\n",
    "            percentage_common_markers[states] = 100*(len(set(genes_early).intersection(set(genes_24)))/min_markergenes[states] )\n",
    "        else: print(parent_dict[states])\n",
    "        \n",
    "    return percentage_common_markers, min_markergenes\n",
    "\n"
   ]
  },
  {
   "cell_type": "code",
   "execution_count": 14,
   "metadata": {},
   "outputs": [
    {
     "name": "stdout",
     "output_type": "stream",
     "text": [
      "Germline\n",
      "Dorsal margin involuted\n",
      "Neural crest\n",
      "Germline\n",
      "Otic placode\n",
      "Ionocyte\n",
      "Otic placode\n",
      "Muscle/myotome 3\n"
     ]
    }
   ],
   "source": [
    "percentage_common_markers_c6, min_markergenes_c6 = common_markers_early_tp(marker_ctrl_coarse, marker6_coarse,parent24_6dict)\n",
    "percentage_common_markers_c8, min_markergenes_c8 = common_markers_early_tp(marker_ctrl_coarse, marker8_coarse,parent24_8dict)\n",
    "percentage_common_markers_c10, min_markergenes_c10 = common_markers_early_tp(marker_ctrl_coarse, marker10_coarse,parent24_10dict)\n",
    "percentage_common_markers_c14, min_markergenes_c14 = common_markers_early_tp(marker_ctrl_coarse, marker14_coarse,parent24_14dict)\n",
    "percentage_common_markers_c18, min_markergenes_c18 = common_markers_early_tp(marker_ctrl_coarse, marker18_coarse,parent24_18dict)\n",
    "percentage_common_markers_c21, min_markergenes_c21 = common_markers_early_tp(marker_ctrl_coarse, marker21_coarse,parent24_21dict)\n"
   ]
  },
  {
   "cell_type": "code",
   "execution_count": 21,
   "metadata": {},
   "outputs": [],
   "source": [
    "marker_pd.to_csv(data_path + '24-05-25_source_data_fig1h.csv')"
   ]
  },
  {
   "cell_type": "code",
   "execution_count": 15,
   "metadata": {},
   "outputs": [
    {
     "data": {
      "text/html": [
       "<div>\n",
       "<style scoped>\n",
       "    .dataframe tbody tr th:only-of-type {\n",
       "        vertical-align: middle;\n",
       "    }\n",
       "\n",
       "    .dataframe tbody tr th {\n",
       "        vertical-align: top;\n",
       "    }\n",
       "\n",
       "    .dataframe thead th {\n",
       "        text-align: right;\n",
       "    }\n",
       "</style>\n",
       "<table border=\"1\" class=\"dataframe\">\n",
       "  <thead>\n",
       "    <tr style=\"text-align: right;\">\n",
       "      <th></th>\n",
       "      <th>neg ctrl</th>\n",
       "      <th>ctrl vs 6h</th>\n",
       "      <th>ctrl vs 8h</th>\n",
       "      <th>ctrl vs 10h</th>\n",
       "      <th>ctrl vs 14h</th>\n",
       "      <th>ctrl vs 18h</th>\n",
       "      <th>ctrl vs 21h</th>\n",
       "      <th>ctrl vs ctrl</th>\n",
       "      <th>hua vs ctrl</th>\n",
       "      <th>emi vs ctrl</th>\n",
       "    </tr>\n",
       "  </thead>\n",
       "  <tbody>\n",
       "    <tr>\n",
       "      <th>Muscle/myotome 1</th>\n",
       "      <td>0.0</td>\n",
       "      <td>0.0</td>\n",
       "      <td>0.000000</td>\n",
       "      <td>0.000000</td>\n",
       "      <td>2.631579</td>\n",
       "      <td>76.315789</td>\n",
       "      <td>68.421053</td>\n",
       "      <td>61.290323</td>\n",
       "      <td>68.421053</td>\n",
       "      <td>48.648649</td>\n",
       "    </tr>\n",
       "    <tr>\n",
       "      <th>Spinal cord</th>\n",
       "      <td>0.0</td>\n",
       "      <td>0.0</td>\n",
       "      <td>0.000000</td>\n",
       "      <td>0.000000</td>\n",
       "      <td>40.000000</td>\n",
       "      <td>50.000000</td>\n",
       "      <td>60.000000</td>\n",
       "      <td>83.333333</td>\n",
       "      <td>57.142857</td>\n",
       "      <td>77.777778</td>\n",
       "    </tr>\n",
       "    <tr>\n",
       "      <th>Floorplate</th>\n",
       "      <td>0.0</td>\n",
       "      <td>0.0</td>\n",
       "      <td>0.000000</td>\n",
       "      <td>10.000000</td>\n",
       "      <td>31.707317</td>\n",
       "      <td>58.333333</td>\n",
       "      <td>70.000000</td>\n",
       "      <td>77.500000</td>\n",
       "      <td>62.500000</td>\n",
       "      <td>62.500000</td>\n",
       "    </tr>\n",
       "    <tr>\n",
       "      <th>Roofplate</th>\n",
       "      <td>0.0</td>\n",
       "      <td>0.0</td>\n",
       "      <td>8.695652</td>\n",
       "      <td>10.000000</td>\n",
       "      <td>14.814815</td>\n",
       "      <td>11.111111</td>\n",
       "      <td>79.310345</td>\n",
       "      <td>80.434783</td>\n",
       "      <td>83.333333</td>\n",
       "      <td>81.578947</td>\n",
       "    </tr>\n",
       "    <tr>\n",
       "      <th>Germline</th>\n",
       "      <td>0.0</td>\n",
       "      <td>NaN</td>\n",
       "      <td>18.518519</td>\n",
       "      <td>18.518519</td>\n",
       "      <td>NaN</td>\n",
       "      <td>40.000000</td>\n",
       "      <td>100.000000</td>\n",
       "      <td>0.000000</td>\n",
       "      <td>55.555556</td>\n",
       "      <td>31.250000</td>\n",
       "    </tr>\n",
       "  </tbody>\n",
       "</table>\n",
       "</div>"
      ],
      "text/plain": [
       "                  neg ctrl  ctrl vs 6h  ctrl vs 8h  ctrl vs 10h  ctrl vs 14h  \\\n",
       "Muscle/myotome 1       0.0         0.0    0.000000     0.000000     2.631579   \n",
       "Spinal cord            0.0         0.0    0.000000     0.000000    40.000000   \n",
       "Floorplate             0.0         0.0    0.000000    10.000000    31.707317   \n",
       "Roofplate              0.0         0.0    8.695652    10.000000    14.814815   \n",
       "Germline               0.0         NaN   18.518519    18.518519          NaN   \n",
       "\n",
       "                  ctrl vs 18h  ctrl vs 21h  ctrl vs ctrl  hua vs ctrl  \\\n",
       "Muscle/myotome 1    76.315789    68.421053     61.290323    68.421053   \n",
       "Spinal cord         50.000000    60.000000     83.333333    57.142857   \n",
       "Floorplate          58.333333    70.000000     77.500000    62.500000   \n",
       "Roofplate           11.111111    79.310345     80.434783    83.333333   \n",
       "Germline            40.000000   100.000000      0.000000    55.555556   \n",
       "\n",
       "                  emi vs ctrl  \n",
       "Muscle/myotome 1    48.648649  \n",
       "Spinal cord         77.777778  \n",
       "Floorplate          62.500000  \n",
       "Roofplate           81.578947  \n",
       "Germline            31.250000  "
      ]
     },
     "execution_count": 15,
     "metadata": {},
     "output_type": "execute_result"
    }
   ],
   "source": [
    "marker_pd = pd.concat([(common_markers_neg_pd.sum(axis=1)-100)/(common_markers_neg_pd.shape[0]-1),\n",
    "                        pd.Series(percentage_common_markers_c6),\n",
    "                        pd.Series(percentage_common_markers_c8),\n",
    "                        pd.Series(percentage_common_markers_c10),\n",
    "                        pd.Series(percentage_common_markers_c14),\n",
    "                        pd.Series(percentage_common_markers_c18),\n",
    "                       pd.Series(percentage_common_markers_c21),\n",
    "                       pd.Series(percentage_common_markers_cc),\n",
    "                       pd.Series(percentage_common_markers_chua), \n",
    "                       pd.Series(percentage_common_markers_cemi)] , axis=1)\n",
    "\n",
    "marker_pd.columns = ['neg ctrl', 'ctrl vs 6h', 'ctrl vs 8h','ctrl vs 10h','ctrl vs 14h','ctrl vs 18h','ctrl vs 21h',\n",
    "                     'ctrl vs ctrl', 'hua vs ctrl', 'emi vs ctrl']\n",
    "\n",
    "marker_pd.head()\n"
   ]
  },
  {
   "cell_type": "code",
   "execution_count": 16,
   "metadata": {},
   "outputs": [],
   "source": [
    "#marker_pd.to_csv(data_path + 'differentiation_continues/marker_genes24h.csv', sep=',')"
   ]
  },
  {
   "cell_type": "code",
   "execution_count": 17,
   "metadata": {
    "tags": []
   },
   "outputs": [
    {
     "data": {
      "text/html": [
       "<div>\n",
       "<style scoped>\n",
       "    .dataframe tbody tr th:only-of-type {\n",
       "        vertical-align: middle;\n",
       "    }\n",
       "\n",
       "    .dataframe tbody tr th {\n",
       "        vertical-align: top;\n",
       "    }\n",
       "\n",
       "    .dataframe thead th {\n",
       "        text-align: right;\n",
       "    }\n",
       "</style>\n",
       "<table border=\"1\" class=\"dataframe\">\n",
       "  <thead>\n",
       "    <tr style=\"text-align: right;\">\n",
       "      <th></th>\n",
       "      <th>shared_genes</th>\n",
       "      <th>sample_names</th>\n",
       "    </tr>\n",
       "  </thead>\n",
       "  <tbody>\n",
       "    <tr>\n",
       "      <th>0</th>\n",
       "      <td>0.0</td>\n",
       "      <td>neg ctrl</td>\n",
       "    </tr>\n",
       "    <tr>\n",
       "      <th>1</th>\n",
       "      <td>0.0</td>\n",
       "      <td>neg ctrl</td>\n",
       "    </tr>\n",
       "    <tr>\n",
       "      <th>2</th>\n",
       "      <td>0.0</td>\n",
       "      <td>neg ctrl</td>\n",
       "    </tr>\n",
       "    <tr>\n",
       "      <th>3</th>\n",
       "      <td>0.0</td>\n",
       "      <td>neg ctrl</td>\n",
       "    </tr>\n",
       "    <tr>\n",
       "      <th>4</th>\n",
       "      <td>0.0</td>\n",
       "      <td>neg ctrl</td>\n",
       "    </tr>\n",
       "  </tbody>\n",
       "</table>\n",
       "</div>"
      ],
      "text/plain": [
       "   shared_genes sample_names\n",
       "0           0.0     neg ctrl\n",
       "1           0.0     neg ctrl\n",
       "2           0.0     neg ctrl\n",
       "3           0.0     neg ctrl\n",
       "4           0.0     neg ctrl"
      ]
     },
     "execution_count": 17,
     "metadata": {},
     "output_type": "execute_result"
    }
   ],
   "source": [
    "\n",
    "marker_pd_col1 = np.hstack([marker_pd['neg ctrl'], marker_pd['ctrl vs 6h'],marker_pd['ctrl vs 8h'],\n",
    "                            marker_pd['ctrl vs 10h'],marker_pd['ctrl vs 14h'],marker_pd['ctrl vs 18h'],\n",
    "                            marker_pd['ctrl vs 21h'], marker_pd['ctrl vs ctrl'], marker_pd['hua vs ctrl'], marker_pd['emi vs ctrl']])\n",
    "\n",
    "marker_pd_col2 = np.hstack([np.ones(marker_pd.shape[0], dtype = object)*'neg ctrl',\n",
    "                            np.ones(marker_pd.shape[0], dtype = object)*'ctrl vs 6h',\n",
    "                            np.ones(marker_pd.shape[0], dtype = object)*'ctrl vs 8h',\n",
    "                            np.ones(marker_pd.shape[0], dtype = object)*'ctrl vs 10h',\n",
    "                            np.ones(marker_pd.shape[0], dtype = object)*'ctrl vs 14h',\n",
    "                            np.ones(marker_pd.shape[0], dtype = object)*'ctrl vs 18h',\n",
    "                            np.ones(marker_pd.shape[0], dtype = object)*'ctrl vs 21h',\n",
    "                            np.ones(marker_pd.shape[0], dtype = object)*'ctrl vs ctrl',\n",
    "                            np.ones(marker_pd.shape[0], dtype = object)*'hua vs ctrl',\n",
    "                            np.ones(marker_pd.shape[0], dtype = object)*'emi vs ctrl'])\n",
    "\n",
    "marker_tidy_pd = pd.DataFrame({'shared_genes':marker_pd_col1,\n",
    "                              'sample_names':marker_pd_col2})\n",
    "\n",
    "           \n",
    "\n",
    "marker_tidy_pd.head()\n",
    "\n",
    "\n",
    "\n"
   ]
  },
  {
   "cell_type": "code",
   "execution_count": 18,
   "metadata": {},
   "outputs": [
    {
     "data": {
      "image/png": "[encoded data removed]",
      "text/plain": [
       "<Figure size 600x600 with 1 Axes>"
      ]
     },
     "metadata": {
      "image/png": {
       "height": 518,
       "width": 570
      }
     },
     "output_type": "display_data"
    }
   ],
   "source": [
    "pl.figure(figsize=(3,3), dpi = 200)\n",
    "clrs = {'neg ctrl': 'lightgrey', 'ctrl vs 6h': 'lightgrey', 'ctrl vs 8h': 'lightgrey','ctrl vs 10h': 'lightgrey',\n",
    "        'ctrl vs 14h': 'lightgrey', 'ctrl vs 18h': 'lightgrey', 'ctrl vs 21h': 'lightgrey', \n",
    "        'ctrl vs ctrl':  '#A9A9A9', 'hua vs ctrl': '#e78ac3', 'emi vs ctrl':'#00cdcd'}\n",
    "\n",
    "#sn.stripplot(data = marker_tidy_pd, y='shared_genes', x='sample_names', palette = clrs)\n",
    "sn.barplot(data = marker_tidy_pd, y='shared_genes', x='sample_names', palette = clrs, errwidth=1, errcolor='grey')\n",
    "\n",
    "pl.grid(False)\n",
    "pl.ylabel(None)\n",
    "pl.xlabel(None)\n",
    "pl.yticks([0,20,40,60,80], fontname = 'Helvetica')\n",
    "pl.xticks(np.arange(10),labels = [])\n",
    "sn.despine()\n",
    "\n",
    "pl.savefig(\"../../../figures/23-01-25_shared_markers.pdf\", bbox_inches='tight', dpi = 500)\n"
   ]
  },
  {
   "cell_type": "code",
   "execution_count": null,
   "metadata": {},
   "outputs": [],
   "source": []
  }
 ],
 "metadata": {
  "kernelspec": {
   "display_name": "Python 3 (ipykernel)",
   "language": "python",
   "name": "python3"
  },
  "language_info": {
   "codemirror_mode": {
    "name": "ipython",
    "version": 3
   },
   "file_extension": ".py",
   "mimetype": "text/x-python",
   "name": "python",
   "nbconvert_exporter": "python",
   "pygments_lexer": "ipython3",
   "version": "3.10.8"
  },
  "toc-autonumbering": true,
  "toc-showcode": false
 },
 "nbformat": 4,
 "nbformat_minor": 4
}
