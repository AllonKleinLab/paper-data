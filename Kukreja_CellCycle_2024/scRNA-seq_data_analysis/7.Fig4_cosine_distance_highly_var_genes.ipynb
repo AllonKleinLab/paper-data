{
 "cells": [
  {
   "cell_type": "markdown",
   "metadata": {},
   "source": [
    "# Set up"
   ]
  },
  {
   "cell_type": "code",
   "execution_count": 2,
   "metadata": {},
   "outputs": [],
   "source": [
    "import numpy as np, pandas as pd, matplotlib.pyplot as pl, scipy.sparse as ssp\n",
    "import scanpy as sc,scanpy.external as sce\n",
    "import os\n",
    "import sys\n",
    "sys.path.append('/Users/kalki/Dropbox (HMS)/PhD_lab/SPRING_dev/data_prep/')\n",
    "import helper_functions_py3 as hf\n",
    "\n",
    "sc.settings.verbosity = 2  # verbosity: errors (0), warnings (1), info (2), hints (3)\n",
    "sc.settings.set_figure_params(dpi=100)  # low dpi (dots per inch) yields small inline figures\n",
    "\n"
   ]
  },
  {
   "cell_type": "markdown",
   "metadata": {},
   "source": [
    "# Load data"
   ]
  },
  {
   "cell_type": "code",
   "execution_count": 3,
   "metadata": {},
   "outputs": [],
   "source": [
    "# load data:\n",
    "\n",
    "adata24_raw = sc.read_h5ad('../../../data/anndata_objects/adata24_perturbations.h5ad')"
   ]
  },
  {
   "cell_type": "code",
   "execution_count": 4,
   "metadata": {},
   "outputs": [
    {
     "name": "stdout",
     "output_type": "stream",
     "text": [
      "normalizing by total count per cell\n",
      "    finished (0:00:01): normalized adata.X and added    'n_counts', counts per cell before normalization (adata.obs)\n"
     ]
    }
   ],
   "source": [
    "sc.pp.normalize_per_cell(adata24_raw, counts_per_cell_after=10000)\n"
   ]
  },
  {
   "cell_type": "markdown",
   "metadata": {},
   "source": [
    "# Subset data into conditions and replicates"
   ]
  },
  {
   "cell_type": "code",
   "execution_count": 5,
   "metadata": {},
   "outputs": [],
   "source": [
    "# subset data according to replicates\n",
    "\n",
    "adata24C_raw = adata24_raw[adata24_raw.obs.treatment == 'control']\n",
    "\n",
    "adata24C1_raw = adata24C_raw[adata24C_raw.obs.replicate == '1'].copy() \n",
    "adata24C2_raw = adata24C_raw[adata24C_raw.obs.replicate == '2'].copy()\n",
    "adata24C3_raw = adata24C_raw[adata24C_raw.obs.replicate == '3'].copy()\n",
    "adata24C4_raw = adata24C_raw[adata24C_raw.obs.replicate == '4'].copy()\n",
    "adata24C5_raw = adata24C_raw[adata24C_raw.obs.replicate == '5'].copy()\n",
    "adata24C6_raw = adata24C_raw[adata24C_raw.obs.replicate == '6'].copy()\n",
    "adata24C7_raw = adata24C_raw[adata24C_raw.obs.replicate == '7'].copy()\n",
    "adata24C8_raw = adata24C_raw[adata24C_raw.obs.replicate == '8'].copy()\n",
    "\n",
    "# subset perturbed data\n",
    "adata24P_raw = adata24_raw[adata24_raw.obs.treatment == 'hua']\n",
    "adata24E_raw = adata24_raw[adata24_raw.obs.treatment == 'emi']\n",
    "\n",
    "# hua data\n",
    "adata24P1_raw = adata24P_raw[adata24P_raw.obs.replicate == '1'].copy() \n",
    "adata24P2_raw = adata24P_raw[adata24P_raw.obs.replicate == '2'].copy()\n",
    "adata24P3_raw = adata24P_raw[adata24P_raw.obs.replicate == '3'].copy()\n",
    "adata24P4_raw = adata24P_raw[adata24P_raw.obs.replicate == '4'].copy()\n",
    "adata24P5_raw = adata24P_raw[adata24P_raw.obs.replicate == '5'].copy()\n",
    "\n",
    "# emi data:\n",
    "adata24P6_raw = adata24E_raw[adata24E_raw.obs.replicate == '6'].copy()\n",
    "adata24P7_raw = adata24E_raw[adata24E_raw.obs.replicate == '7'].copy()\n",
    "adata24P8_raw = adata24E_raw[adata24E_raw.obs.replicate == '8'].copy()\n",
    "\n"
   ]
  },
  {
   "cell_type": "code",
   "execution_count": 6,
   "metadata": {},
   "outputs": [],
   "source": [
    "# make dictionary of control and perturbed data to be able to iterate over:\n",
    "\n",
    "control_data = {'rep1': adata24C1_raw,'rep2': adata24C2_raw, 'rep3':adata24C3_raw ,\n",
    "                'rep4': adata24C4_raw, 'rep5': adata24C5_raw,\n",
    "               'rep6': adata24C6_raw,'rep7': adata24C7_raw, 'rep8':adata24C8_raw}\n",
    "perturbed_data = {'rep1': adata24P1_raw,'rep2': adata24P2_raw, 'rep3':adata24P3_raw ,\n",
    "                  'rep4': adata24P4_raw, 'rep5':adata24P5_raw,  \n",
    "                 'rep6': adata24P6_raw,'rep7': adata24P7_raw, 'rep8':adata24P8_raw}\n"
   ]
  },
  {
   "cell_type": "markdown",
   "metadata": {},
   "source": [
    "# Find highly variable genes in the control data"
   ]
  },
  {
   "cell_type": "code",
   "execution_count": 7,
   "metadata": {},
   "outputs": [
    {
     "name": "stdout",
     "output_type": "stream",
     "text": [
      "normalizing by total count per cell\n"
     ]
    },
    {
     "name": "stderr",
     "output_type": "stream",
     "text": [
      "/Users/kalki/opt/miniconda3/envs/cellcycle/lib/python3.10/site-packages/scanpy/preprocessing/_simple.py:524: ImplicitModificationWarning: Trying to modify attribute `.obs` of view, initializing view as actual.\n",
      "  adata.obs[key_n_counts] = counts_per_cell\n"
     ]
    },
    {
     "name": "stdout",
     "output_type": "stream",
     "text": [
      "    finished (0:00:01): normalized adata.X and added    'n_counts', counts per cell before normalization (adata.obs)\n",
      "filtered out 1923 genes that are detected in less than 3 cells\n",
      "extracting highly variable genes\n",
      "    finished (0:00:00)\n",
      "2639 genes passing filter\n",
      "first iteration of finding unimportant genes done\n",
      "second iteration of finding unimportant genes done\n"
     ]
    }
   ],
   "source": [
    "sc.pp.normalize_per_cell(adata24C_raw, counts_per_cell_after=10000)\n",
    "adata24C_raw_raw = adata24C_raw.copy()\n",
    "adata24C_raw.raw = adata24C_raw\n",
    "sc.pp.filter_genes(adata24C_raw, min_cells=3)\n",
    "\n",
    "# highly variable genes:\n",
    "filter_result = sc.pp.filter_genes_dispersion(adata24C_raw.X, min_mean=0.01, max_mean=3, min_disp=0.5)\n",
    "print('{} genes passing filter'.format(filter_result['gene_subset'].sum()))\n",
    "adata24C_raw = adata24C_raw[:,np.array(pd.DataFrame(filter_result)['gene_subset'])] # adata24C_raw with only variable genes\n",
    "\n",
    "# find unimportant genes:\n",
    "cc_genes_dan = ['cdk1','mcm2','mcm7','rrm2','cenpa', 'cdc6', 'ccnf', 'cdca4','ccnd1', 'kif4']\n",
    "house_keeping = ['hmgb1b', 'hmgb3a', 'hspd1', 'hspa9', 'rplp0', 'hnrnpaba', 'rps2',\n",
    "                  'rps12', 'rpl12', 'rps13', 'rps14', 'rps15a','rpl10', 'rps3a', \n",
    "                  'rpl31', 'rpl37', 'rps6', 'rpl9', 'rpl11', 'rpl34', 'rpl13', \n",
    "                  'rpl36a', 'rpl26', 'rps8a', 'rpl21','rps27.1','rpl27a', 'cirbpb']\n",
    "cc_hk_genes = cc_genes_dan + house_keeping\n",
    "unimportant_genes_iter1  = hf.corr_coeff(adata24C_raw, cc_hk_genes, 0.3)[1]\n",
    "print ('first iteration of finding unimportant genes done')\n",
    "unimportant_genes_iter2 = hf.corr_coeff(adata24C_raw, unimportant_genes_iter1, 0.3)[1]\n",
    "print ('second iteration of finding unimportant genes done')\n",
    "genes_to_remove  = list(set(cc_hk_genes + list(unimportant_genes_iter1) + list(unimportant_genes_iter2)))\n",
    "unimportant_genes_mask  = np.in1d(adata24C_raw.var_names,genes_to_remove )\n",
    "#adata24C_raw  = adata24C_raw[:,(1-unimportant_genes_mask).astype(bool)] # update adata24C_raw \n"
   ]
  },
  {
   "cell_type": "code",
   "execution_count": 8,
   "metadata": {},
   "outputs": [
    {
     "name": "stdout",
     "output_type": "stream",
     "text": [
      "first iteration of finding unimportant genes done\n",
      "second iteration of finding unimportant genes done\n"
     ]
    }
   ],
   "source": [
    "\n",
    "# find confounding genes:\n",
    "cc_genes_dan = ['cdk1','mcm2','mcm7','rrm2','cenpa', 'cdc6', 'ccnf', 'cdca4','ccnd1', 'kif4']\n",
    "house_keeping = ['hmgb1b', 'hmgb3a', 'hspd1', 'hspa9', 'rplp0', 'hnrnpaba', 'rps2',\n",
    "                  'rps12', 'rpl12', 'rps13', 'rps14', 'rps15a','rpl10', 'rps3a', \n",
    "                  'rpl31', 'rpl37', 'rps6', 'rpl9', 'rpl11', 'rpl34', 'rpl13', \n",
    "                  'rpl36a', 'rpl26', 'rps8a', 'rpl21','rps27.1','rpl27a', 'cirbpb']\n",
    "cc_hk_genes = cc_genes_dan + house_keeping\n",
    "unimportant_genes_iter1  = hf.corr_coeff(adata24C_raw, cc_hk_genes, 0.3)[1]\n",
    "print ('first iteration of finding unimportant genes done')\n",
    "unimportant_genes_iter2 = hf.corr_coeff(adata24C_raw, unimportant_genes_iter1, 0.3)[1]\n",
    "print ('second iteration of finding unimportant genes done')\n",
    "genes_to_remove  = list(set(cc_hk_genes + list(unimportant_genes_iter1) + list(unimportant_genes_iter2)))\n",
    "unimportant_genes_mask  = np.in1d(adata24C_raw.var_names,genes_to_remove )\n",
    "#adata24C_raw  = adata24C_raw[:,(1-unimportant_genes_mask).astype(bool)] # update adata24C_raw \n",
    "\n",
    "adata24C_raw  = adata24C_raw[:,(1-unimportant_genes_mask).astype(bool)] # update adata24C_raw \n"
   ]
  },
  {
   "cell_type": "code",
   "execution_count": 9,
   "metadata": {},
   "outputs": [],
   "source": [
    "high_var_genes = np.array(adata24C_raw.var_names)"
   ]
  },
  {
   "cell_type": "markdown",
   "metadata": {},
   "source": [
    "# Define functions to calculate similarity"
   ]
  },
  {
   "cell_type": "code",
   "execution_count": 10,
   "metadata": {},
   "outputs": [],
   "source": [
    "import sklearn.metrics\n",
    "\n",
    "# get centroids for expression of genes in a cell state\n",
    "def centroids(adata, group_name = 'cell_state'):\n",
    "    states_pd = pd.DataFrame(np.array(adata.obs.cell_state), columns = [group_name])\n",
    "\n",
    "    groups =states_pd.groupby(group_name).groups\n",
    "\n",
    "    # calculate centroids:\n",
    "    a = {}\n",
    "    ixfull = states_pd.index\n",
    "    for key,value in groups.items():\n",
    "        mask = np.in1d(ixfull,value)\n",
    "        a[key] = np.array(adata.X[mask,:].mean(axis=0))[0]\n",
    "\n",
    "    return pd.DataFrame(a, index = adata.var_names).T\n",
    "\n",
    "def similarity2(adata_1, adata_2, gene_list, state_list):\n",
    "\n",
    "    # use list of genes for similarity comparison:\n",
    "    adata1 = adata_1[:,gene_list].copy()\n",
    "    adata2 = adata_2[:,gene_list].copy()\n",
    "    \n",
    "    # find centroids of data sets:  \n",
    "    centroids1 = centroids(adata1)\n",
    "    centroids2 = centroids(adata2)\n",
    "    \n",
    "    # remove the states that are not present in both centroid dataframes so you can calculate \n",
    "    # similarity scores\n",
    "    if len(set(centroids1.index) - set(centroids2.index)) != 0:\n",
    "        for state_names in (set(centroids1.index) - set(centroids2.index)):\n",
    "            centroids1 = centroids1.drop(state_names, axis = 0)\n",
    "    if len(set(centroids2.index) - set(centroids1.index)) != 0:\n",
    "        for state_names in (set(centroids2.index) - set(centroids1.index)):\n",
    "            centroids2 = centroids2.drop(state_names, axis = 0)\n",
    "        \n",
    "    \n",
    "    # calculate similarity\n",
    "    state_similarity = sklearn.metrics.pairwise.cosine_similarity(centroids1, \n",
    "                                                                centroids2, dense_output=True)\n",
    "    similarity_diagonal = pd.DataFrame(pd.Series(np.diagonal(state_similarity)))\n",
    "    similarity_diagonal.index = centroids2.index\n",
    "    \n",
    "    if len(set(state_list) - set(similarity_diagonal.index)) != 0:\n",
    "        for state_names in set(state_list) - set(similarity_diagonal.index):\n",
    "            similarity_diagonal.loc[state_names] = float('nan')\n",
    "    similarity_diagonal = similarity_diagonal.sort_index()\n",
    "    \n",
    "    return similarity_diagonal"
   ]
  },
  {
   "cell_type": "markdown",
   "metadata": {},
   "source": [
    "# Find similarity"
   ]
  },
  {
   "cell_type": "markdown",
   "metadata": {},
   "source": [
    "## c v. hua"
   ]
  },
  {
   "cell_type": "code",
   "execution_count": 11,
   "metadata": {},
   "outputs": [],
   "source": [
    "states24 = np.array(list(set(adata24.obs.cell_state)))\n"
   ]
  },
  {
   "cell_type": "code",
   "execution_count": 12,
   "metadata": {
    "scrolled": true
   },
   "outputs": [],
   "source": [
    "\n",
    "# make dictionary of similarities of each pair wise comparison: \n",
    "similarity_dict_chua = {}\n",
    "for r1 in ['1','2','3','4','5','6','7','8']:\n",
    "    for r2 in ['1','2','3','4','5']:\n",
    "\n",
    "        similarity_dict_chua['c{}_p{}'.format(r1,r2)] = similarity2(control_data['rep{}'.format(r1)],\n",
    "                                                              perturbed_data['rep{}'.format(r2)],\n",
    "                                                              gene_list = high_var_genes,\n",
    "                                                              state_list = states24)            \n",
    "\n",
    "            "
   ]
  },
  {
   "cell_type": "code",
   "execution_count": 13,
   "metadata": {},
   "outputs": [],
   "source": [
    "similarity_chua_pd = pd.DataFrame(index = similarity_dict_chua['c1_p1'].index)\n",
    "\n",
    "for k,v in similarity_dict_chua.items():\n",
    "    similarity_chua_pd[k]=v"
   ]
  },
  {
   "cell_type": "markdown",
   "metadata": {},
   "source": [
    "## c v. c and p v. p"
   ]
  },
  {
   "cell_type": "code",
   "execution_count": 14,
   "metadata": {},
   "outputs": [],
   "source": [
    "# similary by comparing c v. c\n",
    "\n",
    "similarity_dict_baseline = {}\n",
    "for r1 in ['1','2','3','4','5','6','7','8']:\n",
    "    for r2 in ['1','2','3','4','5','6','7','8']:\n",
    "        if r2>r1:\n",
    "            similarity_dict_baseline['c{}_c{}'.format(r1,r2)] = similarity2(control_data['rep{}'.format(r1)],\n",
    "                                                                            control_data['rep{}'.format(r2)],\n",
    "                                                                            gene_list = high_var_genes,\n",
    "                                                                            state_list = states24)\n"
   ]
  },
  {
   "cell_type": "code",
   "execution_count": 15,
   "metadata": {},
   "outputs": [],
   "source": [
    "# similary by comparing hua v. hua:\n",
    "\n",
    "for r1 in ['1','2','3','4','5']:\n",
    "    for r2 in ['1','2','3','4','5']:\n",
    "        if r2>r1:\n",
    "            similarity_dict_baseline['p{}_p{}'.format(r1,r2)] = similarity2(perturbed_data['rep{}'.format(r1)],\n",
    "                                                                            perturbed_data['rep{}'.format(r2)],\n",
    "                                                                            gene_list = high_var_genes,\n",
    "                                                                            state_list = states24)\n",
    "           \n",
    "        \n",
    "\n"
   ]
  },
  {
   "cell_type": "code",
   "execution_count": 16,
   "metadata": {},
   "outputs": [],
   "source": [
    "# similary by comparing emi v. emi:\n",
    "\n",
    "for r1 in ['6','7','8']:\n",
    "    for r2 in ['6','7','8']:\n",
    "        if r2>r1:\n",
    "            similarity_dict_baseline['p{}_p{}'.format(r1,r2)] = similarity2(perturbed_data['rep{}'.format(r1)],\n",
    "                                                                            perturbed_data['rep{}'.format(r2)],\n",
    "                                                                            gene_list = high_var_genes,\n",
    "                                                                            state_list = states24)\n",
    "           \n",
    "        \n",
    "\n"
   ]
  },
  {
   "cell_type": "code",
   "execution_count": 17,
   "metadata": {},
   "outputs": [],
   "source": [
    "similarity_baseline_pd = pd.DataFrame(index = similarity_dict_baseline['c1_c2'].index)\n",
    "\n",
    "for k,v in similarity_dict_baseline.items():\n",
    "    similarity_baseline_pd[k]=v"
   ]
  },
  {
   "cell_type": "markdown",
   "metadata": {},
   "source": [
    "## c v. emi"
   ]
  },
  {
   "cell_type": "code",
   "execution_count": 18,
   "metadata": {
    "scrolled": true
   },
   "outputs": [],
   "source": [
    "\n",
    "# make dictionary of similarities of each pair wise comparison: \n",
    "similarity_dict_cemi = {}\n",
    "for r1 in ['1','2','3','4','5','6','7','8']:\n",
    "    for r2 in ['6','7','8']:\n",
    "\n",
    "        similarity_dict_cemi['c{}_p{}'.format(r1,r2)] = similarity2(control_data['rep{}'.format(r1)],\n",
    "                                                              perturbed_data['rep{}'.format(r2)],\n",
    "                                                              gene_list = high_var_genes,\n",
    "                                                              state_list = states24)            \n",
    "\n",
    "            "
   ]
  },
  {
   "cell_type": "code",
   "execution_count": 19,
   "metadata": {},
   "outputs": [],
   "source": [
    "similarity_cemi_pd = pd.DataFrame(index = similarity_dict_cemi['c1_p6'].index)\n",
    "\n",
    "for k,v in similarity_dict_cemi.items():\n",
    "    similarity_cemi_pd[k]=v"
   ]
  },
  {
   "cell_type": "markdown",
   "metadata": {},
   "source": [
    "## c v. 6h"
   ]
  },
  {
   "cell_type": "code",
   "execution_count": 20,
   "metadata": {},
   "outputs": [],
   "source": [
    "adata6_raw, adata6 = sc.read_h5ad('../../../../4.Indrops5/data/anndata_objects/adata6_raw.h5ad'), sc.read_h5ad('../../../../4.Indrops5/data/anndata_objects/adata8_processed.h5ad')\n"
   ]
  },
  {
   "cell_type": "code",
   "execution_count": 21,
   "metadata": {
    "scrolled": true
   },
   "outputs": [
    {
     "name": "stdout",
     "output_type": "stream",
     "text": [
      "normalizing by total count per cell\n",
      "    finished (0:00:00): normalized adata.X and added    'n_counts', counts per cell before normalization (adata.obs)\n"
     ]
    }
   ],
   "source": [
    "# normalize counts:\n",
    "sc.pp.normalize_per_cell(adata6_raw, counts_per_cell_after=10000)\n",
    "\n",
    "# subset data according to replicates\n",
    "adata6C2_raw = adata6_raw[adata6_raw.obs.replicate == '2']\n",
    "adata6C3_raw = adata6_raw[adata6_raw.obs.replicate == '3']\n"
   ]
  },
  {
   "cell_type": "code",
   "execution_count": 22,
   "metadata": {},
   "outputs": [],
   "source": [
    "control_data6 = {'rep1': adata6C2_raw, 'rep2':adata6C3_raw }\n"
   ]
  },
  {
   "cell_type": "markdown",
   "metadata": {},
   "source": [
    "# Calculate mean similarity and sem"
   ]
  },
  {
   "cell_type": "code",
   "execution_count": 23,
   "metadata": {
    "scrolled": true
   },
   "outputs": [],
   "source": [
    "# calculate mean\n",
    "\n",
    "similarity_chua_mean = similarity_chua_pd.mean(axis = 1)\n",
    "similarity_cemi_mean = similarity_cemi_pd.mean(axis = 1)\n",
    "similarity_baseline_mean = similarity_baseline_pd.mean(axis=1)\n"
   ]
  },
  {
   "cell_type": "code",
   "execution_count": 24,
   "metadata": {},
   "outputs": [],
   "source": [
    "# standard error of mean for similarities:\n",
    "\n",
    "from scipy import stats\n",
    "\n",
    "# baseline:\n",
    "sem_baseline =  stats.sem(similarity_baseline_pd.T, nan_policy = 'omit')\n",
    "\n",
    "# chua:\n",
    "sem_chua=  stats.sem(similarity_chua_pd.T, nan_policy = 'omit')\n",
    "\n",
    "# cemi: \n",
    "sem_cemi=  stats.sem(similarity_cemi_pd.T, nan_policy = 'omit')\n"
   ]
  },
  {
   "cell_type": "markdown",
   "metadata": {},
   "source": [
    "# Plot similarity"
   ]
  },
  {
   "cell_type": "code",
   "execution_count": 27,
   "metadata": {},
   "outputs": [
    {
     "data": {
      "image/png": "[encoded data removed]",
      "text/plain": [
       "<Figure size 200x300 with 1 Axes>"
      ]
     },
     "metadata": {
      "image/png": {
       "height": 266,
       "width": 212
      }
     },
     "output_type": "display_data"
    }
   ],
   "source": [
    "similarity_baseline_meanpd = pd.DataFrame(similarity_baseline_mean)\n",
    "similarity_baseline_meanpd['comparison'] = 'baseline'*np.ones(similarity_baseline_mean.shape[0],dtype = object)\n",
    "\n",
    "similarity_chua_meanpd = pd.DataFrame(similarity_chua_mean)\n",
    "similarity_chua_meanpd['comparison'] = 'chua'*np.ones(similarity_chua_mean.shape[0],dtype = object)\n",
    "\n",
    "similarity_cemi_meanpd = pd.DataFrame(similarity_cemi_mean)\n",
    "similarity_cemi_meanpd['comparison'] = 'cemi'*np.ones(similarity_cemi_mean.shape[0],dtype = object)\n",
    "\n",
    "distance_baseline_meanpd = pd.DataFrame(1-similarity_baseline_mean)\n",
    "distance_baseline_meanpd['comparison'] = 'baseline'*np.ones(similarity_baseline_mean.shape[0],dtype = object)\n",
    "\n",
    "distance_chua_meanpd = pd.DataFrame(1-similarity_chua_mean)\n",
    "distance_chua_meanpd['comparison'] = 'chua'*np.ones(similarity_chua_mean.shape[0],dtype = object)\n",
    "\n",
    "distance_cemi_meanpd = pd.DataFrame(1-similarity_cemi_mean)\n",
    "distance_cemi_meanpd['comparison'] = 'cemi'*np.ones(similarity_cemi_mean.shape[0],dtype = object)\n",
    "\n",
    "similarity_sn = pd.concat([similarity_baseline_meanpd,similarity_cemi_meanpd,similarity_chua_meanpd])\n",
    "\n",
    "similarity_plot_pd = pd.concat([pd.DataFrame(similarity_baseline_mean), pd.DataFrame(similarity_cemi_mean),\n",
    "                                pd.DataFrame(similarity_chua_mean)], axis=1)\n",
    "similarity_plot_pd.columns = ['baseline','cemi','chua']\n",
    "\n",
    "distance_sn = pd.concat([distance_baseline_meanpd,distance_cemi_meanpd,distance_chua_meanpd])\n",
    "\n",
    "#distance_plot_pd = pd.concat([pd.DataFrame(distance_baseline_meanpd), pd.DataFrame(distance_chua_mean),\n",
    "#                                pd.DataFrame(distance_cemi_mean)], axis=1)\n",
    "#distance_plot_pd.columns = ['baseline','chua','cemi']\n",
    "\n",
    "import seaborn as sn\n",
    "my_pal = {\"baseline\": \"lightgrey\", \"cemi\":emi_color, \"chua\": hua_color}\n",
    "\n",
    "\n",
    "\n",
    "\n",
    "\n",
    "fig = pl.figure(figsize = (2,3))\n",
    "pl.rcParams['pdf.fonttype'] = 42\n",
    "\n",
    "#sn.boxplot(x='comparison',y=0,data=distance_sn, palette = my_pal , linewidth = 1,\n",
    "#           width = 0.6)\n",
    "\n",
    "sn.barplot(x='comparison',y=0,data=distance_sn, palette = my_pal , linewidth = 1)\n",
    "\n",
    "pl.xticks([])\n",
    "pl.ylim((0,1))\n",
    "pl.yticks(fontname = 'Arial')\n",
    "pl.ylabel(None)\n",
    "pl.xlabel(None)\n",
    "sn.despine()\n",
    "\n",
    "pl.grid(False)\n",
    "\n",
    "#fig.savefig(\"../../figures/final_figures/state_distance_all.pdf\", bbox_inches='tight')\n",
    "\n"
   ]
  },
  {
   "cell_type": "code",
   "execution_count": 28,
   "metadata": {},
   "outputs": [],
   "source": [
    "distance_chua_meanpd[0].to_csv(path_or_buf='../../../data/dgpa/22-01-29_distance24_chua.csv', sep=',')\n",
    "distance_cemi_meanpd[0].to_csv(path_or_buf='../../../data/dgpa/22-01-29_distance24_chua.csv', sep=',')\n",
    "distance_baseline_meanpd[0].to_csv(path_or_buf='../../../data/dgpa/22-01-29_distance24_baseline.csv', sep=',')"
   ]
  },
  {
   "cell_type": "code",
   "execution_count": 29,
   "metadata": {},
   "outputs": [],
   "source": [
    "distance_baseline_meanpd8 = pd.read_table('../../../data/dgpa/22-01-29_distance8_baseline.csv', sep=',', index_col = 0)\n",
    "distance_baseline_meanpd10 = pd.read_table('../../../data/dgpa/22-01-29_distance10_baseline.csv', sep=',', index_col = 0)\n",
    "distance_baseline_meanpd14 = pd.read_table('../../../data/dgpa/22-01-29_distance14_baseline.csv', sep=',', index_col = 0)\n",
    "\n",
    "distance_meanpd8 = pd.read_table('../../../data/dgpa/22-01-29_distance8_chua.csv', sep=',', index_col = 0)\n",
    "distance_meanpd10 = pd.read_table('../../../data/dgpa/22-01-29_distance10_chua.csv', sep=',', index_col = 0)\n",
    "distance_meanpd14 = pd.read_table('../../../data/dgpa/22-01-29_distance14_chua.csv', sep=',', index_col = 0)\n",
    "\n"
   ]
  },
  {
   "cell_type": "code",
   "execution_count": 31,
   "metadata": {},
   "outputs": [
    {
     "name": "stderr",
     "output_type": "stream",
     "text": [
      "/var/folders/jd/x961ps155v79krncxn3p4nhm0000gq/T/ipykernel_16620/2695488201.py:7: FutureWarning: The default value of numeric_only in DataFrame.mean is deprecated. In a future version, it will default to False. In addition, specifying 'numeric_only=None' is deprecated. Select only valid columns or specify the value of numeric_only to silence this warning.\n",
      "  distance_baseline_meanpd.mean()[0], distance_cemi_meanpd.mean()[0], distance_chua_meanpd.mean()[0]])\n"
     ]
    }
   ],
   "source": [
    "ctrl_col, hua_col, emi_col =  '#C8C8C8','#e78ac3' , '#00cdcd'\n",
    "bar_colors = np.array([ctrl_col, hua_col, ctrl_col, hua_color, ctrl_col, hua_color, ctrl_col, emi_color, hua_color])\n",
    "x_axis = np.array([0,0.5,1.5,2,3,3.5,4.5,5,5.5])\n",
    "y_axis = np.array([distance_baseline_meanpd8.mean()[0], distance_meanpd8.mean()[0],\n",
    "                  distance_baseline_meanpd10.mean()[0], distance_meanpd10.mean()[0],\n",
    "                  distance_baseline_meanpd14.mean()[0], distance_meanpd14.mean()[0],\n",
    "                  distance_baseline_meanpd.mean()[0], distance_cemi_meanpd.mean()[0], distance_chua_meanpd.mean()[0]])\n",
    "\n",
    "bar_sems = np.array([ss.sem(distance_baseline_meanpd8)[0], ss.sem(distance_meanpd8)[0],\n",
    "                  ss.sem(distance_baseline_meanpd10)[0], ss.sem(distance_meanpd10)[0],\n",
    "                  ss.sem(distance_baseline_meanpd14)[0], ss.sem(distance_meanpd14)[0],\n",
    "                  ss.sem(distance_baseline_meanpd[0]), ss.sem(distance_cemi_meanpd[0]), \n",
    "                     ss.sem(distance_chua_meanpd[0]) ]) \n",
    "\n"
   ]
  },
  {
   "cell_type": "code",
   "execution_count": 42,
   "metadata": {},
   "outputs": [
    {
     "name": "stderr",
     "output_type": "stream",
     "text": [
      "1 extra bytes in post.stringData array\n",
      "'created' timestamp seems very low; regarding as unix timestamp\n",
      "Zapf NOT subset; don't know how to subset; dropped\n",
      "feat NOT subset; don't know how to subset; dropped\n",
      "meta NOT subset; don't know how to subset; dropped\n",
      "morx NOT subset; don't know how to subset; dropped\n"
     ]
    },
    {
     "data": {
      "image/png": "[encoded data removed]",
      "text/plain": [
       "<Figure size 320x320 with 1 Axes>"
      ]
     },
     "metadata": {
      "image/png": {
       "height": 292,
       "width": 306
      }
     },
     "output_type": "display_data"
    }
   ],
   "source": [
    "pl.figure(figsize = (4/1.25,4/1.25))\n",
    "pl.bar(x_axis, y_axis, color = bar_colors, width = 0.48, yerr = bar_sems, ecolor = 'black', alpha = 0.9)\n",
    "pl.grid(False)\n",
    "pl.xticks([0.25,1.75,3.25,5], labels = [8,10,14,24], fontname = 'Helvetica')\n",
    "pl.yticks( fontname = 'Helvetica')\n",
    "sn.despine()\n",
    "\n",
    "pl.savefig(\"../../../figures/23-01-15_cosine_distance.pdf\", bbox_inches='tight', dpi = 300)\n",
    "#pl.ylim((0,0.6))"
   ]
  }
 ],
 "metadata": {
  "kernelspec": {
   "display_name": "Python 3 (ipykernel)",
   "language": "python",
   "name": "python3"
  },
  "language_info": {
   "codemirror_mode": {
    "name": "ipython",
    "version": 3
   },
   "file_extension": ".py",
   "mimetype": "text/x-python",
   "name": "python",
   "nbconvert_exporter": "python",
   "pygments_lexer": "ipython3",
   "version": "3.10.8"
  }
 },
 "nbformat": 4,
 "nbformat_minor": 4
}
