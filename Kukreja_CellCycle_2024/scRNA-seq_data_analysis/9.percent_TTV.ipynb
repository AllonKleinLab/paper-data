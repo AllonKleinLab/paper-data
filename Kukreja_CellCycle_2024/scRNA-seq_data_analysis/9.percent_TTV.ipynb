{
 "cells": [
  {
   "cell_type": "markdown",
   "id": "b26fbe7a-e643-44ff-a419-c3e69c40c560",
   "metadata": {},
   "source": [
    "# Set up"
   ]
  },
  {
   "cell_type": "code",
   "execution_count": 1,
   "id": "de3fda4f-3c0e-4351-89c2-0b3ad6f4a5d3",
   "metadata": {},
   "outputs": [],
   "source": [
    "import numpy as np, pandas as pd, matplotlib.pyplot as pl, scipy.sparse as ssp\n",
    "import scanpy as sc,scanpy.external as sce\n",
    "import os\n",
    "import sys\n",
    "#sys.path.append('/Users/kalki/Dropbox (HMS)/PhD_lab/SPRING_dev/data_prep/')\n",
    "sys.path.append('/Users/kalki/Dropbox (HMS)/PhD_lab/SPRING_dev/data_prep/')\n",
    "\n",
    "import helper_functions_py3 as hf\n",
    "\n",
    "sc.settings.verbosity = 2  # verbosity: errors (0), warnings (1), info (2), hints (3)\n",
    "sc.settings.set_figure_params(dpi=100)  # low dpi (dots per inch) yields small inline figures\n",
    "\n",
    "import seaborn as sn\n",
    "\n",
    "import statsmodels.formula.api as smf \n",
    "import statsmodels.api as sm"
   ]
  },
  {
   "cell_type": "markdown",
   "id": "9dae0b63-8530-4c67-b7e2-ec5fee9bf981",
   "metadata": {},
   "source": [
    "# Load data"
   ]
  },
  {
   "cell_type": "code",
   "execution_count": 2,
   "id": "7cf67d3b-e476-4511-92e8-97eab11d86a1",
   "metadata": {},
   "outputs": [],
   "source": [
    "# load adata:\n",
    "\n",
    "adata = sc.read_h5ad('../../../data/anndata_objects/adata6_8_10_14_18c_21c_24_pr.h5ad')\n"
   ]
  },
  {
   "cell_type": "code",
   "execution_count": 3,
   "id": "2b0dfddb-ead4-49b2-a10b-f89dee18126d",
   "metadata": {
    "tags": []
   },
   "outputs": [],
   "source": [
    "# load cnmf data:\n",
    "\n",
    "# usage and spectra70 from cnmf \n",
    "\n",
    "cnmf_dir = '../../../data/cnmf_6_8_10_14_18c_21c_24/'\n",
    "\n",
    "name = 'run1'\n",
    "cnmf_k70 = 70\n",
    "cnmf_dt = '0_2'\n",
    "\n",
    "\n",
    "usage_matrix70 = pd.read_csv(f'{cnmf_dir}/{name}.usages.k_{cnmf_k70}.dt_{cnmf_dt}.consensus.txt', sep='\\t', index_col=0)\n",
    "usage_matrix70.columns = np.arange(0,cnmf_k70)\n",
    "normalized_usage_matrix70 = usage_matrix70.div(usage_matrix70.sum(axis=1), axis=0)\n",
    "\n",
    "spectra70 = pd.read_csv(f'{cnmf_dir}/{name}.spectra.k_{cnmf_k70}.dt_{cnmf_dt}.consensus.txt', sep='\\t', index_col=0)\n",
    "spectra70_norm = spectra70.div(spectra70.sum(0), axis='columns')\n",
    "\n",
    "usage_matrix70 = usage_matrix70\n",
    "normalized_usage_matrix70 = normalized_usage_matrix70\n",
    "\n",
    "adata.obsm['usages70'] = normalized_usage_matrix70.values\n",
    "\n"
   ]
  },
  {
   "cell_type": "code",
   "execution_count": 4,
   "id": "fd8d60d1-b6d2-41b2-95c9-1ffa3f73af40",
   "metadata": {},
   "outputs": [],
   "source": [
    "# subset data to include time points beyond 14 h:\n",
    "\n",
    "adata_subset = adata[adata.obs.time_point.isin(['14','18','21','24'])].copy()\n",
    "normalized_usage_matrix70_subset = normalized_usage_matrix70[np.array(adata.obs.time_point.isin(['14','18','21','24']))]"
   ]
  },
  {
   "cell_type": "markdown",
   "id": "ab829d93-6c8d-4ae5-a1a4-45121e06932a",
   "metadata": {},
   "source": [
    "# Delta perturbed"
   ]
  },
  {
   "cell_type": "code",
   "execution_count": 27,
   "id": "e0493904",
   "metadata": {},
   "outputs": [],
   "source": [
    "# delta perturbed:\n",
    "\n",
    "obs_subset = adata_subset_raw.obs # subset to only include 14 hpf and beyond\n",
    "mask24h = (obs_subset.treatment == 'hua')*(obs_subset.time_point == '24') \n",
    "mask24c1 = (obs_subset.treatment == 'control')*(obs_subset.time_point == '24')*(obs_subset.replicate.isin(['1','2','3','4','5']))\n",
    "mask24e =  obs_subset.treatment == 'emi'\n",
    "mask24c2 = (obs_subset.treatment == 'control')*(obs_subset.replicate.isin(['6','7','8']))\n"
   ]
  },
  {
   "cell_type": "code",
   "execution_count": 29,
   "id": "b9c5251d-57fb-4e25-b08c-39588de8ffde",
   "metadata": {},
   "outputs": [],
   "source": [
    "# make cell type by program matrix:\n",
    "\n",
    "# list of cell states:\n",
    "cell_states24 = np.array(list(set(obs_subset[obs_subset.time_point == '24'].cell_states)))\n",
    "cell_states24.sort()\n",
    "\n",
    "# initialize matrices:\n",
    "state_usage24c1 = np.zeros((cell_states24.shape[0], normalized_usage_matrix70.shape[1]))\n",
    "state_usage24h = np.zeros((cell_states24.shape[0], normalized_usage_matrix70.shape[1]))\n",
    "\n",
    "state_usage24c2 = np.zeros((cell_states24.shape[0], normalized_usage_matrix70.shape[1]))\n",
    "state_usage24e = np.zeros((cell_states24.shape[0], normalized_usage_matrix70.shape[1]))\n",
    "\n",
    "\n",
    "# cell type x program matrix for control and hua 24 hpf data\n",
    "for i,states in enumerate(cell_states24):\n",
    "    maskc1 = np.array(mask24c1)*np.array(obs_subset.cell_states == states)\n",
    "    state_usage24c1[i,:] = normalized_usage_matrix70_subset[maskc1].mean(axis=0)\n",
    "    \n",
    "    maskh = np.array(mask24h)*np.array(obs_subset.cell_states == states)\n",
    "    state_usage24h[i,:] = normalized_usage_matrix70_subset[maskh].mean(axis=0)\n",
    "\n",
    "    maskc2 = np.array(mask24c2)*np.array(obs_subset.cell_states == states)\n",
    "    state_usage24c2[i,:] = normalized_usage_matrix70_subset[maskc2].mean(axis=0)\n",
    "    \n",
    "    maske = np.array(mask24e)*np.array(obs_subset.cell_states == states)\n",
    "    state_usage24e[i,:] = normalized_usage_matrix70_subset[maske].mean(axis=0)\n",
    "\n",
    "# delta p = hua usage - control usage\n",
    "delta_p = state_usage24h - state_usage24c1\n",
    "delta_p2 = state_usage24e - state_usage24c2\n",
    "\n"
   ]
  },
  {
   "cell_type": "code",
   "execution_count": 30,
   "id": "c345df2c-e583-4dbd-9926-eda7df44a618",
   "metadata": {},
   "outputs": [],
   "source": [
    "delta_p_pd = pd.DataFrame(delta_p)\n",
    "delta_p_pd.index = cell_states24\n",
    "\n",
    "delta_p2_pd = pd.DataFrame(delta_p2)\n",
    "delta_p2_pd.index = cell_states24"
   ]
  },
  {
   "cell_type": "markdown",
   "id": "218e3c53-6253-4b9c-afd6-300cf10804b3",
   "metadata": {},
   "source": [
    "# Contribution of global program"
   ]
  },
  {
   "cell_type": "code",
   "execution_count": 8,
   "id": "a71bedb0-a9e2-412c-82cf-7de2869ff1a8",
   "metadata": {},
   "outputs": [],
   "source": [
    "global_hua = np.zeros(cell_states24.shape[0])\n",
    "global_emi = np.zeros(cell_states24.shape[0])\n",
    "\n",
    "for i,states in enumerate(cell_states24):\n",
    "    global_hua[i] = delta_p[i,31]/np.sqrt(np.sum(delta_p[i,:]**2))\n",
    "    global_emi[i] = delta_p[i,52]/np.sqrt(np.sum(delta_p[i,:]**2))\n",
    "\n",
    "global_hua = pd.DataFrame(global_hua)\n",
    "global_hua.index = cell_states24\n",
    "\n",
    "global_emi = pd.DataFrame(global_emi)\n",
    "global_emi.index = cell_states24"
   ]
  },
  {
   "cell_type": "code",
   "execution_count": 43,
   "id": "e5f6fcd0-1f34-45a4-a6df-ce711787581a",
   "metadata": {},
   "outputs": [],
   "source": [
    "median_contri_h = np.median(100*np.sqrt(delta_p**2/np.sum(delta_p**2, axis=1)[:,np.newaxis]), axis=0)\n",
    "median_contri_h = pd.DataFrame(median_contri_h)\n",
    "\n",
    "median_contri_e = np.median(100*np.sqrt(delta_p2**2/np.sum(delta_p2**2, axis=1)[:,np.newaxis]), axis=0)\n",
    "median_contri_e = pd.DataFrame(median_contri_e)"
   ]
  },
  {
   "cell_type": "code",
   "execution_count": 78,
   "id": "0ff1e34f-593d-474c-bf4c-eccf015027fe",
   "metadata": {},
   "outputs": [],
   "source": [
    "mean_contri_h = np.mean(100*np.sqrt(delta_p**2/np.sum(delta_p**2, axis=1)[:,np.newaxis]), axis=0)\n",
    "mean_contri_h = pd.DataFrame(mean_contri_h)\n",
    "\n",
    "mean_contri_e = np.mean(100*np.sqrt(delta_p2**2/np.sum(delta_p2**2, axis=1)[:,np.newaxis]), axis=0)\n",
    "mean_contri_e = pd.DataFrame(mean_contri_e)"
   ]
  },
  {
   "cell_type": "code",
   "execution_count": 180,
   "id": "1484b249-b442-427f-9dcf-e0864ed8d452",
   "metadata": {},
   "outputs": [
    {
     "data": {
      "image/png": "[encoded data removed]",
      "text/plain": [
       "<Figure size 300x300 with 1 Axes>"
      ]
     },
     "metadata": {
      "image/png": {
       "height": 275,
       "width": 281
      }
     },
     "output_type": "display_data"
    }
   ],
   "source": [
    "\n",
    "ctrl_color = \"lightgrey\"\n",
    "hua_color = '#e78ac3'\n",
    "emi_color = '#00cdcd'\n",
    "\n",
    "\n",
    "pl.figure(figsize=(3,3))\n",
    "pl.hist(100*np.sqrt((delta_p[:,31]+delta_p[:,52])**2/(delta_p**2).sum(1)), color = hua_color, alpha = 0.7, rasterized = True)\n",
    "pl.grid(False)\n",
    "pl.xticks([0,25,50,75,100], fontname = 'Helvetica')\n",
    "pl.yticks(fontname='Helvetica')\n",
    "\n",
    "sn.despine()\n",
    "\n",
    "\n",
    "pl.savefig('../../../figures/23-01-23_hua_hist.pdf',dpi = 200, bbox_inches='tight')\n"
   ]
  },
  {
   "cell_type": "code",
   "execution_count": 179,
   "id": "3439aae0-81e9-4798-af74-1581accd49e2",
   "metadata": {},
   "outputs": [
    {
     "data": {
      "image/png": "[encoded data removed]",
      "text/plain": [
       "<Figure size 300x300 with 1 Axes>"
      ]
     },
     "metadata": {
      "image/png": {
       "height": 275,
       "width": 290
      }
     },
     "output_type": "display_data"
    }
   ],
   "source": [
    "pl.figure(figsize=(3,3))\n",
    "pl.hist(100*np.sqrt((delta_p2[:,31]+delta_p2[:,52])**2/(delta_p2**2).sum(1)), color = emi_color, alpha = 0.7, rasterized = True)\n",
    "pl.grid(False)\n",
    "pl.xticks([0,25,50,75,100], fontname = 'Helvetica')\n",
    "pl.yticks(fontname='Helvetica')\n",
    "sn.despine()\n",
    "pl.savefig('../../../figures/23-01-23_emi_hist.pdf',dpi = 200, bbox_inches='tight')\n"
   ]
  },
  {
   "cell_type": "code",
   "execution_count": 165,
   "id": "5c6d8ec5-a496-4228-a8a3-51e0b9fc9d4c",
   "metadata": {},
   "outputs": [
    {
     "data": {
      "image/png": "[encoded data removed]",
      "text/plain": [
       "<Figure size 200x300 with 1 Axes>"
      ]
     },
     "metadata": {
      "image/png": {
       "height": 283,
       "width": 231
      }
     },
     "output_type": "display_data"
    }
   ],
   "source": [
    "pl.figure(figsize=(2,3))\n",
    "\n",
    "pl.hist(100*np.median(np.sqrt(delta_p**2/(delta_p**2).sum(1)[:,np.newaxis]), axis = 0),color = hua_color, rasterized = True)\n",
    "\n",
    "pl.xticks([0,25,50,75,100], fontname = 'Helvetica')\n",
    "pl.grid(False)\n",
    "pl.yscale('log')\n",
    "pl.yticks([1,10,100],fontname='Helvetica')\n",
    "\n",
    "sn.despine()\n",
    "pl.savefig('../../../figures/23-01-23_median_all_progs_hua.pdf',dpi = 200, bbox_inches='tight')\n"
   ]
  },
  {
   "cell_type": "code",
   "execution_count": 166,
   "id": "4c962ded-75ba-4321-aa4b-6f1da47b9c04",
   "metadata": {},
   "outputs": [
    {
     "data": {
      "image/png": "[encoded data removed]",
      "text/plain": [
       "<Figure size 200x300 with 1 Axes>"
      ]
     },
     "metadata": {
      "image/png": {
       "height": 283,
       "width": 231
      }
     },
     "output_type": "display_data"
    }
   ],
   "source": [
    "pl.figure(figsize=(2,3))\n",
    "\n",
    "pl.hist(100*np.median(np.sqrt(delta_p2**2/(delta_p2**2).sum(1)[:,np.newaxis]), axis = 0),color = emi_color, rasterized = True)\n",
    "\n",
    "pl.xticks([0,25,50,75,100], fontname = 'Helvetica')\n",
    "pl.yticks(fontname='Helvetica')\n",
    "pl.grid(False)\n",
    "sn.despine()\n",
    "pl.yscale('log')\n",
    "pl.yticks([1,10,100],fontname='Helvetica')\n",
    "\n",
    "\n",
    "pl.savefig('../../../figures/23-01-23_median_all_progs_emi.pdf',dpi = 200, bbox_inches='tight')\n"
   ]
  }
 ],
 "metadata": {
  "kernelspec": {
   "display_name": "Python 3 (ipykernel)",
   "language": "python",
   "name": "python3"
  },
  "language_info": {
   "codemirror_mode": {
    "name": "ipython",
    "version": 3
   },
   "file_extension": ".py",
   "mimetype": "text/x-python",
   "name": "python",
   "nbconvert_exporter": "python",
   "pygments_lexer": "ipython3",
   "version": "3.10.8"
  },
  "toc-autonumbering": true
 },
 "nbformat": 4,
 "nbformat_minor": 5
}
