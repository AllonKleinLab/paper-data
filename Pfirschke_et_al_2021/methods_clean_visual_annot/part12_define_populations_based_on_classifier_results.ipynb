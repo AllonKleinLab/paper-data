{
 "cells": [
  {
   "cell_type": "markdown",
   "metadata": {},
   "source": [
    "# Define populations based on classifier results"
   ]
  },
  {
   "cell_type": "markdown",
   "metadata": {},
   "source": [
    "## Import statements"
   ]
  },
  {
   "cell_type": "code",
   "execution_count": 1,
   "metadata": {},
   "outputs": [],
   "source": [
    "import os,sys\n",
    "import datetime"
   ]
  },
  {
   "cell_type": "code",
   "execution_count": 2,
   "metadata": {},
   "outputs": [
    {
     "name": "stdout",
     "output_type": "stream",
     "text": [
      "scanpy==1.4.4.post1 anndata==0.6.22.post1 umap==0.3.7 numpy==1.15.4 scipy==1.3.1 pandas==0.23.4 scikit-learn==0.20.1 statsmodels==0.10.1 python-igraph==0.7.1 louvain==0.6.1\n",
      "Memory usage: current 0.19 GB, difference +0.19 GB\n"
     ]
    }
   ],
   "source": [
    "import scanpy as sc\n",
    "sc.logging.print_versions()\n",
    "sc.logging.print_memory_usage()\n",
    "sc.settings.verbosity = 2"
   ]
  },
  {
   "cell_type": "code",
   "execution_count": 3,
   "metadata": {},
   "outputs": [],
   "source": [
    "## This cell is run once to download my custom functions and import statements from github\n",
    "#\n",
    "#!git clone --depth=1 https://github.com/rapolaszilionis/utility_functions\n",
    "#    \n",
    "## github doesn't seem to have an option to download a specific version of the repo from the history.\n",
    "## So I download my utility functions and save the download time by appending it to the directory name.\n",
    "## These utility functions to be shared together with the notebook.\n",
    "#\n",
    "#toappend = datetime.datetime.now().strftime('%y%m%d_%Hh%M')\n",
    "#newname = \"utility_functions_%s\"%toappend\n",
    "#print(newname)\n",
    "#\n",
    "#\n",
    "## rename the py file with utility functions\n",
    "#os.rename(\"utility_functions\",newname)"
   ]
  },
  {
   "cell_type": "code",
   "execution_count": 4,
   "metadata": {},
   "outputs": [
    {
     "name": "stdout",
     "output_type": "stream",
     "text": [
      "python version: 3.6.7\n"
     ]
    }
   ],
   "source": [
    "# add the utility function folder to PATH\n",
    "sys.path.append(os.path.abspath(\"utility_functions_200517_09h14/\"))\n",
    "\n",
    "from rz_import_statements import *\n",
    "import rz_functions as rz\n",
    "import rz_fig_params # this adjust mpl.rcParams, almost nothing to import, import after scanpy to overwrite rc.Params\n",
    "import rz_utility_spring as srz"
   ]
  },
  {
   "cell_type": "markdown",
   "metadata": {},
   "source": [
    "## Functions"
   ]
  },
  {
   "cell_type": "code",
   "execution_count": 5,
   "metadata": {},
   "outputs": [],
   "source": [
    "def get_cell_counts(\n",
    "    label1,\n",
    "    label2,\n",
    "    meta):\n",
    "    \n",
    "    twocols = meta[[label1,label2]]\n",
    "    if twocols.shape[0]!=(twocols.dropna()).shape[0]:\n",
    "        print(\"NaN values in meta dataframe provided\")\n",
    "        return\n",
    "    cs = meta.groupby([label1,label2]).count().iloc[:,0]\n",
    "    cframe = pd.DataFrame(columns=cs.index.levels[0]\n",
    "                          ,index = cs.index.levels[1])\n",
    "    for i in cs.index.levels[0]:\n",
    "        cframe[i] = cs[i]\n",
    "    cframe.fillna(0,inplace=True)\n",
    "    return cframe\n",
    "\n",
    "rz.get_cell_counts = get_cell_counts\n",
    "del get_cell_counts\n",
    "\n",
    "\n",
    "\n",
    "def plot_stacked_bars(\n",
    "    cframe,\n",
    "    w = 50,\n",
    "    h = 5,\n",
    "    color_dict=None,\n",
    "    title='',\n",
    "    save=False,\n",
    "    ylabel='',\n",
    "    xlabel='',\n",
    "    comment='',\n",
    "    rotation=90,\n",
    "    ncol=2,\n",
    "    wrs=[1,1],\n",
    "    rect = [0.05,0,1,1],\n",
    "    colrenamer = {},\n",
    "    \n",
    "    ):\n",
    "    \"\"\"\n",
    "    ncol - nr columns for legend\n",
    "    wrs - ratio of bar width (all bars) vs legend width\n",
    "    \n",
    "    \"\"\"\n",
    "\n",
    "    a,fig,gs=rz.startfig(w,h,columns=2,wrs=wrs)\n",
    "    x = np.arange(cframe.shape[1])\n",
    "    bottom = np.repeat(0,cframe.shape[1])\n",
    "    #hack to reverse the order in the legend\n",
    "    brs = []\n",
    "    lbls = cframe.index\n",
    "    if color_dict is None:\n",
    "        color_dict = {key:None for key in cframe.index}\n",
    "    for ctype in cframe.index:\n",
    "        h = cframe.loc[ctype]\n",
    "        br = a.bar(x,h,0.8, bottom,label=ctype,color=color_dict[ctype])\n",
    "        brs.append(br)\n",
    "        bottom=bottom+h\n",
    "        \n",
    "    a.legend(brs[::-1],lbls[::-1],ncol=ncol,bbox_to_anchor=(1,1),fontsize=5)\n",
    "    a.set_xticks(x)\n",
    "    a.set_xticklabels([colrenamer[i] if i in colrenamer else i for i in cframe.columns],rotation=rotation);\n",
    "    a.set_title(title)\n",
    "    rz.showspines(a,left=True,bottom=True)\n",
    "    a.set_ylabel(ylabel)\n",
    "    a.set_xlabel(xlabel)\n",
    "\n",
    "    gs.tight_layout(fig,rect=rect)\n",
    "    if save==True:\n",
    "        plt.savefig('outputs/stacked_bars_%s.pdf'%comment)\n",
    "    plt.show()"
   ]
  },
  {
   "cell_type": "markdown",
   "metadata": {},
   "source": [
    "## Load per-cell metadata (obs)"
   ]
  },
  {
   "cell_type": "code",
   "execution_count": 6,
   "metadata": {},
   "outputs": [],
   "source": [
    "obs = rz.load_df('backups/obs_info_27563x24_200607_18h54.npz')"
   ]
  },
  {
   "cell_type": "code",
   "execution_count": 8,
   "metadata": {},
   "outputs": [
    {
     "data": {
      "text/html": [
       "<div>\n",
       "<style scoped>\n",
       "    .dataframe tbody tr th:only-of-type {\n",
       "        vertical-align: middle;\n",
       "    }\n",
       "\n",
       "    .dataframe tbody tr th {\n",
       "        vertical-align: top;\n",
       "    }\n",
       "\n",
       "    .dataframe thead th {\n",
       "        text-align: right;\n",
       "    }\n",
       "</style>\n",
       "<table border=\"1\" class=\"dataframe\">\n",
       "  <thead>\n",
       "    <tr style=\"text-align: right;\">\n",
       "      <th></th>\n",
       "      <th>barcode</th>\n",
       "      <th>library</th>\n",
       "      <th>total_counts</th>\n",
       "      <th>pct_counts_mito</th>\n",
       "      <th>_library_before_renaming</th>\n",
       "      <th>mouse</th>\n",
       "      <th>condition</th>\n",
       "      <th>closest_Immgen</th>\n",
       "      <th>closest_Zilionis2019_mouse_minor</th>\n",
       "      <th>closest_Immgen_simplified</th>\n",
       "      <th>...</th>\n",
       "      <th>top10pct_dbtl_score</th>\n",
       "      <th>sp_cl_all_cells_w_dblt_1000umi_200</th>\n",
       "      <th>removed_as_dblt</th>\n",
       "      <th>n_counts</th>\n",
       "      <th>removed_as_RBC</th>\n",
       "      <th>removed_as_Krt8hi</th>\n",
       "      <th>used_in_all_cells_clean_iter1_refCSF1Ri</th>\n",
       "      <th>sp_cl_all_cells_clean_iter1_refCSF1Ri_150</th>\n",
       "      <th>removed_as_dblt_2</th>\n",
       "      <th>used_in_all_cells_clean_iter2</th>\n",
       "    </tr>\n",
       "  </thead>\n",
       "  <tbody>\n",
       "    <tr>\n",
       "      <th>0</th>\n",
       "      <td>bcECPI</td>\n",
       "      <td>CSF1Ri_1_1</td>\n",
       "      <td>14875</td>\n",
       "      <td>5.81513</td>\n",
       "      <td>Blz1a</td>\n",
       "      <td>CSF1Ri_1</td>\n",
       "      <td>CSF1Ri</td>\n",
       "      <td>B1a_Sp</td>\n",
       "      <td>mB cells</td>\n",
       "      <td>B1a</td>\n",
       "      <td>...</td>\n",
       "      <td>False</td>\n",
       "      <td>147</td>\n",
       "      <td>False</td>\n",
       "      <td>14875</td>\n",
       "      <td>False</td>\n",
       "      <td>False</td>\n",
       "      <td>True</td>\n",
       "      <td>19</td>\n",
       "      <td>False</td>\n",
       "      <td>True</td>\n",
       "    </tr>\n",
       "    <tr>\n",
       "      <th>1</th>\n",
       "      <td>bcESAZ</td>\n",
       "      <td>CSF1Ri_1_1</td>\n",
       "      <td>6876</td>\n",
       "      <td>4.21757</td>\n",
       "      <td>Blz1a</td>\n",
       "      <td>CSF1Ri_1</td>\n",
       "      <td>CSF1Ri</td>\n",
       "      <td>NK_DAP10-_Sp</td>\n",
       "      <td>mT3</td>\n",
       "      <td>NK</td>\n",
       "      <td>...</td>\n",
       "      <td>False</td>\n",
       "      <td>20</td>\n",
       "      <td>False</td>\n",
       "      <td>6876</td>\n",
       "      <td>False</td>\n",
       "      <td>False</td>\n",
       "      <td>True</td>\n",
       "      <td>19</td>\n",
       "      <td>False</td>\n",
       "      <td>True</td>\n",
       "    </tr>\n",
       "    <tr>\n",
       "      <th>2</th>\n",
       "      <td>bcIBUV</td>\n",
       "      <td>CSF1Ri_1_1</td>\n",
       "      <td>4643</td>\n",
       "      <td>2.86453</td>\n",
       "      <td>Blz1a</td>\n",
       "      <td>CSF1Ri_1</td>\n",
       "      <td>CSF1Ri</td>\n",
       "      <td>GN_Arth_SynF</td>\n",
       "      <td>mN4</td>\n",
       "      <td>GN</td>\n",
       "      <td>...</td>\n",
       "      <td>True</td>\n",
       "      <td>154</td>\n",
       "      <td>False</td>\n",
       "      <td>4643</td>\n",
       "      <td>False</td>\n",
       "      <td>False</td>\n",
       "      <td>True</td>\n",
       "      <td>145</td>\n",
       "      <td>False</td>\n",
       "      <td>True</td>\n",
       "    </tr>\n",
       "    <tr>\n",
       "      <th>3</th>\n",
       "      <td>bcGWNX</td>\n",
       "      <td>CSF1Ri_1_1</td>\n",
       "      <td>5972</td>\n",
       "      <td>6.39652</td>\n",
       "      <td>Blz1a</td>\n",
       "      <td>CSF1Ri_1</td>\n",
       "      <td>CSF1Ri</td>\n",
       "      <td>Mo_6C+II-_LN</td>\n",
       "      <td>mMac1</td>\n",
       "      <td>Mo</td>\n",
       "      <td>...</td>\n",
       "      <td>True</td>\n",
       "      <td>196</td>\n",
       "      <td>False</td>\n",
       "      <td>5972</td>\n",
       "      <td>False</td>\n",
       "      <td>False</td>\n",
       "      <td>True</td>\n",
       "      <td>138</td>\n",
       "      <td>False</td>\n",
       "      <td>True</td>\n",
       "    </tr>\n",
       "    <tr>\n",
       "      <th>4</th>\n",
       "      <td>bcCOWJ</td>\n",
       "      <td>CSF1Ri_1_1</td>\n",
       "      <td>5021</td>\n",
       "      <td>3.82394</td>\n",
       "      <td>Blz1a</td>\n",
       "      <td>CSF1Ri_1</td>\n",
       "      <td>CSF1Ri</td>\n",
       "      <td>Mo_6C+II-_LN</td>\n",
       "      <td>mMono1</td>\n",
       "      <td>Mo</td>\n",
       "      <td>...</td>\n",
       "      <td>False</td>\n",
       "      <td>30</td>\n",
       "      <td>False</td>\n",
       "      <td>5021</td>\n",
       "      <td>False</td>\n",
       "      <td>False</td>\n",
       "      <td>True</td>\n",
       "      <td>67</td>\n",
       "      <td>False</td>\n",
       "      <td>True</td>\n",
       "    </tr>\n",
       "  </tbody>\n",
       "</table>\n",
       "<p>5 rows × 24 columns</p>\n",
       "</div>"
      ],
      "text/plain": [
       "  barcode     library total_counts pct_counts_mito _library_before_renaming  \\\n",
       "0  bcECPI  CSF1Ri_1_1        14875         5.81513                    Blz1a   \n",
       "1  bcESAZ  CSF1Ri_1_1         6876         4.21757                    Blz1a   \n",
       "2  bcIBUV  CSF1Ri_1_1         4643         2.86453                    Blz1a   \n",
       "3  bcGWNX  CSF1Ri_1_1         5972         6.39652                    Blz1a   \n",
       "4  bcCOWJ  CSF1Ri_1_1         5021         3.82394                    Blz1a   \n",
       "\n",
       "      mouse condition closest_Immgen closest_Zilionis2019_mouse_minor  \\\n",
       "0  CSF1Ri_1    CSF1Ri         B1a_Sp                         mB cells   \n",
       "1  CSF1Ri_1    CSF1Ri   NK_DAP10-_Sp                              mT3   \n",
       "2  CSF1Ri_1    CSF1Ri   GN_Arth_SynF                              mN4   \n",
       "3  CSF1Ri_1    CSF1Ri   Mo_6C+II-_LN                            mMac1   \n",
       "4  CSF1Ri_1    CSF1Ri   Mo_6C+II-_LN                           mMono1   \n",
       "\n",
       "  closest_Immgen_simplified              ...              top10pct_dbtl_score  \\\n",
       "0                       B1a              ...                            False   \n",
       "1                        NK              ...                            False   \n",
       "2                        GN              ...                             True   \n",
       "3                        Mo              ...                             True   \n",
       "4                        Mo              ...                            False   \n",
       "\n",
       "  sp_cl_all_cells_w_dblt_1000umi_200 removed_as_dblt n_counts removed_as_RBC  \\\n",
       "0                                147           False    14875          False   \n",
       "1                                 20           False     6876          False   \n",
       "2                                154           False     4643          False   \n",
       "3                                196           False     5972          False   \n",
       "4                                 30           False     5021          False   \n",
       "\n",
       "  removed_as_Krt8hi used_in_all_cells_clean_iter1_refCSF1Ri  \\\n",
       "0             False                                    True   \n",
       "1             False                                    True   \n",
       "2             False                                    True   \n",
       "3             False                                    True   \n",
       "4             False                                    True   \n",
       "\n",
       "  sp_cl_all_cells_clean_iter1_refCSF1Ri_150 removed_as_dblt_2  \\\n",
       "0                                        19             False   \n",
       "1                                        19             False   \n",
       "2                                       145             False   \n",
       "3                                       138             False   \n",
       "4                                        67             False   \n",
       "\n",
       "  used_in_all_cells_clean_iter2  \n",
       "0                          True  \n",
       "1                          True  \n",
       "2                          True  \n",
       "3                          True  \n",
       "4                          True  \n",
       "\n",
       "[5 rows x 24 columns]"
      ]
     },
     "execution_count": 8,
     "metadata": {},
     "output_type": "execute_result"
    }
   ],
   "source": [
    "obs.head()"
   ]
  },
  {
   "cell_type": "markdown",
   "metadata": {},
   "source": [
    "## Load clustering results saved as categorical coloring in spring directory"
   ]
  },
  {
   "cell_type": "code",
   "execution_count": 9,
   "metadata": {},
   "outputs": [],
   "source": [
    "path1 = \"/Users/rapolaszilionis/Google Drive/analyses/SPRING_dev/data/pittet\"\n",
    "project_dir = path1+'/CSF1Ri/'\n",
    "plot_name = 'all_cells_clean_iter2'"
   ]
  },
  {
   "cell_type": "code",
   "execution_count": 10,
   "metadata": {},
   "outputs": [],
   "source": [
    "# load current color dictionary\n",
    "cg0 = srz.read_cell_groupings(project_dir+plot_name+'/categorical_coloring_data.json')\n",
    "\n",
    "# color dictionary\n",
    "cdd = {key:value['label_colors'] for key,value in cg0.items()}\n",
    "\n",
    "# drop the color dictionaries with are part of cell groupings\n",
    "cg0 = {key:value['label_list'] for key,value in cg0.items()}\n",
    "\n",
    "# load cell index\n",
    "cellix = np.loadtxt(project_dir+plot_name+'/cell_filter.txt',dtype=int)"
   ]
  },
  {
   "cell_type": "code",
   "execution_count": 11,
   "metadata": {},
   "outputs": [
    {
     "data": {
      "text/plain": [
       "dict_keys(['closest_Immgen', 'closest_Immgen_simplified', 'closest_Zilionis2019_mouse_minor', 'condition', 'library', 'mouse', 'sp_cl_all_cells_clean_iter2_100', 'sp_cl_all_cells_clean_iter2_120', 'sp_cl_all_cells_clean_iter2_20', 'sp_cl_all_cells_clean_iter2_30', 'sp_cl_all_cells_clean_iter2_40', 'sp_cl_all_cells_clean_iter2_5', 'sp_cl_all_cells_clean_iter2_50', 'sp_cl_all_cells_clean_iter2_70', 'sp_cl_all_cells_clean_iter2_80', 'top10pct_dbtl_score', 'top3pct_dbtl_score', 'top5pct_dbtl_score'])"
      ]
     },
     "execution_count": 11,
     "metadata": {},
     "output_type": "execute_result"
    }
   ],
   "source": [
    "cg0.keys()"
   ]
  },
  {
   "cell_type": "markdown",
   "metadata": {},
   "source": [
    "## Count labels (classifier results) per cluster"
   ]
  },
  {
   "cell_type": "code",
   "execution_count": 13,
   "metadata": {},
   "outputs": [],
   "source": [
    "# add a column with cluster label, select the level of granularity\n",
    "label = 'sp_cl_all_cells_clean_iter2_100'\n",
    "obs[label] = np.nan\n",
    "obs.iloc[cellix,-1] = cg0[label]"
   ]
  },
  {
   "cell_type": "code",
   "execution_count": 16,
   "metadata": {},
   "outputs": [
    {
     "name": "stdout",
     "output_type": "stream",
     "text": [
      "25092 27563\n"
     ]
    },
    {
     "data": {
      "text/html": [
       "<div>\n",
       "<style scoped>\n",
       "    .dataframe tbody tr th:only-of-type {\n",
       "        vertical-align: middle;\n",
       "    }\n",
       "\n",
       "    .dataframe tbody tr th {\n",
       "        vertical-align: top;\n",
       "    }\n",
       "\n",
       "    .dataframe thead th {\n",
       "        text-align: right;\n",
       "    }\n",
       "</style>\n",
       "<table border=\"1\" class=\"dataframe\">\n",
       "  <thead>\n",
       "    <tr style=\"text-align: right;\">\n",
       "      <th>sp_cl_all_cells_clean_iter2_100</th>\n",
       "      <th>96</th>\n",
       "      <th>22</th>\n",
       "      <th>37</th>\n",
       "      <th>99</th>\n",
       "      <th>74</th>\n",
       "      <th>11</th>\n",
       "      <th>24</th>\n",
       "      <th>33</th>\n",
       "      <th>44</th>\n",
       "      <th>59</th>\n",
       "      <th>...</th>\n",
       "      <th>15</th>\n",
       "      <th>88</th>\n",
       "      <th>85</th>\n",
       "      <th>29</th>\n",
       "      <th>47</th>\n",
       "      <th>68</th>\n",
       "      <th>45</th>\n",
       "      <th>14</th>\n",
       "      <th>8</th>\n",
       "      <th>28</th>\n",
       "    </tr>\n",
       "    <tr>\n",
       "      <th>closest_Zilionis2019_mouse_minor</th>\n",
       "      <th></th>\n",
       "      <th></th>\n",
       "      <th></th>\n",
       "      <th></th>\n",
       "      <th></th>\n",
       "      <th></th>\n",
       "      <th></th>\n",
       "      <th></th>\n",
       "      <th></th>\n",
       "      <th></th>\n",
       "      <th></th>\n",
       "      <th></th>\n",
       "      <th></th>\n",
       "      <th></th>\n",
       "      <th></th>\n",
       "      <th></th>\n",
       "      <th></th>\n",
       "      <th></th>\n",
       "      <th></th>\n",
       "      <th></th>\n",
       "      <th></th>\n",
       "    </tr>\n",
       "  </thead>\n",
       "  <tbody>\n",
       "    <tr>\n",
       "      <th>mB cells</th>\n",
       "      <td>0.0</td>\n",
       "      <td>0.0</td>\n",
       "      <td>0.0</td>\n",
       "      <td>0.0</td>\n",
       "      <td>1.0</td>\n",
       "      <td>0.0</td>\n",
       "      <td>1.0</td>\n",
       "      <td>0.0</td>\n",
       "      <td>0.0</td>\n",
       "      <td>0.0</td>\n",
       "      <td>...</td>\n",
       "      <td>0.0</td>\n",
       "      <td>0.0</td>\n",
       "      <td>0.0</td>\n",
       "      <td>0.0</td>\n",
       "      <td>0.0</td>\n",
       "      <td>306.0</td>\n",
       "      <td>1111.0</td>\n",
       "      <td>1116.0</td>\n",
       "      <td>114.0</td>\n",
       "      <td>9.0</td>\n",
       "    </tr>\n",
       "    <tr>\n",
       "      <th>mBasophils</th>\n",
       "      <td>0.0</td>\n",
       "      <td>0.0</td>\n",
       "      <td>0.0</td>\n",
       "      <td>0.0</td>\n",
       "      <td>0.0</td>\n",
       "      <td>0.0</td>\n",
       "      <td>0.0</td>\n",
       "      <td>0.0</td>\n",
       "      <td>0.0</td>\n",
       "      <td>0.0</td>\n",
       "      <td>...</td>\n",
       "      <td>0.0</td>\n",
       "      <td>0.0</td>\n",
       "      <td>0.0</td>\n",
       "      <td>23.0</td>\n",
       "      <td>19.0</td>\n",
       "      <td>0.0</td>\n",
       "      <td>0.0</td>\n",
       "      <td>0.0</td>\n",
       "      <td>0.0</td>\n",
       "      <td>0.0</td>\n",
       "    </tr>\n",
       "    <tr>\n",
       "      <th>mDC1</th>\n",
       "      <td>0.0</td>\n",
       "      <td>0.0</td>\n",
       "      <td>0.0</td>\n",
       "      <td>0.0</td>\n",
       "      <td>0.0</td>\n",
       "      <td>0.0</td>\n",
       "      <td>0.0</td>\n",
       "      <td>0.0</td>\n",
       "      <td>0.0</td>\n",
       "      <td>0.0</td>\n",
       "      <td>...</td>\n",
       "      <td>2.0</td>\n",
       "      <td>62.0</td>\n",
       "      <td>69.0</td>\n",
       "      <td>0.0</td>\n",
       "      <td>0.0</td>\n",
       "      <td>0.0</td>\n",
       "      <td>0.0</td>\n",
       "      <td>0.0</td>\n",
       "      <td>0.0</td>\n",
       "      <td>0.0</td>\n",
       "    </tr>\n",
       "    <tr>\n",
       "      <th>mDC2</th>\n",
       "      <td>0.0</td>\n",
       "      <td>0.0</td>\n",
       "      <td>0.0</td>\n",
       "      <td>0.0</td>\n",
       "      <td>0.0</td>\n",
       "      <td>0.0</td>\n",
       "      <td>0.0</td>\n",
       "      <td>0.0</td>\n",
       "      <td>0.0</td>\n",
       "      <td>0.0</td>\n",
       "      <td>...</td>\n",
       "      <td>83.0</td>\n",
       "      <td>0.0</td>\n",
       "      <td>10.0</td>\n",
       "      <td>0.0</td>\n",
       "      <td>0.0</td>\n",
       "      <td>0.0</td>\n",
       "      <td>0.0</td>\n",
       "      <td>1.0</td>\n",
       "      <td>0.0</td>\n",
       "      <td>0.0</td>\n",
       "    </tr>\n",
       "    <tr>\n",
       "      <th>mDC3</th>\n",
       "      <td>0.0</td>\n",
       "      <td>0.0</td>\n",
       "      <td>0.0</td>\n",
       "      <td>0.0</td>\n",
       "      <td>0.0</td>\n",
       "      <td>0.0</td>\n",
       "      <td>0.0</td>\n",
       "      <td>0.0</td>\n",
       "      <td>0.0</td>\n",
       "      <td>0.0</td>\n",
       "      <td>...</td>\n",
       "      <td>0.0</td>\n",
       "      <td>0.0</td>\n",
       "      <td>0.0</td>\n",
       "      <td>0.0</td>\n",
       "      <td>0.0</td>\n",
       "      <td>0.0</td>\n",
       "      <td>0.0</td>\n",
       "      <td>0.0</td>\n",
       "      <td>0.0</td>\n",
       "      <td>0.0</td>\n",
       "    </tr>\n",
       "  </tbody>\n",
       "</table>\n",
       "<p>5 rows × 100 columns</p>\n",
       "</div>"
      ],
      "text/plain": [
       "sp_cl_all_cells_clean_iter2_100    96   22   37   99   74   11   24   33   44  \\\n",
       "closest_Zilionis2019_mouse_minor                                                \n",
       "mB cells                          0.0  0.0  0.0  0.0  1.0  0.0  1.0  0.0  0.0   \n",
       "mBasophils                        0.0  0.0  0.0  0.0  0.0  0.0  0.0  0.0  0.0   \n",
       "mDC1                              0.0  0.0  0.0  0.0  0.0  0.0  0.0  0.0  0.0   \n",
       "mDC2                              0.0  0.0  0.0  0.0  0.0  0.0  0.0  0.0  0.0   \n",
       "mDC3                              0.0  0.0  0.0  0.0  0.0  0.0  0.0  0.0  0.0   \n",
       "\n",
       "sp_cl_all_cells_clean_iter2_100    59 ...     15    88    85    29    47  \\\n",
       "closest_Zilionis2019_mouse_minor      ...                                  \n",
       "mB cells                          0.0 ...    0.0   0.0   0.0   0.0   0.0   \n",
       "mBasophils                        0.0 ...    0.0   0.0   0.0  23.0  19.0   \n",
       "mDC1                              0.0 ...    2.0  62.0  69.0   0.0   0.0   \n",
       "mDC2                              0.0 ...   83.0   0.0  10.0   0.0   0.0   \n",
       "mDC3                              0.0 ...    0.0   0.0   0.0   0.0   0.0   \n",
       "\n",
       "sp_cl_all_cells_clean_iter2_100      68      45      14      8   28  \n",
       "closest_Zilionis2019_mouse_minor                                     \n",
       "mB cells                          306.0  1111.0  1116.0  114.0  9.0  \n",
       "mBasophils                          0.0     0.0     0.0    0.0  0.0  \n",
       "mDC1                                0.0     0.0     0.0    0.0  0.0  \n",
       "mDC2                                0.0     0.0     1.0    0.0  0.0  \n",
       "mDC3                                0.0     0.0     0.0    0.0  0.0  \n",
       "\n",
       "[5 rows x 100 columns]"
      ]
     },
     "execution_count": 16,
     "metadata": {},
     "output_type": "execute_result"
    }
   ],
   "source": [
    "filtercol = 'used_in_all_cells_clean_iter2'\n",
    "cmask = obs[filtercol].astype(bool).values\n",
    "print(cmask.sum(),len(cmask))\n",
    "col1 = label\n",
    "col2 = 'closest_Zilionis2019_mouse_minor'\n",
    "cell_counts = rz.get_cell_counts(col1,col2,obs[cmask])\n",
    "\n",
    "#order by dominant cell type:\n",
    "theorder = cell_counts.idxmax().sort_values().index\n",
    "cell_counts = cell_counts[theorder[::-1]]\n",
    "\n",
    "cell_counts.head()"
   ]
  },
  {
   "cell_type": "code",
   "execution_count": 17,
   "metadata": {},
   "outputs": [
    {
     "name": "stderr",
     "output_type": "stream",
     "text": [
      "/Users/rapolaszilionis/anaconda3/lib/python3.6/site-packages/matplotlib/font_manager.py:1241: UserWarning: findfont: Font family ['Myriad Pro'] not found. Falling back to DejaVu Sans.\n",
      "  (prop.get_family(), self.defaultFamily[fontext]))\n"
     ]
    },
    {
     "data": {
      "image/png": "[encoded data removed]",
      "text/plain": [
       "<Figure size 2362.21x295.276 with 1 Axes>"
      ]
     },
     "metadata": {
      "needs_background": "light"
     },
     "output_type": "display_data"
    }
   ],
   "source": [
    "cell_fracs = cell_counts/cell_counts.sum()\n",
    "plot_stacked_bars(cell_fracs,\n",
    "                  xlabel='cluster',ylabel='fraction cells by\\nclassifier results',w=40,\n",
    "                  wrs=[5,1],\n",
    "                  color_dict=cdd['closest_Zilionis2019_mouse_minor'],\n",
    "                  save=True,comment=label)"
   ]
  },
  {
   "cell_type": "code",
   "execution_count": 18,
   "metadata": {},
   "outputs": [],
   "source": [
    "# save cell numbers:\n",
    "cell_counts.to_excel('outputs/cell_number_per_cluster_per_classif_result_%s.xlsx'%label)"
   ]
  },
  {
   "cell_type": "code",
   "execution_count": 19,
   "metadata": {},
   "outputs": [],
   "source": [
    "# first get a dictionary for translating cluster numbers\n",
    "# into annotated clusters by selecting the dominant bayesian classifier result\n",
    "renamer = cell_fracs.idxmax().to_dict()"
   ]
  },
  {
   "cell_type": "code",
   "execution_count": 20,
   "metadata": {},
   "outputs": [],
   "source": [
    "# translate to dominant classifier results and append colotrack to spring\n",
    "newkey = 'z_dominant_class_%s'%label\n",
    "cg = {newkey:[renamer[i] for i in cg0[label]]}\n",
    "cdd[newkey] = cdd['closest_Zilionis2019_mouse_minor']\n",
    "\n",
    "srz.append_cell_groupings(project_dir+plot_name,cg,colordd=cdd)"
   ]
  },
  {
   "cell_type": "markdown",
   "metadata": {},
   "source": [
    "## Interactively explore the results in SPRING, force different labels where gene expression suggests so"
   ]
  },
  {
   "cell_type": "code",
   "execution_count": 23,
   "metadata": {},
   "outputs": [],
   "source": [
    "# the 100 version\n",
    "\n",
    "# Macs\n",
    "thekeys = [41] # some macs labeled as Mono3s\n",
    "for key in thekeys:\n",
    "    renamer[str(key)] = 'mMac1'\n"
   ]
  },
  {
   "cell_type": "code",
   "execution_count": 24,
   "metadata": {},
   "outputs": [],
   "source": [
    "# translate to dominant classifier results and append colotrack to spring\n",
    "newkey = '*population'\n",
    "cg = {newkey:[renamer[i] for i in cg0[label]]}\n",
    "cdd[newkey] = cdd['closest_Zilionis2019_mouse_minor']\n",
    "\n",
    "srz.append_cell_groupings(project_dir+plot_name,cg,colordd=cdd)"
   ]
  },
  {
   "cell_type": "markdown",
   "metadata": {},
   "source": [
    "## Save obs"
   ]
  },
  {
   "cell_type": "code",
   "execution_count": 25,
   "metadata": {},
   "outputs": [],
   "source": [
    "label = newkey\n",
    "obs[label] = np.nan\n",
    "obs.iloc[cellix,-1] = cg[label]"
   ]
  },
  {
   "cell_type": "code",
   "execution_count": 26,
   "metadata": {},
   "outputs": [
    {
     "name": "stdout",
     "output_type": "stream",
     "text": [
      "backups/obs_info_27563x26_200607_21h28\n"
     ]
    }
   ],
   "source": [
    "# no need to save the entire adata object, counts didn't change\n",
    "\n",
    "fname = 'backups/obs_info_%dx%d_%s'%(obs.shape[0],obs.shape[1],rz.now())\n",
    "print(fname)\n",
    "rz.save_df(obs,fname)"
   ]
  },
  {
   "cell_type": "code",
   "execution_count": null,
   "metadata": {},
   "outputs": [],
   "source": []
  }
 ],
 "metadata": {
  "kernelspec": {
   "display_name": "Python 3",
   "language": "python",
   "name": "python3"
  },
  "language_info": {
   "codemirror_mode": {
    "name": "ipython",
    "version": 3
   },
   "file_extension": ".py",
   "mimetype": "text/x-python",
   "name": "python",
   "nbconvert_exporter": "python",
   "pygments_lexer": "ipython3",
   "version": "3.6.7"
  },
  "toc": {
   "base_numbering": 1,
   "nav_menu": {},
   "number_sections": true,
   "sideBar": true,
   "skip_h1_title": true,
   "title_cell": "Table of Contents",
   "title_sidebar": "Contents",
   "toc_cell": false,
   "toc_position": {},
   "toc_section_display": true,
   "toc_window_display": false
  }
 },
 "nbformat": 4,
 "nbformat_minor": 2
}
