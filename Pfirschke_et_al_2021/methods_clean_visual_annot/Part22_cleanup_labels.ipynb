{
 "cells": [
  {
   "cell_type": "markdown",
   "metadata": {},
   "source": [
    "# Cleanup labels used in adata.obs and main SPRING plot"
   ]
  },
  {
   "cell_type": "markdown",
   "metadata": {},
   "source": [
    "## Import statements"
   ]
  },
  {
   "cell_type": "code",
   "execution_count": 1,
   "metadata": {},
   "outputs": [],
   "source": [
    "import os,sys\n",
    "import datetime"
   ]
  },
  {
   "cell_type": "code",
   "execution_count": 2,
   "metadata": {},
   "outputs": [
    {
     "name": "stdout",
     "output_type": "stream",
     "text": [
      "scanpy==1.4.4.post1 anndata==0.6.22.post1 umap==0.3.7 numpy==1.15.4 scipy==1.3.1 pandas==0.23.4 scikit-learn==0.20.1 statsmodels==0.10.1 python-igraph==0.7.1 louvain==0.6.1\n",
      "Memory usage: current 0.20 GB, difference +0.20 GB\n"
     ]
    }
   ],
   "source": [
    "import scanpy as sc\n",
    "sc.logging.print_versions()\n",
    "sc.logging.print_memory_usage()\n",
    "sc.settings.verbosity = 2"
   ]
  },
  {
   "cell_type": "code",
   "execution_count": 3,
   "metadata": {},
   "outputs": [],
   "source": [
    "## This cell is run once to download my custom functions and import statements from github\n",
    "#\n",
    "#!git clone --depth=1 https://github.com/rapolaszilionis/utility_functions\n",
    "#    \n",
    "## github doesn't seem to have an option to download a specific version of the repo from the history.\n",
    "## So I download my utility functions and save the download time by appending it to the directory name.\n",
    "## These utility functions to be shared together with the notebook.\n",
    "#\n",
    "#toappend = datetime.datetime.now().strftime('%y%m%d_%Hh%M')\n",
    "#newname = \"utility_functions_%s\"%toappend\n",
    "#print(newname)\n",
    "#\n",
    "#\n",
    "## rename the py file with utility functions\n",
    "#os.rename(\"utility_functions\",newname)"
   ]
  },
  {
   "cell_type": "code",
   "execution_count": 4,
   "metadata": {},
   "outputs": [
    {
     "name": "stdout",
     "output_type": "stream",
     "text": [
      "python version: 3.6.7\n"
     ]
    }
   ],
   "source": [
    "# add the utility function folder to PATH\n",
    "sys.path.append(os.path.abspath(\"utility_functions_200517_09h14/\"))\n",
    "\n",
    "from rz_import_statements import *\n",
    "import rz_functions as rz\n",
    "import rz_fig_params # this adjust mpl.rcParams, almost nothing to import, import after scanpy to overwrite rc.Params\n",
    "import rz_utility_spring as srz"
   ]
  },
  {
   "cell_type": "markdown",
   "metadata": {},
   "source": [
    "## Load cell annotations (obs)"
   ]
  },
  {
   "cell_type": "code",
   "execution_count": 5,
   "metadata": {},
   "outputs": [],
   "source": [
    "# load obs with classifier results\n",
    "obs = rz.load_df('backups/obs_info_27563x31_201025_13h12.npz')"
   ]
  },
  {
   "cell_type": "markdown",
   "metadata": {},
   "source": [
    "## Update the population labels"
   ]
  },
  {
   "cell_type": "code",
   "execution_count": 6,
   "metadata": {},
   "outputs": [
    {
     "data": {
      "text/plain": [
       "{'mB cells': 'B cells',\n",
       " 'mNK cells': 'NK cells',\n",
       " 'mN4': 'N4',\n",
       " 'mMac1': 'Mac1',\n",
       " 'mMono1': 'Mono1',\n",
       " 'mN1': 'N1',\n",
       " 'mT_Cd8_Ccr7hi': 'T_Cd8_Ccr7hi',\n",
       " 'mMono3': 'Mono3',\n",
       " 'mT_Cd8_Cxcr3hi': 'T_Cd8_Cxcr3hi',\n",
       " 'mMac2': 'Mac2',\n",
       " 'mN5': 'N5',\n",
       " 'mN6': 'N6',\n",
       " 'mN3': 'N3',\n",
       " 'mT_Cd4': 'T_Cd4',\n",
       " 'mMono2': 'Mono2',\n",
       " 'mMonoDC': 'MonoDC',\n",
       " 'mDC3': 'DC3',\n",
       " 'mMac4': 'Mac4',\n",
       " 'mT_reg': 'Treg',\n",
       " 'mDC1': 'DC1',\n",
       " 'mN2': 'N2',\n",
       " 'mpDC': 'pDC',\n",
       " 'mDC2': 'DC2',\n",
       " 'mT_gd': 'Tgd',\n",
       " 'mBasophils': 'Basophils',\n",
       " 'mILC': 'ILC',\n",
       " 'mPlasma': 'Plasma cells',\n",
       " 'mMac3': 'Mac3'}"
      ]
     },
     "execution_count": 6,
     "metadata": {},
     "output_type": "execute_result"
    }
   ],
   "source": [
    "# the main working label \"*population\": remove \"m\", a few underscores\n",
    "renamer = {key:key[1:].replace('_','') for key in obs['*population'].dropna().unique()}\n",
    "for key in renamer:\n",
    "    if 'Cd' in key:\n",
    "        renamer[key] = key[1:]\n",
    "        \n",
    "        \n",
    "renamer['mPlasma'] = 'Plasma cells'\n",
    "renamer"
   ]
  },
  {
   "cell_type": "code",
   "execution_count": 8,
   "metadata": {},
   "outputs": [
    {
     "data": {
      "text/plain": [
       "['NK cells', 'N4', 'N1', 'N5', 'N6', 'N3', 'N2']"
      ]
     },
     "execution_count": 8,
     "metadata": {},
     "output_type": "execute_result"
    }
   ],
   "source": [
    "[i for i in renamer.values() if i.startswith('N')]"
   ]
  },
  {
   "cell_type": "code",
   "execution_count": 9,
   "metadata": {},
   "outputs": [],
   "source": [
    "# additional \"major population\" label\n",
    "rev_merger = {\n",
    "    \"T cells\":['T_Cd8_Ccr7hi','T_Cd8_Cxcr3hi', 'T_Cd4', 'Treg', 'Tgd'],\n",
    "    \"B cells\":['B cells','Plasma cells'],\n",
    "    \"NK cells\":['NK cells'],\n",
    "    \"Dendritic cells\":['DC3', 'DC1', 'DC2','pDC'],\n",
    "    \"Monocytes/Macrophages\":['Mac1', 'Mono1', 'Mono3', 'Mac2', 'Mono2', 'MonoDC', 'Mac4', 'Mac3'],\n",
    "    \"Basophils\":['Basophils'],\n",
    "    \"Neutrophils\":['N4', 'N1', 'N5', 'N6', 'N3', 'N2'],\n",
    "    \n",
    "}\n",
    "\n",
    "merger = {element:key for key,value in rev_merger.items() for element in value}"
   ]
  },
  {
   "cell_type": "code",
   "execution_count": 10,
   "metadata": {},
   "outputs": [],
   "source": [
    "# edit obs\n",
    "obs['*population'] = [renamer[i] if i in renamer else i for i in obs['*population']]"
   ]
  },
  {
   "cell_type": "code",
   "execution_count": 11,
   "metadata": {},
   "outputs": [],
   "source": [
    "obs['Major cell type'] = [merger[i] if i in merger else i for i in obs['*population']]"
   ]
  },
  {
   "cell_type": "markdown",
   "metadata": {},
   "source": [
    "## Make a copy of main SPRING plot, update name"
   ]
  },
  {
   "cell_type": "code",
   "execution_count": 12,
   "metadata": {},
   "outputs": [
    {
     "name": "stdout",
     "output_type": "stream",
     "text": [
      "building file list ... done\n",
      "created directory /Users/rapolaszilionis/Google Drive/analyses/SPRING_dev/data/pittet/CSF1Ri/all_Cd45pos_cells\n",
      "categorical_coloring_data.json\n",
      "categorical_coloring_data.json.backup_200607_22h08\n",
      "categorical_coloring_data.json.backup_200607_22h30\n",
      "categorical_coloring_data.json.backup_200609_22h41\n",
      "categorical_coloring_data.json.backup_200609_22h52\n",
      "categorical_coloring_data.json.backup_200621_19h28\n",
      "categorical_coloring_data.json.backup_200621_19h29\n",
      "categorical_coloring_data.json.backup_200629_08h35\n",
      "categorical_coloring_data.json.backup_200629_08h50\n",
      "categorical_coloring_data.json.backup_200629_09h38\n",
      "categorical_coloring_data.json.backup_200701_08h25\n",
      "categorical_coloring_data.json.backup_201003_12h07\n",
      "categorical_coloring_data.json.backup_201003_12h48\n",
      "categorical_coloring_data.json.backup_201025_13h17\n",
      "cell_filter.npy\n",
      "cell_filter.txt\n",
      "color_data_gene_sets.csv\n",
      "color_stats.json\n",
      "coordinates.txt\n",
      "coordinates_2020-06-07T23-03-41.txt\n",
      "coordinates_2020-06-08T09-15-56.txt\n",
      "coordinates_2020-06-08T09-25-06.txt\n",
      "coordinates_2020-06-08T09-59-18.txt\n",
      "coordinates_2020-06-09T22-37-33.txt\n",
      "edges.csv\n",
      "graph_data.json\n",
      "params.pickle\n",
      "part16_sping_plot_main_iter3.html\n",
      "cat_col_from_o2/\n",
      "cat_col_from_o2/categorical_coloring_data.json\n",
      "\n",
      "sent 212.63M bytes  received 664 bytes  141.75M bytes/sec\n",
      "total size is 212.60M  speedup is 1.00\n"
     ]
    }
   ],
   "source": [
    "path1 = \"/Users/rapolaszilionis/Google\\ Drive/analyses/SPRING_dev/data/pittet\"\n",
    "project_dir = path1+'/CSF1Ri/'\n",
    "plot_name = 'all_cells_clean_iter3'\n",
    "new_plot_name = 'all_Cd45pos_cells'\n",
    "\n",
    "sourcepath = project_dir+plot_name\n",
    "targetpath = project_dir+new_plot_name\n",
    "\n",
    "\n",
    "!mkdir targetpath\n",
    "!rsync -rhv $sourcepath/* $targetpath/"
   ]
  },
  {
   "cell_type": "markdown",
   "metadata": {},
   "source": [
    "## Cleanup colortracks in the copy of SPRING plot"
   ]
  },
  {
   "cell_type": "code",
   "execution_count": 13,
   "metadata": {},
   "outputs": [
    {
     "name": "stderr",
     "output_type": "stream",
     "text": [
      "/Users/rapolaszilionis/anaconda3/lib/python3.6/site-packages/matplotlib/font_manager.py:1241: UserWarning: findfont: Font family ['Myriad Pro'] not found. Falling back to DejaVu Sans.\n",
      "  (prop.get_family(), self.defaultFamily[fontext]))\n"
     ]
    },
    {
     "data": {
      "image/png": "[encoded data removed]",
      "text/plain": [
       "<Figure size 900x600 with 1 Axes>"
      ]
     },
     "metadata": {
      "needs_background": "light"
     },
     "output_type": "display_data"
    }
   ],
   "source": [
    "# color dictionary to add\n",
    "maj_colors = {\n",
    "    \"T cells\":\"#67bd45\",\n",
    "    \"ILC\":\"#67bd45\",\n",
    "    \"B cells\":\"#4666b0\",\n",
    "    \"NK cells\":\"#1f6935\",\n",
    "    \"Dendritic cells\":\"#a094ff\",\n",
    "    \"Monocytes/Macrophages\":\"#f8991d\",\n",
    "    \"Basophils\":\"#4c2e4d\",\n",
    "    \"Neutrophils\":\"#30c4ed\",\n",
    "}\n",
    "\n",
    "loc = 0\n",
    "for key,value in maj_colors.items():\n",
    "    loc+=1\n",
    "    plt.scatter(loc,loc,color=value,s=50)"
   ]
  },
  {
   "cell_type": "code",
   "execution_count": 14,
   "metadata": {},
   "outputs": [],
   "source": [
    "# load current categorical coloring details\n",
    "path1 = \"/Users/rapolaszilionis/Google Drive/analyses/SPRING_dev/data/pittet\"\n",
    "project_dir = path1+'/CSF1Ri/'\n",
    "new_plot_name = 'all_Cd45pos_cells'\n",
    "\n",
    "plotpath = project_dir+new_plot_name\n",
    "\n",
    "# categorical coloring info, I need color dictionaries from this file\n",
    "cg0 = srz.read_cell_groupings(plotpath+'/categorical_coloring_data.json')\n",
    "\n",
    "# cell index\n",
    "cell_ix = np.loadtxt(plotpath+'/cell_filter.txt',dtype=int)"
   ]
  },
  {
   "cell_type": "code",
   "execution_count": 15,
   "metadata": {},
   "outputs": [
    {
     "data": {
      "text/plain": [
       "dict_keys(['*population', '*population_alt_T_6', '*population_alt_T_9', 'archive_population', 'closest_Immgen', 'closest_Immgen_simplified', 'closest_Zilionis2019_mouse_minor', 'condition', 'library', 'mouse', 'sp_cl_all_cells_clean_iter3_100', 'sp_cl_all_cells_clean_iter3_120', 'sp_cl_all_cells_clean_iter3_150', 'sp_cl_all_cells_clean_iter3_180', 'sp_cl_all_cells_clean_iter3_20', 'sp_cl_all_cells_clean_iter3_200', 'sp_cl_all_cells_clean_iter3_30', 'sp_cl_all_cells_clean_iter3_40', 'sp_cl_all_cells_clean_iter3_5', 'sp_cl_all_cells_clean_iter3_50', 'sp_cl_all_cells_clean_iter3_70', 'sp_cl_all_cells_clean_iter3_80', 'top10pct_dbtl_score', 'top3pct_dbtl_score', 'top5pct_dbtl_score', 'z_dominant_class_sp_cl_all_cells_clean_iter3_100'])"
      ]
     },
     "execution_count": 15,
     "metadata": {},
     "output_type": "execute_result"
    }
   ],
   "source": [
    "cg0.keys()"
   ]
  },
  {
   "cell_type": "code",
   "execution_count": 16,
   "metadata": {},
   "outputs": [],
   "source": [
    "newkeys = [\n",
    "\n",
    "'*population',\n",
    "'condition',\n",
    "'Major cell type',\n",
    "'closest_Zilionis2019_mouse_minor',\n",
    "'closest_Immgen',\n",
    "'closest_Immgen_simplified',\n",
    "'mouse',\n",
    "'library',\n",
    "'sp_cl_all_cells_clean_iter3_100',\n",
    "'top10pct_dbtl_score', 'top3pct_dbtl_score', 'top5pct_dbtl_score'\n",
    "    \n",
    "]   "
   ]
  },
  {
   "cell_type": "code",
   "execution_count": 17,
   "metadata": {},
   "outputs": [],
   "source": [
    "# color dictionary of dictionaries\n",
    "cdd = {key:value['label_colors'] for key,value in cg0.items()}\n",
    "\n",
    "# add color dictionary\n",
    "cdd['Major cell type'] = maj_colors\n",
    "\n",
    "cg = obs.iloc[cell_ix][newkeys].astype(str).to_dict(orient='list')\n",
    "\n",
    "cdd['*population'] = {renamer[key]:value for key,value in cdd['*population'].items()}"
   ]
  },
  {
   "cell_type": "code",
   "execution_count": 18,
   "metadata": {},
   "outputs": [],
   "source": [
    "# append!\n",
    "srz.overwrite_cell_groupings(plotpath,cg,backup=True,colordd=cdd)"
   ]
  },
  {
   "cell_type": "markdown",
   "metadata": {},
   "source": [
    "## Save obs"
   ]
  },
  {
   "cell_type": "code",
   "execution_count": 19,
   "metadata": {},
   "outputs": [
    {
     "name": "stdout",
     "output_type": "stream",
     "text": [
      "backups/obs_info_27563x32_201025_13h30\n"
     ]
    }
   ],
   "source": [
    "# save obs\n",
    "fname = 'backups/obs_info_%dx%d_%s'%(obs.shape[0],obs.shape[1],rz.now())\n",
    "print(fname)\n",
    "rz.save_df(obs,fname)"
   ]
  },
  {
   "cell_type": "code",
   "execution_count": 20,
   "metadata": {},
   "outputs": [],
   "source": [
    "!open backups"
   ]
  },
  {
   "cell_type": "code",
   "execution_count": null,
   "metadata": {},
   "outputs": [],
   "source": []
  }
 ],
 "metadata": {
  "kernelspec": {
   "display_name": "Python 3",
   "language": "python",
   "name": "python3"
  },
  "language_info": {
   "codemirror_mode": {
    "name": "ipython",
    "version": 3
   },
   "file_extension": ".py",
   "mimetype": "text/x-python",
   "name": "python",
   "nbconvert_exporter": "python",
   "pygments_lexer": "ipython3",
   "version": "3.6.7"
  },
  "toc": {
   "base_numbering": 1,
   "nav_menu": {},
   "number_sections": true,
   "sideBar": true,
   "skip_h1_title": true,
   "title_cell": "Table of Contents",
   "title_sidebar": "Contents",
   "toc_cell": false,
   "toc_position": {},
   "toc_section_display": true,
   "toc_window_display": false
  }
 },
 "nbformat": 4,
 "nbformat_minor": 2
}
