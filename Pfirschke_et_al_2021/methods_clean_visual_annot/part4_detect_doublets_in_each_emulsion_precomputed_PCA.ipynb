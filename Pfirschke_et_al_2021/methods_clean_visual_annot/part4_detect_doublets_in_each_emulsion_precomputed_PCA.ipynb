{
 "cells": [
  {
   "cell_type": "markdown",
   "metadata": {},
   "source": [
    "# Calculate doublet scores for each cell using Scrublet"
   ]
  },
  {
   "cell_type": "markdown",
   "metadata": {},
   "source": [
    "## Import statements"
   ]
  },
  {
   "cell_type": "code",
   "execution_count": 1,
   "metadata": {},
   "outputs": [],
   "source": [
    "import os,sys\n",
    "import datetime"
   ]
  },
  {
   "cell_type": "code",
   "execution_count": 2,
   "metadata": {},
   "outputs": [
    {
     "name": "stdout",
     "output_type": "stream",
     "text": [
      "scanpy==1.4.4.post1 anndata==0.6.22.post1 umap==0.3.7 numpy==1.15.4 scipy==1.3.1 pandas==0.23.4 scikit-learn==0.20.1 statsmodels==0.10.1 python-igraph==0.7.1 louvain==0.6.1\n",
      "Memory usage: current 0.19 GB, difference +0.19 GB\n"
     ]
    }
   ],
   "source": [
    "import scanpy as sc\n",
    "sc.logging.print_versions()\n",
    "sc.logging.print_memory_usage()\n",
    "sc.settings.verbosity = 2"
   ]
  },
  {
   "cell_type": "code",
   "execution_count": 3,
   "metadata": {},
   "outputs": [],
   "source": [
    "## This cell is run once to download my custom functions and import statements from github\n",
    "#\n",
    "#!git clone --depth=1 https://github.com/rapolaszilionis/utility_functions\n",
    "#    \n",
    "## github doesn't seem to have an option to download a specific version of the repo from the history.\n",
    "## So I download my utility functions and save the download time by appending it to the directory name.\n",
    "## These utility functions to be shared together with the notebook.\n",
    "#\n",
    "#toappend = datetime.datetime.now().strftime('%y%m%d_%Hh%M')\n",
    "#newname = \"utility_functions_%s\"%toappend\n",
    "#print(newname)\n",
    "#\n",
    "#\n",
    "## rename the py file with utility functions\n",
    "#os.rename(\"utility_functions\",newname)"
   ]
  },
  {
   "cell_type": "code",
   "execution_count": 4,
   "metadata": {},
   "outputs": [
    {
     "name": "stdout",
     "output_type": "stream",
     "text": [
      "python version: 3.6.7\n"
     ]
    }
   ],
   "source": [
    "# add the utility function folder to PATH\n",
    "sys.path.append(os.path.abspath(\"utility_functions_200517_09h14/\"))\n",
    "\n",
    "from rz_import_statements import *\n",
    "import rz_functions as rz\n",
    "import rz_fig_params # this adjust mpl.rcParams, almost nothing to import, import after scanpy to overwrite rc.Params\n",
    "import rz_utility_spring as srz"
   ]
  },
  {
   "cell_type": "markdown",
   "metadata": {},
   "source": [
    "## Import scrublet: the doublet detector"
   ]
  },
  {
   "cell_type": "code",
   "execution_count": 5,
   "metadata": {},
   "outputs": [],
   "source": [
    "import scrublet as scr"
   ]
  },
  {
   "cell_type": "markdown",
   "metadata": {},
   "source": [
    "# Load data"
   ]
  },
  {
   "cell_type": "code",
   "execution_count": 6,
   "metadata": {},
   "outputs": [
    {
     "name": "stdout",
     "output_type": "stream",
     "text": [
      "(27563, 40930)\n"
     ]
    },
    {
     "data": {
      "text/html": [
       "<div>\n",
       "<style scoped>\n",
       "    .dataframe tbody tr th:only-of-type {\n",
       "        vertical-align: middle;\n",
       "    }\n",
       "\n",
       "    .dataframe tbody tr th {\n",
       "        vertical-align: top;\n",
       "    }\n",
       "\n",
       "    .dataframe thead th {\n",
       "        text-align: right;\n",
       "    }\n",
       "</style>\n",
       "<table border=\"1\" class=\"dataframe\">\n",
       "  <thead>\n",
       "    <tr style=\"text-align: right;\">\n",
       "      <th></th>\n",
       "      <th>barcode</th>\n",
       "      <th>library</th>\n",
       "      <th>total_counts</th>\n",
       "      <th>pct_counts_mito</th>\n",
       "      <th>_library_before_renaming</th>\n",
       "      <th>mouse</th>\n",
       "      <th>condition</th>\n",
       "      <th>closest_Immgen</th>\n",
       "      <th>closest_Zilionis2019_mouse_minor</th>\n",
       "      <th>closest_Immgen_simplified</th>\n",
       "    </tr>\n",
       "  </thead>\n",
       "  <tbody>\n",
       "    <tr>\n",
       "      <th>0</th>\n",
       "      <td>bcECPI</td>\n",
       "      <td>CSF1Ri_1_1</td>\n",
       "      <td>14875</td>\n",
       "      <td>5.81513</td>\n",
       "      <td>Blz1a</td>\n",
       "      <td>CSF1Ri_1</td>\n",
       "      <td>CSF1Ri</td>\n",
       "      <td>B1a_Sp</td>\n",
       "      <td>mB cells</td>\n",
       "      <td>B1a</td>\n",
       "    </tr>\n",
       "    <tr>\n",
       "      <th>1</th>\n",
       "      <td>bcESAZ</td>\n",
       "      <td>CSF1Ri_1_1</td>\n",
       "      <td>6876</td>\n",
       "      <td>4.21757</td>\n",
       "      <td>Blz1a</td>\n",
       "      <td>CSF1Ri_1</td>\n",
       "      <td>CSF1Ri</td>\n",
       "      <td>NK_DAP10-_Sp</td>\n",
       "      <td>mT3</td>\n",
       "      <td>NK</td>\n",
       "    </tr>\n",
       "    <tr>\n",
       "      <th>2</th>\n",
       "      <td>bcIBUV</td>\n",
       "      <td>CSF1Ri_1_1</td>\n",
       "      <td>4643</td>\n",
       "      <td>2.86453</td>\n",
       "      <td>Blz1a</td>\n",
       "      <td>CSF1Ri_1</td>\n",
       "      <td>CSF1Ri</td>\n",
       "      <td>GN_Arth_SynF</td>\n",
       "      <td>mN4</td>\n",
       "      <td>GN</td>\n",
       "    </tr>\n",
       "    <tr>\n",
       "      <th>3</th>\n",
       "      <td>bcGWNX</td>\n",
       "      <td>CSF1Ri_1_1</td>\n",
       "      <td>5972</td>\n",
       "      <td>6.39652</td>\n",
       "      <td>Blz1a</td>\n",
       "      <td>CSF1Ri_1</td>\n",
       "      <td>CSF1Ri</td>\n",
       "      <td>Mo_6C+II-_LN</td>\n",
       "      <td>mMac1</td>\n",
       "      <td>Mo</td>\n",
       "    </tr>\n",
       "    <tr>\n",
       "      <th>4</th>\n",
       "      <td>bcCOWJ</td>\n",
       "      <td>CSF1Ri_1_1</td>\n",
       "      <td>5021</td>\n",
       "      <td>3.82394</td>\n",
       "      <td>Blz1a</td>\n",
       "      <td>CSF1Ri_1</td>\n",
       "      <td>CSF1Ri</td>\n",
       "      <td>Mo_6C+II-_LN</td>\n",
       "      <td>mMono1</td>\n",
       "      <td>Mo</td>\n",
       "    </tr>\n",
       "  </tbody>\n",
       "</table>\n",
       "</div>"
      ],
      "text/plain": [
       "  barcode     library total_counts pct_counts_mito _library_before_renaming  \\\n",
       "0  bcECPI  CSF1Ri_1_1        14875         5.81513                    Blz1a   \n",
       "1  bcESAZ  CSF1Ri_1_1         6876         4.21757                    Blz1a   \n",
       "2  bcIBUV  CSF1Ri_1_1         4643         2.86453                    Blz1a   \n",
       "3  bcGWNX  CSF1Ri_1_1         5972         6.39652                    Blz1a   \n",
       "4  bcCOWJ  CSF1Ri_1_1         5021         3.82394                    Blz1a   \n",
       "\n",
       "      mouse condition closest_Immgen closest_Zilionis2019_mouse_minor  \\\n",
       "0  CSF1Ri_1    CSF1Ri         B1a_Sp                         mB cells   \n",
       "1  CSF1Ri_1    CSF1Ri   NK_DAP10-_Sp                              mT3   \n",
       "2  CSF1Ri_1    CSF1Ri   GN_Arth_SynF                              mN4   \n",
       "3  CSF1Ri_1    CSF1Ri   Mo_6C+II-_LN                            mMac1   \n",
       "4  CSF1Ri_1    CSF1Ri   Mo_6C+II-_LN                           mMono1   \n",
       "\n",
       "  closest_Immgen_simplified  \n",
       "0                       B1a  \n",
       "1                        NK  \n",
       "2                        GN  \n",
       "3                        Mo  \n",
       "4                        Mo  "
      ]
     },
     "execution_count": 6,
     "metadata": {},
     "output_type": "execute_result"
    }
   ],
   "source": [
    "adata = sc.read_h5ad('backups/mito_total_counts_filt_raw_27563x40930_200517_10h29.h5ad')\n",
    "\n",
    "# overwrite obs with the most recent version\n",
    "adata.obs = rz.load_df('backups/obs_info_27563x10_200517_12h03.npz')\n",
    "print(adata.shape)\n",
    "adata.obs.head()"
   ]
  },
  {
   "cell_type": "markdown",
   "metadata": {},
   "source": [
    "## Load details on the latest SPRING plot  \n",
    "In general, this is not necessary to run Scrublet. However, I want to use the same principal component space for both my SPRING plot and Scrublet. Thanks to Sam Wolock for guidance for how to do it. "
   ]
  },
  {
   "cell_type": "code",
   "execution_count": 7,
   "metadata": {},
   "outputs": [
    {
     "data": {
      "text/plain": [
       "dict_keys(['k', 'cell_mask', 'min_counts', 'min_cells', 'base_ix', 'num_pc', 'plot_name', 'gene_names_excluded', 'abundant_gene_mask', 'v_score_dict', 'genes_used', 'eigenvectors', 'eigenvalues'])"
      ]
     },
     "execution_count": 7,
     "metadata": {},
     "output_type": "execute_result"
    }
   ],
   "source": [
    "# load intermediates I saved when preparing the SPRING plot\n",
    "path1 = \"/Users/rapolaszilionis/Google Drive/analyses/SPRING_dev/data/pittet\"\n",
    "project_dir = path1+'/CSF1Ri/'\n",
    "plot_name = 'all_cells_w_dblt_1000umi'\n",
    "\n",
    "\n",
    "params = rz.load_stuff(project_dir+plot_name+'/params.pickle')\n",
    "params.keys()"
   ]
  },
  {
   "cell_type": "code",
   "execution_count": 8,
   "metadata": {},
   "outputs": [
    {
     "data": {
      "text/plain": [
       "matrix([[14875.],\n",
       "        [ 6876.],\n",
       "        [ 4643.],\n",
       "        [ 5972.],\n",
       "        [ 5021.]], dtype=float32)"
      ]
     },
     "execution_count": 8,
     "metadata": {},
     "output_type": "execute_result"
    }
   ],
   "source": [
    "# make sure the data is unnormalized, should sum to different total counts (and round numbers)\n",
    "adata.X[:5,:].sum(axis=1)"
   ]
  },
  {
   "cell_type": "code",
   "execution_count": 9,
   "metadata": {},
   "outputs": [
    {
     "name": "stdout",
     "output_type": "stream",
     "text": [
      "4001 40930\n",
      "26009 27563\n",
      "normalizing by total count per cell\n",
      "    finished (0:00:00): normalized adata.X and added    'n_counts', counts per cell before normalization (adata.obs)\n"
     ]
    }
   ],
   "source": [
    "# prepare  variables to plug into scrublet\n",
    "gene_mask = np.in1d(adata.var_names,params['genes_used'])\n",
    "cell_mask = params['cell_mask'].astype(bool)\n",
    "n_counts = np.array(adata[cell_mask,:].X.sum(axis=1).T)[0]\n",
    "P = params['eigenvectors'][:params['num_pc'],:] #eigenvector\n",
    "print(gene_mask.sum(),len(gene_mask))\n",
    "print(cell_mask.sum(),len(cell_mask))\n",
    "postnorm_total = 1e4\n",
    "\n",
    "X = adata[cell_mask].X\n",
    "X_norm = sc.pp.normalize_per_cell(adata[cell_mask],counts_per_cell_after=postnorm_total,copy=True).X\n",
    "subobs = adata.obs[cell_mask]"
   ]
  },
  {
   "cell_type": "code",
   "execution_count": 10,
   "metadata": {},
   "outputs": [],
   "source": [
    "gene_means = X_norm[:,gene_mask].mean(0).A.squeeze()\n",
    "gene_stdevs = np.sqrt(scr.sparse_var(X_norm[:, gene_mask]))"
   ]
  },
  {
   "cell_type": "code",
   "execution_count": 11,
   "metadata": {},
   "outputs": [
    {
     "name": "stdout",
     "output_type": "stream",
     "text": [
      "(185, 4001) 4001\n"
     ]
    }
   ],
   "source": [
    "# double-check the shapes\n",
    "print(P.shape,len(gene_means))"
   ]
  },
  {
   "cell_type": "markdown",
   "metadata": {},
   "source": [
    "## Calculate doublet scores"
   ]
  },
  {
   "cell_type": "markdown",
   "metadata": {},
   "source": [
    "### Decide on which cells to treat collectively"
   ]
  },
  {
   "cell_type": "code",
   "execution_count": 16,
   "metadata": {},
   "outputs": [
    {
     "data": {
      "text/plain": [
       "array(['CSF1Ri_1', 'CSF1Ri_2', 'Vehicle_1', 'Vehicle_2', 'Healthy_1',\n",
       "       'Healthy_2'], dtype=object)"
      ]
     },
     "execution_count": 16,
     "metadata": {},
     "output_type": "execute_result"
    }
   ],
   "source": [
    "# doublet can only be made of real cells present in the same cell suspension being injected into\n",
    "# a scRNAseq device.\n",
    "# therefore, it makes sense to run the doublet detector on each separate cell suspension (in other words,\n",
    "# for each emulsion)\n",
    "# also, the doublet rate can be different between samples.\n",
    "# what is the adata.obs column with emulsion information called?\n",
    "splitby = 'mouse'\n",
    "subobs[splitby].unique()"
   ]
  },
  {
   "cell_type": "code",
   "execution_count": 17,
   "metadata": {
    "scrolled": true
   },
   "outputs": [
    {
     "data": {
      "text/html": [
       "<div>\n",
       "<style scoped>\n",
       "    .dataframe tbody tr th:only-of-type {\n",
       "        vertical-align: middle;\n",
       "    }\n",
       "\n",
       "    .dataframe tbody tr th {\n",
       "        vertical-align: top;\n",
       "    }\n",
       "\n",
       "    .dataframe thead th {\n",
       "        text-align: right;\n",
       "    }\n",
       "</style>\n",
       "<table border=\"1\" class=\"dataframe\">\n",
       "  <thead>\n",
       "    <tr style=\"text-align: right;\">\n",
       "      <th></th>\n",
       "      <th></th>\n",
       "      <th>barcode</th>\n",
       "    </tr>\n",
       "    <tr>\n",
       "      <th>mouse</th>\n",
       "      <th>library</th>\n",
       "      <th></th>\n",
       "    </tr>\n",
       "  </thead>\n",
       "  <tbody>\n",
       "    <tr>\n",
       "      <th rowspan=\"3\" valign=\"top\">CSF1Ri_1</th>\n",
       "      <th>CSF1Ri_1_1</th>\n",
       "      <td>1415</td>\n",
       "    </tr>\n",
       "    <tr>\n",
       "      <th>CSF1Ri_1_2</th>\n",
       "      <td>886</td>\n",
       "    </tr>\n",
       "    <tr>\n",
       "      <th>CSF1Ri_1_3</th>\n",
       "      <td>816</td>\n",
       "    </tr>\n",
       "    <tr>\n",
       "      <th rowspan=\"3\" valign=\"top\">CSF1Ri_2</th>\n",
       "      <th>CSF1Ri_2_1</th>\n",
       "      <td>2211</td>\n",
       "    </tr>\n",
       "    <tr>\n",
       "      <th>CSF1Ri_2_2</th>\n",
       "      <td>2527</td>\n",
       "    </tr>\n",
       "    <tr>\n",
       "      <th>CSF1Ri_2_3</th>\n",
       "      <td>2485</td>\n",
       "    </tr>\n",
       "    <tr>\n",
       "      <th rowspan=\"2\" valign=\"top\">Healthy_1</th>\n",
       "      <th>Healthy_1_1</th>\n",
       "      <td>1720</td>\n",
       "    </tr>\n",
       "    <tr>\n",
       "      <th>Healthy_1_2</th>\n",
       "      <td>1308</td>\n",
       "    </tr>\n",
       "    <tr>\n",
       "      <th rowspan=\"3\" valign=\"top\">Healthy_2</th>\n",
       "      <th>Healthy_2_1</th>\n",
       "      <td>1378</td>\n",
       "    </tr>\n",
       "    <tr>\n",
       "      <th>Healthy_2_2</th>\n",
       "      <td>721</td>\n",
       "    </tr>\n",
       "    <tr>\n",
       "      <th>Healthy_2_3</th>\n",
       "      <td>1326</td>\n",
       "    </tr>\n",
       "    <tr>\n",
       "      <th rowspan=\"3\" valign=\"top\">Vehicle_1</th>\n",
       "      <th>Vehicle_1_1</th>\n",
       "      <td>947</td>\n",
       "    </tr>\n",
       "    <tr>\n",
       "      <th>Vehicle_1_2</th>\n",
       "      <td>2180</td>\n",
       "    </tr>\n",
       "    <tr>\n",
       "      <th>Vehicle_1_3</th>\n",
       "      <td>2465</td>\n",
       "    </tr>\n",
       "    <tr>\n",
       "      <th rowspan=\"2\" valign=\"top\">Vehicle_2</th>\n",
       "      <th>Vehicle_2_1</th>\n",
       "      <td>1686</td>\n",
       "    </tr>\n",
       "    <tr>\n",
       "      <th>Vehicle_2_2</th>\n",
       "      <td>1938</td>\n",
       "    </tr>\n",
       "  </tbody>\n",
       "</table>\n",
       "</div>"
      ],
      "text/plain": [
       "                       barcode\n",
       "mouse     library             \n",
       "CSF1Ri_1  CSF1Ri_1_1      1415\n",
       "          CSF1Ri_1_2       886\n",
       "          CSF1Ri_1_3       816\n",
       "CSF1Ri_2  CSF1Ri_2_1      2211\n",
       "          CSF1Ri_2_2      2527\n",
       "          CSF1Ri_2_3      2485\n",
       "Healthy_1 Healthy_1_1     1720\n",
       "          Healthy_1_2     1308\n",
       "Healthy_2 Healthy_2_1     1378\n",
       "          Healthy_2_2      721\n",
       "          Healthy_2_3     1326\n",
       "Vehicle_1 Vehicle_1_1      947\n",
       "          Vehicle_1_2     2180\n",
       "          Vehicle_1_3     2465\n",
       "Vehicle_2 Vehicle_2_1     1686\n",
       "          Vehicle_2_2     1938"
      ]
     },
     "execution_count": 17,
     "metadata": {},
     "output_type": "execute_result"
    }
   ],
   "source": [
    "subobs.groupby([splitby,'library']).count().dropna().iloc[:,:1]"
   ]
  },
  {
   "cell_type": "markdown",
   "metadata": {},
   "source": [
    "### Run Scrubet on each emulsion separately  \n",
    "By design, doublets cannot form between emulsions  "
   ]
  },
  {
   "cell_type": "code",
   "execution_count": 18,
   "metadata": {},
   "outputs": [
    {
     "name": "stdout",
     "output_type": "stream",
     "text": [
      "Automatically set threshold at doublet score = 0.53\n",
      "Detected doublet rate = 0.7%\n",
      "Estimated detectable doublet fraction = 17.1%\n",
      "Overall doublet rate:\n",
      "\tExpected   = 6.0%\n",
      "\tEstimated  = 4.3%\n",
      "Automatically set threshold at doublet score = 0.64\n",
      "Detected doublet rate = 0.2%\n",
      "Estimated detectable doublet fraction = 3.5%\n",
      "Overall doublet rate:\n",
      "\tExpected   = 6.0%\n",
      "\tEstimated  = 5.9%\n",
      "Automatically set threshold at doublet score = 0.60\n",
      "Detected doublet rate = 0.2%\n",
      "Estimated detectable doublet fraction = 3.1%\n",
      "Overall doublet rate:\n",
      "\tExpected   = 6.0%\n",
      "\tEstimated  = 5.8%\n",
      "Automatically set threshold at doublet score = 0.55\n",
      "Detected doublet rate = 0.7%\n",
      "Estimated detectable doublet fraction = 6.1%\n",
      "Overall doublet rate:\n",
      "\tExpected   = 6.0%\n",
      "\tEstimated  = 12.3%\n",
      "Automatically set threshold at doublet score = 0.53\n",
      "Detected doublet rate = 0.5%\n",
      "Estimated detectable doublet fraction = 7.0%\n",
      "Overall doublet rate:\n",
      "\tExpected   = 6.0%\n",
      "\tEstimated  = 7.5%\n",
      "Automatically set threshold at doublet score = 0.41\n",
      "Detected doublet rate = 1.5%\n",
      "Estimated detectable doublet fraction = 30.4%\n",
      "Overall doublet rate:\n",
      "\tExpected   = 6.0%\n",
      "\tEstimated  = 5.1%\n"
     ]
    }
   ],
   "source": [
    "# I want to apply the same principal component transformation to all emulsions but allow\n",
    "# simulated doublets only within the same emulsion\n",
    "\n",
    "# This is \n",
    "\n",
    "scrub_dict = {}\n",
    "doub_score_dict = {}\n",
    "predict_doub_dict = {}\n",
    "\n",
    "for emulsion in adata.obs[cell_mask][splitby].unique():\n",
    "    cmask = (adata.obs[cell_mask][splitby] == emulsion).values\n",
    "    \n",
    "    # select the expression data:\n",
    "    E = X[cmask,:][:,gene_mask]\n",
    "    \n",
    "    # initiate the scrub object\n",
    "    scrub = scr.Scrublet(E, total_counts=n_counts[cmask], expected_doublet_rate=0.06)\n",
    "     \n",
    "    # Simulate doublets\n",
    "    scrub.simulate_doublets()\n",
    "    \n",
    "    # Total counts normalize\n",
    "    scrub._E_obs_norm = scr.tot_counts_norm(scrub._E_obs, total_counts=n_counts[cmask], target_total=postnorm_total)\n",
    "    scrub._E_sim_norm = scr.tot_counts_norm(scrub._E_sim, total_counts=scrub._total_counts_sim, target_total=postnorm_total)\n",
    "    \n",
    "    # Z-score using previously calculated gene means and standard deviations. Same way as for original spring plot.\n",
    "    scrub._E_obs_norm = np.array(scr.sparse_zscore(scrub._E_obs_norm, gene_means, gene_stdevs))\n",
    "    scrub._E_sim_norm = np.array(scr.sparse_zscore(scrub._E_sim_norm, gene_means, gene_stdevs))\n",
    "    \n",
    "    # Transform simulated doublets into same PCA space as the observed cells\n",
    "    pca_obs = P.dot(scrub._E_obs_norm.T).T\n",
    "    pca_sim = P.dot(scrub._E_sim_norm.T).T\n",
    "    \n",
    "    # Set the \"manifold\", i.e. the space in which the knn graph will be constructed\n",
    "    scrub.set_manifold(pca_obs, pca_sim)\n",
    "    \n",
    "    # Calculate doublet scores and call doublets as usual\n",
    "    doublet_scores = scrub.calculate_doublet_scores()\n",
    "    predicted_doublets = scrub.call_doublets()\n",
    "    \n",
    "    # store results\n",
    "    scrub_dict[emulsion] = scrub\n",
    "    doub_score_dict[emulsion] = doublet_scores\n",
    "    predict_doub_dict[emulsion] = predicted_doublets"
   ]
  },
  {
   "cell_type": "markdown",
   "metadata": {},
   "source": [
    "## Check doublet histograms"
   ]
  },
  {
   "cell_type": "code",
   "execution_count": 19,
   "metadata": {},
   "outputs": [
    {
     "name": "stdout",
     "output_type": "stream",
     "text": [
      "CSF1Ri_1 0.5280312636188553\n",
      "CSF1Ri_2 0.6371549184559784\n",
      "Vehicle_1 0.5955167071069174\n",
      "Vehicle_2 0.5474833423497025\n",
      "Healthy_1 0.5331606309677914\n",
      "Healthy_2 0.40807999649419735\n"
     ]
    }
   ],
   "source": [
    "# print the automatically determined threshold:\n",
    "for key,value in scrub_dict.items():\n",
    "    print(key,value.threshold_)"
   ]
  },
  {
   "cell_type": "code",
   "execution_count": 20,
   "metadata": {
    "scrolled": false
   },
   "outputs": [
    {
     "name": "stdout",
     "output_type": "stream",
     "text": [
      "CSF1Ri_1 3228\n",
      "predicted doublet percentage 0.7378889958293231\n"
     ]
    },
    {
     "name": "stderr",
     "output_type": "stream",
     "text": [
      "/Users/rapolaszilionis/anaconda3/lib/python3.6/site-packages/matplotlib/font_manager.py:1241: UserWarning: findfont: Font family ['Myriad Pro'] not found. Falling back to DejaVu Sans.\n",
      "  (prop.get_family(), self.defaultFamily[fontext]))\n"
     ]
    },
    {
     "data": {
      "image/png": "[encoded data removed]",
      "text/plain": [
       "<Figure size 1200x450 with 2 Axes>"
      ]
     },
     "metadata": {
      "needs_background": "light"
     },
     "output_type": "display_data"
    },
    {
     "name": "stdout",
     "output_type": "stream",
     "text": [
      "\n",
      "CSF1Ri_2 7652\n",
      "predicted doublet percentage 0.20766994323688218\n"
     ]
    },
    {
     "data": {
      "image/png": "[encoded data removed]",
      "text/plain": [
       "<Figure size 1200x450 with 2 Axes>"
      ]
     },
     "metadata": {
      "needs_background": "light"
     },
     "output_type": "display_data"
    },
    {
     "name": "stdout",
     "output_type": "stream",
     "text": [
      "\n",
      "Vehicle_1 5820\n",
      "predicted doublet percentage 0.17882689556509299\n"
     ]
    },
    {
     "data": {
      "image/png": "[encoded data removed]",
      "text/plain": [
       "<Figure size 1200x450 with 2 Axes>"
      ]
     },
     "metadata": {
      "needs_background": "light"
     },
     "output_type": "display_data"
    },
    {
     "name": "stdout",
     "output_type": "stream",
     "text": [
      "\n",
      "Vehicle_2 3853\n",
      "predicted doublet percentage 0.7450331125827815\n"
     ]
    },
    {
     "data": {
      "image/png": "[encoded data removed]",
      "text/plain": [
       "<Figure size 1200x450 with 2 Axes>"
      ]
     },
     "metadata": {
      "needs_background": "light"
     },
     "output_type": "display_data"
    },
    {
     "name": "stdout",
     "output_type": "stream",
     "text": [
      "\n",
      "Healthy_1 3320\n",
      "predicted doublet percentage 0.5284015852047557\n"
     ]
    },
    {
     "data": {
      "image/png": "[encoded data removed]",
      "text/plain": [
       "<Figure size 1200x450 with 2 Axes>"
      ]
     },
     "metadata": {
      "needs_background": "light"
     },
     "output_type": "display_data"
    },
    {
     "name": "stdout",
     "output_type": "stream",
     "text": [
      "\n",
      "Healthy_2 3690\n",
      "predicted doublet percentage 1.5474452554744527\n"
     ]
    },
    {
     "data": {
      "image/png": "[encoded data removed]",
      "text/plain": [
       "<Figure size 1200x450 with 2 Axes>"
      ]
     },
     "metadata": {
      "needs_background": "light"
     },
     "output_type": "display_data"
    },
    {
     "name": "stdout",
     "output_type": "stream",
     "text": [
      "\n"
     ]
    }
   ],
   "source": [
    "for emulsion, scrub in scrub_dict.items():\n",
    "    print(emulsion,(adata.obs[splitby] == emulsion).sum())\n",
    "    dmask = predict_doub_dict[emulsion]\n",
    "    print('predicted doublet percentage',dmask.sum()/len(dmask)*100.)\n",
    "    scrub.plot_histogram();\n",
    "    plt.show()\n",
    "    print()"
   ]
  },
  {
   "cell_type": "markdown",
   "metadata": {},
   "source": [
    "## Add results to adata.obs"
   ]
  },
  {
   "cell_type": "code",
   "execution_count": 21,
   "metadata": {},
   "outputs": [],
   "source": [
    "obs = adata.obs.copy()\n",
    "\n",
    "# add the results to obs\n",
    "obs['doublet_score'] = np.nan\n",
    "obs['potential_doublet'] = np.nan\n",
    "\n",
    "for key,value in doub_score_dict.items():\n",
    "    cmask = (obs[splitby] == key).values\n",
    "    \n",
    "    obs.loc[cmask&cell_mask,'doublet_score'] = value\n",
    "    obs.loc[cmask&cell_mask,'potential_doublet'] = predict_doub_dict[key]\n",
    "    \n",
    "    # also add another colortrack: within the x% with highest doublet score\n",
    "    for i in [3,5,10]:   \n",
    "        obs.loc[cmask&cell_mask,'top%dpct_dbtl_score'%i] = \\\n",
    "        obs.loc[cmask&cell_mask,'doublet_score']>=obs.loc[cmask,'doublet_score'].quantile(1.-float(i)/100.)"
   ]
  },
  {
   "cell_type": "markdown",
   "metadata": {},
   "source": [
    "## Save obs only"
   ]
  },
  {
   "cell_type": "code",
   "execution_count": 22,
   "metadata": {},
   "outputs": [
    {
     "name": "stdout",
     "output_type": "stream",
     "text": [
      "backups/obs_info_27563x15_200524_12h47\n"
     ]
    }
   ],
   "source": [
    "# save the update obs dataframe\n",
    "# no need to save the entire adata object, counts didn't change\n",
    "\n",
    "fname = 'backups/obs_info_%dx%d_%s'%(obs.shape[0],obs.shape[1],rz.now())\n",
    "print(fname)\n",
    "rz.save_df(obs,fname)"
   ]
  },
  {
   "cell_type": "markdown",
   "metadata": {},
   "source": [
    "## Optional: add colotrack to SPRING"
   ]
  },
  {
   "cell_type": "code",
   "execution_count": 23,
   "metadata": {},
   "outputs": [
    {
     "data": {
      "text/html": [
       "<div>\n",
       "<style scoped>\n",
       "    .dataframe tbody tr th:only-of-type {\n",
       "        vertical-align: middle;\n",
       "    }\n",
       "\n",
       "    .dataframe tbody tr th {\n",
       "        vertical-align: top;\n",
       "    }\n",
       "\n",
       "    .dataframe thead th {\n",
       "        text-align: right;\n",
       "    }\n",
       "</style>\n",
       "<table border=\"1\" class=\"dataframe\">\n",
       "  <thead>\n",
       "    <tr style=\"text-align: right;\">\n",
       "      <th></th>\n",
       "      <th>barcode</th>\n",
       "      <th>library</th>\n",
       "      <th>total_counts</th>\n",
       "      <th>pct_counts_mito</th>\n",
       "      <th>_library_before_renaming</th>\n",
       "      <th>mouse</th>\n",
       "      <th>condition</th>\n",
       "      <th>closest_Immgen</th>\n",
       "      <th>closest_Zilionis2019_mouse_minor</th>\n",
       "      <th>closest_Immgen_simplified</th>\n",
       "    </tr>\n",
       "  </thead>\n",
       "  <tbody>\n",
       "    <tr>\n",
       "      <th>0</th>\n",
       "      <td>bcECPI</td>\n",
       "      <td>CSF1Ri_1_1</td>\n",
       "      <td>14875</td>\n",
       "      <td>5.81513</td>\n",
       "      <td>Blz1a</td>\n",
       "      <td>CSF1Ri_1</td>\n",
       "      <td>CSF1Ri</td>\n",
       "      <td>B1a_Sp</td>\n",
       "      <td>mB cells</td>\n",
       "      <td>B1a</td>\n",
       "    </tr>\n",
       "    <tr>\n",
       "      <th>1</th>\n",
       "      <td>bcESAZ</td>\n",
       "      <td>CSF1Ri_1_1</td>\n",
       "      <td>6876</td>\n",
       "      <td>4.21757</td>\n",
       "      <td>Blz1a</td>\n",
       "      <td>CSF1Ri_1</td>\n",
       "      <td>CSF1Ri</td>\n",
       "      <td>NK_DAP10-_Sp</td>\n",
       "      <td>mT3</td>\n",
       "      <td>NK</td>\n",
       "    </tr>\n",
       "    <tr>\n",
       "      <th>2</th>\n",
       "      <td>bcIBUV</td>\n",
       "      <td>CSF1Ri_1_1</td>\n",
       "      <td>4643</td>\n",
       "      <td>2.86453</td>\n",
       "      <td>Blz1a</td>\n",
       "      <td>CSF1Ri_1</td>\n",
       "      <td>CSF1Ri</td>\n",
       "      <td>GN_Arth_SynF</td>\n",
       "      <td>mN4</td>\n",
       "      <td>GN</td>\n",
       "    </tr>\n",
       "    <tr>\n",
       "      <th>3</th>\n",
       "      <td>bcGWNX</td>\n",
       "      <td>CSF1Ri_1_1</td>\n",
       "      <td>5972</td>\n",
       "      <td>6.39652</td>\n",
       "      <td>Blz1a</td>\n",
       "      <td>CSF1Ri_1</td>\n",
       "      <td>CSF1Ri</td>\n",
       "      <td>Mo_6C+II-_LN</td>\n",
       "      <td>mMac1</td>\n",
       "      <td>Mo</td>\n",
       "    </tr>\n",
       "    <tr>\n",
       "      <th>4</th>\n",
       "      <td>bcCOWJ</td>\n",
       "      <td>CSF1Ri_1_1</td>\n",
       "      <td>5021</td>\n",
       "      <td>3.82394</td>\n",
       "      <td>Blz1a</td>\n",
       "      <td>CSF1Ri_1</td>\n",
       "      <td>CSF1Ri</td>\n",
       "      <td>Mo_6C+II-_LN</td>\n",
       "      <td>mMono1</td>\n",
       "      <td>Mo</td>\n",
       "    </tr>\n",
       "  </tbody>\n",
       "</table>\n",
       "</div>"
      ],
      "text/plain": [
       "  barcode     library total_counts pct_counts_mito _library_before_renaming  \\\n",
       "0  bcECPI  CSF1Ri_1_1        14875         5.81513                    Blz1a   \n",
       "1  bcESAZ  CSF1Ri_1_1         6876         4.21757                    Blz1a   \n",
       "2  bcIBUV  CSF1Ri_1_1         4643         2.86453                    Blz1a   \n",
       "3  bcGWNX  CSF1Ri_1_1         5972         6.39652                    Blz1a   \n",
       "4  bcCOWJ  CSF1Ri_1_1         5021         3.82394                    Blz1a   \n",
       "\n",
       "      mouse condition closest_Immgen closest_Zilionis2019_mouse_minor  \\\n",
       "0  CSF1Ri_1    CSF1Ri         B1a_Sp                         mB cells   \n",
       "1  CSF1Ri_1    CSF1Ri   NK_DAP10-_Sp                              mT3   \n",
       "2  CSF1Ri_1    CSF1Ri   GN_Arth_SynF                              mN4   \n",
       "3  CSF1Ri_1    CSF1Ri   Mo_6C+II-_LN                            mMac1   \n",
       "4  CSF1Ri_1    CSF1Ri   Mo_6C+II-_LN                           mMono1   \n",
       "\n",
       "  closest_Immgen_simplified  \n",
       "0                       B1a  \n",
       "1                        NK  \n",
       "2                        GN  \n",
       "3                        Mo  \n",
       "4                        Mo  "
      ]
     },
     "execution_count": 23,
     "metadata": {},
     "output_type": "execute_result"
    }
   ],
   "source": [
    "adata.obs.head()"
   ]
  },
  {
   "cell_type": "code",
   "execution_count": 24,
   "metadata": {},
   "outputs": [],
   "source": [
    "# path\n",
    "path1 = \"/Users/rapolaszilionis/Google Drive/analyses/SPRING_dev/data/pittet\"\n",
    "project_dir = path1+'/CSF1Ri/'\n",
    "plot_name = 'all_cells_w_dblt_1000umi'\n",
    "\n",
    "# select to append:\n",
    "toappend = ['potential_doublet',\n",
    "            'top3pct_dbtl_score','top5pct_dbtl_score','top10pct_dbtl_score']\n",
    "\n",
    "toappend_cont = ['doublet_score']\n",
    "\n",
    "# color dictionary\n",
    "cdd = srz.read_cell_groupings(project_dir+plot_name+'/categorical_coloring_data.json')\n",
    "cdd = {key:value['label_colors'] for key,value in cdd.items()}\n",
    "\n",
    "# get cell filter:\n",
    "cell_ix = np.loadtxt(project_dir+plot_name+'/cell_filter.txt',dtype=int)\n",
    "\n",
    "# prepare cell groupings dictionary (discrete)\n",
    "cg = obs.iloc[cell_ix][toappend].astype(str).to_dict(orient='list')\n",
    "\n",
    "# prepare numerical\n",
    "ctracks = obs[cell_mask][toappend_cont].fillna(0).astype(float).to_dict(orient='list')\n",
    "\n",
    "# append categorical\n",
    "srz.append_cell_groupings(project_dir+plot_name,cg,colordd=cdd)\n",
    "# append numerical\n",
    "srz.append_color_tracks(ctracks,project_dir+plot_name,backup=True)"
   ]
  },
  {
   "cell_type": "code",
   "execution_count": null,
   "metadata": {},
   "outputs": [],
   "source": []
  }
 ],
 "metadata": {
  "kernelspec": {
   "display_name": "Python 3",
   "language": "python",
   "name": "python3"
  },
  "language_info": {
   "codemirror_mode": {
    "name": "ipython",
    "version": 3
   },
   "file_extension": ".py",
   "mimetype": "text/x-python",
   "name": "python",
   "nbconvert_exporter": "python",
   "pygments_lexer": "ipython3",
   "version": "3.6.7"
  },
  "toc": {
   "base_numbering": 1,
   "nav_menu": {},
   "number_sections": true,
   "sideBar": true,
   "skip_h1_title": true,
   "title_cell": "Table of Contents",
   "title_sidebar": "Contents",
   "toc_cell": false,
   "toc_position": {},
   "toc_section_display": true,
   "toc_window_display": false
  }
 },
 "nbformat": 4,
 "nbformat_minor": 2
}
