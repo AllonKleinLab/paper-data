{
 "cells": [
  {
   "cell_type": "markdown",
   "metadata": {},
   "source": [
    "# SPRING plot of all cells after cluster-based cleanup. Iteration 1.  \n",
    "Features of the plot:  \n",
    "- After first cluster-based doublet removal  \n",
    "- After removing contaminating Krt8 and erythroid clusters\n",
    "- Using the Csf1ri conditions as reference for batch correction"
   ]
  },
  {
   "cell_type": "markdown",
   "metadata": {},
   "source": [
    "## Import statements"
   ]
  },
  {
   "cell_type": "code",
   "execution_count": 40,
   "metadata": {},
   "outputs": [],
   "source": [
    "import os,sys\n",
    "import datetime"
   ]
  },
  {
   "cell_type": "code",
   "execution_count": 41,
   "metadata": {},
   "outputs": [
    {
     "name": "stdout",
     "output_type": "stream",
     "text": [
      "scanpy==1.4.4.post1 anndata==0.6.22.post1 umap==0.3.7 numpy==1.15.4 scipy==1.3.1 pandas==0.23.4 scikit-learn==0.20.1 statsmodels==0.10.1 python-igraph==0.7.1 louvain==0.6.1\n",
      "Memory usage: current 0.06 GB, difference -0.14 GB\n"
     ]
    }
   ],
   "source": [
    "import scanpy as sc\n",
    "sc.logging.print_versions()\n",
    "sc.logging.print_memory_usage()\n",
    "sc.settings.verbosity = 2"
   ]
  },
  {
   "cell_type": "code",
   "execution_count": 42,
   "metadata": {},
   "outputs": [],
   "source": [
    "## This cell is run once to download my custom functions and import statements from github\n",
    "#\n",
    "#!git clone --depth=1 https://github.com/rapolaszilionis/utility_functions\n",
    "#    \n",
    "## github doesn't seem to have an option to download a specific version of the repo from the history.\n",
    "## So I download my utility functions and save the download time by appending it to the directory name.\n",
    "## These utility functions to be shared together with the notebook.\n",
    "#\n",
    "#toappend = datetime.datetime.now().strftime('%y%m%d_%Hh%M')\n",
    "#newname = \"utility_functions_%s\"%toappend\n",
    "#print(newname)\n",
    "#\n",
    "#\n",
    "## rename the py file with utility functions\n",
    "#os.rename(\"utility_functions\",newname)"
   ]
  },
  {
   "cell_type": "code",
   "execution_count": 43,
   "metadata": {},
   "outputs": [],
   "source": [
    "# add the utility function folder to PATH\n",
    "sys.path.append(os.path.abspath(\"utility_functions_200517_09h14/\"))\n",
    "\n",
    "from rz_import_statements import *\n",
    "import rz_functions as rz\n",
    "import rz_fig_params # this adjust mpl.rcParams, almost nothing to import, import after scanpy to overwrite rc.Params\n",
    "import rz_utility_spring as srz"
   ]
  },
  {
   "cell_type": "markdown",
   "metadata": {},
   "source": [
    "## Load data"
   ]
  },
  {
   "cell_type": "code",
   "execution_count": 44,
   "metadata": {},
   "outputs": [],
   "source": [
    "adata = sc.read_h5ad('backups/mito_total_counts_filt_raw_27563x40930_200517_10h29.h5ad')"
   ]
  },
  {
   "cell_type": "code",
   "execution_count": 45,
   "metadata": {},
   "outputs": [],
   "source": [
    "# load obs with classifier results\n",
    "adata.obs = rz.load_df('backups/obs_info_27563x20_200524_21h32.npz')"
   ]
  },
  {
   "cell_type": "markdown",
   "metadata": {},
   "source": [
    "## Normalize counts"
   ]
  },
  {
   "cell_type": "code",
   "execution_count": 46,
   "metadata": {},
   "outputs": [
    {
     "name": "stdout",
     "output_type": "stream",
     "text": [
      "normalizing by total count per cell\n",
      "    finished (0:00:01): normalized adata.X and added    'n_counts', counts per cell before normalization (adata.obs)\n"
     ]
    }
   ],
   "source": [
    "sc.pp.normalize_per_cell(adata,counts_per_cell_after=1e4)"
   ]
  },
  {
   "cell_type": "code",
   "execution_count": 47,
   "metadata": {},
   "outputs": [
    {
     "data": {
      "text/html": [
       "<div>\n",
       "<style scoped>\n",
       "    .dataframe tbody tr th:only-of-type {\n",
       "        vertical-align: middle;\n",
       "    }\n",
       "\n",
       "    .dataframe tbody tr th {\n",
       "        vertical-align: top;\n",
       "    }\n",
       "\n",
       "    .dataframe thead th {\n",
       "        text-align: right;\n",
       "    }\n",
       "</style>\n",
       "<table border=\"1\" class=\"dataframe\">\n",
       "  <thead>\n",
       "    <tr style=\"text-align: right;\">\n",
       "      <th></th>\n",
       "      <th>barcode</th>\n",
       "      <th>library</th>\n",
       "      <th>total_counts</th>\n",
       "      <th>pct_counts_mito</th>\n",
       "      <th>_library_before_renaming</th>\n",
       "      <th>mouse</th>\n",
       "      <th>condition</th>\n",
       "      <th>closest_Immgen</th>\n",
       "      <th>closest_Zilionis2019_mouse_minor</th>\n",
       "      <th>closest_Immgen_simplified</th>\n",
       "      <th>doublet_score</th>\n",
       "      <th>potential_doublet</th>\n",
       "      <th>top3pct_dbtl_score</th>\n",
       "      <th>top5pct_dbtl_score</th>\n",
       "      <th>top10pct_dbtl_score</th>\n",
       "      <th>sp_cl_all_cells_w_dblt_1000umi_200</th>\n",
       "      <th>removed_as_dblt</th>\n",
       "      <th>n_counts</th>\n",
       "      <th>removed_as_RBC</th>\n",
       "      <th>removed_as_Krt8hi</th>\n",
       "    </tr>\n",
       "  </thead>\n",
       "  <tbody>\n",
       "    <tr>\n",
       "      <th>0</th>\n",
       "      <td>bcECPI</td>\n",
       "      <td>CSF1Ri_1_1</td>\n",
       "      <td>14875</td>\n",
       "      <td>5.81513</td>\n",
       "      <td>Blz1a</td>\n",
       "      <td>CSF1Ri_1</td>\n",
       "      <td>CSF1Ri</td>\n",
       "      <td>B1a_Sp</td>\n",
       "      <td>mB cells</td>\n",
       "      <td>B1a</td>\n",
       "      <td>0.151978</td>\n",
       "      <td>False</td>\n",
       "      <td>False</td>\n",
       "      <td>False</td>\n",
       "      <td>False</td>\n",
       "      <td>147</td>\n",
       "      <td>False</td>\n",
       "      <td>14875.0</td>\n",
       "      <td>False</td>\n",
       "      <td>False</td>\n",
       "    </tr>\n",
       "    <tr>\n",
       "      <th>1</th>\n",
       "      <td>bcESAZ</td>\n",
       "      <td>CSF1Ri_1_1</td>\n",
       "      <td>6876</td>\n",
       "      <td>4.21757</td>\n",
       "      <td>Blz1a</td>\n",
       "      <td>CSF1Ri_1</td>\n",
       "      <td>CSF1Ri</td>\n",
       "      <td>NK_DAP10-_Sp</td>\n",
       "      <td>mT3</td>\n",
       "      <td>NK</td>\n",
       "      <td>0.0952839</td>\n",
       "      <td>False</td>\n",
       "      <td>False</td>\n",
       "      <td>False</td>\n",
       "      <td>False</td>\n",
       "      <td>20</td>\n",
       "      <td>False</td>\n",
       "      <td>6876.0</td>\n",
       "      <td>False</td>\n",
       "      <td>False</td>\n",
       "    </tr>\n",
       "    <tr>\n",
       "      <th>2</th>\n",
       "      <td>bcIBUV</td>\n",
       "      <td>CSF1Ri_1_1</td>\n",
       "      <td>4643</td>\n",
       "      <td>2.86453</td>\n",
       "      <td>Blz1a</td>\n",
       "      <td>CSF1Ri_1</td>\n",
       "      <td>CSF1Ri</td>\n",
       "      <td>GN_Arth_SynF</td>\n",
       "      <td>mN4</td>\n",
       "      <td>GN</td>\n",
       "      <td>0.298507</td>\n",
       "      <td>False</td>\n",
       "      <td>True</td>\n",
       "      <td>True</td>\n",
       "      <td>True</td>\n",
       "      <td>154</td>\n",
       "      <td>False</td>\n",
       "      <td>4643.0</td>\n",
       "      <td>False</td>\n",
       "      <td>False</td>\n",
       "    </tr>\n",
       "    <tr>\n",
       "      <th>3</th>\n",
       "      <td>bcGWNX</td>\n",
       "      <td>CSF1Ri_1_1</td>\n",
       "      <td>5972</td>\n",
       "      <td>6.39652</td>\n",
       "      <td>Blz1a</td>\n",
       "      <td>CSF1Ri_1</td>\n",
       "      <td>CSF1Ri</td>\n",
       "      <td>Mo_6C+II-_LN</td>\n",
       "      <td>mMac1</td>\n",
       "      <td>Mo</td>\n",
       "      <td>0.298507</td>\n",
       "      <td>False</td>\n",
       "      <td>True</td>\n",
       "      <td>True</td>\n",
       "      <td>True</td>\n",
       "      <td>196</td>\n",
       "      <td>False</td>\n",
       "      <td>5972.0</td>\n",
       "      <td>False</td>\n",
       "      <td>False</td>\n",
       "    </tr>\n",
       "    <tr>\n",
       "      <th>4</th>\n",
       "      <td>bcCOWJ</td>\n",
       "      <td>CSF1Ri_1_1</td>\n",
       "      <td>5021</td>\n",
       "      <td>3.82394</td>\n",
       "      <td>Blz1a</td>\n",
       "      <td>CSF1Ri_1</td>\n",
       "      <td>CSF1Ri</td>\n",
       "      <td>Mo_6C+II-_LN</td>\n",
       "      <td>mMono1</td>\n",
       "      <td>Mo</td>\n",
       "      <td>0.0424448</td>\n",
       "      <td>False</td>\n",
       "      <td>False</td>\n",
       "      <td>False</td>\n",
       "      <td>False</td>\n",
       "      <td>30</td>\n",
       "      <td>False</td>\n",
       "      <td>5021.0</td>\n",
       "      <td>False</td>\n",
       "      <td>False</td>\n",
       "    </tr>\n",
       "  </tbody>\n",
       "</table>\n",
       "</div>"
      ],
      "text/plain": [
       "  barcode     library total_counts pct_counts_mito _library_before_renaming  \\\n",
       "0  bcECPI  CSF1Ri_1_1        14875         5.81513                    Blz1a   \n",
       "1  bcESAZ  CSF1Ri_1_1         6876         4.21757                    Blz1a   \n",
       "2  bcIBUV  CSF1Ri_1_1         4643         2.86453                    Blz1a   \n",
       "3  bcGWNX  CSF1Ri_1_1         5972         6.39652                    Blz1a   \n",
       "4  bcCOWJ  CSF1Ri_1_1         5021         3.82394                    Blz1a   \n",
       "\n",
       "      mouse condition closest_Immgen closest_Zilionis2019_mouse_minor  \\\n",
       "0  CSF1Ri_1    CSF1Ri         B1a_Sp                         mB cells   \n",
       "1  CSF1Ri_1    CSF1Ri   NK_DAP10-_Sp                              mT3   \n",
       "2  CSF1Ri_1    CSF1Ri   GN_Arth_SynF                              mN4   \n",
       "3  CSF1Ri_1    CSF1Ri   Mo_6C+II-_LN                            mMac1   \n",
       "4  CSF1Ri_1    CSF1Ri   Mo_6C+II-_LN                           mMono1   \n",
       "\n",
       "  closest_Immgen_simplified doublet_score potential_doublet  \\\n",
       "0                       B1a      0.151978             False   \n",
       "1                        NK     0.0952839             False   \n",
       "2                        GN      0.298507             False   \n",
       "3                        Mo      0.298507             False   \n",
       "4                        Mo     0.0424448             False   \n",
       "\n",
       "  top3pct_dbtl_score top5pct_dbtl_score top10pct_dbtl_score  \\\n",
       "0              False              False               False   \n",
       "1              False              False               False   \n",
       "2               True               True                True   \n",
       "3               True               True                True   \n",
       "4              False              False               False   \n",
       "\n",
       "  sp_cl_all_cells_w_dblt_1000umi_200 removed_as_dblt  n_counts removed_as_RBC  \\\n",
       "0                                147           False   14875.0          False   \n",
       "1                                 20           False    6876.0          False   \n",
       "2                                154           False    4643.0          False   \n",
       "3                                196           False    5972.0          False   \n",
       "4                                 30           False    5021.0          False   \n",
       "\n",
       "  removed_as_Krt8hi  \n",
       "0             False  \n",
       "1             False  \n",
       "2             False  \n",
       "3             False  \n",
       "4             False  "
      ]
     },
     "execution_count": 47,
     "metadata": {},
     "output_type": "execute_result"
    }
   ],
   "source": [
    "adata.obs.head()"
   ]
  },
  {
   "cell_type": "markdown",
   "metadata": {},
   "source": [
    "## Save one copy of the data to master spring directory in a SPRING-compatible format  \n",
    "Upon running this notebook, the resulting 2D visualization of the data is made available for exploration interactively using the [SPRING](https://academic.oup.com/bioinformatics/article/34/7/1246/4708233) tool in a web browser. This requires saving counts in a SPRING-compatible format.  "
   ]
  },
  {
   "cell_type": "code",
   "execution_count": 48,
   "metadata": {},
   "outputs": [],
   "source": [
    "path1 = \"/Users/rapolaszilionis/Google Drive/analyses/SPRING_dev/data/pittet\"\n",
    "project_dir = path1+'/CSF1Ri'"
   ]
  },
  {
   "cell_type": "code",
   "execution_count": 49,
   "metadata": {},
   "outputs": [],
   "source": [
    "# already done in previous notebook\n",
    "\n",
    "# save (once), may be slow\n",
    "# srz.save_counts_for_spring(adata,project_dir)"
   ]
  },
  {
   "cell_type": "markdown",
   "metadata": {},
   "source": [
    "## Data visualization in 2D. Exclude dblts, RBCs and Krt8+"
   ]
  },
  {
   "cell_type": "markdown",
   "metadata": {},
   "source": [
    "### Select cells to visualize, name the plot, plotting parameters"
   ]
  },
  {
   "cell_type": "code",
   "execution_count": 50,
   "metadata": {},
   "outputs": [
    {
     "name": "stdout",
     "output_type": "stream",
     "text": [
      "25140\n"
     ]
    }
   ],
   "source": [
    "use = (adata.obs[[i for i in adata.obs.columns if i.startswith('removed_')]] == False).prod(axis=1)\n",
    "use = use&(adata.obs['sp_cl_all_cells_w_dblt_1000umi_200'].isna()==False)\n",
    "print(use.sum())\n",
    "\n",
    "adata.obs['used_in_all_cells_clean_iter1_refCSF1Ri'] = use.astype(bool)"
   ]
  },
  {
   "cell_type": "code",
   "execution_count": 51,
   "metadata": {},
   "outputs": [],
   "source": [
    "# save the update obs dataframe\n",
    "# no need to save the entire adata object, counts didn't change\n",
    "\n",
    "fname = 'backups/obs_info_%dx%d_%s'%(adata.obs.shape[0],adata.obs.shape[1],rz.now())\n",
    "rz.save_df(adata.obs,fname)"
   ]
  },
  {
   "cell_type": "code",
   "execution_count": 52,
   "metadata": {},
   "outputs": [
    {
     "name": "stdout",
     "output_type": "stream",
     "text": [
      "25140 27563\n"
     ]
    },
    {
     "data": {
      "text/plain": [
       "{'k': 5,\n",
       " 'cell_mask': array([ True,  True,  True, ...,  True,  True,  True]),\n",
       " 'min_counts': 3,\n",
       " 'min_cells': 3,\n",
       " 'base_ix': array([    0,     1,     2, ..., 25137, 25138, 25139]),\n",
       " 'num_pc': 20,\n",
       " 'plot_name': 'all_cells_clean_iter1_refCSF1Ri'}"
      ]
     },
     "execution_count": 52,
     "metadata": {},
     "output_type": "execute_result"
    }
   ],
   "source": [
    "# out of all cells in adata, select only those you want to plot\n",
    "# make a copy of the adata object\n",
    "\n",
    "cell_mask = adata.obs['used_in_all_cells_clean_iter1_refCSF1Ri'].astype(bool).values\n",
    "print(cell_mask.sum(),len(cell_mask))\n",
    "cdata = adata[cell_mask].copy() # all cells in this case\n",
    "\n",
    "# chose a name for the spring subplot\n",
    "plot_name = 'all_cells_clean_iter1_refCSF1Ri'\n",
    "\n",
    "# chose dataset for selecting abundant and variable genes\n",
    "# here I use linear counts-per-10k\n",
    "\n",
    "E = cdata.X\n",
    "\n",
    "# in an attempt to be more organized I keep a log of spring parameter and intermediate data structures used in\n",
    "# the form of an unstructured annotation as part of an AnnData object.\n",
    "\n",
    "srz.start_spring_params(cdata,plot_name)\n",
    "\n",
    "# print the newly created dictionary, also define a variable to access it faster:\n",
    "pdict = cdata.uns['spring_params'][plot_name]\n",
    "pdict"
   ]
  },
  {
   "cell_type": "code",
   "execution_count": 14,
   "metadata": {},
   "outputs": [
    {
     "name": "stdout",
     "output_type": "stream",
     "text": [
      "9877\n"
     ]
    },
    {
     "data": {
      "text/plain": [
       "{'k': 10,\n",
       " 'cell_mask': array([ True,  True,  True, ..., False,  True, False]),\n",
       " 'min_counts': 10,\n",
       " 'min_cells': 5,\n",
       " 'base_ix': array([   0,    1,    2, ..., 9874, 9875, 9876]),\n",
       " 'num_pc': 20,\n",
       " 'plot_name': 'all_cells_clean_iter1_refCSF1Ri'}"
      ]
     },
     "execution_count": 14,
     "metadata": {},
     "output_type": "execute_result"
    }
   ],
   "source": [
    "# overwrite some of the parameters for SPRING\n",
    "pdict['cell_mask'] = cell_mask # record which cell out of all were used\n",
    "pdict['k'] = 10\n",
    "\n",
    "pdict['min_counts'] = 10\n",
    "pdict['min_cells'] = 5\n",
    "\n",
    "# base index: which cells to use a reference to calculate the PC space?\n",
    "pdict['base_ix'] = np.arange(E.shape[0])[adata.obs[cell_mask]['condition'].isin(['CSF1Ri']).values]\n",
    "\n",
    "print(len(pdict['base_ix']))\n",
    "\n",
    "pdict"
   ]
  },
  {
   "cell_type": "markdown",
   "metadata": {},
   "source": [
    "### Gene selection"
   ]
  },
  {
   "cell_type": "code",
   "execution_count": 15,
   "metadata": {},
   "outputs": [
    {
     "name": "stdout",
     "output_type": "stream",
     "text": [
      "mt-\n",
      "['mt-Atp6', 'mt-Atp8', 'mt-Co1', 'mt-Co2', 'mt-Co3', 'mt-Cytb', 'mt-Nd1', 'mt-Nd2', 'mt-Nd3', 'mt-Nd4', 'mt-Nd4l', 'mt-Nd5', 'mt-Nd6', 'mt-Rnr1', 'mt-Rnr2', 'mt-Ta', 'mt-Tc', 'mt-Td', 'mt-Te', 'mt-Tf', 'mt-Tg', 'mt-Th', 'mt-Ti', 'mt-Tk', 'mt-Tl1', 'mt-Tl2', 'mt-Tm', 'mt-Tn', 'mt-Tp', 'mt-Tq', 'mt-Tr', 'mt-Ts1', 'mt-Ts2', 'mt-Tt', 'mt-Tv', 'mt-Tw', 'mt-Ty']\n",
      "\n",
      "\n",
      "Rps\n",
      "['Rps10', 'Rps11', 'Rps12', 'Rps12-ps3', 'Rps13', 'Rps14', 'Rps15', 'Rps15a', 'Rps16', 'Rps17', 'Rps18', 'Rps19', 'Rps19bp1', 'Rps2', 'Rps20', 'Rps21', 'Rps23', 'Rps24', 'Rps25', 'Rps26', 'Rps27', 'Rps27a', 'Rps27l', 'Rps27rt', 'Rps28', 'Rps29', 'Rps3', 'Rps3a1', 'Rps4x', 'Rps5', 'Rps6', 'Rps6ka1', 'Rps6ka2', 'Rps6ka3', 'Rps6ka4', 'Rps6ka5', 'Rps6ka6', 'Rps6kb1', 'Rps6kb2', 'Rps6kc1', 'Rps6kl1', 'Rps7', 'Rps8', 'Rps9', 'Rpsa']\n",
      "\n",
      "\n",
      "Rpl\n",
      "['Rpl10', 'Rpl10-ps3', 'Rpl10a', 'Rpl10l', 'Rpl11', 'Rpl12', 'Rpl13', 'Rpl13a', 'Rpl13a-ps1', 'Rpl14', 'Rpl15', 'Rpl17', 'Rpl18', 'Rpl18a', 'Rpl19', 'Rpl21', 'Rpl22', 'Rpl22l1', 'Rpl23', 'Rpl23a', 'Rpl24', 'Rpl26', 'Rpl27', 'Rpl27-ps3', 'Rpl27a', 'Rpl28', 'Rpl29', 'Rpl3', 'Rpl30', 'Rpl31', 'Rpl32', 'Rpl34', 'Rpl35', 'Rpl35a', 'Rpl36', 'Rpl36-ps4', 'Rpl36a', 'Rpl36a-ps1', 'Rpl36al', 'Rpl37', 'Rpl37a', 'Rpl38', 'Rpl39', 'Rpl39l', 'Rpl3l', 'Rpl4', 'Rpl41', 'Rpl5', 'Rpl6', 'Rpl7', 'Rpl7a', 'Rpl7a-ps5', 'Rpl7l1', 'Rpl8', 'Rpl9', 'Rpl9-ps1', 'Rpl9-ps6', 'Rplp0', 'Rplp1', 'Rplp2']\n",
      "\n",
      "\n",
      "Mrpl\n",
      "['Mrpl1', 'Mrpl10', 'Mrpl11', 'Mrpl12', 'Mrpl13', 'Mrpl14', 'Mrpl15', 'Mrpl16', 'Mrpl17', 'Mrpl18', 'Mrpl19', 'Mrpl2', 'Mrpl20', 'Mrpl21', 'Mrpl22', 'Mrpl23', 'Mrpl24', 'Mrpl27', 'Mrpl28', 'Mrpl3', 'Mrpl30', 'Mrpl32', 'Mrpl33', 'Mrpl34', 'Mrpl35', 'Mrpl36', 'Mrpl37', 'Mrpl38', 'Mrpl39', 'Mrpl4', 'Mrpl40', 'Mrpl41', 'Mrpl42', 'Mrpl43', 'Mrpl44', 'Mrpl45', 'Mrpl46', 'Mrpl47', 'Mrpl48', 'Mrpl49', 'Mrpl50', 'Mrpl51', 'Mrpl52', 'Mrpl53', 'Mrpl54', 'Mrpl55', 'Mrpl57', 'Mrpl58', 'Mrpl9']\n",
      "\n",
      "\n",
      "Mrps\n",
      "['Mrps10', 'Mrps11', 'Mrps12', 'Mrps14', 'Mrps15', 'Mrps16', 'Mrps17', 'Mrps18a', 'Mrps18b', 'Mrps18c', 'Mrps2', 'Mrps21', 'Mrps22', 'Mrps23', 'Mrps24', 'Mrps25', 'Mrps26', 'Mrps27', 'Mrps28', 'Mrps30', 'Mrps31', 'Mrps33', 'Mrps34', 'Mrps35', 'Mrps36', 'Mrps5', 'Mrps6', 'Mrps7', 'Mrps9']\n",
      "\n",
      "\n"
     ]
    }
   ],
   "source": [
    "# avoid genes starting with\n",
    "toavoid = ['mt-','Rps','Rpl','Mrpl','Mrps']\n",
    "for i in toavoid:\n",
    "    print(i)\n",
    "    print([g for g in adata.var_names if g.startswith(i)])\n",
    "    print()\n",
    "    print()"
   ]
  },
  {
   "cell_type": "code",
   "execution_count": 16,
   "metadata": {},
   "outputs": [
    {
     "name": "stdout",
     "output_type": "stream",
     "text": [
      "220 genes excluded based on name\n",
      "10720 genes passing abundance filter\n"
     ]
    }
   ],
   "source": [
    "# genes to exclude:\n",
    "exclude_gene_names = []\n",
    "for j in toavoid:\n",
    "    exclude_gene_names.append([i for i in adata.var_names if i.startswith(j)])\n",
    "exclude_gene_names = rz.flatten_list_of_lists(exclude_gene_names)\n",
    "\n",
    "pdict['gene_names_excluded'] = exclude_gene_names\n",
    "print('%d genes excluded based on name'%len(exclude_gene_names))\n",
    "\n",
    "\n",
    "##########################################################################################\n",
    "\n",
    "# filter on abundance:\n",
    "pdict['abundant_gene_mask'] = srz.filter_abund_genes(\n",
    "                                                     E[pdict['base_ix'],:],\n",
    "                                                     pdict['min_counts'],\n",
    "                                                     pdict['min_cells']\n",
    "                                                    )"
   ]
  },
  {
   "cell_type": "code",
   "execution_count": 17,
   "metadata": {},
   "outputs": [
    {
     "name": "stdout",
     "output_type": "stream",
     "text": [
      "30430\n",
      "30395\n",
      "10535 surviving genes so far\n"
     ]
    }
   ],
   "source": [
    "# combine gene filters so far\n",
    "undesired = list(pdict['gene_names_excluded'])+\\\n",
    "            list(cdata.var_names[~pdict['abundant_gene_mask']])\n",
    "\n",
    "print(len(undesired))\n",
    "undesired = list(set(undesired))\n",
    "print(len(undesired))\n",
    "\n",
    "# boolean mask\n",
    "combmask = ~np.in1d(cdata.var_names,undesired)\n",
    "print(combmask.sum(),'surviving genes so far')"
   ]
  },
  {
   "cell_type": "code",
   "execution_count": 18,
   "metadata": {},
   "outputs": [
    {
     "name": "stdout",
     "output_type": "stream",
     "text": [
      "34970 genes with non-zero expression\n"
     ]
    }
   ],
   "source": [
    "# calculate v score (Klein et al., 2015, see equation S4 and S13) for all non-zero genes\n",
    "isexpr = np.array(E[pdict['base_ix'],:].sum(axis=0))[0]>0\n",
    "print('%d genes with non-zero expression'%sum(isexpr))\n",
    "pdict['v_score_dict'] = srz.vscores(E[pdict['base_ix'],:][:,isexpr])"
   ]
  },
  {
   "cell_type": "code",
   "execution_count": 19,
   "metadata": {},
   "outputs": [
    {
     "name": "stdout",
     "output_type": "stream",
     "text": [
      "23633 variable genes\n"
     ]
    }
   ],
   "source": [
    "# get genes above mode, i.e. any that can be considered variable\n",
    "gabmod = cdata.var_names[isexpr][pdict['v_score_dict']['var_gene_mask']]\n",
    "print(len(gabmod),'variable genes')"
   ]
  },
  {
   "cell_type": "code",
   "execution_count": 20,
   "metadata": {},
   "outputs": [
    {
     "name": "stdout",
     "output_type": "stream",
     "text": [
      "23633\n",
      "10518 abundant and variable genes\n"
     ]
    }
   ],
   "source": [
    "# update combmask:\n",
    "mvar = np.in1d(cdata.var_names,gabmod)\n",
    "print(mvar.sum())\n",
    "combmask = combmask&mvar\n",
    "print(combmask.sum(),'abundant and variable genes')"
   ]
  },
  {
   "cell_type": "code",
   "execution_count": 21,
   "metadata": {},
   "outputs": [
    {
     "name": "stdout",
     "output_type": "stream",
     "text": [
      "(9877, 10518)\n",
      "0.71 min.\n"
     ]
    }
   ],
   "source": [
    "# if filtering on correlation, get gene-gene correlation (quite slow)\n",
    "corx = E[pdict['base_ix'],:][:,combmask]\n",
    "print(corx.shape)\n",
    "corx = srz.sparse_corrcoef(corx.T)\n",
    "corx = np.array(corx)"
   ]
  },
  {
   "cell_type": "code",
   "execution_count": 22,
   "metadata": {},
   "outputs": [
    {
     "name": "stdout",
     "output_type": "stream",
     "text": [
      "6037 genes to exclude based on correlation\n",
      "4481 genes surviving all filters\n"
     ]
    }
   ],
   "source": [
    "# select correlation filters (largely arbitrary), as described in Klein et al. 2015\n",
    "genes_at_least = 3 #at least this number of genes correlated to any other gene\n",
    "corr_at_least = 0.1 #with a Pearson correlation coefficient at least this large\n",
    "\n",
    "################################################################################\n",
    "\n",
    "# genes passing correlation filter\n",
    "cormask = (abs(corx)>corr_at_least).sum(axis=0)>genes_at_least #\"more than\" as one instance is the gene itself with r=1\n",
    "print((~cormask).sum(), 'genes to exclude based on correlation')\n",
    "\n",
    "# combine filter\n",
    "pdict['genes_used'] = cdata.var_names[combmask][cormask]\n",
    "print(len(pdict['genes_used']),'genes surviving all filters')"
   ]
  },
  {
   "cell_type": "code",
   "execution_count": 23,
   "metadata": {},
   "outputs": [
    {
     "name": "stderr",
     "output_type": "stream",
     "text": [
      "/Users/rapolaszilionis/anaconda3/lib/python3.6/site-packages/matplotlib/font_manager.py:1241: UserWarning: findfont: Font family ['Myriad Pro'] not found. Falling back to DejaVu Sans.\n",
      "  (prop.get_family(), self.defaultFamily[fontext]))\n"
     ]
    },
    {
     "data": {
      "image/png": "[encoded data removed]",
      "text/plain": [
       "<Figure size 450x450 with 1 Axes>"
      ]
     },
     "metadata": {
      "needs_background": "light"
     },
     "output_type": "display_data"
    }
   ],
   "source": [
    "# plot a fano factor vs mean plot with genes used further colored in red\n",
    "ff = pdict['v_score_dict']['ff_gene']\n",
    "mu = pdict['v_score_dict']['mu_gene']\n",
    "finalmask = np.in1d(cdata.var_names,pdict['genes_used'])\n",
    "\n",
    "# check scatter\n",
    "s = 2\n",
    "plt.figure(figsize=(3,3))\n",
    "plt.scatter(mu,ff,lw=0,color='0.5',alpha=0.1,s=s)\n",
    "plt.scatter(mu[finalmask[isexpr]],ff[finalmask[isexpr]],lw=0,color='r',alpha=0.1,s=s)\n",
    "plt.xscale('log');\n",
    "plt.yscale('log');\n",
    "plt.xlim(0.0001,1000)\n",
    "plt.ylim(1,10000)\n",
    "plt.xlabel('Mean counts')\n",
    "plt.ylabel('Fano factor');"
   ]
  },
  {
   "cell_type": "markdown",
   "metadata": {},
   "source": [
    "### PCA with batch correction  \n",
    "The batch correction consists of using eigenvalues calculated on cells from one condition (reference, \"base_ix\") for transforming the data from all cells"
   ]
  },
  {
   "cell_type": "code",
   "execution_count": 24,
   "metadata": {},
   "outputs": [
    {
     "name": "stdout",
     "output_type": "stream",
     "text": [
      "(25140, 40930)\n",
      "(25140, 4481)\n"
     ]
    }
   ],
   "source": [
    "# leave only genes defined as variable, overwrite\n",
    "print(cdata.shape)\n",
    "finalmask = np.in1d(cdata.var_names,pdict['genes_used'])\n",
    "cdata = cdata[:,finalmask]\n",
    "print(cdata.shape)"
   ]
  },
  {
   "cell_type": "code",
   "execution_count": 25,
   "metadata": {},
   "outputs": [
    {
     "name": "stdout",
     "output_type": "stream",
     "text": [
      "Help on function zscore_sparse in module rz_utility_spring:\n",
      "\n",
      "zscore_sparse(E, base_ix=[], var_stab_only=False)\n",
      "    zscores along the columns. If specified, only base_ix rows with be used\n",
      "    to calculate mean and st. dev. Inspired by \"get_pca\" function from\n",
      "    https://github.com/AllonKleinLab/SPRING_dev/blob/master/data_prep/helper_functions.py\n",
      "    2018 12 07\n",
      "    \n",
      "    Input:\n",
      "        E - sp.sparse matrix, cells x genes\n",
      "        base_ix - np.array with positional index\n",
      "        var_stab_only - variance stabilize only, bool\n",
      "    returns:\n",
      "        Zscores, if var_stab_only==True,\n",
      "        then sparse matrix, else and np.array\n",
      "\n"
     ]
    }
   ],
   "source": [
    "help(srz.zscore_sparse)"
   ]
  },
  {
   "cell_type": "code",
   "execution_count": 26,
   "metadata": {},
   "outputs": [],
   "source": [
    "# Z score calculating the mean and variance on base_ix (i.e. reference) cell only\n",
    "Z = srz.zscore_sparse(cdata.X,base_ix=pdict['base_ix'])"
   ]
  },
  {
   "cell_type": "code",
   "execution_count": 27,
   "metadata": {},
   "outputs": [
    {
     "name": "stdout",
     "output_type": "stream",
     "text": [
      "calculating the first 350 observed eigenvalues...\n",
      "calculating the random eigenvalues for 10 rounds of shuffling...\n",
      "1 \t 111 \t 0.75 min.\n",
      "2 \t 109 \t 1.24 min.\n",
      "3 \t 111 \t 2.47 min.\n",
      "4 \t 106 \t 3.65 min.\n",
      "5 \t 111 \t 4.65 min.\n",
      "6 \t 112 \t 5.91 min.\n",
      "7 \t 111 \t 7.13 min.\n",
      "8 \t 105 \t 8.15 min.\n",
      "9 \t 108 \t 8.50 min.\n",
      "10 \t 110 \t 8.79 min.\n"
     ]
    }
   ],
   "source": [
    "# find the number of non-random PCs.\n",
    "d = srz.find_num_pc(Z[pdict[\"base_ix\"],:],start_pc=350,sparse=False,n=10)"
   ]
  },
  {
   "cell_type": "code",
   "execution_count": 28,
   "metadata": {},
   "outputs": [
    {
     "name": "stdout",
     "output_type": "stream",
     "text": [
      "105\n"
     ]
    }
   ],
   "source": [
    "# record results to log:\n",
    "pdict['num_pc'] = d['num_pc']\n",
    "pdict['eigenvectors'] = d['pca'].components_\n",
    "pdict['eigenvalues'] = d['pca'].explained_variance_\n",
    "\n",
    "print(d['num_pc'])"
   ]
  },
  {
   "cell_type": "code",
   "execution_count": 29,
   "metadata": {},
   "outputs": [
    {
     "name": "stdout",
     "output_type": "stream",
     "text": [
      "(25140, 105)\n"
     ]
    }
   ],
   "source": [
    "# transform observed data\n",
    "# make sure to provide a dense matrix Z\n",
    "\n",
    "P = pdict['eigenvectors'][:pdict['num_pc'],:].dot(Z.T).T\n",
    "print(P.shape)"
   ]
  },
  {
   "cell_type": "markdown",
   "metadata": {},
   "source": [
    "### Draw graph"
   ]
  },
  {
   "cell_type": "code",
   "execution_count": 30,
   "metadata": {},
   "outputs": [
    {
     "name": "stdout",
     "output_type": "stream",
     "text": [
      "10 neighbors\n",
      "computing neighbors\n",
      "    finished (0:00:14)\n",
      "drawing single-cell graph using layout 'fa'\n",
      "    finished (0:04:43)\n"
     ]
    }
   ],
   "source": [
    "# Place the principle component data into an AnnData object to use scanpynian functions downstream\n",
    "\n",
    "P = AnnData(P)\n",
    "\n",
    "# get kNN graph\n",
    "# ignore the error message: https://github.com/lmcinnes/umap/issues/87\n",
    "k = pdict['k']\n",
    "print(k, 'neighbors')\n",
    "sc.pp.neighbors(P,k,use_rep='X')\n",
    "\n",
    "# Draw force-directed graph.\n",
    "# This is just to get an initial version of xy coordinates\n",
    "# Nodes are further relaxed in interactive SPRING mode.\n",
    "sc.tl.draw_graph(P, layout='fa')"
   ]
  },
  {
   "cell_type": "markdown",
   "metadata": {},
   "source": [
    "### Save graph and cell coloring data for interactive exploration using the SPRING tool  \n",
    "- Force layout is finished in the browser version of SPRING. It also uses forceAtlast2 (just as draw graph) but is performed on an unweighted version of the graph, therefore the discrepancies between xy coordinates obtain in the browser and by running sc.tl.draw_graph.  \n",
    "- Desired column of adata.obs can be specific to color cells."
   ]
  },
  {
   "cell_type": "code",
   "execution_count": 31,
   "metadata": {},
   "outputs": [
    {
     "data": {
      "text/html": [
       "<div>\n",
       "<style scoped>\n",
       "    .dataframe tbody tr th:only-of-type {\n",
       "        vertical-align: middle;\n",
       "    }\n",
       "\n",
       "    .dataframe tbody tr th {\n",
       "        vertical-align: top;\n",
       "    }\n",
       "\n",
       "    .dataframe thead th {\n",
       "        text-align: right;\n",
       "    }\n",
       "</style>\n",
       "<table border=\"1\" class=\"dataframe\">\n",
       "  <thead>\n",
       "    <tr style=\"text-align: right;\">\n",
       "      <th></th>\n",
       "      <th>barcode</th>\n",
       "      <th>library</th>\n",
       "      <th>total_counts</th>\n",
       "      <th>pct_counts_mito</th>\n",
       "      <th>_library_before_renaming</th>\n",
       "      <th>mouse</th>\n",
       "      <th>condition</th>\n",
       "      <th>closest_Immgen</th>\n",
       "      <th>closest_Zilionis2019_mouse_minor</th>\n",
       "      <th>closest_Immgen_simplified</th>\n",
       "      <th>...</th>\n",
       "      <th>potential_doublet</th>\n",
       "      <th>top3pct_dbtl_score</th>\n",
       "      <th>top5pct_dbtl_score</th>\n",
       "      <th>top10pct_dbtl_score</th>\n",
       "      <th>sp_cl_all_cells_w_dblt_1000umi_200</th>\n",
       "      <th>removed_as_dblt</th>\n",
       "      <th>n_counts</th>\n",
       "      <th>removed_as_RBC</th>\n",
       "      <th>removed_as_Krt8hi</th>\n",
       "      <th>used_in_all_cells_clean_iter1</th>\n",
       "    </tr>\n",
       "  </thead>\n",
       "  <tbody>\n",
       "    <tr>\n",
       "      <th>0</th>\n",
       "      <td>bcECPI</td>\n",
       "      <td>CSF1Ri_1_1</td>\n",
       "      <td>14875</td>\n",
       "      <td>5.81513</td>\n",
       "      <td>Blz1a</td>\n",
       "      <td>CSF1Ri_1</td>\n",
       "      <td>CSF1Ri</td>\n",
       "      <td>B1a_Sp</td>\n",
       "      <td>mB cells</td>\n",
       "      <td>B1a</td>\n",
       "      <td>...</td>\n",
       "      <td>False</td>\n",
       "      <td>False</td>\n",
       "      <td>False</td>\n",
       "      <td>False</td>\n",
       "      <td>147</td>\n",
       "      <td>False</td>\n",
       "      <td>14875.0</td>\n",
       "      <td>False</td>\n",
       "      <td>False</td>\n",
       "      <td>True</td>\n",
       "    </tr>\n",
       "    <tr>\n",
       "      <th>1</th>\n",
       "      <td>bcESAZ</td>\n",
       "      <td>CSF1Ri_1_1</td>\n",
       "      <td>6876</td>\n",
       "      <td>4.21757</td>\n",
       "      <td>Blz1a</td>\n",
       "      <td>CSF1Ri_1</td>\n",
       "      <td>CSF1Ri</td>\n",
       "      <td>NK_DAP10-_Sp</td>\n",
       "      <td>mT3</td>\n",
       "      <td>NK</td>\n",
       "      <td>...</td>\n",
       "      <td>False</td>\n",
       "      <td>False</td>\n",
       "      <td>False</td>\n",
       "      <td>False</td>\n",
       "      <td>20</td>\n",
       "      <td>False</td>\n",
       "      <td>6876.0</td>\n",
       "      <td>False</td>\n",
       "      <td>False</td>\n",
       "      <td>True</td>\n",
       "    </tr>\n",
       "    <tr>\n",
       "      <th>2</th>\n",
       "      <td>bcIBUV</td>\n",
       "      <td>CSF1Ri_1_1</td>\n",
       "      <td>4643</td>\n",
       "      <td>2.86453</td>\n",
       "      <td>Blz1a</td>\n",
       "      <td>CSF1Ri_1</td>\n",
       "      <td>CSF1Ri</td>\n",
       "      <td>GN_Arth_SynF</td>\n",
       "      <td>mN4</td>\n",
       "      <td>GN</td>\n",
       "      <td>...</td>\n",
       "      <td>False</td>\n",
       "      <td>True</td>\n",
       "      <td>True</td>\n",
       "      <td>True</td>\n",
       "      <td>154</td>\n",
       "      <td>False</td>\n",
       "      <td>4643.0</td>\n",
       "      <td>False</td>\n",
       "      <td>False</td>\n",
       "      <td>True</td>\n",
       "    </tr>\n",
       "    <tr>\n",
       "      <th>3</th>\n",
       "      <td>bcGWNX</td>\n",
       "      <td>CSF1Ri_1_1</td>\n",
       "      <td>5972</td>\n",
       "      <td>6.39652</td>\n",
       "      <td>Blz1a</td>\n",
       "      <td>CSF1Ri_1</td>\n",
       "      <td>CSF1Ri</td>\n",
       "      <td>Mo_6C+II-_LN</td>\n",
       "      <td>mMac1</td>\n",
       "      <td>Mo</td>\n",
       "      <td>...</td>\n",
       "      <td>False</td>\n",
       "      <td>True</td>\n",
       "      <td>True</td>\n",
       "      <td>True</td>\n",
       "      <td>196</td>\n",
       "      <td>False</td>\n",
       "      <td>5972.0</td>\n",
       "      <td>False</td>\n",
       "      <td>False</td>\n",
       "      <td>True</td>\n",
       "    </tr>\n",
       "    <tr>\n",
       "      <th>4</th>\n",
       "      <td>bcCOWJ</td>\n",
       "      <td>CSF1Ri_1_1</td>\n",
       "      <td>5021</td>\n",
       "      <td>3.82394</td>\n",
       "      <td>Blz1a</td>\n",
       "      <td>CSF1Ri_1</td>\n",
       "      <td>CSF1Ri</td>\n",
       "      <td>Mo_6C+II-_LN</td>\n",
       "      <td>mMono1</td>\n",
       "      <td>Mo</td>\n",
       "      <td>...</td>\n",
       "      <td>False</td>\n",
       "      <td>False</td>\n",
       "      <td>False</td>\n",
       "      <td>False</td>\n",
       "      <td>30</td>\n",
       "      <td>False</td>\n",
       "      <td>5021.0</td>\n",
       "      <td>False</td>\n",
       "      <td>False</td>\n",
       "      <td>True</td>\n",
       "    </tr>\n",
       "  </tbody>\n",
       "</table>\n",
       "<p>5 rows × 21 columns</p>\n",
       "</div>"
      ],
      "text/plain": [
       "  barcode     library total_counts pct_counts_mito _library_before_renaming  \\\n",
       "0  bcECPI  CSF1Ri_1_1        14875         5.81513                    Blz1a   \n",
       "1  bcESAZ  CSF1Ri_1_1         6876         4.21757                    Blz1a   \n",
       "2  bcIBUV  CSF1Ri_1_1         4643         2.86453                    Blz1a   \n",
       "3  bcGWNX  CSF1Ri_1_1         5972         6.39652                    Blz1a   \n",
       "4  bcCOWJ  CSF1Ri_1_1         5021         3.82394                    Blz1a   \n",
       "\n",
       "      mouse condition closest_Immgen closest_Zilionis2019_mouse_minor  \\\n",
       "0  CSF1Ri_1    CSF1Ri         B1a_Sp                         mB cells   \n",
       "1  CSF1Ri_1    CSF1Ri   NK_DAP10-_Sp                              mT3   \n",
       "2  CSF1Ri_1    CSF1Ri   GN_Arth_SynF                              mN4   \n",
       "3  CSF1Ri_1    CSF1Ri   Mo_6C+II-_LN                            mMac1   \n",
       "4  CSF1Ri_1    CSF1Ri   Mo_6C+II-_LN                           mMono1   \n",
       "\n",
       "  closest_Immgen_simplified              ...              potential_doublet  \\\n",
       "0                       B1a              ...                          False   \n",
       "1                        NK              ...                          False   \n",
       "2                        GN              ...                          False   \n",
       "3                        Mo              ...                          False   \n",
       "4                        Mo              ...                          False   \n",
       "\n",
       "  top3pct_dbtl_score top5pct_dbtl_score top10pct_dbtl_score  \\\n",
       "0              False              False               False   \n",
       "1              False              False               False   \n",
       "2               True               True                True   \n",
       "3               True               True                True   \n",
       "4              False              False               False   \n",
       "\n",
       "  sp_cl_all_cells_w_dblt_1000umi_200 removed_as_dblt n_counts  removed_as_RBC  \\\n",
       "0                                147           False  14875.0           False   \n",
       "1                                 20           False   6876.0           False   \n",
       "2                                154           False   4643.0           False   \n",
       "3                                196           False   5972.0           False   \n",
       "4                                 30           False   5021.0           False   \n",
       "\n",
       "  removed_as_Krt8hi used_in_all_cells_clean_iter1  \n",
       "0             False                          True  \n",
       "1             False                          True  \n",
       "2             False                          True  \n",
       "3             False                          True  \n",
       "4             False                          True  \n",
       "\n",
       "[5 rows x 21 columns]"
      ]
     },
     "execution_count": 31,
     "metadata": {},
     "output_type": "execute_result"
    }
   ],
   "source": [
    "cdata.obs.head()"
   ]
  },
  {
   "cell_type": "code",
   "execution_count": 32,
   "metadata": {},
   "outputs": [],
   "source": [
    "# continuous per-cell metadata\n",
    "contvars = ['total_counts','pct_counts_mito','doublet_score']\n",
    "# categorical\n",
    "catvars = ['library','mouse','condition','closest_Immgen',\n",
    "           'closest_Zilionis2019_mouse_minor','closest_Immgen_simplified',\n",
    "          'top3pct_dbtl_score','top5pct_dbtl_score','top10pct_dbtl_score']"
   ]
  },
  {
   "cell_type": "code",
   "execution_count": 33,
   "metadata": {},
   "outputs": [],
   "source": [
    "# export_spring_plot was complaining about the data format, force the right one\n",
    "for contvar in contvars:\n",
    "    P.obs[contvar] = cdata.obs[contvar].astype(float).values\n",
    "    \n",
    "for catvar in catvars:\n",
    "    P.obs[catvar] = cdata.obs[catvar].astype(str).values"
   ]
  },
  {
   "cell_type": "code",
   "execution_count": 34,
   "metadata": {},
   "outputs": [
    {
     "name": "stdout",
     "output_type": "stream",
     "text": [
      "all_cells_clean_iter1_refCSF1Ri\n",
      "Writing subplot to /Users/rapolaszilionis/Google Drive/analyses/SPRING_dev/data/pittet/CSF1Ri/all_cells_clean_iter1_refCSF1Ri/\n"
     ]
    },
    {
     "name": "stderr",
     "output_type": "stream",
     "text": [
      "WARNING:root:Cell grouping \"library\" may be not a categorical variable\n",
      "WARNING:root:Cell grouping \"mouse\" may be not a categorical variable\n",
      "WARNING:root:Cell grouping \"condition\" may be not a categorical variable\n",
      "WARNING:root:Cell grouping \"closest_Immgen\" may be not a categorical variable\n",
      "WARNING:root:Cell grouping \"closest_Zilionis2019_mouse_minor\" may be not a categorical variable\n",
      "WARNING:root:Cell grouping \"closest_Immgen_simplified\" may be not a categorical variable\n",
      "WARNING:root:Cell grouping \"top3pct_dbtl_score\" may be not a categorical variable\n",
      "WARNING:root:Cell grouping \"top5pct_dbtl_score\" may be not a categorical variable\n",
      "WARNING:root:Cell grouping \"top10pct_dbtl_score\" may be not a categorical variable\n"
     ]
    }
   ],
   "source": [
    "plot_name = pdict['plot_name']\n",
    "print(plot_name)\n",
    "\n",
    "# note1: the output of sc.pp.neighbors(P,k,use_rep='X') is a weighted graph.\n",
    "# but it is saved as an unweighted graph for SPRING\n",
    "# further clustering and any graph-based analyses are performed\n",
    "# on the UNweighted graph obtained by loading graph data from the\n",
    "# spring directory\n",
    "\n",
    "# note2: at the moment of running this notebook export_spring_plot was not updated to work with\n",
    "# scanpy versions higher than 1.4.4.post1. Email me at rapolas.zilionis@gmail.com if you happen\n",
    "# to be running this notebook and the issue is still not fixed.\n",
    "\n",
    "\n",
    "\n",
    "srz.export_spring_plot(P,\n",
    "                       project_dir,\n",
    "                       plot_name,\n",
    "                       \n",
    "                       # specify the normalized expression values\n",
    "                       # this is solely to calculate where the default saturation\n",
    "                       # of gene expression is in the interactive explorer\n",
    "                       E = adata[cell_mask].X.tocsc(), # tocsc() super important here\n",
    "                       gene_list = adata.var_names.values,\n",
    "                       cell_groupings=catvars,\n",
    "                       custom_color_tracks=contvars,\n",
    "                      )"
   ]
  },
  {
   "cell_type": "code",
   "execution_count": 35,
   "metadata": {},
   "outputs": [],
   "source": [
    "# the function \"srz.export_spring_plot\" needs to be updated to properly save the cell filter. To do.\n",
    "# for now I use a hack and save manually using the code in this cell.\n",
    "\n",
    "subplot_dir = project_dir+'/'+plot_name + '/'\n",
    "cell_ix = np.arange(len(pdict['cell_mask']))[pdict['cell_mask']]  \n",
    "np.savetxt(subplot_dir + 'cell_filter.txt', cell_ix, fmt='%i')\n",
    "np.save(subplot_dir + 'cell_filter.npy', cell_ix)"
   ]
  },
  {
   "cell_type": "code",
   "execution_count": 36,
   "metadata": {},
   "outputs": [],
   "source": [
    "#save plot parameters\n",
    "rz.save_stuff(path=project_dir+'/'+plot_name+'/params',stuff=pdict)"
   ]
  },
  {
   "cell_type": "markdown",
   "metadata": {},
   "source": [
    "### Add my favorite color dictionary to the interactive version of SPRING"
   ]
  },
  {
   "cell_type": "code",
   "execution_count": 37,
   "metadata": {},
   "outputs": [],
   "source": [
    "# Select spring plot\n",
    "path1 = \"/Users/rapolaszilionis/Google Drive/analyses/SPRING_dev/data/pittet\"\n",
    "project_dir = path1+'/CSF1Ri/'\n",
    "plot_name = 'all_cells_clean_iter1_refCSF1Ri/'\n",
    "\n",
    "# get cell filter:\n",
    "cell_ix = np.loadtxt(project_dir+plot_name+'/cell_filter.txt',dtype=int)"
   ]
  },
  {
   "cell_type": "code",
   "execution_count": 38,
   "metadata": {},
   "outputs": [],
   "source": [
    "# load current color dictionary\n",
    "cg0 = srz.read_cell_groupings(project_dir+plot_name+'categorical_coloring_data.json')\n",
    "\n",
    "# color dictionary of dictionaries\n",
    "cdd = {key:value['label_colors'] for key,value in cg0.items()}\n",
    "cg = {key:value['label_list'] for key,value in cg0.items()}\n",
    "\n",
    "# happen to have the color codes used in our Immunity paper\n",
    "cdd['closest_Zilionis2019_mouse_minor'] = {\n",
    "            \"mB cells\": \"#4666B0\", \n",
    "            \"mBasophils\": \"#4c2e4d\", \n",
    "            \"mDC1\": \"#ff0000\", \n",
    "            \"mDC2\": \"#ff9900\", \n",
    "            \"mDC3\": \"#990000\", \n",
    "            \"mMono1\": \"#e1e74b\", \n",
    "            \"mMono2\": \"#6d700f\", \n",
    "            \"mMono3\": \"#0099ff\", \n",
    "            \"mMonoDC\": \"#00cc00\", \n",
    "            \"mMac1\": \"#ff3399\", \n",
    "            \"mMac2\": \"#66ffff\", \n",
    "            \"mMac3\": \"#9966ff\", \n",
    "            \"mMac4\": \"#33cccc\", \n",
    "            \"mN1\": \"#0a5e75\", \n",
    "            \"mN2\": \"#66ffcc\", \n",
    "            \"mN3\": \"#008055\", \n",
    "            \"mN4\": \"#12a9d3\", \n",
    "            \"mN5\": \"#666699\", \n",
    "            \"mN6\": \"#EE2C7C\", \n",
    "            \"mNK cells\": \"#1F6935\", \n",
    "            \"mT1\": \"#ffd700\", \n",
    "            \"mT2\": \"#ba0898\", \n",
    "            \"mT3\": \"#cc263c\", \n",
    "            \"mpDC\": \"#a094ff\"\n",
    "                                    }\n",
    "\n",
    "\n",
    "# append!\n",
    "srz.append_cell_groupings(project_dir+plot_name,cg,colordd=cdd)"
   ]
  },
  {
   "cell_type": "code",
   "execution_count": 39,
   "metadata": {},
   "outputs": [
    {
     "name": "stdout",
     "output_type": "stream",
     "text": [
      "[NbConvertApp] Converting notebook part7_sping_plot_main_iter1.ipynb to html\n",
      "[NbConvertApp] Writing 379683 bytes to part7_sping_plot_main_iter1.html\n"
     ]
    }
   ],
   "source": [
    "# make an html copy of THIS notebook\n",
    "\n",
    "moveto = project_dir+'/'+plot_name+'/'\n",
    "!jupyter nbconvert part7_sping_plot_main_iter1.ipynb\n",
    "!mv part7_sping_plot_main_iter1.html \"$moveto\""
   ]
  },
  {
   "cell_type": "code",
   "execution_count": null,
   "metadata": {},
   "outputs": [],
   "source": []
  }
 ],
 "metadata": {
  "kernelspec": {
   "display_name": "Python 3",
   "language": "python",
   "name": "python3"
  },
  "language_info": {
   "codemirror_mode": {
    "name": "ipython",
    "version": 3
   },
   "file_extension": ".py",
   "mimetype": "text/x-python",
   "name": "python",
   "nbconvert_exporter": "python",
   "pygments_lexer": "ipython3",
   "version": "3.6.7"
  },
  "toc": {
   "base_numbering": 1,
   "nav_menu": {},
   "number_sections": true,
   "sideBar": true,
   "skip_h1_title": true,
   "title_cell": "Table of Contents",
   "title_sidebar": "Contents",
   "toc_cell": false,
   "toc_position": {},
   "toc_section_display": true,
   "toc_window_display": true
  }
 },
 "nbformat": 4,
 "nbformat_minor": 2
}
