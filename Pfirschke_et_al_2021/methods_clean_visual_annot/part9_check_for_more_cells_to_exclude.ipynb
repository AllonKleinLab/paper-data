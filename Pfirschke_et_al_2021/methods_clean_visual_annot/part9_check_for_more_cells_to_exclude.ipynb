{
 "cells": [
  {
   "cell_type": "markdown",
   "metadata": {},
   "source": [
    "# Check for more cell clusters to exclude"
   ]
  },
  {
   "cell_type": "markdown",
   "metadata": {},
   "source": [
    "## Import statements"
   ]
  },
  {
   "cell_type": "code",
   "execution_count": 1,
   "metadata": {},
   "outputs": [],
   "source": [
    "import os,sys\n",
    "import datetime"
   ]
  },
  {
   "cell_type": "code",
   "execution_count": 2,
   "metadata": {},
   "outputs": [
    {
     "name": "stdout",
     "output_type": "stream",
     "text": [
      "scanpy==1.4.4.post1 anndata==0.6.22.post1 umap==0.3.7 numpy==1.15.4 scipy==1.3.1 pandas==0.23.4 scikit-learn==0.20.1 statsmodels==0.10.1 python-igraph==0.7.1 louvain==0.6.1\n",
      "Memory usage: current 0.20 GB, difference +0.20 GB\n"
     ]
    }
   ],
   "source": [
    "import scanpy as sc\n",
    "sc.logging.print_versions()\n",
    "sc.logging.print_memory_usage()\n",
    "sc.settings.verbosity = 2"
   ]
  },
  {
   "cell_type": "code",
   "execution_count": 3,
   "metadata": {},
   "outputs": [],
   "source": [
    "## This cell is run once to download my custom functions and import statements from github\n",
    "#\n",
    "#!git clone --depth=1 https://github.com/rapolaszilionis/utility_functions\n",
    "#    \n",
    "## github doesn't seem to have an option to download a specific version of the repo from the history.\n",
    "## So I download my utility functions and save the download time by appending it to the directory name.\n",
    "## These utility functions to be shared together with the notebook.\n",
    "#\n",
    "#toappend = datetime.datetime.now().strftime('%y%m%d_%Hh%M')\n",
    "#newname = \"utility_functions_%s\"%toappend\n",
    "#print(newname)\n",
    "#\n",
    "#\n",
    "## rename the py file with utility functions\n",
    "#os.rename(\"utility_functions\",newname)"
   ]
  },
  {
   "cell_type": "code",
   "execution_count": 4,
   "metadata": {},
   "outputs": [
    {
     "name": "stdout",
     "output_type": "stream",
     "text": [
      "python version: 3.6.7\n"
     ]
    }
   ],
   "source": [
    "# add the utility function folder to PATH\n",
    "sys.path.append(os.path.abspath(\"utility_functions_200517_09h14/\"))\n",
    "\n",
    "from rz_import_statements import *\n",
    "import rz_functions as rz\n",
    "import rz_fig_params # this adjust mpl.rcParams, almost nothing to import, import after scanpy to overwrite rc.Params\n",
    "import rz_utility_spring as srz"
   ]
  },
  {
   "cell_type": "markdown",
   "metadata": {},
   "source": [
    "## Load per-cell metadata (obs)"
   ]
  },
  {
   "cell_type": "code",
   "execution_count": 5,
   "metadata": {},
   "outputs": [],
   "source": [
    "obs = rz.load_df('backups/obs_info_27563x21_200607_17h40.npz')"
   ]
  },
  {
   "cell_type": "markdown",
   "metadata": {},
   "source": [
    "## Load cluster labels directly from spring"
   ]
  },
  {
   "cell_type": "code",
   "execution_count": 6,
   "metadata": {},
   "outputs": [],
   "source": [
    "path1 = \"/Users/rapolaszilionis/Google Drive/analyses/SPRING_dev/data/pittet\"\n",
    "project_dir = path1+'/CSF1Ri/'\n",
    "plot_name = 'all_cells_clean_iter1_refCSF1Ri'\n",
    "\n",
    "# use only cell in the spring plot\n",
    "cell_ix = np.loadtxt(project_dir+plot_name+'/cell_filter.txt',dtype=int)"
   ]
  },
  {
   "cell_type": "code",
   "execution_count": 7,
   "metadata": {},
   "outputs": [],
   "source": [
    "# load current color dictionary\n",
    "cg0 = srz.read_cell_groupings(project_dir+plot_name+'/categorical_coloring_data.json')\n",
    "\n",
    "# drop the color dictionaries with are part of cell groupings\n",
    "cg0 = {key:value['label_list'] for key,value in cg0.items()}"
   ]
  },
  {
   "cell_type": "markdown",
   "metadata": {},
   "source": [
    "## Make a per-cell metadataframe with cluster and doublet info"
   ]
  },
  {
   "cell_type": "code",
   "execution_count": 8,
   "metadata": {},
   "outputs": [
    {
     "name": "stdout",
     "output_type": "stream",
     "text": [
      "(25140, 2)\n"
     ]
    }
   ],
   "source": [
    "# take doublet info from obs:\n",
    "o = obs.iloc[cell_ix][['top5pct_dbtl_score','doublet_score']].astype(float).copy()\n",
    "print(o.shape)"
   ]
  },
  {
   "cell_type": "code",
   "execution_count": 9,
   "metadata": {},
   "outputs": [
    {
     "data": {
      "text/html": [
       "<div>\n",
       "<style scoped>\n",
       "    .dataframe tbody tr th:only-of-type {\n",
       "        vertical-align: middle;\n",
       "    }\n",
       "\n",
       "    .dataframe tbody tr th {\n",
       "        vertical-align: top;\n",
       "    }\n",
       "\n",
       "    .dataframe thead th {\n",
       "        text-align: right;\n",
       "    }\n",
       "</style>\n",
       "<table border=\"1\" class=\"dataframe\">\n",
       "  <thead>\n",
       "    <tr style=\"text-align: right;\">\n",
       "      <th></th>\n",
       "      <th>top5pct_dbtl_score</th>\n",
       "      <th>doublet_score</th>\n",
       "      <th>sp_cl_all_cells_clean_iter1_refCSF1Ri_150</th>\n",
       "    </tr>\n",
       "  </thead>\n",
       "  <tbody>\n",
       "    <tr>\n",
       "      <th>0</th>\n",
       "      <td>0.0</td>\n",
       "      <td>0.151978</td>\n",
       "      <td>19</td>\n",
       "    </tr>\n",
       "    <tr>\n",
       "      <th>1</th>\n",
       "      <td>0.0</td>\n",
       "      <td>0.095284</td>\n",
       "      <td>19</td>\n",
       "    </tr>\n",
       "    <tr>\n",
       "      <th>2</th>\n",
       "      <td>1.0</td>\n",
       "      <td>0.298507</td>\n",
       "      <td>145</td>\n",
       "    </tr>\n",
       "  </tbody>\n",
       "</table>\n",
       "</div>"
      ],
      "text/plain": [
       "   top5pct_dbtl_score  doublet_score sp_cl_all_cells_clean_iter1_refCSF1Ri_150\n",
       "0                 0.0       0.151978                                        19\n",
       "1                 0.0       0.095284                                        19\n",
       "2                 1.0       0.298507                                       145"
      ]
     },
     "execution_count": 9,
     "metadata": {},
     "output_type": "execute_result"
    }
   ],
   "source": [
    "# choose cluster configuration\n",
    "# I chose here a detailed one (overclustered)\n",
    "\n",
    "label = 'sp_cl_all_cells_clean_iter1_refCSF1Ri_150'\n",
    "\n",
    "o[label] = cg0[label]\n",
    "\n",
    "o.head(3)"
   ]
  },
  {
   "cell_type": "code",
   "execution_count": 10,
   "metadata": {},
   "outputs": [
    {
     "data": {
      "text/html": [
       "<div>\n",
       "<style scoped>\n",
       "    .dataframe tbody tr th:only-of-type {\n",
       "        vertical-align: middle;\n",
       "    }\n",
       "\n",
       "    .dataframe tbody tr th {\n",
       "        vertical-align: top;\n",
       "    }\n",
       "\n",
       "    .dataframe thead th {\n",
       "        text-align: right;\n",
       "    }\n",
       "</style>\n",
       "<table border=\"1\" class=\"dataframe\">\n",
       "  <thead>\n",
       "    <tr style=\"text-align: right;\">\n",
       "      <th></th>\n",
       "      <th>count</th>\n",
       "      <th>nr_cell_in_top5_pct_dblt</th>\n",
       "      <th>mean_dbt_score</th>\n",
       "      <th>dblt_fraction</th>\n",
       "    </tr>\n",
       "    <tr>\n",
       "      <th>sp_cl_all_cells_clean_iter1_refCSF1Ri_150</th>\n",
       "      <th></th>\n",
       "      <th></th>\n",
       "      <th></th>\n",
       "      <th></th>\n",
       "    </tr>\n",
       "  </thead>\n",
       "  <tbody>\n",
       "    <tr>\n",
       "      <th>0</th>\n",
       "      <td>413</td>\n",
       "      <td>12.0</td>\n",
       "      <td>0.135226</td>\n",
       "      <td>0.029056</td>\n",
       "    </tr>\n",
       "    <tr>\n",
       "      <th>1</th>\n",
       "      <td>305</td>\n",
       "      <td>23.0</td>\n",
       "      <td>0.165672</td>\n",
       "      <td>0.075410</td>\n",
       "    </tr>\n",
       "    <tr>\n",
       "      <th>10</th>\n",
       "      <td>166</td>\n",
       "      <td>7.0</td>\n",
       "      <td>0.138452</td>\n",
       "      <td>0.042169</td>\n",
       "    </tr>\n",
       "    <tr>\n",
       "      <th>100</th>\n",
       "      <td>198</td>\n",
       "      <td>0.0</td>\n",
       "      <td>0.061581</td>\n",
       "      <td>0.000000</td>\n",
       "    </tr>\n",
       "    <tr>\n",
       "      <th>101</th>\n",
       "      <td>65</td>\n",
       "      <td>1.0</td>\n",
       "      <td>0.090470</td>\n",
       "      <td>0.015385</td>\n",
       "    </tr>\n",
       "  </tbody>\n",
       "</table>\n",
       "</div>"
      ],
      "text/plain": [
       "                                           count  nr_cell_in_top5_pct_dblt  \\\n",
       "sp_cl_all_cells_clean_iter1_refCSF1Ri_150                                    \n",
       "0                                            413                      12.0   \n",
       "1                                            305                      23.0   \n",
       "10                                           166                       7.0   \n",
       "100                                          198                       0.0   \n",
       "101                                           65                       1.0   \n",
       "\n",
       "                                           mean_dbt_score  dblt_fraction  \n",
       "sp_cl_all_cells_clean_iter1_refCSF1Ri_150                                 \n",
       "0                                                0.135226       0.029056  \n",
       "1                                                0.165672       0.075410  \n",
       "10                                               0.138452       0.042169  \n",
       "100                                              0.061581       0.000000  \n",
       "101                                              0.090470       0.015385  "
      ]
     },
     "execution_count": 10,
     "metadata": {},
     "output_type": "execute_result"
    }
   ],
   "source": [
    "gb = o.groupby(label)\n",
    "smr = gb.aggregate({'top5pct_dbtl_score':['count','sum'],\n",
    "             'doublet_score':['mean']})\n",
    "\n",
    "smr.columns = smr.columns.droplevel()\n",
    "smr['dblt_fraction'] = smr['sum']/smr['count']\n",
    "\n",
    "renamer = {'sum':'nr_cell_in_top5_pct_dblt','mean':'mean_dbt_score'}\n",
    "smr.columns = [renamer[i] if i in renamer else i for i in smr.columns]\n",
    "\n",
    "smr.head()"
   ]
  },
  {
   "cell_type": "markdown",
   "metadata": {},
   "source": [
    "## Plot mean dblt score vs fraction potential dblt"
   ]
  },
  {
   "cell_type": "code",
   "execution_count": 11,
   "metadata": {
    "scrolled": false
   },
   "outputs": [
    {
     "data": {
      "text/plain": [
       "<matplotlib.collections.PathCollection at 0x127977198>"
      ]
     },
     "execution_count": 11,
     "metadata": {},
     "output_type": "execute_result"
    },
    {
     "name": "stderr",
     "output_type": "stream",
     "text": [
      "/Users/rapolaszilionis/anaconda3/lib/python3.6/site-packages/matplotlib/font_manager.py:1241: UserWarning: findfont: Font family ['Myriad Pro'] not found. Falling back to DejaVu Sans.\n",
      "  (prop.get_family(), self.defaultFamily[fontext]))\n"
     ]
    },
    {
     "data": {
      "image/png": "[encoded data removed]",
      "text/plain": [
       "<Figure size 590.552x590.552 with 1 Axes>"
      ]
     },
     "metadata": {
      "needs_background": "light"
     },
     "output_type": "display_data"
    }
   ],
   "source": [
    "a,fig,gs = rz.startfig(10,10)\n",
    "\n",
    "lab1 = 'mean_dbt_score'\n",
    "lab2 = 'dblt_fraction'\n",
    "\n",
    "x = smr[lab1]\n",
    "y = smr[lab2]\n",
    "\n",
    "a.set_xlabel(lab1)\n",
    "a.set_ylabel(lab2)\n",
    "\n",
    "# print labels for the top n clusters with highest average dblt score\n",
    "# and top n with highest fraction\n",
    "upto=20\n",
    "\n",
    "thetop = list(x.sort_values(ascending=False)[:upto].index)+\\\n",
    "         list(y.sort_values(ascending=False)[:upto].index)\n",
    "\n",
    "for i,j,txt in zip(x,y,x.index):\n",
    "    if txt in thetop:\n",
    "        a.text(i,j,txt)\n",
    "\n",
    "a.scatter(x,y,lw=0,c='0.5',alpha=0.5)"
   ]
  },
  {
   "cell_type": "markdown",
   "metadata": {},
   "source": [
    "## Inspect interactively  \n",
    "In the interactive SPRING explorer (in browser), inspect whether clusters with high scores. convincingly look like doublets\n",
    "\n",
    "This includes taking into consideration:\n",
    "- large clusters are not expected to be doublets\n",
    "- is there unique gene expression in these clusters? Then they are not doublets.\n",
    "- can you tell from which real populations these clusters where made?"
   ]
  },
  {
   "cell_type": "code",
   "execution_count": 12,
   "metadata": {},
   "outputs": [],
   "source": [
    "doubcl = [\"129\"] # cells scattered between neutrophils and macs/monos\n"
   ]
  },
  {
   "cell_type": "code",
   "execution_count": 13,
   "metadata": {},
   "outputs": [],
   "source": [
    "# add the cluster configuration used to obs\n",
    "obs[label] = np.nan\n",
    "obs.loc[obs.index[cell_ix],[label]] = cg0[label]"
   ]
  },
  {
   "cell_type": "code",
   "execution_count": 14,
   "metadata": {},
   "outputs": [
    {
     "name": "stdout",
     "output_type": "stream",
     "text": [
      "[False  True]\n"
     ]
    },
    {
     "data": {
      "text/html": [
       "<div>\n",
       "<style scoped>\n",
       "    .dataframe tbody tr th:only-of-type {\n",
       "        vertical-align: middle;\n",
       "    }\n",
       "\n",
       "    .dataframe tbody tr th {\n",
       "        vertical-align: top;\n",
       "    }\n",
       "\n",
       "    .dataframe thead th {\n",
       "        text-align: right;\n",
       "    }\n",
       "</style>\n",
       "<table border=\"1\" class=\"dataframe\">\n",
       "  <thead>\n",
       "    <tr style=\"text-align: right;\">\n",
       "      <th></th>\n",
       "      <th>barcode</th>\n",
       "      <th>library</th>\n",
       "      <th>total_counts</th>\n",
       "      <th>pct_counts_mito</th>\n",
       "      <th>_library_before_renaming</th>\n",
       "      <th>mouse</th>\n",
       "      <th>condition</th>\n",
       "      <th>closest_Immgen</th>\n",
       "      <th>closest_Zilionis2019_mouse_minor</th>\n",
       "      <th>closest_Immgen_simplified</th>\n",
       "      <th>...</th>\n",
       "      <th>top5pct_dbtl_score</th>\n",
       "      <th>top10pct_dbtl_score</th>\n",
       "      <th>sp_cl_all_cells_w_dblt_1000umi_200</th>\n",
       "      <th>removed_as_dblt</th>\n",
       "      <th>n_counts</th>\n",
       "      <th>removed_as_RBC</th>\n",
       "      <th>removed_as_Krt8hi</th>\n",
       "      <th>used_in_all_cells_clean_iter1_refCSF1Ri</th>\n",
       "      <th>sp_cl_all_cells_clean_iter1_refCSF1Ri_150</th>\n",
       "      <th>removed_as_dblt_2</th>\n",
       "    </tr>\n",
       "  </thead>\n",
       "  <tbody>\n",
       "    <tr>\n",
       "      <th>0</th>\n",
       "      <td>bcECPI</td>\n",
       "      <td>CSF1Ri_1_1</td>\n",
       "      <td>14875</td>\n",
       "      <td>5.81513</td>\n",
       "      <td>Blz1a</td>\n",
       "      <td>CSF1Ri_1</td>\n",
       "      <td>CSF1Ri</td>\n",
       "      <td>B1a_Sp</td>\n",
       "      <td>mB cells</td>\n",
       "      <td>B1a</td>\n",
       "      <td>...</td>\n",
       "      <td>False</td>\n",
       "      <td>False</td>\n",
       "      <td>147</td>\n",
       "      <td>False</td>\n",
       "      <td>14875</td>\n",
       "      <td>False</td>\n",
       "      <td>False</td>\n",
       "      <td>True</td>\n",
       "      <td>19</td>\n",
       "      <td>False</td>\n",
       "    </tr>\n",
       "    <tr>\n",
       "      <th>1</th>\n",
       "      <td>bcESAZ</td>\n",
       "      <td>CSF1Ri_1_1</td>\n",
       "      <td>6876</td>\n",
       "      <td>4.21757</td>\n",
       "      <td>Blz1a</td>\n",
       "      <td>CSF1Ri_1</td>\n",
       "      <td>CSF1Ri</td>\n",
       "      <td>NK_DAP10-_Sp</td>\n",
       "      <td>mT3</td>\n",
       "      <td>NK</td>\n",
       "      <td>...</td>\n",
       "      <td>False</td>\n",
       "      <td>False</td>\n",
       "      <td>20</td>\n",
       "      <td>False</td>\n",
       "      <td>6876</td>\n",
       "      <td>False</td>\n",
       "      <td>False</td>\n",
       "      <td>True</td>\n",
       "      <td>19</td>\n",
       "      <td>False</td>\n",
       "    </tr>\n",
       "  </tbody>\n",
       "</table>\n",
       "<p>2 rows × 23 columns</p>\n",
       "</div>"
      ],
      "text/plain": [
       "  barcode     library total_counts pct_counts_mito _library_before_renaming  \\\n",
       "0  bcECPI  CSF1Ri_1_1        14875         5.81513                    Blz1a   \n",
       "1  bcESAZ  CSF1Ri_1_1         6876         4.21757                    Blz1a   \n",
       "\n",
       "      mouse condition closest_Immgen closest_Zilionis2019_mouse_minor  \\\n",
       "0  CSF1Ri_1    CSF1Ri         B1a_Sp                         mB cells   \n",
       "1  CSF1Ri_1    CSF1Ri   NK_DAP10-_Sp                              mT3   \n",
       "\n",
       "  closest_Immgen_simplified        ...        top5pct_dbtl_score  \\\n",
       "0                       B1a        ...                     False   \n",
       "1                        NK        ...                     False   \n",
       "\n",
       "  top10pct_dbtl_score sp_cl_all_cells_w_dblt_1000umi_200 removed_as_dblt  \\\n",
       "0               False                                147           False   \n",
       "1               False                                 20           False   \n",
       "\n",
       "  n_counts removed_as_RBC removed_as_Krt8hi  \\\n",
       "0    14875          False             False   \n",
       "1     6876          False             False   \n",
       "\n",
       "  used_in_all_cells_clean_iter1_refCSF1Ri  \\\n",
       "0                                    True   \n",
       "1                                    True   \n",
       "\n",
       "  sp_cl_all_cells_clean_iter1_refCSF1Ri_150 removed_as_dblt_2  \n",
       "0                                        19             False  \n",
       "1                                        19             False  \n",
       "\n",
       "[2 rows x 23 columns]"
      ]
     },
     "execution_count": 14,
     "metadata": {},
     "output_type": "execute_result"
    }
   ],
   "source": [
    "# append a colotrack saying \"removed_as_doublet\"\n",
    "obs['removed_as_dblt_2'] = obs[label].isin(doubcl)\n",
    "print(obs['removed_as_dblt_2'].unique())\n",
    "obs.head(2)"
   ]
  },
  {
   "cell_type": "markdown",
   "metadata": {},
   "source": [
    "## Add colotrack to spring"
   ]
  },
  {
   "cell_type": "code",
   "execution_count": 15,
   "metadata": {},
   "outputs": [],
   "source": [
    "# load current color dictionary\n",
    "cg_ = srz.read_cell_groupings(project_dir+plot_name+'/categorical_coloring_data.json')\n",
    "\n",
    "# color dictionary of dictionaries\n",
    "cdd = {key:value['label_colors'] for key,value in cg_.items()}\n",
    "#cdd.pop('removed_as_dblt_2')\n",
    "\n",
    "cg = obs[['removed_as_dblt_2']].iloc[cell_ix].astype(str).to_dict(orient='list')\n",
    "\n",
    "# append categorical colortrack\n",
    "srz.append_cell_groupings(project_dir+plot_name,cg,colordd=cdd)"
   ]
  },
  {
   "cell_type": "markdown",
   "metadata": {},
   "source": [
    "## Save obs"
   ]
  },
  {
   "cell_type": "code",
   "execution_count": 16,
   "metadata": {},
   "outputs": [
    {
     "data": {
      "text/plain": [
       "(27563, 23)"
      ]
     },
     "execution_count": 16,
     "metadata": {},
     "output_type": "execute_result"
    }
   ],
   "source": [
    "obs.shape"
   ]
  },
  {
   "cell_type": "code",
   "execution_count": 17,
   "metadata": {},
   "outputs": [
    {
     "name": "stdout",
     "output_type": "stream",
     "text": [
      "backups/obs_info_27563x23_200607_17h41\n"
     ]
    }
   ],
   "source": [
    "# save the update obs dataframe\n",
    "# no need to save the entire adata object, counts didn't change\n",
    "\n",
    "fname = 'backups/obs_info_%dx%d_%s'%(obs.shape[0],obs.shape[1],rz.now())\n",
    "print(fname)\n",
    "rz.save_df(obs,fname)"
   ]
  },
  {
   "cell_type": "code",
   "execution_count": 18,
   "metadata": {},
   "outputs": [
    {
     "data": {
      "text/html": [
       "<div>\n",
       "<style scoped>\n",
       "    .dataframe tbody tr th:only-of-type {\n",
       "        vertical-align: middle;\n",
       "    }\n",
       "\n",
       "    .dataframe tbody tr th {\n",
       "        vertical-align: top;\n",
       "    }\n",
       "\n",
       "    .dataframe thead th {\n",
       "        text-align: right;\n",
       "    }\n",
       "</style>\n",
       "<table border=\"1\" class=\"dataframe\">\n",
       "  <thead>\n",
       "    <tr style=\"text-align: right;\">\n",
       "      <th></th>\n",
       "      <th>barcode</th>\n",
       "      <th>library</th>\n",
       "      <th>total_counts</th>\n",
       "      <th>pct_counts_mito</th>\n",
       "      <th>_library_before_renaming</th>\n",
       "      <th>mouse</th>\n",
       "      <th>condition</th>\n",
       "      <th>closest_Immgen</th>\n",
       "      <th>closest_Zilionis2019_mouse_minor</th>\n",
       "      <th>closest_Immgen_simplified</th>\n",
       "      <th>...</th>\n",
       "      <th>top5pct_dbtl_score</th>\n",
       "      <th>top10pct_dbtl_score</th>\n",
       "      <th>sp_cl_all_cells_w_dblt_1000umi_200</th>\n",
       "      <th>removed_as_dblt</th>\n",
       "      <th>n_counts</th>\n",
       "      <th>removed_as_RBC</th>\n",
       "      <th>removed_as_Krt8hi</th>\n",
       "      <th>used_in_all_cells_clean_iter1_refCSF1Ri</th>\n",
       "      <th>sp_cl_all_cells_clean_iter1_refCSF1Ri_150</th>\n",
       "      <th>removed_as_dblt_2</th>\n",
       "    </tr>\n",
       "  </thead>\n",
       "  <tbody>\n",
       "    <tr>\n",
       "      <th>0</th>\n",
       "      <td>bcECPI</td>\n",
       "      <td>CSF1Ri_1_1</td>\n",
       "      <td>14875</td>\n",
       "      <td>5.81513</td>\n",
       "      <td>Blz1a</td>\n",
       "      <td>CSF1Ri_1</td>\n",
       "      <td>CSF1Ri</td>\n",
       "      <td>B1a_Sp</td>\n",
       "      <td>mB cells</td>\n",
       "      <td>B1a</td>\n",
       "      <td>...</td>\n",
       "      <td>False</td>\n",
       "      <td>False</td>\n",
       "      <td>147</td>\n",
       "      <td>False</td>\n",
       "      <td>14875</td>\n",
       "      <td>False</td>\n",
       "      <td>False</td>\n",
       "      <td>True</td>\n",
       "      <td>19</td>\n",
       "      <td>False</td>\n",
       "    </tr>\n",
       "    <tr>\n",
       "      <th>1</th>\n",
       "      <td>bcESAZ</td>\n",
       "      <td>CSF1Ri_1_1</td>\n",
       "      <td>6876</td>\n",
       "      <td>4.21757</td>\n",
       "      <td>Blz1a</td>\n",
       "      <td>CSF1Ri_1</td>\n",
       "      <td>CSF1Ri</td>\n",
       "      <td>NK_DAP10-_Sp</td>\n",
       "      <td>mT3</td>\n",
       "      <td>NK</td>\n",
       "      <td>...</td>\n",
       "      <td>False</td>\n",
       "      <td>False</td>\n",
       "      <td>20</td>\n",
       "      <td>False</td>\n",
       "      <td>6876</td>\n",
       "      <td>False</td>\n",
       "      <td>False</td>\n",
       "      <td>True</td>\n",
       "      <td>19</td>\n",
       "      <td>False</td>\n",
       "    </tr>\n",
       "    <tr>\n",
       "      <th>2</th>\n",
       "      <td>bcIBUV</td>\n",
       "      <td>CSF1Ri_1_1</td>\n",
       "      <td>4643</td>\n",
       "      <td>2.86453</td>\n",
       "      <td>Blz1a</td>\n",
       "      <td>CSF1Ri_1</td>\n",
       "      <td>CSF1Ri</td>\n",
       "      <td>GN_Arth_SynF</td>\n",
       "      <td>mN4</td>\n",
       "      <td>GN</td>\n",
       "      <td>...</td>\n",
       "      <td>True</td>\n",
       "      <td>True</td>\n",
       "      <td>154</td>\n",
       "      <td>False</td>\n",
       "      <td>4643</td>\n",
       "      <td>False</td>\n",
       "      <td>False</td>\n",
       "      <td>True</td>\n",
       "      <td>145</td>\n",
       "      <td>False</td>\n",
       "    </tr>\n",
       "    <tr>\n",
       "      <th>3</th>\n",
       "      <td>bcGWNX</td>\n",
       "      <td>CSF1Ri_1_1</td>\n",
       "      <td>5972</td>\n",
       "      <td>6.39652</td>\n",
       "      <td>Blz1a</td>\n",
       "      <td>CSF1Ri_1</td>\n",
       "      <td>CSF1Ri</td>\n",
       "      <td>Mo_6C+II-_LN</td>\n",
       "      <td>mMac1</td>\n",
       "      <td>Mo</td>\n",
       "      <td>...</td>\n",
       "      <td>True</td>\n",
       "      <td>True</td>\n",
       "      <td>196</td>\n",
       "      <td>False</td>\n",
       "      <td>5972</td>\n",
       "      <td>False</td>\n",
       "      <td>False</td>\n",
       "      <td>True</td>\n",
       "      <td>138</td>\n",
       "      <td>False</td>\n",
       "    </tr>\n",
       "    <tr>\n",
       "      <th>4</th>\n",
       "      <td>bcCOWJ</td>\n",
       "      <td>CSF1Ri_1_1</td>\n",
       "      <td>5021</td>\n",
       "      <td>3.82394</td>\n",
       "      <td>Blz1a</td>\n",
       "      <td>CSF1Ri_1</td>\n",
       "      <td>CSF1Ri</td>\n",
       "      <td>Mo_6C+II-_LN</td>\n",
       "      <td>mMono1</td>\n",
       "      <td>Mo</td>\n",
       "      <td>...</td>\n",
       "      <td>False</td>\n",
       "      <td>False</td>\n",
       "      <td>30</td>\n",
       "      <td>False</td>\n",
       "      <td>5021</td>\n",
       "      <td>False</td>\n",
       "      <td>False</td>\n",
       "      <td>True</td>\n",
       "      <td>67</td>\n",
       "      <td>False</td>\n",
       "    </tr>\n",
       "  </tbody>\n",
       "</table>\n",
       "<p>5 rows × 23 columns</p>\n",
       "</div>"
      ],
      "text/plain": [
       "  barcode     library total_counts pct_counts_mito _library_before_renaming  \\\n",
       "0  bcECPI  CSF1Ri_1_1        14875         5.81513                    Blz1a   \n",
       "1  bcESAZ  CSF1Ri_1_1         6876         4.21757                    Blz1a   \n",
       "2  bcIBUV  CSF1Ri_1_1         4643         2.86453                    Blz1a   \n",
       "3  bcGWNX  CSF1Ri_1_1         5972         6.39652                    Blz1a   \n",
       "4  bcCOWJ  CSF1Ri_1_1         5021         3.82394                    Blz1a   \n",
       "\n",
       "      mouse condition closest_Immgen closest_Zilionis2019_mouse_minor  \\\n",
       "0  CSF1Ri_1    CSF1Ri         B1a_Sp                         mB cells   \n",
       "1  CSF1Ri_1    CSF1Ri   NK_DAP10-_Sp                              mT3   \n",
       "2  CSF1Ri_1    CSF1Ri   GN_Arth_SynF                              mN4   \n",
       "3  CSF1Ri_1    CSF1Ri   Mo_6C+II-_LN                            mMac1   \n",
       "4  CSF1Ri_1    CSF1Ri   Mo_6C+II-_LN                           mMono1   \n",
       "\n",
       "  closest_Immgen_simplified        ...        top5pct_dbtl_score  \\\n",
       "0                       B1a        ...                     False   \n",
       "1                        NK        ...                     False   \n",
       "2                        GN        ...                      True   \n",
       "3                        Mo        ...                      True   \n",
       "4                        Mo        ...                     False   \n",
       "\n",
       "  top10pct_dbtl_score sp_cl_all_cells_w_dblt_1000umi_200 removed_as_dblt  \\\n",
       "0               False                                147           False   \n",
       "1               False                                 20           False   \n",
       "2                True                                154           False   \n",
       "3                True                                196           False   \n",
       "4               False                                 30           False   \n",
       "\n",
       "  n_counts removed_as_RBC removed_as_Krt8hi  \\\n",
       "0    14875          False             False   \n",
       "1     6876          False             False   \n",
       "2     4643          False             False   \n",
       "3     5972          False             False   \n",
       "4     5021          False             False   \n",
       "\n",
       "  used_in_all_cells_clean_iter1_refCSF1Ri  \\\n",
       "0                                    True   \n",
       "1                                    True   \n",
       "2                                    True   \n",
       "3                                    True   \n",
       "4                                    True   \n",
       "\n",
       "  sp_cl_all_cells_clean_iter1_refCSF1Ri_150 removed_as_dblt_2  \n",
       "0                                        19             False  \n",
       "1                                        19             False  \n",
       "2                                       145             False  \n",
       "3                                       138             False  \n",
       "4                                        67             False  \n",
       "\n",
       "[5 rows x 23 columns]"
      ]
     },
     "execution_count": 18,
     "metadata": {},
     "output_type": "execute_result"
    }
   ],
   "source": [
    "obs.head()"
   ]
  },
  {
   "cell_type": "code",
   "execution_count": null,
   "metadata": {},
   "outputs": [],
   "source": []
  }
 ],
 "metadata": {
  "kernelspec": {
   "display_name": "Python 3",
   "language": "python",
   "name": "python3"
  },
  "language_info": {
   "codemirror_mode": {
    "name": "ipython",
    "version": 3
   },
   "file_extension": ".py",
   "mimetype": "text/x-python",
   "name": "python",
   "nbconvert_exporter": "python",
   "pygments_lexer": "ipython3",
   "version": "3.6.7"
  },
  "toc": {
   "base_numbering": 1,
   "nav_menu": {},
   "number_sections": true,
   "sideBar": true,
   "skip_h1_title": true,
   "title_cell": "Table of Contents",
   "title_sidebar": "Contents",
   "toc_cell": false,
   "toc_position": {},
   "toc_section_display": true,
   "toc_window_display": false
  }
 },
 "nbformat": 4,
 "nbformat_minor": 2
}
