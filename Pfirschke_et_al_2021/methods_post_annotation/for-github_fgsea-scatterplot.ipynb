{
 "cells": [
  {
   "cell_type": "markdown",
   "metadata": {},
   "source": [
    "# Recreate Figure 2H"
   ]
  },
  {
   "cell_type": "code",
   "execution_count": null,
   "metadata": {},
   "outputs": [],
   "source": [
    "library(fgsea)\n",
    "library(extrafont)\n",
    "library(cowplot)\n",
    "library(ggpubr)\n",
    "library(ggrepel)\n",
    "library(dplyr)\n",
    "library(gplots)\n",
    "library(RColorBrewer)\n",
    "library(tibble)"
   ]
  },
  {
   "cell_type": "code",
   "execution_count": null,
   "metadata": {},
   "outputs": [],
   "source": [
    "## Import differentially expressed gene lists\n",
    "mono_bvc_f <- read.table(\"Aug20_BLZ_data/Mono-CSF1Ri_vs_Mono-Vehicle_fdr05_Aug20.csv\", sep=\"\\t\", header=F)\n",
    "mono_bvc_f <- deframe(mono_bvc_f)\n",
    "mac_bvc_f <- read.table(\"Aug20_BLZ_data/Mac-CSF1Ri_vs_Mac-Vehicle_fdr05_Aug20.csv\", sep=\"\\t\", header=F)\n",
    "mac_bvc_f <- deframe(mac_bvc_f)"
   ]
  },
  {
   "cell_type": "code",
   "execution_count": null,
   "metadata": {},
   "outputs": [],
   "source": [
    "## Import all GO BP pathways and genes\n",
    "gofile <- scan(\"GOids_genes.txt\", what=\"\", sep=\"\\n\")   \n",
    "pathways_all <- strsplit(gofile, \"\\t\")\n",
    "\n",
    "# Extract the first vector element and set it as the list element name\n",
    "names(pathways_all) <- sapply(pathways_all, `[[`, 1)\n",
    "# Remove the first vector element from each list element\n",
    "pathways_all <- lapply(pathways_all, `[`, -1)"
   ]
  },
  {
   "cell_type": "code",
   "execution_count": null,
   "metadata": {},
   "outputs": [],
   "source": [
    "# fgsea - only retain pathways where 15+ genes expressed and no more than 300\n",
    "set.seed(1234)\n",
    "mono_res <- fgsea(pathways=pathways_all, stats=mono_bvc_f, nperm=10000, minSize=15, maxSize=300)\n",
    "mac_res <- fgsea(pathways=pathways_all, stats=mac_bvc_f, nperm=10000, minSize=15, maxSize=300)"
   ]
  },
  {
   "cell_type": "code",
   "execution_count": null,
   "metadata": {},
   "outputs": [],
   "source": [
    "# write all results to file\n",
    "mono_f <- mono_res\n",
    "mono_f$leadingEdge <- vapply(mono_f$leadingEdge, paste, collapse = \", \", character(1L))\n",
    "mac_f <- mac_res\n",
    "mac_f$leadingEdge <- vapply(mac_f$leadingEdge, paste, collapse = \", \", character(1L))\n",
    "\n",
    "write.table(mono_f, file=\"Aug20_BLZ_data/monocyte_fgsea_results_full_Aug20.txt\",\n",
    "            sep=\"\\t\", col.names=T, row.names=F, quote=F)\n",
    "write.table(mac_f, file=\"Aug20_BLZ_data/macrophage_fgsea_results_full_Aug20.txt\",\n",
    "            sep=\"\\t\", col.names=T, row.names=F, quote=F)"
   ]
  },
  {
   "cell_type": "code",
   "execution_count": null,
   "metadata": {},
   "outputs": [],
   "source": [
    "# label pathways a/w immune activation\n",
    "mono_plot <- mono_res[ES>0][order(-NES)][padj<0.05,]\n",
    "mono_plot$fn <- \"no\"\n",
    "\n",
    "mono_ias <- read.delim(\"Aug20_BLZ_data/mono_imm-act-list_Aug20.txt\", header=F)$V1\n",
    "mono_plot$fn[(mono_plot$pathway %in% mono_ias)] <- \"immune activation\""
   ]
  },
  {
   "cell_type": "code",
   "execution_count": null,
   "metadata": {},
   "outputs": [],
   "source": [
    "mac_plot <- mac_res[ES>0][order(-NES)][padj<0.05,]\n",
    "mac_plot$fn <- \"no\"\n",
    "\n",
    "mac_ias <- read.delim(\"Aug20_BLZ_data/mac_imm-act-list_Aug20.txt\", header=F)$V1\n",
    "mac_plot$fn[(mac_plot$pathway %in% mac_ias)] <- \"immune activation\""
   ]
  },
  {
   "cell_type": "code",
   "execution_count": null,
   "metadata": {},
   "outputs": [],
   "source": [
    "# plot NES vs. -log10(p) for immune activation pathways (FDR<0.05) against all other pathways with NES>0\n",
    "## for monos\n",
    "mono_pos <- mono_res[ES>0]\n",
    "mono_pos$fn <- 'non-immune'\n",
    "\n",
    "## for macs\n",
    "mac_pos <- mac_res[ES>0]\n",
    "mac_pos$fn <- 'non-immune'\n",
    "\n",
    "## mark immune pathways as \"immune activation\"\n",
    "mono_pos$fn[(mono_pos$pathway %in% mono_ias)] <- \"immune activation\"\n",
    "mac_pos$fn[(mac_pos$pathway %in% mac_ias)] <- \"immune activation\"\n",
    "\n",
    "# define names of pathways to label in graph\n",
    "mono_pos$name <- ''\n",
    "mono_pos[mono_pos$pathway == 'GO:0006955_immune_response',]$name <- 'Immune response'\n",
    "mono_pos[mono_pos$pathway == 'GO:0002443_leukocyte_mediated_immunity',]$name <- 'Leukocyte immunity'\n",
    "mono_pos[mono_pos$pathway == 'GO:0002456_T_cell_mediated_immunity',]$name <- 'T cell mediated immunity'\n",
    "\n",
    "# define names of pathways to label in graph\n",
    "mac_pos$name <- ''\n",
    "mac_pos[mac_pos$pathway == 'GO:0046649_lymphocyte_activation',]$name <- 'Lymphocyte activation'\n",
    "mac_pos[mac_pos$pathway == 'GO:0002720_positive_regulation_of_cytokine_production_involved_in_immune_response',]$name <- 'Cytokine induction'\n",
    "mac_pos[mac_pos$pathway == 'GO:0019882_antigen_processing_and_presentation',]$name <- 'Antigen processing/presentation'\n",
    "mac_pos[mac_pos$pathway == 'GO:0034341_response_to_interferon-gamma',]$name <- 'Response to interferon-gamma'\n",
    "\n",
    "momac_pos <- rbind(mono_pos, mac_pos)\n",
    "colors <- c('immune activation'='#000000', 'non-immune'='#708090')\n",
    "\n",
    "# make the plot\n",
    "scatter <- ggplot() +\n",
    "  theme_cowplot() + \n",
    "  coord_fixed(ratio = 1) +\n",
    "  theme(text=element_text(family=\"Myriad Pro\")) + \n",
    "  # plot significant immune activation pathways + label selected pathways\n",
    "  geom_point(data=momac_pos, aes(x=-log10(pval), y=NES, color=momac_pos$fn,\n",
    "                                 # non-immune pathways keep transparent\n",
    "                                 alpha=(momac_pos$fn==\"non-immune\")), size=1) +\n",
    "  scale_alpha_manual(values=c(1, 0.1), guide=FALSE) +\n",
    "  scale_color_manual(values=colors) +\n",
    "  geom_text_repel(data=subset(momac_pos, length(name)>0), aes(x=-log10(pval),y=NES,label=name),\n",
    "                  # size=4, nudge_x=-0.2, segment.size=0.2, family=\"Myriad Pro\") +\n",
    "                  size=4, nudge_x=-1, segment.size=0.2, family=\"Myriad Pro\") +\n",
    "  theme(axis.title.x=element_text(size=rel(1.1)), axis.title.y=element_text(size=rel(1.1))) +\n",
    "  theme(legend.position = \"none\")\n",
    "  labs(x=\"-log10(p-value)\", y=\"NES (Blz vs. Ctl)\") +\n",
    "  theme(axis.text.y=element_text(size=rel(1)), axis.text.x=element_text(size=rel(1)))\n",
    "ggsave(scatter, file=\"Aug20_BLZ_data/Scatter_PosNES-Pvalue-MoMacs_Immune_0.05_LABELED_Aug20.png\", width=7.42, height=5.96)"
   ]
  }
 ],
 "metadata": {
  "kernelspec": {
   "display_name": "R",
   "language": "R",
   "name": "ir"
  },
  "language_info": {
   "codemirror_mode": "r",
   "file_extension": ".r",
   "mimetype": "text/x-r-source",
   "name": "R",
   "pygments_lexer": "r",
   "version": "3.6.3"
  }
 },
 "nbformat": 4,
 "nbformat_minor": 2
}
