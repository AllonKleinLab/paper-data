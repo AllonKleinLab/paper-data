{
 "cells": [
  {
   "cell_type": "markdown",
   "metadata": {},
   "source": [
    "# Recreate Figure 2I"
   ]
  },
  {
   "cell_type": "code",
   "execution_count": 1,
   "metadata": {},
   "outputs": [],
   "source": [
    "import os,sys\n",
    "import datetime"
   ]
  },
  {
   "cell_type": "code",
   "execution_count": 2,
   "metadata": {},
   "outputs": [
    {
     "name": "stdout",
     "output_type": "stream",
     "text": [
      "scanpy==1.4.4.post1 anndata==0.6.22.post1 umap==0.3.10 numpy==1.16.2 scipy==1.3.2 pandas==0.25.3 scikit-learn==0.21.3 statsmodels==0.10.1\n",
      "Memory usage: current 0.18 GB, difference +0.18 GB\n"
     ]
    }
   ],
   "source": [
    "import scanpy as sc\n",
    "sc.logging.print_versions()\n",
    "sc.logging.print_memory_usage()\n",
    "sc.settings.verbosity = 2"
   ]
  },
  {
   "cell_type": "code",
   "execution_count": 3,
   "metadata": {},
   "outputs": [
    {
     "data": {
      "text/plain": [
       "'# This cell is run once to download my custom functions and import statements from github\\n\\n!git clone --depth=1 https://github.com/rapolaszilionis/utility_functions\\n    \\n# github doesn\\'t seem to have an option to download a specific version of the repo from the history.\\n# So I download my utility functions and save the download time by appending it to the directory name.\\n# These utility functions to be shared together with the notebook.\\n\\ntoappend = datetime.datetime.now().strftime(\\'%y%m%d_%Hh%M\\')\\nnewname = \"utility_functions_%s\"%toappend\\nprint(newname)\\n\\n\\n# rename the py file with utility functions\\nos.rename(\"utility_functions\",newname)'"
      ]
     },
     "execution_count": 3,
     "metadata": {},
     "output_type": "execute_result"
    }
   ],
   "source": [
    "\"\"\"# This cell is run once to download my custom functions and import statements from github\n",
    "\n",
    "!git clone --depth=1 https://github.com/rapolaszilionis/utility_functions\n",
    "    \n",
    "# github doesn't seem to have an option to download a specific version of the repo from the history.\n",
    "# So I download my utility functions and save the download time by appending it to the directory name.\n",
    "# These utility functions to be shared together with the notebook.\n",
    "\n",
    "toappend = datetime.datetime.now().strftime('%y%m%d_%Hh%M')\n",
    "newname = \"utility_functions_%s\"%toappend\n",
    "print(newname)\n",
    "\n",
    "\n",
    "# rename the py file with utility functions\n",
    "os.rename(\"utility_functions\",newname)\"\"\""
   ]
  },
  {
   "cell_type": "code",
   "execution_count": 4,
   "metadata": {},
   "outputs": [
    {
     "name": "stdout",
     "output_type": "stream",
     "text": [
      "python version: 3.7.4\n"
     ]
    }
   ],
   "source": [
    "# add the utility function folder to PATH\n",
    "sys.path.append(os.path.abspath(\"utility_functions_200517_09h14/\"))\n",
    "\n",
    "from rz_import_statements import *\n",
    "import rz_functions as rz\n",
    "import rz_fig_params # this adjust mpl.rcParams, almost nothing to import, import after scanpy to overwrite rc.Params\n",
    "import rz_utility_spring as srz"
   ]
  },
  {
   "cell_type": "markdown",
   "metadata": {},
   "source": [
    "# Load data"
   ]
  },
  {
   "cell_type": "code",
   "execution_count": 1,
   "metadata": {},
   "outputs": [],
   "source": [
    "adata = sc.read_h5ad('data/mito_total_counts_filt_raw_27563x40930_200517_10h29.h5ad')\n",
    "\n",
    "# overwrite obs with the most recent version\n",
    "adata.obs = rz.load_df('data/obs_info_27563x32_200705_10h46.npz')"
   ]
  },
  {
   "cell_type": "markdown",
   "metadata": {},
   "source": [
    "# Normalize counts to 10k"
   ]
  },
  {
   "cell_type": "code",
   "execution_count": 6,
   "metadata": {},
   "outputs": [
    {
     "name": "stdout",
     "output_type": "stream",
     "text": [
      "normalizing by total count per cell\n",
      "    finished (0:00:00): normalized adata.X and added    'n_counts', counts per cell before normalization (adata.obs)\n"
     ]
    }
   ],
   "source": [
    "sc.pp.normalize_per_cell(adata,counts_per_cell_after=1e4)"
   ]
  },
  {
   "cell_type": "markdown",
   "metadata": {},
   "source": [
    "## Get ave expression of MoMac clusters and their abundance"
   ]
  },
  {
   "cell_type": "code",
   "execution_count": 11,
   "metadata": {},
   "outputs": [],
   "source": [
    "# dictionary for friendlier labels\n",
    "cond_f = {\"CSF1Ri\":\"+\", \"Vehicle\":\"-\", \"Healthy\":\"x\"}\n",
    "\n",
    "# Generate new label combining *population and condition\n",
    "adata.obs['*pop+cond'] = adata.obs['*population'].map(str) + ' ' + [cond_f[i] for i in adata.obs['condition']]\n",
    "\n",
    "# get mean exp\n",
    "cmask = adata.obs['used_in_all_cells_clean_iter3'].astype(bool).values\n",
    "centroids = rz.centroids('*pop+cond',adata[cmask])"
   ]
  },
  {
   "cell_type": "code",
   "execution_count": 12,
   "metadata": {},
   "outputs": [],
   "source": [
    "cell_ct = {}\n",
    "popsctl = ['Mono1 -','Mono2 -','Mono3 -','Mac1 -','Mac2 -','Mac3 -','Mac4 -']   ## here we included Mono2 Veh - will show up as NaN\n",
    "popsblz = ['Mono1 +','Mono2 +','Mono3 +','Mac1 +','Mac2 +','Mac3 +','Mac4 +']\n",
    "\n",
    "tot_ctl = 0\n",
    "for p in popsctl:\n",
    "    num_p = len(adata[cmask].obs['*pop+cond'][adata[cmask].obs['*pop+cond']==p])\n",
    "    cell_ct[p] = num_p\n",
    "    tot_ctl += num_p\n",
    "\n",
    "for p in popsctl:\n",
    "    cell_ct[p] = cell_ct[p]/tot_ctl\n",
    "\n",
    "tot_blz = 0\n",
    "for p in popsblz:\n",
    "    num_p = len(adata[cmask].obs['*pop+cond'][adata[cmask].obs['*pop+cond']==p])\n",
    "    cell_ct[p] = num_p\n",
    "    tot_blz += num_p\n",
    "\n",
    "for p in popsblz:\n",
    "    cell_ct[p] = cell_ct[p]/tot_blz"
   ]
  },
  {
   "cell_type": "markdown",
   "metadata": {},
   "source": [
    "## Import selected pathways and genes"
   ]
  },
  {
   "cell_type": "code",
   "execution_count": 15,
   "metadata": {},
   "outputs": [],
   "source": [
    "f1 = \"Aug20_BLZ_data/momac_imm-act-list_Aug20.txt\"\n",
    "f2 = \"Aug20_BLZ_data/mono_pathways_leading-genes_Aug20.txt\"\n",
    "f3 = \"Aug20_BLZ_data/mac_pathways_leading-genes_Aug20.txt\"\n",
    "pathways = [line.rstrip('\\n') for line in open(f1)]\n",
    "\n",
    "pg = {}\n",
    "\n",
    "with open(f2, 'r') as f:\n",
    "    for line in f:\n",
    "        line = line.strip().split('\\t')\n",
    "        if line[0] in pathways:\n",
    "            pg[line[0].split('_')[0]] = set(line[1].strip().split(', '))\n",
    "\n",
    "with open(f3, 'r') as f:\n",
    "    for line in f:\n",
    "        line = line.strip().split('\\t')\n",
    "        if line[0] in pathways:\n",
    "            if line[0] in pg:\n",
    "                pg[line[0].split('_')[0]].update(line[1].strip().split(', '))\n",
    "            else:\n",
    "                pg[line[0].split('_')[0]] = set(line[1].strip().split(', '))\n",
    "            \n",
    "pops = ['Mono1 -','Mono1 +','Mono2 -', 'Mono2 +','Mono3 -','Mono3 +',\n",
    "        'Mac1 -','Mac1 +','Mac2 -','Mac2 +','Mac3 -', 'Mac3 +',\n",
    "        'Mac4 -','Mac4 +']   ## here we included Mono2 Veh - will show up as NaN\n",
    "\n",
    "# mapping of names to index for sorting later\n",
    "popdict = {}\n",
    "x = len(pops)\n",
    "for p in pops:\n",
    "    popdict[p] = x\n",
    "    x -= 1"
   ]
  },
  {
   "cell_type": "code",
   "execution_count": 16,
   "metadata": {},
   "outputs": [
    {
     "name": "stderr",
     "output_type": "stream",
     "text": [
      "/usr/local/lib/python3.7/site-packages/ipykernel_launcher.py:1: FutureWarning: \n",
      "Passing list-likes to .loc or [] with any missing label will raise\n",
      "KeyError in the future, you can use .reindex() as an alternative.\n",
      "\n",
      "See the documentation here:\n",
      "https://pandas.pydata.org/pandas-docs/stable/user_guide/indexing.html#deprecate-loc-reindex-listlike\n",
      "  \"\"\"Entry point for launching an IPython kernel.\n"
     ]
    }
   ],
   "source": [
    "centroids_f = centroids.loc[pops]"
   ]
  },
  {
   "cell_type": "code",
   "execution_count": 17,
   "metadata": {},
   "outputs": [],
   "source": [
    "ids_list = ['GO:0006955', 'GO:0002443', 'GO:0002456', 'GO:0046649', 'GO:0002720', 'GO:0019882', 'GO:0034341']"
   ]
  },
  {
   "cell_type": "code",
   "execution_count": 20,
   "metadata": {},
   "outputs": [],
   "source": [
    "scores = pd.DataFrame(index=centroids_f.index)\n",
    "id_d = {}\n",
    "\n",
    "for p in pg:\n",
    "    tmp = centroids_f.loc[:,pg[p]]\n",
    "    scores[p] = tmp.sum(axis=1)\n",
    "    id_d[p] = p\n",
    "\n",
    "scores.to_csv(r'Aug20_BLZ_data/momac_leading-genes_sum_Aug20.txt', sep='\\t', mode='w')"
   ]
  },
  {
   "cell_type": "code",
   "execution_count": 22,
   "metadata": {},
   "outputs": [],
   "source": [
    "# color map palette\n",
    "cmap = plt.cm.get_cmap('RdBu_r')\n",
    "# graphic parameters\n",
    "thelim = 2\n",
    "mfont = {'fontname':'MyriadPro'}"
   ]
  },
  {
   "cell_type": "code",
   "execution_count": 2,
   "metadata": {
    "scrolled": true
   },
   "outputs": [],
   "source": [
    "# transform the data (CPKref here is median)\n",
    "scores.replace(0, np.nan, inplace=True)\n",
    "scores = scores/scores.median()\n",
    "scores = np.log2(scores)\n",
    "\n",
    "# sort the data\n",
    "scores = scores.loc[:,ids_list]\n",
    "scores.loc['which'] = [popdict[i] for i in scores.idxmax()]\n",
    "scores.loc['max'] = scores.loc[pops].max()\n",
    "scores = scores.sort_values(by=['which', 'max'], axis=1, ascending=False)\n",
    "\n",
    "scores = scores.loc[pops]"
   ]
  },
  {
   "cell_type": "code",
   "execution_count": 25,
   "metadata": {},
   "outputs": [],
   "source": [
    "## add new columns to define index - for HM labeling\n",
    "scores['group'] = [i.split()[0] for i in scores.index]\n",
    "scores['subgroup'] = [i.split()[1] for i in scores.index]"
   ]
  },
  {
   "cell_type": "code",
   "execution_count": 26,
   "metadata": {},
   "outputs": [
    {
     "data": {
      "text/html": [
       "<div>\n",
       "<style scoped>\n",
       "    .dataframe tbody tr th:only-of-type {\n",
       "        vertical-align: middle;\n",
       "    }\n",
       "\n",
       "    .dataframe tbody tr th {\n",
       "        vertical-align: top;\n",
       "    }\n",
       "\n",
       "    .dataframe thead th {\n",
       "        text-align: right;\n",
       "    }\n",
       "</style>\n",
       "<table border=\"1\" class=\"dataframe\">\n",
       "  <thead>\n",
       "    <tr style=\"text-align: right;\">\n",
       "      <th></th>\n",
       "      <th></th>\n",
       "      <th>GO:0002456</th>\n",
       "      <th>GO:0002720</th>\n",
       "      <th>GO:0002443</th>\n",
       "      <th>GO:0006955</th>\n",
       "      <th>GO:0046649</th>\n",
       "      <th>GO:0019882</th>\n",
       "      <th>GO:0034341</th>\n",
       "    </tr>\n",
       "    <tr>\n",
       "      <th>group</th>\n",
       "      <th>subgroup</th>\n",
       "      <th></th>\n",
       "      <th></th>\n",
       "      <th></th>\n",
       "      <th></th>\n",
       "      <th></th>\n",
       "      <th></th>\n",
       "      <th></th>\n",
       "    </tr>\n",
       "  </thead>\n",
       "  <tbody>\n",
       "    <tr>\n",
       "      <th rowspan=\"2\" valign=\"top\">Mono1</th>\n",
       "      <th>-</th>\n",
       "      <td>-0.110671</td>\n",
       "      <td>-0.183276</td>\n",
       "      <td>0.000000</td>\n",
       "      <td>-0.063364</td>\n",
       "      <td>-0.304398</td>\n",
       "      <td>-0.426110</td>\n",
       "      <td>-0.298757</td>\n",
       "    </tr>\n",
       "    <tr>\n",
       "      <th>+</th>\n",
       "      <td>0.480290</td>\n",
       "      <td>0.396583</td>\n",
       "      <td>0.494734</td>\n",
       "      <td>0.383392</td>\n",
       "      <td>0.066776</td>\n",
       "      <td>0.036591</td>\n",
       "      <td>0.253853</td>\n",
       "    </tr>\n",
       "    <tr>\n",
       "      <th rowspan=\"2\" valign=\"top\">Mono2</th>\n",
       "      <th>-</th>\n",
       "      <td>NaN</td>\n",
       "      <td>NaN</td>\n",
       "      <td>NaN</td>\n",
       "      <td>NaN</td>\n",
       "      <td>NaN</td>\n",
       "      <td>NaN</td>\n",
       "      <td>NaN</td>\n",
       "    </tr>\n",
       "    <tr>\n",
       "      <th>+</th>\n",
       "      <td>1.225619</td>\n",
       "      <td>1.132544</td>\n",
       "      <td>1.113440</td>\n",
       "      <td>0.659489</td>\n",
       "      <td>0.536548</td>\n",
       "      <td>0.561822</td>\n",
       "      <td>0.066935</td>\n",
       "    </tr>\n",
       "    <tr>\n",
       "      <th rowspan=\"2\" valign=\"top\">Mono3</th>\n",
       "      <th>-</th>\n",
       "      <td>0.147935</td>\n",
       "      <td>-0.334105</td>\n",
       "      <td>-0.078629</td>\n",
       "      <td>-0.154171</td>\n",
       "      <td>-0.363664</td>\n",
       "      <td>-0.757143</td>\n",
       "      <td>-0.548572</td>\n",
       "    </tr>\n",
       "    <tr>\n",
       "      <th>+</th>\n",
       "      <td>0.987072</td>\n",
       "      <td>0.525433</td>\n",
       "      <td>0.597273</td>\n",
       "      <td>0.450782</td>\n",
       "      <td>0.192029</td>\n",
       "      <td>0.090095</td>\n",
       "      <td>0.138131</td>\n",
       "    </tr>\n",
       "    <tr>\n",
       "      <th rowspan=\"2\" valign=\"top\">Mac1</th>\n",
       "      <th>-</th>\n",
       "      <td>-0.322309</td>\n",
       "      <td>0.000000</td>\n",
       "      <td>-0.047539</td>\n",
       "      <td>0.000000</td>\n",
       "      <td>-0.131689</td>\n",
       "      <td>0.000000</td>\n",
       "      <td>0.000000</td>\n",
       "    </tr>\n",
       "    <tr>\n",
       "      <th>+</th>\n",
       "      <td>0.320925</td>\n",
       "      <td>0.581120</td>\n",
       "      <td>0.499721</td>\n",
       "      <td>0.516128</td>\n",
       "      <td>0.392883</td>\n",
       "      <td>0.630382</td>\n",
       "      <td>0.495713</td>\n",
       "    </tr>\n",
       "    <tr>\n",
       "      <th rowspan=\"2\" valign=\"top\">Mac2</th>\n",
       "      <th>-</th>\n",
       "      <td>-0.322574</td>\n",
       "      <td>-0.031912</td>\n",
       "      <td>-0.143181</td>\n",
       "      <td>-0.074138</td>\n",
       "      <td>0.000000</td>\n",
       "      <td>-0.346424</td>\n",
       "      <td>-0.367025</td>\n",
       "    </tr>\n",
       "    <tr>\n",
       "      <th>+</th>\n",
       "      <td>0.000000</td>\n",
       "      <td>0.445285</td>\n",
       "      <td>0.377316</td>\n",
       "      <td>0.365997</td>\n",
       "      <td>0.473567</td>\n",
       "      <td>0.097380</td>\n",
       "      <td>0.074016</td>\n",
       "    </tr>\n",
       "    <tr>\n",
       "      <th rowspan=\"2\" valign=\"top\">Mac3</th>\n",
       "      <th>-</th>\n",
       "      <td>-0.366228</td>\n",
       "      <td>-0.802642</td>\n",
       "      <td>-0.331014</td>\n",
       "      <td>-0.475162</td>\n",
       "      <td>-0.778903</td>\n",
       "      <td>-0.801753</td>\n",
       "      <td>-0.700647</td>\n",
       "    </tr>\n",
       "    <tr>\n",
       "      <th>+</th>\n",
       "      <td>-0.003656</td>\n",
       "      <td>-0.574585</td>\n",
       "      <td>-0.163559</td>\n",
       "      <td>-0.199303</td>\n",
       "      <td>-0.465137</td>\n",
       "      <td>-0.674860</td>\n",
       "      <td>-0.438235</td>\n",
       "    </tr>\n",
       "    <tr>\n",
       "      <th rowspan=\"2\" valign=\"top\">Mac4</th>\n",
       "      <th>-</th>\n",
       "      <td>-0.566063</td>\n",
       "      <td>-0.494073</td>\n",
       "      <td>-0.298725</td>\n",
       "      <td>-0.128288</td>\n",
       "      <td>-0.238756</td>\n",
       "      <td>-0.665336</td>\n",
       "      <td>-0.586895</td>\n",
       "    </tr>\n",
       "    <tr>\n",
       "      <th>+</th>\n",
       "      <td>0.004364</td>\n",
       "      <td>0.321576</td>\n",
       "      <td>0.397411</td>\n",
       "      <td>0.497768</td>\n",
       "      <td>0.371931</td>\n",
       "      <td>0.034530</td>\n",
       "      <td>0.102309</td>\n",
       "    </tr>\n",
       "  </tbody>\n",
       "</table>\n",
       "</div>"
      ],
      "text/plain": [
       "                GO:0002456  GO:0002720  GO:0002443  GO:0006955  GO:0046649  \\\n",
       "group subgroup                                                               \n",
       "Mono1 -          -0.110671   -0.183276    0.000000   -0.063364   -0.304398   \n",
       "      +           0.480290    0.396583    0.494734    0.383392    0.066776   \n",
       "Mono2 -                NaN         NaN         NaN         NaN         NaN   \n",
       "      +           1.225619    1.132544    1.113440    0.659489    0.536548   \n",
       "Mono3 -           0.147935   -0.334105   -0.078629   -0.154171   -0.363664   \n",
       "      +           0.987072    0.525433    0.597273    0.450782    0.192029   \n",
       "Mac1  -          -0.322309    0.000000   -0.047539    0.000000   -0.131689   \n",
       "      +           0.320925    0.581120    0.499721    0.516128    0.392883   \n",
       "Mac2  -          -0.322574   -0.031912   -0.143181   -0.074138    0.000000   \n",
       "      +           0.000000    0.445285    0.377316    0.365997    0.473567   \n",
       "Mac3  -          -0.366228   -0.802642   -0.331014   -0.475162   -0.778903   \n",
       "      +          -0.003656   -0.574585   -0.163559   -0.199303   -0.465137   \n",
       "Mac4  -          -0.566063   -0.494073   -0.298725   -0.128288   -0.238756   \n",
       "      +           0.004364    0.321576    0.397411    0.497768    0.371931   \n",
       "\n",
       "                GO:0019882  GO:0034341  \n",
       "group subgroup                          \n",
       "Mono1 -          -0.426110   -0.298757  \n",
       "      +           0.036591    0.253853  \n",
       "Mono2 -                NaN         NaN  \n",
       "      +           0.561822    0.066935  \n",
       "Mono3 -          -0.757143   -0.548572  \n",
       "      +           0.090095    0.138131  \n",
       "Mac1  -           0.000000    0.000000  \n",
       "      +           0.630382    0.495713  \n",
       "Mac2  -          -0.346424   -0.367025  \n",
       "      +           0.097380    0.074016  \n",
       "Mac3  -          -0.801753   -0.700647  \n",
       "      +          -0.674860   -0.438235  \n",
       "Mac4  -          -0.665336   -0.586895  \n",
       "      +           0.034530    0.102309  "
      ]
     },
     "execution_count": 26,
     "metadata": {},
     "output_type": "execute_result"
    }
   ],
   "source": [
    "scores.set_index(['group','subgroup'], inplace=True)\n",
    "scores"
   ]
  },
  {
   "cell_type": "code",
   "execution_count": 27,
   "metadata": {},
   "outputs": [],
   "source": [
    "def xticks_fancy(a,totick,labels_all,emptychar = '',fontsize=5):\n",
    "    \n",
    "    \"\"\"\n",
    "    utility function originally made for ticking only a subset of selected genes in a genes x observations heatmap.\n",
    "    example of use: xticks_fancy(a,['Csf1r','Ccr2','','','Arg1','S100a9'],genes_by_cells.index)\n",
    "    input:\n",
    "        a - axis with heatmap\n",
    "        totick - list of yticklabels to display. Use the string defined by\n",
    "        emptychar to add spacing between groups of genes.\n",
    "        labels_all - all yticklabels.\n",
    "        emptychar - string that will be treated as white space\n",
    "        \n",
    "    returns: nothing\n",
    "    \n",
    "    \"\"\"\n",
    "\n",
    "\n",
    "    a.set_xticks([])\n",
    "    leftshift = 0\n",
    "    totick = np.array(totick)\n",
    "    nr_slots = len(totick)\n",
    "    tickmask = np.array([i!=emptychar for i in totick])\n",
    "    totick = totick[tickmask]\n",
    "    y_right = np.array([pd.Index(labels_all).get_loc(i) for i in totick])\n",
    "    \n",
    "    #if genes were not typed in in the correct order, account for that to avoid lines crossing\n",
    "    tickorder = np.argsort(y_right)\n",
    "    y_right = y_right[tickorder]\n",
    "    totick = totick[tickorder]\n",
    "    y_left = np.linspace(0,len(labels_all),nr_slots)[tickmask]\n",
    "    for l,r,gene in zip(y_left,y_right,totick):\n",
    "        a.plot((r,r),(-0.8-leftshift,-0.5-leftshift),lw=0.5,color='0.2')\n",
    "        a.plot((l,r),(-1.2-leftshift,-0.8-leftshift),lw=0.5,color='0.2')\n",
    "        a.plot((l,l),(-1.5-leftshift,-1.2-leftshift),lw=0.5,color='0.2')\n",
    "        a.text(l,-1.6-(leftshift*1.6),gene,ha='center',va='bottom',fontsize=fontsize, rotation='vertical')"
   ]
  },
  {
   "cell_type": "code",
   "execution_count": 28,
   "metadata": {},
   "outputs": [],
   "source": [
    "def add_line(ax, xpos, ypos):\n",
    "    line = plt.Line2D([xpos + 1.04, xpos], [ypos, ypos],\n",
    "                      transform=ax.transAxes, color='gray', lw=0.7)\n",
    "    line.set_clip_on(False)\n",
    "    ax.add_line(line)\n",
    "\n",
    "def label_len(my_index,level):\n",
    "    labels = my_index.get_level_values(level)\n",
    "    return [(k, sum(1 for i in g)) for k,g in itertools.groupby(labels)]\n",
    "\n",
    "def label_group_hm(ax, df):\n",
    "    xpos = -.02\n",
    "    scale = 1./df.index.size\n",
    "    ha = 'center'\n",
    "    for level in range(df.index.nlevels)[::-1]:\n",
    "        pos = a.get_ylim()[0]+0.5\n",
    "        for label, rpos in label_len(df.index,level):\n",
    "            lypos = (pos - .6*rpos)*scale\n",
    "            if level == 0:\n",
    "                ha = 'right'\n",
    "                add_line(ax, xpos, pos*scale)\n",
    "            ax.text(xpos, lypos, label, ha=ha, transform=ax.transAxes)\n",
    "            pos -= rpos\n",
    "        xpos -= .02\n",
    "    add_line(ax, xpos+0.02, pos*scale)\n",
    "        "
   ]
  },
  {
   "cell_type": "code",
   "execution_count": 31,
   "metadata": {
    "scrolled": true
   },
   "outputs": [
    {
     "name": "stderr",
     "output_type": "stream",
     "text": [
      "'MyriadPro-Regular.otf' can not be subsetted into a Type 3 font. The entire font will be embedded in the output.\n"
     ]
    },
    {
     "name": "stdout",
     "output_type": "stream",
     "text": [
      "Aug20_BLZ_data/momac_fgsea-leading-genes_score_HM\n"
     ]
    },
    {
     "data": {
      "image/png": "[encoded data removed]",
      "text/plain": [
       "<Figure size 460.63x238.977 with 2 Axes>"
      ]
     },
     "metadata": {
      "needs_background": "light"
     },
     "output_type": "display_data"
    }
   ],
   "source": [
    "# plot heatmap\n",
    "h = scores.shape[1]/150.+4\n",
    "w = scores.shape[0]*0.5+0.8\n",
    "fig,gs = rz.startfig(w,h,rows=1,return_first_ax=False)\n",
    "  \n",
    "# for saving heatmaps as separate excel sheets\n",
    "figkey = 'momac_fgsea-leading-genes_score_HM'\n",
    "fname = 'Aug20_BLZ_data/%s'%figkey\n",
    "print(fname)\n",
    "\n",
    "# save excel tables with data\n",
    "# writer = pd.ExcelWriter('%s.xlsx'%fname)\n",
    "    \n",
    "a = fig.add_subplot(gs[0,0])\n",
    "hmap = a.matshow(scores,vmin=-thelim,vmax=thelim,cmap=cmap,aspect='auto')\n",
    "rz.showspines(a)\n",
    "\n",
    "# xticks_fancy(a,scores.columns,scores.columns, fontsize=5)\n",
    "# a.set_yticks(np.arange(heat.shape[0]))\n",
    "# a.set_yticklabels(heat.index, fontsize=7)\n",
    "a.set_xlabel('')\n",
    "a.set_yticklabels('')\n",
    "a.set_ylabel('')\n",
    "label_group_hm(a, scores)\n",
    "a.text(a.get_xlim()[1]/2.8, 2.2, 'Not Detected', fontsize=6, color='white')\n",
    "\n",
    "cbar = fig.colorbar(hmap, shrink=0.6)\n",
    "cbar.outline.set_visible(False)\n",
    "cbar.set_label('log2(Score/Score_ref)',fontsize=7)\n",
    "gs.tight_layout(fig)\n",
    "\n",
    "cmap.set_bad(color='grey')\n",
    "# save excel\n",
    "# a bit slow...\n",
    "# rz.color_dataframe_cells(heat,vmin=-thelim,vmax=thelim,cmap=cmap).to_excel(writer,i)\n",
    "    \n",
    "# writer.save()\n",
    "plt.savefig('%s.pdf'%fname)\n",
    "\n",
    "plt.show() "
   ]
  },
  {
   "cell_type": "code",
   "execution_count": 68,
   "metadata": {},
   "outputs": [],
   "source": [
    "fname = 'Working analysis stuff/GOids_LE-genes-in-path.txt'\n",
    "with open(fname, 'w') as f:\n",
    "    for p in ids_list:\n",
    "        f.write(p)\n",
    "        f.write('\\t')\n",
    "        f.write(', '.join(g for g in pg[p]))\n",
    "        f.write('\\n')"
   ]
  },
  {
   "cell_type": "code",
   "execution_count": 76,
   "metadata": {},
   "outputs": [],
   "source": [
    "scores = pd.DataFrame(index=centroids_f.index)\n",
    "id_d = {}\n",
    "\n",
    "for p in ids_list:\n",
    "    tmp = centroids_f.loc[:,pg[p]]\n",
    "    scores = tmp.multiply(x, axis=0)\n",
    "    id_d[p] = p\n",
    "    fname = 'Working analysis stuff/genes_weighted_score_{}.txt'.format(p)\n",
    "    scores.to_csv(fname, sep='\\t', mode='w')"
   ]
  },
  {
   "cell_type": "code",
   "execution_count": 88,
   "metadata": {},
   "outputs": [],
   "source": [
    "gp = {}\n",
    "\n",
    "for p in ids_list:\n",
    "    for g in pg[p]:\n",
    "        if g in gp:\n",
    "            gp[g].append(p)\n",
    "        else:\n",
    "            gp[g] = [p]\n",
    "\n",
    "for g in gp:\n",
    "    tmp = centroids_f.loc[:,g]\n",
    "    tmp = tmp.multiply(x, axis=0)\n",
    "    gp[g].append(tmp.values)\n",
    "\n",
    "fname = 'Working analysis stuff/GOids_path-score-for-LE-genes.txt'\n",
    "with open(fname, 'w') as f:\n",
    "    f.write('gene\\tpathways\\tscores (Mo1-/+, Mo2-/+, Mo3-/+, Ma1-/+, Ma2-/+, Ma3-/+, Ma4-/+)\\n')\n",
    "    for g in gp:\n",
    "        f.write(g)\n",
    "        f.write('\\t')\n",
    "        f.write(', '.join(p for p in gp[g][:-1]))\n",
    "        f.write('\\t')\n",
    "        f.write(', '.join(str(p) for p in gp[g][-1]))\n",
    "        f.write('\\n')"
   ]
  },
  {
   "cell_type": "code",
   "execution_count": 42,
   "metadata": {},
   "outputs": [],
   "source": [
    "fname = 'Working analysis stuff/momac-allpathways_leading-genes_unweighted_score_HM.txt'\n",
    "with open(fname, 'w') as f:\n",
    "    for p in scores.columns:\n",
    "        f.write(id_d[p])\n",
    "        f.write('\\n')"
   ]
  }
 ],
 "metadata": {
  "kernelspec": {
   "display_name": "Python 3",
   "language": "python",
   "name": "python3"
  },
  "language_info": {
   "codemirror_mode": {
    "name": "ipython",
    "version": 3
   },
   "file_extension": ".py",
   "mimetype": "text/x-python",
   "name": "python",
   "nbconvert_exporter": "python",
   "pygments_lexer": "ipython3",
   "version": "3.7.4"
  }
 },
 "nbformat": 4,
 "nbformat_minor": 2
}
