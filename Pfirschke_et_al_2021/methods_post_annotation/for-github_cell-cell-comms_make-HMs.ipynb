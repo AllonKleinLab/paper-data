{
 "cells": [
  {
   "cell_type": "markdown",
   "metadata": {},
   "source": [
    "## Recreate heatmaps in Figures 3C, S3D, and 5C"
   ]
  },
  {
   "cell_type": "code",
   "execution_count": 3,
   "metadata": {},
   "outputs": [],
   "source": [
    "import os,sys\n",
    "import datetime"
   ]
  },
  {
   "cell_type": "code",
   "execution_count": 4,
   "metadata": {},
   "outputs": [
    {
     "name": "stdout",
     "output_type": "stream",
     "text": [
      "scanpy==1.4.4.post1 anndata==0.6.22.post1 umap==0.3.10 numpy==1.16.2 scipy==1.3.2 pandas==0.25.3 scikit-learn==0.21.3 statsmodels==0.10.1\n",
      "Memory usage: current 0.18 GB, difference +0.00 GB\n"
     ]
    }
   ],
   "source": [
    "import scanpy as sc\n",
    "sc.logging.print_versions()\n",
    "sc.logging.print_memory_usage()\n",
    "sc.settings.verbosity = 2"
   ]
  },
  {
   "cell_type": "code",
   "execution_count": 5,
   "metadata": {},
   "outputs": [
    {
     "data": {
      "text/plain": [
       "'# This cell is run once to download my custom functions and import statements from github\\n\\n!git clone --depth=1 https://github.com/rapolaszilionis/utility_functions\\n    \\n# github doesn\\'t seem to have an option to download a specific version of the repo from the history.\\n# So I download my utility functions and save the download time by appending it to the directory name.\\n# These utility functions to be shared together with the notebook.\\n\\ntoappend = datetime.datetime.now().strftime(\\'%y%m%d_%Hh%M\\')\\nnewname = \"utility_functions_%s\"%toappend\\nprint(newname)\\n\\n\\n# rename the py file with utility functions\\nos.rename(\"utility_functions\",newname)'"
      ]
     },
     "execution_count": 5,
     "metadata": {},
     "output_type": "execute_result"
    }
   ],
   "source": [
    "\"\"\"# This cell is run once to download my custom functions and import statements from github\n",
    "\n",
    "!git clone --depth=1 https://github.com/rapolaszilionis/utility_functions\n",
    "    \n",
    "# github doesn't seem to have an option to download a specific version of the repo from the history.\n",
    "# So I download my utility functions and save the download time by appending it to the directory name.\n",
    "# These utility functions to be shared together with the notebook.\n",
    "\n",
    "toappend = datetime.datetime.now().strftime('%y%m%d_%Hh%M')\n",
    "newname = \"utility_functions_%s\"%toappend\n",
    "print(newname)\n",
    "\n",
    "\n",
    "# rename the py file with utility functions\n",
    "os.rename(\"utility_functions\",newname)\"\"\""
   ]
  },
  {
   "cell_type": "code",
   "execution_count": 7,
   "metadata": {},
   "outputs": [
    {
     "name": "stdout",
     "output_type": "stream",
     "text": [
      "python version: 3.7.4\n"
     ]
    }
   ],
   "source": [
    "# add the utility function folder to PATH\n",
    "sys.path.append(os.path.abspath(\"utility_functions_200517_09h14/\"))\n",
    "\n",
    "from rz_import_statements import *\n",
    "import rz_functions as rz\n",
    "import rz_fig_params # this adjust mpl.rcParams, almost nothing to import, import after scanpy to overwrite rc.Params\n",
    "import rz_utility_spring as srz"
   ]
  },
  {
   "cell_type": "markdown",
   "metadata": {},
   "source": [
    "### Load data"
   ]
  },
  {
   "cell_type": "code",
   "execution_count": 8,
   "metadata": {},
   "outputs": [
    {
     "name": "stdout",
     "output_type": "stream",
     "text": [
      "(27563, 40930)\n"
     ]
    },
    {
     "data": {
      "text/html": [
       "<div>\n",
       "<style scoped>\n",
       "    .dataframe tbody tr th:only-of-type {\n",
       "        vertical-align: middle;\n",
       "    }\n",
       "\n",
       "    .dataframe tbody tr th {\n",
       "        vertical-align: top;\n",
       "    }\n",
       "\n",
       "    .dataframe thead th {\n",
       "        text-align: right;\n",
       "    }\n",
       "</style>\n",
       "<table border=\"1\" class=\"dataframe\">\n",
       "  <thead>\n",
       "    <tr style=\"text-align: right;\">\n",
       "      <th></th>\n",
       "      <th>barcode</th>\n",
       "      <th>library</th>\n",
       "      <th>total_counts</th>\n",
       "      <th>pct_counts_mito</th>\n",
       "      <th>_library_before_renaming</th>\n",
       "      <th>mouse</th>\n",
       "      <th>condition</th>\n",
       "      <th>closest_Immgen</th>\n",
       "      <th>closest_Zilionis2019_mouse_minor</th>\n",
       "      <th>closest_Immgen_simplified</th>\n",
       "      <th>...</th>\n",
       "      <th>removed_as_dblt_2</th>\n",
       "      <th>used_in_all_cells_clean_iter2</th>\n",
       "      <th>sp_cl_all_cells_clean_iter2_100</th>\n",
       "      <th>*population</th>\n",
       "      <th>used_in_T_cells_only</th>\n",
       "      <th>archive_population</th>\n",
       "      <th>used_in_all_cells_clean_iter3</th>\n",
       "      <th>sp_cl_all_cells_clean_iter3_100</th>\n",
       "      <th>used_in_T_cells_only_iter2</th>\n",
       "      <th>Major cell type</th>\n",
       "    </tr>\n",
       "  </thead>\n",
       "  <tbody>\n",
       "    <tr>\n",
       "      <th>0</th>\n",
       "      <td>bcECPI</td>\n",
       "      <td>CSF1Ri_1_1</td>\n",
       "      <td>14875</td>\n",
       "      <td>5.81513</td>\n",
       "      <td>Blz1a</td>\n",
       "      <td>CSF1Ri_1</td>\n",
       "      <td>CSF1Ri</td>\n",
       "      <td>B1a_Sp</td>\n",
       "      <td>mB cells</td>\n",
       "      <td>B1a</td>\n",
       "      <td>...</td>\n",
       "      <td>False</td>\n",
       "      <td>True</td>\n",
       "      <td>68</td>\n",
       "      <td>B cells</td>\n",
       "      <td>False</td>\n",
       "      <td>mB cells</td>\n",
       "      <td>True</td>\n",
       "      <td>13</td>\n",
       "      <td>False</td>\n",
       "      <td>B cells</td>\n",
       "    </tr>\n",
       "    <tr>\n",
       "      <th>1</th>\n",
       "      <td>bcESAZ</td>\n",
       "      <td>CSF1Ri_1_1</td>\n",
       "      <td>6876</td>\n",
       "      <td>4.21757</td>\n",
       "      <td>Blz1a</td>\n",
       "      <td>CSF1Ri_1</td>\n",
       "      <td>CSF1Ri</td>\n",
       "      <td>NK_DAP10-_Sp</td>\n",
       "      <td>mT3</td>\n",
       "      <td>NK</td>\n",
       "      <td>...</td>\n",
       "      <td>False</td>\n",
       "      <td>True</td>\n",
       "      <td>4</td>\n",
       "      <td>NK cells</td>\n",
       "      <td>False</td>\n",
       "      <td>mNK cells</td>\n",
       "      <td>True</td>\n",
       "      <td>33</td>\n",
       "      <td>False</td>\n",
       "      <td>NK cells</td>\n",
       "    </tr>\n",
       "    <tr>\n",
       "      <th>2</th>\n",
       "      <td>bcIBUV</td>\n",
       "      <td>CSF1Ri_1_1</td>\n",
       "      <td>4643</td>\n",
       "      <td>2.86453</td>\n",
       "      <td>Blz1a</td>\n",
       "      <td>CSF1Ri_1</td>\n",
       "      <td>CSF1Ri</td>\n",
       "      <td>GN_Arth_SynF</td>\n",
       "      <td>mN4</td>\n",
       "      <td>GN</td>\n",
       "      <td>...</td>\n",
       "      <td>False</td>\n",
       "      <td>True</td>\n",
       "      <td>75</td>\n",
       "      <td>N4</td>\n",
       "      <td>False</td>\n",
       "      <td>mN4</td>\n",
       "      <td>True</td>\n",
       "      <td>31</td>\n",
       "      <td>False</td>\n",
       "      <td>Neutrophils</td>\n",
       "    </tr>\n",
       "    <tr>\n",
       "      <th>3</th>\n",
       "      <td>bcGWNX</td>\n",
       "      <td>CSF1Ri_1_1</td>\n",
       "      <td>5972</td>\n",
       "      <td>6.39652</td>\n",
       "      <td>Blz1a</td>\n",
       "      <td>CSF1Ri_1</td>\n",
       "      <td>CSF1Ri</td>\n",
       "      <td>Mo_6C+II-_LN</td>\n",
       "      <td>mMac1</td>\n",
       "      <td>Mo</td>\n",
       "      <td>...</td>\n",
       "      <td>False</td>\n",
       "      <td>True</td>\n",
       "      <td>41</td>\n",
       "      <td>Mac1</td>\n",
       "      <td>False</td>\n",
       "      <td>mMac1</td>\n",
       "      <td>True</td>\n",
       "      <td>18</td>\n",
       "      <td>False</td>\n",
       "      <td>Monocytes/Macrophages</td>\n",
       "    </tr>\n",
       "    <tr>\n",
       "      <th>4</th>\n",
       "      <td>bcCOWJ</td>\n",
       "      <td>CSF1Ri_1_1</td>\n",
       "      <td>5021</td>\n",
       "      <td>3.82394</td>\n",
       "      <td>Blz1a</td>\n",
       "      <td>CSF1Ri_1</td>\n",
       "      <td>CSF1Ri</td>\n",
       "      <td>Mo_6C+II-_LN</td>\n",
       "      <td>mMono1</td>\n",
       "      <td>Mo</td>\n",
       "      <td>...</td>\n",
       "      <td>False</td>\n",
       "      <td>True</td>\n",
       "      <td>1</td>\n",
       "      <td>Mono1</td>\n",
       "      <td>False</td>\n",
       "      <td>mMono1</td>\n",
       "      <td>True</td>\n",
       "      <td>89</td>\n",
       "      <td>False</td>\n",
       "      <td>Monocytes/Macrophages</td>\n",
       "    </tr>\n",
       "  </tbody>\n",
       "</table>\n",
       "<p>5 rows × 32 columns</p>\n",
       "</div>"
      ],
      "text/plain": [
       "  barcode     library total_counts pct_counts_mito _library_before_renaming  \\\n",
       "0  bcECPI  CSF1Ri_1_1        14875         5.81513                    Blz1a   \n",
       "1  bcESAZ  CSF1Ri_1_1         6876         4.21757                    Blz1a   \n",
       "2  bcIBUV  CSF1Ri_1_1         4643         2.86453                    Blz1a   \n",
       "3  bcGWNX  CSF1Ri_1_1         5972         6.39652                    Blz1a   \n",
       "4  bcCOWJ  CSF1Ri_1_1         5021         3.82394                    Blz1a   \n",
       "\n",
       "      mouse condition closest_Immgen closest_Zilionis2019_mouse_minor  \\\n",
       "0  CSF1Ri_1    CSF1Ri         B1a_Sp                         mB cells   \n",
       "1  CSF1Ri_1    CSF1Ri   NK_DAP10-_Sp                              mT3   \n",
       "2  CSF1Ri_1    CSF1Ri   GN_Arth_SynF                              mN4   \n",
       "3  CSF1Ri_1    CSF1Ri   Mo_6C+II-_LN                            mMac1   \n",
       "4  CSF1Ri_1    CSF1Ri   Mo_6C+II-_LN                           mMono1   \n",
       "\n",
       "  closest_Immgen_simplified  ... removed_as_dblt_2  \\\n",
       "0                       B1a  ...             False   \n",
       "1                        NK  ...             False   \n",
       "2                        GN  ...             False   \n",
       "3                        Mo  ...             False   \n",
       "4                        Mo  ...             False   \n",
       "\n",
       "  used_in_all_cells_clean_iter2 sp_cl_all_cells_clean_iter2_100 *population  \\\n",
       "0                          True                              68     B cells   \n",
       "1                          True                               4    NK cells   \n",
       "2                          True                              75          N4   \n",
       "3                          True                              41        Mac1   \n",
       "4                          True                               1       Mono1   \n",
       "\n",
       "  used_in_T_cells_only archive_population used_in_all_cells_clean_iter3  \\\n",
       "0                False           mB cells                          True   \n",
       "1                False          mNK cells                          True   \n",
       "2                False                mN4                          True   \n",
       "3                False              mMac1                          True   \n",
       "4                False             mMono1                          True   \n",
       "\n",
       "  sp_cl_all_cells_clean_iter3_100 used_in_T_cells_only_iter2  \\\n",
       "0                              13                      False   \n",
       "1                              33                      False   \n",
       "2                              31                      False   \n",
       "3                              18                      False   \n",
       "4                              89                      False   \n",
       "\n",
       "         Major cell type  \n",
       "0                B cells  \n",
       "1               NK cells  \n",
       "2            Neutrophils  \n",
       "3  Monocytes/Macrophages  \n",
       "4  Monocytes/Macrophages  \n",
       "\n",
       "[5 rows x 32 columns]"
      ]
     },
     "execution_count": 8,
     "metadata": {},
     "output_type": "execute_result"
    }
   ],
   "source": [
    "adata = sc.read_h5ad('data/mito_total_counts_filt_raw_27563x40930_200517_10h29.h5ad')\n",
    "\n",
    "# overwrite obs with the most recent version\n",
    "adata.obs = rz.load_df('data/obs_info_27563x32_200705_10h46.npz')"
   ]
  },
  {
   "cell_type": "markdown",
   "metadata": {},
   "source": [
    "### Normalize counts to 10k"
   ]
  },
  {
   "cell_type": "code",
   "execution_count": 9,
   "metadata": {},
   "outputs": [
    {
     "name": "stdout",
     "output_type": "stream",
     "text": [
      "normalizing by total count per cell\n",
      "    finished (0:00:01): normalized adata.X and added    'n_counts', counts per cell before normalization (adata.obs)\n"
     ]
    }
   ],
   "source": [
    "sc.pp.normalize_per_cell(adata,counts_per_cell_after=1e4)"
   ]
  },
  {
   "cell_type": "markdown",
   "metadata": {},
   "source": [
    "### Get unique conditions and populations"
   ]
  },
  {
   "cell_type": "code",
   "execution_count": 11,
   "metadata": {},
   "outputs": [
    {
     "data": {
      "text/plain": [
       "0         CSF1Ri\n",
       "39600    Vehicle\n",
       "63980    Healthy\n",
       "Name: condition, dtype: object"
      ]
     },
     "execution_count": 11,
     "metadata": {},
     "output_type": "execute_result"
    }
   ],
   "source": [
    "adata.obs['condition'].drop_duplicates()"
   ]
  },
  {
   "cell_type": "code",
   "execution_count": 1,
   "metadata": {},
   "outputs": [],
   "source": [
    "# MoMacDC are all bunched together for the major cell types\n",
    "adata.obs[['Major cell type', '*population']].drop_duplicates()"
   ]
  },
  {
   "cell_type": "markdown",
   "metadata": {},
   "source": [
    "### Generate new labels for metadata and average expression"
   ]
  },
  {
   "cell_type": "code",
   "execution_count": 13,
   "metadata": {},
   "outputs": [],
   "source": [
    "# dictionary for friendlier labels\n",
    "cond_f = {\"CSF1Ri\":\"+\", \"Vehicle\":\"-\", \"Healthy\":\"x\"}\n",
    "cpdb_pops = {\"Mono1\":\"MoMac\", \"Mono2\":\"MoMac\", \"Mono3\":\"MoMac\", \n",
    "             \"MonoDC\":\"MonoDC\", \"Mac1\":\"MoMac\", \n",
    "             \"Mac2\":\"MoMac\", \"Mac3\":\"MoMac\", \"Mac4\":\"MoMac\",\n",
    "             \"DC1\":\"DC1\", \"DC2\":\"DC2\", \"DC3\":\"DC3\", \"pDC\":\"pDC\",\n",
    "             \"T_Cd4\":\"NK/T\", \"T_Cd8\":\"NK/T\", \"T_gd\":\"T_gd\", \"T_reg\":\"Treg\",\n",
    "             \"NK cells\":\"NK/T\",\n",
    "             \"Plasma_cells\":\"B\", \"B cells\":\"B\", \"Basophils\":\"Basophils\", \"ILC\":\"ILC\",\n",
    "             \"N1\":\"Neutrophils\", \"N2\":\"Neutrophils\", \"N3\":\"Neutrophils\", \"N4\":\"Neutrophils\",\n",
    "             \"N5\":\"Neutrophils\", \"N6\":\"Neutrophils\"}\n",
    "\n",
    "# Generate new label combining *population and condition\n",
    "adata.obs['*pop+cond'] = adata.obs['*population'].map(cpdb_pops).map(str) + ' ' + [cond_f[i] for i in adata.obs['condition']]\n",
    "\n",
    "# get mean exp\n",
    "cmask = adata.obs['used_in_all_cells_clean_iter3'].astype(bool).values\n",
    "centroids = rz.centroids('*pop+cond',adata[cmask])"
   ]
  },
  {
   "cell_type": "markdown",
   "metadata": {},
   "source": [
    "### Import genes, select which to include in heatmap"
   ]
  },
  {
   "cell_type": "code",
   "execution_count": 24,
   "metadata": {},
   "outputs": [],
   "source": [
    "pops = ['DC1 -', 'DC1 +', \n",
    "        'DC2 -', 'DC2 +', \n",
    "        'DC3 -', 'DC3 +', \n",
    "        'NK/T -', 'NK/T +']   \n",
    "\n",
    "# mapping of names to index for sorting later\n",
    "popdict = {}\n",
    "x = 1\n",
    "for p in pops:\n",
    "    popdict[p] = x\n",
    "    x += 1"
   ]
  },
  {
   "cell_type": "code",
   "execution_count": 25,
   "metadata": {},
   "outputs": [
    {
     "name": "stdout",
     "output_type": "stream",
     "text": [
      "pair\n",
      "[]\n",
      "DC1.NK/T\n",
      "['Pdgfb_S1pr1', 'Gnai2_S1pr5']\n",
      "NK/T.DC1\n",
      "['Cd28_Cd80', 'Cd28_Cd86', 'Xcl1_Xcr1', 'Cd28_Cd86', 'Ifng_Ifngr2', 'Xcl1_Xcr1']\n",
      "DC2.NK/T\n",
      "['Cxcl16_Cxcr6', 'Pdgfb_S1pr1', 'Fas_Fasl', 'Gnai2_S1pr5']\n",
      "NK/T.DC2\n",
      "['Cd28_Cd80', 'Cd28_Cd86', 'Xcl1_Xcr1', 'Ifng_Ifngr1', 'Ifng_Ifngr2']\n",
      "DC3.NK/T\n",
      "['Pdgfb_S1pr1', 'Sdc4_Ccl5', 'Gnai2_S1pr5', 'Il12b_Il12rb2']\n",
      "NK/T.DC3\n",
      "['Ifng_Ifngr1', 'Ifng_Ifngr2']\n"
     ]
    }
   ],
   "source": [
    "# make dictionary of interacting pairs (preserving order) and activating ligands and receptors\n",
    "fname = \"Aug20_BLZ_data/cpdb_results/Interactions_UP-DC1-3_Aug20.txt\"\n",
    "\n",
    "pairs_ints = {}\n",
    "for line in open(fname):\n",
    "    line = line.rstrip('\\n').split('\\t')\n",
    "    pair = line[5]\n",
    "    lr = line[0]\n",
    "    ann = line[9]\n",
    "    if pair not in pairs_ints:\n",
    "        pairs_ints[pair] = []\n",
    "    if ann == \"A\":\n",
    "        pairs_ints[pair].append(lr)\n",
    "            \n",
    "for p in pairs_ints:\n",
    "    print(p)\n",
    "    print(pairs_ints[p])"
   ]
  },
  {
   "cell_type": "code",
   "execution_count": 146,
   "metadata": {},
   "outputs": [
    {
     "name": "stdout",
     "output_type": "stream",
     "text": [
      "['Ifng', 'Ifngr1', 'Ifng', 'Ifngr2', 'Il12b', 'Il12rb2']\n"
     ]
    }
   ],
   "source": [
    "# for cell type pair, return genes that are in master list of interactions to include\n",
    "include = ['Cd28_Cd80', 'Cd28_Cd86', 'Ifng_Ifngr1', \n",
    "           'Ifng_Ifngr2', 'Il12b_Il12rb2', 'Xcl1_Xcr1']\n",
    "\n",
    "def lookup(pop1, pop2, dic, include):\n",
    "    pair1 = pop1 + \".\" + pop2\n",
    "    pair2 = pop2 + \".\" + pop1\n",
    "    tmp = []\n",
    "    for p in [pair1, pair2]:\n",
    "        for i in dic[p]:\n",
    "            if i in include:\n",
    "                tmp.append(i)\n",
    "    genes = []\n",
    "    for i in tmp:\n",
    "        genes.extend(i.split(\"_\"))\n",
    "    return genes\n",
    "\n",
    "genes = lookup(\"NK/T\", \"DC1\", pairs_ints, include)\n",
    "uniq_gs = [g for g in set(genes)] \n",
    "\n",
    "print(genes)"
   ]
  },
  {
   "cell_type": "code",
   "execution_count": 174,
   "metadata": {},
   "outputs": [],
   "source": [
    "genes = ['Xcl1', 'Xcr1', 'Ifng', 'Ifngr2']\n",
    "uniq_gs = [g for g in set(genes)]"
   ]
  },
  {
   "cell_type": "code",
   "execution_count": 175,
   "metadata": {},
   "outputs": [],
   "source": [
    "# pseudovalue used in Immunity paper was 50 tpm, i.e. 0.5 count per 10k.\n",
    "## here, we use 100 TPM or 1 count per 10k\n",
    "pseudo = 1\n",
    "\n",
    "figkey = \"NK.T-DC1_HM_CP10Kmedian_Aug20\"\n",
    "genes_to_plot = genes\n",
    "\n",
    "# color map palette\n",
    "cmap = plt.cm.get_cmap('RdBu_r')\n",
    "# graphic parameters\n",
    "thelim = 2\n",
    "mfont = {'fontname':'MyriadPro'}"
   ]
  },
  {
   "cell_type": "code",
   "execution_count": 177,
   "metadata": {
    "scrolled": false
   },
   "outputs": [],
   "source": [
    "# transform the data (CPKref here is median)\n",
    "heat = centroids.loc[pops,uniq_gs] + pseudo\n",
    "heat = heat/heat.median()\n",
    "heat = np.log2(heat)\n",
    "\n",
    "# sort the data\n",
    "heat.loc['which'] = [popdict[i] for i in heat.idxmax()]\n",
    "heat.loc['max'] = heat.loc[pops].max()\n",
    "heat = heat.sort_values(by=['which', 'max'], axis=1, ascending=False)\n",
    "heat = heat.loc[pops]"
   ]
  },
  {
   "cell_type": "code",
   "execution_count": 178,
   "metadata": {},
   "outputs": [],
   "source": [
    "# add new columns to define index - for HM labeling\n",
    "heat['group'] = [i.split()[0] for i in heat.index]\n",
    "heat['subgroup'] = [i.split()[1] for i in heat.index]"
   ]
  },
  {
   "cell_type": "code",
   "execution_count": 179,
   "metadata": {},
   "outputs": [
    {
     "data": {
      "text/html": [
       "<div>\n",
       "<style scoped>\n",
       "    .dataframe tbody tr th:only-of-type {\n",
       "        vertical-align: middle;\n",
       "    }\n",
       "\n",
       "    .dataframe tbody tr th {\n",
       "        vertical-align: top;\n",
       "    }\n",
       "\n",
       "    .dataframe thead th {\n",
       "        text-align: right;\n",
       "    }\n",
       "</style>\n",
       "<table border=\"1\" class=\"dataframe\">\n",
       "  <thead>\n",
       "    <tr style=\"text-align: right;\">\n",
       "      <th></th>\n",
       "      <th>index</th>\n",
       "      <th>Xcl1</th>\n",
       "      <th>Ifng</th>\n",
       "      <th>Xcr1</th>\n",
       "      <th>Ifngr2</th>\n",
       "    </tr>\n",
       "    <tr>\n",
       "      <th>group</th>\n",
       "      <th>subgroup</th>\n",
       "      <th></th>\n",
       "      <th></th>\n",
       "      <th></th>\n",
       "      <th></th>\n",
       "    </tr>\n",
       "  </thead>\n",
       "  <tbody>\n",
       "    <tr>\n",
       "      <th rowspan=\"2\" valign=\"top\">DC1</th>\n",
       "      <th>-</th>\n",
       "      <td>-0.010623</td>\n",
       "      <td>-0.007533</td>\n",
       "      <td>2.177939</td>\n",
       "      <td>0.003781</td>\n",
       "    </tr>\n",
       "    <tr>\n",
       "      <th>+</th>\n",
       "      <td>-0.010623</td>\n",
       "      <td>-0.007533</td>\n",
       "      <td>2.823491</td>\n",
       "      <td>0.418446</td>\n",
       "    </tr>\n",
       "    <tr>\n",
       "      <th rowspan=\"2\" valign=\"top\">DC2</th>\n",
       "      <th>-</th>\n",
       "      <td>-0.010623</td>\n",
       "      <td>0.007494</td>\n",
       "      <td>0.066849</td>\n",
       "      <td>-0.003791</td>\n",
       "    </tr>\n",
       "    <tr>\n",
       "      <th>+</th>\n",
       "      <td>0.010545</td>\n",
       "      <td>-0.007533</td>\n",
       "      <td>0.207661</td>\n",
       "      <td>-0.094982</td>\n",
       "    </tr>\n",
       "    <tr>\n",
       "      <th rowspan=\"2\" valign=\"top\">DC3</th>\n",
       "      <th>-</th>\n",
       "      <td>-0.010623</td>\n",
       "      <td>-0.007533</td>\n",
       "      <td>-0.128249</td>\n",
       "      <td>0.025702</td>\n",
       "    </tr>\n",
       "    <tr>\n",
       "      <th>+</th>\n",
       "      <td>0.012862</td>\n",
       "      <td>0.010098</td>\n",
       "      <td>-0.070098</td>\n",
       "      <td>0.226848</td>\n",
       "    </tr>\n",
       "    <tr>\n",
       "      <th rowspan=\"2\" valign=\"top\">NK/T</th>\n",
       "      <th>-</th>\n",
       "      <td>1.129080</td>\n",
       "      <td>0.595242</td>\n",
       "      <td>-0.108512</td>\n",
       "      <td>-0.490418</td>\n",
       "    </tr>\n",
       "    <tr>\n",
       "      <th>+</th>\n",
       "      <td>1.777865</td>\n",
       "      <td>1.055830</td>\n",
       "      <td>-0.104317</td>\n",
       "      <td>-0.413732</td>\n",
       "    </tr>\n",
       "  </tbody>\n",
       "</table>\n",
       "</div>"
      ],
      "text/plain": [
       "index               Xcl1      Ifng      Xcr1    Ifngr2\n",
       "group subgroup                                        \n",
       "DC1   -        -0.010623 -0.007533  2.177939  0.003781\n",
       "      +        -0.010623 -0.007533  2.823491  0.418446\n",
       "DC2   -        -0.010623  0.007494  0.066849 -0.003791\n",
       "      +         0.010545 -0.007533  0.207661 -0.094982\n",
       "DC3   -        -0.010623 -0.007533 -0.128249  0.025702\n",
       "      +         0.012862  0.010098 -0.070098  0.226848\n",
       "NK/T  -         1.129080  0.595242 -0.108512 -0.490418\n",
       "      +         1.777865  1.055830 -0.104317 -0.413732"
      ]
     },
     "execution_count": 179,
     "metadata": {},
     "output_type": "execute_result"
    }
   ],
   "source": [
    "heat.set_index(['group','subgroup'], inplace=True)\n",
    "heat"
   ]
  },
  {
   "cell_type": "markdown",
   "metadata": {},
   "source": [
    "### Formatting heatmaps "
   ]
  },
  {
   "cell_type": "code",
   "execution_count": 180,
   "metadata": {},
   "outputs": [],
   "source": [
    "def xticks_fancy(a,totick,labels_all,emptychar = '',fontsize=5):\n",
    "    \n",
    "    \"\"\"\n",
    "    utility function originally made for ticking only a subset of selected genes in a genes x observations heatmap.\n",
    "    example of use: xticks_fancy(a,['Csf1r','Ccr2','','','Arg1','S100a9'],genes_by_cells.index)\n",
    "    input:\n",
    "        a - axis with heatmap\n",
    "        totick - list of yticklabels to display. Use the string defined by\n",
    "        emptychar to add spacing between groups of genes.\n",
    "        labels_all - all yticklabels.\n",
    "        emptychar - string that will be treated as white space\n",
    "        \n",
    "    returns: nothing\n",
    "    \n",
    "    \"\"\"\n",
    "\n",
    "    a.set_xticks([])\n",
    "    leftshift = 0\n",
    "    totick = np.array(totick)\n",
    "    nr_slots = len(totick)\n",
    "    tickmask = np.array([i!=emptychar for i in totick])\n",
    "    totick = totick[tickmask]\n",
    "    y_right = np.array([pd.Index(labels_all).get_loc(i) for i in totick])\n",
    "    \n",
    "    #if genes were not typed in in the correct order, account for that to avoid lines crossing\n",
    "    tickorder = np.argsort(y_right)\n",
    "    y_right = y_right[tickorder]\n",
    "    totick = totick[tickorder]\n",
    "    y_left = np.linspace(0,len(labels_all),nr_slots)[tickmask]\n",
    "    for l,r,gene in zip(y_left,y_right,totick):\n",
    "        a.plot((r,r),(-0.8-leftshift,-0.5-leftshift),lw=0.5,color='0.2')\n",
    "        a.plot((l,r),(-1.2-leftshift,-0.8-leftshift),lw=0.5,color='0.2')\n",
    "        a.plot((l,l),(-1.5-leftshift,-1.2-leftshift),lw=0.5,color='0.2')\n",
    "        a.text(l,-1.6-(leftshift*1.6),gene,ha='center',va='bottom',fontsize=fontsize, rotation='vertical')"
   ]
  },
  {
   "cell_type": "code",
   "execution_count": 181,
   "metadata": {},
   "outputs": [],
   "source": [
    "def add_line(ax, xpos, ypos):\n",
    "    line = plt.Line2D([xpos + 1.15, xpos], [ypos, ypos],\n",
    "                      transform=ax.transAxes, color='gray', lw=0.7)\n",
    "    line.set_clip_on(False)\n",
    "    ax.add_line(line)\n",
    "\n",
    "def label_len(my_index,level):\n",
    "    labels = my_index.get_level_values(level)\n",
    "    return [(k, sum(1 for i in g)) for k,g in itertools.groupby(labels)]\n",
    "\n",
    "def label_group_hm(ax, df):\n",
    "    xpos = -.3\n",
    "    scale = 1./df.index.size\n",
    "    ha = 'center'\n",
    "    for level in range(df.index.nlevels)[::-1]:\n",
    "        pos = a.get_ylim()[0]+0.5\n",
    "        for label, rpos in label_len(df.index,level):\n",
    "            lypos = (pos - .6*rpos)*scale\n",
    "            if level == 0:\n",
    "                ha = 'right'\n",
    "            if label == \"NK/T\":\n",
    "                ax.text(xpos, lypos, label, ha=ha, transform=ax.transAxes, \n",
    "                        fontweight=\"bold\", color=\"red\")\n",
    "            elif label == \"DC1\" or label == \"DC1\":\n",
    "                ax.text(xpos, lypos, label, ha=ha, transform=ax.transAxes, \n",
    "                        fontweight=\"bold\", color=\"blue\")\n",
    "            elif label == \"DC2\" or label == \"DC3\":\n",
    "                ax.text(xpos, lypos, label, ha=ha, transform=ax.transAxes, \n",
    "                        color=\"grey\")\n",
    "            else:    \n",
    "                ax.text(xpos, lypos, label, ha=ha, transform=ax.transAxes)\n",
    "            pos -= rpos\n",
    "        xpos -= .3      "
   ]
  },
  {
   "cell_type": "code",
   "execution_count": 182,
   "metadata": {
    "scrolled": true
   },
   "outputs": [
    {
     "name": "stderr",
     "output_type": "stream",
     "text": [
      "'MyriadPro-Bold.otf' can not be subsetted into a Type 3 font. The entire font will be embedded in the output.\n",
      "'MyriadPro-Regular.otf' can not be subsetted into a Type 3 font. The entire font will be embedded in the output.\n"
     ]
    },
    {
     "name": "stdout",
     "output_type": "stream",
     "text": [
      "/Users/angela/Downloads/NK.T-DC1_HM_CP10Kmedian_Aug20\n"
     ]
    },
    {
     "name": "stderr",
     "output_type": "stream",
     "text": [
      "'MyriadPro-Bold.otf' can not be subsetted into a Type 3 font. The entire font will be embedded in the output.\n",
      "'MyriadPro-Regular.otf' can not be subsetted into a Type 3 font. The entire font will be embedded in the output.\n"
     ]
    },
    {
     "data": {
      "image/png": "[encoded data removed]",
      "text/plain": [
       "<Figure size 212.599x237.795 with 3 Axes>"
      ]
     },
     "metadata": {
      "needs_background": "light"
     },
     "output_type": "display_data"
    }
   ],
   "source": [
    "# plot heatmap\n",
    "h = heat.shape[1]/150.+4\n",
    "w = heat.shape[0]*0.3+1.2\n",
    "# w = heat.shape[0]*0.3+1.2\n",
    "fig,gs = rz.startfig(w,h,columns=len(genes)//2,return_first_ax=False)\n",
    "  \n",
    "# for saving heatmaps as separate excel sheets\n",
    "fname = 'output/%s'%figkey\n",
    "print(fname)\n",
    "\n",
    "for i in range(len(genes)//2):\n",
    "    a = fig.add_subplot(gs[0,i])\n",
    "    im = a.matshow(heat.loc[:,[genes[2*i],genes[2*i+1]]],vmin=-thelim,vmax=thelim,cmap=cmap,aspect='auto')\n",
    "    rz.showspines(a)\n",
    "    a.set_xticklabels([genes[2*i], genes[2*i],genes[2*i+1]], fontsize=7, rotation='vertical')\n",
    "    labs = [t for t in a.get_xticklabels()]\n",
    "    labs[1].set_color(\"red\")\n",
    "    labs[2].set_color(\"blue\")\n",
    "#     if i == 2:\n",
    "#         labs[2].set_color(\"red\")\n",
    "#         labs[1].set_color(\"blue\")\n",
    "    a.set_yticklabels('')\n",
    "    if i == 0:\n",
    "        label_group_hm(a, heat) \n",
    "    for n in [5.5,3.5,1.5]:\n",
    "        a.axhline(y=n,xmin=0,xmax=1,linewidth=0.5,c=\"grey\")\n",
    "\n",
    "fig.subplots_adjust(right=0.8)\n",
    "cbar_ax = fig.add_axes([1.02, 0.0, 0.015, 0.7])\n",
    "\n",
    "cbar = fig.colorbar(im, cax = cbar_ax)\n",
    "cbar.outline.set_visible(False)\n",
    "cbar.set_label('log2[(CP10K+1)/\\n(CP10Kref+1)]',fontsize=7)\n",
    "plt.tight_layout(h_pad=0,w_pad=0)\n",
    "\n",
    "plt.savefig('%s.pdf'%fname, bbox_inches='tight')\n",
    "plt.show()  "
   ]
  },
  {
   "cell_type": "code",
   "execution_count": null,
   "metadata": {},
   "outputs": [],
   "source": []
  }
 ],
 "metadata": {
  "kernelspec": {
   "display_name": "Python 3",
   "language": "python",
   "name": "python3"
  },
  "language_info": {
   "codemirror_mode": {
    "name": "ipython",
    "version": 3
   },
   "file_extension": ".py",
   "mimetype": "text/x-python",
   "name": "python",
   "nbconvert_exporter": "python",
   "pygments_lexer": "ipython3",
   "version": "3.7.4"
  }
 },
 "nbformat": 4,
 "nbformat_minor": 2
}
