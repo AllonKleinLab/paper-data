{
 "cells": [
  {
   "cell_type": "markdown",
   "metadata": {},
   "source": [
    "# State abundance analysis comparison between perturbations and relative controls - Figure 6B"
   ]
  },
  {
   "cell_type": "code",
   "execution_count": 1,
   "metadata": {},
   "outputs": [],
   "source": [
    "%matplotlib inline\n",
    "\n",
    "import os\n",
    "import helper_functions_GSE164638 as hf\n",
    "\n",
    "import scanpy as sc\n",
    "import pandas as pd\n",
    "import numpy as np\n",
    "import seaborn as sns\n",
    "import scipy.io\n",
    "import matplotlib.pyplot as plt"
   ]
  },
  {
   "cell_type": "markdown",
   "metadata": {},
   "source": [
    "## Import/Export Directories"
   ]
  },
  {
   "cell_type": "code",
   "execution_count": 2,
   "metadata": {},
   "outputs": [],
   "source": [
    "# for AnnData objects from Scanpy:\n",
    "# These AnnData objects contain output from the filtering and QC notebook\n",
    "# Containing unnormalized counts matrices with low-count barcodes removed\n",
    "h5ad_dir = '_h5ad_files'\n",
    "os.makedirs(h5ad_dir, exist_ok=True)\n",
    "\n",
    "# for plots from matplotlib, seaborn, helper functions plots:\n",
    "plot_dir = '_plots_abundance_analysis'\n",
    "os.makedirs(plot_dir, exist_ok=True)"
   ]
  },
  {
   "cell_type": "markdown",
   "metadata": {},
   "source": [
    "## Plotting Settings"
   ]
  },
  {
   "cell_type": "code",
   "execution_count": 3,
   "metadata": {},
   "outputs": [],
   "source": [
    "# scanpy\n",
    "sc.set_figure_params(scanpy=True, dpi=80, dpi_save=150, \n",
    "                     frameon=True, vector_friendly=True, fontsize=14, \n",
    "                     figsize=None, color_map=None, format='eps', \n",
    "                     facecolor=None, transparent=False, ipython_format='png2x')\n",
    "\n",
    "sc.settings.verbosity = 2  # verbosity: errors (0), warnings (1), info (2), hints (3)\n",
    "sc.settings.set_figure_params(dpi=150)  # low dpi (dots per inch) yields small inline figure"
   ]
  },
  {
   "cell_type": "code",
   "execution_count": 4,
   "metadata": {},
   "outputs": [],
   "source": [
    "# matplotlib params:\n",
    "plt.rcParams['font.family'] = 'sans-serif'\n",
    "plt.rcParams['font.sans-serif'] = 'Arial'\n",
    "plt.rc('font', size=12)\n",
    "plt.rcParams['pdf.fonttype'] = 42\n",
    "\n",
    "# seaborn\n",
    "sns.set(context='notebook', style='white', font_scale=0.5)"
   ]
  },
  {
   "cell_type": "markdown",
   "metadata": {},
   "source": [
    "## Load single cell data"
   ]
  },
  {
   "cell_type": "code",
   "execution_count": 5,
   "metadata": {},
   "outputs": [],
   "source": [
    "adata = sc.read(f'{h5ad_dir}/adata_merged_annotated_perturbations.h5ad')"
   ]
  },
  {
   "cell_type": "code",
   "execution_count": 6,
   "metadata": {},
   "outputs": [],
   "source": [
    "# optionally restrict to cells which have at least 1000 counts"
   ]
  },
  {
   "cell_type": "markdown",
   "metadata": {},
   "source": [
    "### Split the data into experiments"
   ]
  },
  {
   "cell_type": "code",
   "execution_count": 7,
   "metadata": {},
   "outputs": [],
   "source": [
    "adata_36 = adata[adata.obs['duration'].isin(['36h'])]"
   ]
  },
  {
   "cell_type": "code",
   "execution_count": 8,
   "metadata": {},
   "outputs": [],
   "source": [
    "adata_12 = adata[adata.obs['duration'].isin(['12h'])]"
   ]
  },
  {
   "cell_type": "markdown",
   "metadata": {},
   "source": [
    "### Split the experiment data by treatment condition"
   ]
  },
  {
   "cell_type": "code",
   "execution_count": 9,
   "metadata": {},
   "outputs": [],
   "source": [
    "adata_36_dmso = adata_36[adata_36.obs['treatment'].isin(['DMSO'])]"
   ]
  },
  {
   "cell_type": "code",
   "execution_count": 10,
   "metadata": {},
   "outputs": [],
   "source": [
    "adata_36_cftr = adata_36[adata_36.obs['treatment'].isin(['CFTR-inh172'])]"
   ]
  },
  {
   "cell_type": "code",
   "execution_count": 11,
   "metadata": {},
   "outputs": [],
   "source": [
    "adata_12_dmso = adata_12[adata_12.obs['treatment'].isin(['DMSO'])]"
   ]
  },
  {
   "cell_type": "code",
   "execution_count": 12,
   "metadata": {},
   "outputs": [],
   "source": [
    "adata_12_forsk = adata_12[adata_12.obs['treatment'].isin(['Forskolin'])]"
   ]
  },
  {
   "cell_type": "code",
   "execution_count": 13,
   "metadata": {},
   "outputs": [],
   "source": [
    "# count only the 845 cells that meet the criteria for abundance plots (makes insignificant difference)\n",
    "adata_12_forsk = adata_12_forsk[adata_12_forsk.obs.loc[adata_12_forsk.obs['n_counts'] >= 1000].index] "
   ]
  },
  {
   "cell_type": "markdown",
   "metadata": {},
   "source": [
    "## Get abundances and plot"
   ]
  },
  {
   "cell_type": "markdown",
   "metadata": {},
   "source": [
    "### Get pandas dataframe of abundance levels for each state of interest"
   ]
  },
  {
   "cell_type": "code",
   "execution_count": 14,
   "metadata": {
    "scrolled": false
   },
   "outputs": [],
   "source": [
    "abund_36_dmso = hf.abundance_df(adata_36_dmso, 'state_coarse_grain')"
   ]
  },
  {
   "cell_type": "code",
   "execution_count": 15,
   "metadata": {},
   "outputs": [],
   "source": [
    "abund_36_cftr = hf.abundance_df(adata_36_cftr, 'state_coarse_grain')"
   ]
  },
  {
   "cell_type": "code",
   "execution_count": 16,
   "metadata": {},
   "outputs": [],
   "source": [
    "abund_12_dmso = hf.abundance_df(adata_12_dmso, 'state_coarse_grain')"
   ]
  },
  {
   "cell_type": "code",
   "execution_count": 17,
   "metadata": {},
   "outputs": [],
   "source": [
    "abund_12_forsk = hf.abundance_df(adata_12_forsk, 'state_coarse_grain')"
   ]
  },
  {
   "cell_type": "markdown",
   "metadata": {},
   "source": [
    "### Rename the abundance columns from their default settings (so you can merge them later)"
   ]
  },
  {
   "cell_type": "code",
   "execution_count": 18,
   "metadata": {},
   "outputs": [],
   "source": [
    "abund_36_dmso['DMSO 36 abundance'] = abund_36_dmso['state_coarse_grain_abundance']\n",
    "abund_36_dmso['DMSO 36 Log2 abundance'] = abund_36_dmso['state_coarse_grain_log2_abundance']"
   ]
  },
  {
   "cell_type": "code",
   "execution_count": 19,
   "metadata": {},
   "outputs": [],
   "source": [
    "abund_36_cftr['CFTR-inh172 abundance'] = abund_36_cftr['state_coarse_grain_abundance']\n",
    "abund_36_cftr['CFTR-inh172 Log2 abundance'] = abund_36_cftr['state_coarse_grain_log2_abundance']"
   ]
  },
  {
   "cell_type": "code",
   "execution_count": 20,
   "metadata": {},
   "outputs": [],
   "source": [
    "abund_12_dmso['DMSO 12 abundance'] = abund_12_dmso['state_coarse_grain_abundance']\n",
    "abund_12_dmso['DMSO 12 Log2 abundance'] = abund_12_dmso['state_coarse_grain_log2_abundance']"
   ]
  },
  {
   "cell_type": "code",
   "execution_count": 21,
   "metadata": {},
   "outputs": [],
   "source": [
    "abund_12_forsk['Forskolin abundance'] = abund_12_forsk['state_coarse_grain_abundance']\n",
    "abund_12_forsk['Forskolin Log2 abundance'] = abund_12_forsk['state_coarse_grain_log2_abundance']"
   ]
  },
  {
   "cell_type": "markdown",
   "metadata": {},
   "source": [
    "### Sort the dataframes alphabetically by state"
   ]
  },
  {
   "cell_type": "code",
   "execution_count": 22,
   "metadata": {},
   "outputs": [],
   "source": [
    "abund_36_dmso = abund_36_dmso.sort_values('state')\n",
    "abund_36_cftr = abund_36_cftr.sort_values('state')\n",
    "abund_12_dmso = abund_12_dmso.sort_values('state')\n",
    "abund_12_forsk = abund_12_forsk.sort_values('state')"
   ]
  },
  {
   "cell_type": "markdown",
   "metadata": {},
   "source": [
    "### Merge the dataframes by experiment (now that we have abundances)"
   ]
  },
  {
   "cell_type": "code",
   "execution_count": 23,
   "metadata": {
    "scrolled": true
   },
   "outputs": [],
   "source": [
    "abundance_merge_12_df = abund_12_forsk.merge(abund_12_dmso, on='state')"
   ]
  },
  {
   "cell_type": "code",
   "execution_count": 24,
   "metadata": {},
   "outputs": [],
   "source": [
    "abundance_merge_36_df = abund_36_cftr.merge(abund_36_dmso, on='state')"
   ]
  },
  {
   "cell_type": "code",
   "execution_count": 25,
   "metadata": {},
   "outputs": [],
   "source": [
    "abundance_merge_all_df = abundance_merge_12_df.merge(abundance_merge_36_df , on='state')"
   ]
  },
  {
   "cell_type": "markdown",
   "metadata": {},
   "source": [
    "## Take a look at raw % abundances"
   ]
  },
  {
   "cell_type": "code",
   "execution_count": 26,
   "metadata": {},
   "outputs": [],
   "source": [
    "abundance_df_abr = abundance_merge_all_df[[\"state\", \"Forskolin abundance\", \"DMSO 12 abundance\", \"DMSO 36 abundance\", \"CFTR-inh172 abundance\"]]"
   ]
  },
  {
   "cell_type": "code",
   "execution_count": 27,
   "metadata": {},
   "outputs": [
    {
     "name": "stderr",
     "output_type": "stream",
     "text": [
      "<ipython-input-27-74a7f1c9c8e4>:1: SettingWithCopyWarning: \n",
      "A value is trying to be set on a copy of a slice from a DataFrame.\n",
      "Try using .loc[row_indexer,col_indexer] = value instead\n",
      "\n",
      "See the caveats in the documentation: https://pandas.pydata.org/pandas-docs/stable/user_guide/indexing.html#returning-a-view-versus-a-copy\n",
      "  abundance_df_abr['Forskolin Abundance Pct'] = abundance_df_abr['Forskolin abundance']*100\n",
      "<ipython-input-27-74a7f1c9c8e4>:2: SettingWithCopyWarning: \n",
      "A value is trying to be set on a copy of a slice from a DataFrame.\n",
      "Try using .loc[row_indexer,col_indexer] = value instead\n",
      "\n",
      "See the caveats in the documentation: https://pandas.pydata.org/pandas-docs/stable/user_guide/indexing.html#returning-a-view-versus-a-copy\n",
      "  abundance_df_abr['DMSO 12h Abundance Pct'] = abundance_df_abr['DMSO 12 abundance']*100\n",
      "<ipython-input-27-74a7f1c9c8e4>:3: SettingWithCopyWarning: \n",
      "A value is trying to be set on a copy of a slice from a DataFrame.\n",
      "Try using .loc[row_indexer,col_indexer] = value instead\n",
      "\n",
      "See the caveats in the documentation: https://pandas.pydata.org/pandas-docs/stable/user_guide/indexing.html#returning-a-view-versus-a-copy\n",
      "  abundance_df_abr['CFTR-inh172 Abundance Pct'] = abundance_df_abr['CFTR-inh172 abundance']*100\n",
      "<ipython-input-27-74a7f1c9c8e4>:4: SettingWithCopyWarning: \n",
      "A value is trying to be set on a copy of a slice from a DataFrame.\n",
      "Try using .loc[row_indexer,col_indexer] = value instead\n",
      "\n",
      "See the caveats in the documentation: https://pandas.pydata.org/pandas-docs/stable/user_guide/indexing.html#returning-a-view-versus-a-copy\n",
      "  abundance_df_abr['DMSO 36 Abundance Pct'] = abundance_df_abr['DMSO 36 abundance']*100\n"
     ]
    }
   ],
   "source": [
    "abundance_df_abr['Forskolin Abundance Pct'] = abundance_df_abr['Forskolin abundance']*100\n",
    "abundance_df_abr['DMSO 12h Abundance Pct'] = abundance_df_abr['DMSO 12 abundance']*100\n",
    "abundance_df_abr['CFTR-inh172 Abundance Pct'] = abundance_df_abr['CFTR-inh172 abundance']*100\n",
    "abundance_df_abr['DMSO 36 Abundance Pct'] = abundance_df_abr['DMSO 36 abundance']*100"
   ]
  },
  {
   "cell_type": "code",
   "execution_count": 28,
   "metadata": {},
   "outputs": [],
   "source": [
    "abundance_df_abr_pct = abundance_df_abr[[\"state\", \"Forskolin Abundance Pct\", \"DMSO 12h Abundance Pct\", \"CFTR-inh172 Abundance Pct\", \"DMSO 36 Abundance Pct\"]]"
   ]
  },
  {
   "cell_type": "code",
   "execution_count": 29,
   "metadata": {},
   "outputs": [
    {
     "data": {
      "text/html": [
       "<div>\n",
       "<style scoped>\n",
       "    .dataframe tbody tr th:only-of-type {\n",
       "        vertical-align: middle;\n",
       "    }\n",
       "\n",
       "    .dataframe tbody tr th {\n",
       "        vertical-align: top;\n",
       "    }\n",
       "\n",
       "    .dataframe thead th {\n",
       "        text-align: right;\n",
       "    }\n",
       "</style>\n",
       "<table border=\"1\" class=\"dataframe\">\n",
       "  <thead>\n",
       "    <tr style=\"text-align: right;\">\n",
       "      <th></th>\n",
       "      <th>state</th>\n",
       "      <th>Forskolin Abundance Pct</th>\n",
       "      <th>DMSO 12h Abundance Pct</th>\n",
       "      <th>CFTR-inh172 Abundance Pct</th>\n",
       "      <th>DMSO 36 Abundance Pct</th>\n",
       "    </tr>\n",
       "  </thead>\n",
       "  <tbody>\n",
       "    <tr>\n",
       "      <th>0</th>\n",
       "      <td>Enterocyte</td>\n",
       "      <td>72.307692</td>\n",
       "      <td>63.187856</td>\n",
       "      <td>57.532861</td>\n",
       "      <td>54.706142</td>\n",
       "    </tr>\n",
       "    <tr>\n",
       "      <th>1</th>\n",
       "      <td>Enteroendocrine</td>\n",
       "      <td>2.603550</td>\n",
       "      <td>2.941176</td>\n",
       "      <td>4.550051</td>\n",
       "      <td>3.446752</td>\n",
       "    </tr>\n",
       "    <tr>\n",
       "      <th>2</th>\n",
       "      <td>Secretory</td>\n",
       "      <td>7.573964</td>\n",
       "      <td>5.977230</td>\n",
       "      <td>6.167846</td>\n",
       "      <td>9.898365</td>\n",
       "    </tr>\n",
       "    <tr>\n",
       "      <th>3</th>\n",
       "      <td>Stem</td>\n",
       "      <td>10.769231</td>\n",
       "      <td>24.288425</td>\n",
       "      <td>28.412538</td>\n",
       "      <td>26.557667</td>\n",
       "    </tr>\n",
       "    <tr>\n",
       "      <th>4</th>\n",
       "      <td>Stretch Signature</td>\n",
       "      <td>5.680473</td>\n",
       "      <td>1.802657</td>\n",
       "      <td>2.325581</td>\n",
       "      <td>4.949183</td>\n",
       "    </tr>\n",
       "    <tr>\n",
       "      <th>5</th>\n",
       "      <td>Tuft</td>\n",
       "      <td>1.065089</td>\n",
       "      <td>1.802657</td>\n",
       "      <td>1.011122</td>\n",
       "      <td>0.441891</td>\n",
       "    </tr>\n",
       "  </tbody>\n",
       "</table>\n",
       "</div>"
      ],
      "text/plain": [
       "               state  Forskolin Abundance Pct  DMSO 12h Abundance Pct  \\\n",
       "0         Enterocyte                72.307692               63.187856   \n",
       "1    Enteroendocrine                 2.603550                2.941176   \n",
       "2          Secretory                 7.573964                5.977230   \n",
       "3               Stem                10.769231               24.288425   \n",
       "4  Stretch Signature                 5.680473                1.802657   \n",
       "5               Tuft                 1.065089                1.802657   \n",
       "\n",
       "   CFTR-inh172 Abundance Pct  DMSO 36 Abundance Pct  \n",
       "0                  57.532861              54.706142  \n",
       "1                   4.550051               3.446752  \n",
       "2                   6.167846               9.898365  \n",
       "3                  28.412538              26.557667  \n",
       "4                   2.325581               4.949183  \n",
       "5                   1.011122               0.441891  "
      ]
     },
     "execution_count": 29,
     "metadata": {},
     "output_type": "execute_result"
    }
   ],
   "source": [
    "abundance_df_abr_pct"
   ]
  },
  {
   "cell_type": "markdown",
   "metadata": {},
   "source": [
    "### Calculate Log2(% Perturbation/%Control) abundance"
   ]
  },
  {
   "cell_type": "code",
   "execution_count": 30,
   "metadata": {},
   "outputs": [],
   "source": [
    "abundance_merge_all_df['Log2(Forskolin%/DMSO%)'] = np.log2((abundance_merge_all_df['Forskolin abundance']*100)/(abundance_merge_all_df['DMSO 12 abundance']*100))"
   ]
  },
  {
   "cell_type": "code",
   "execution_count": 31,
   "metadata": {},
   "outputs": [],
   "source": [
    "abundance_merge_all_df['Log2(CFTR-inh172%/DMSO%)'] = np.log2((abundance_merge_all_df['CFTR-inh172 abundance']*100)/(abundance_merge_all_df['DMSO 36 abundance']*100))"
   ]
  },
  {
   "cell_type": "markdown",
   "metadata": {},
   "source": [
    "### Prepare dataframe for plotting"
   ]
  },
  {
   "cell_type": "code",
   "execution_count": 32,
   "metadata": {},
   "outputs": [],
   "source": [
    "abundance_merge_df_plot_final = abundance_merge_all_df[['Log2(Forskolin%/DMSO%)', \n",
    "                                                        'Log2(CFTR-inh172%/DMSO%)']]"
   ]
  },
  {
   "cell_type": "code",
   "execution_count": 33,
   "metadata": {},
   "outputs": [],
   "source": [
    "abundance_merge_df_plot_final.index = abundance_merge_all_df['state']"
   ]
  },
  {
   "cell_type": "code",
   "execution_count": 34,
   "metadata": {},
   "outputs": [],
   "source": [
    "abundance_merge_df_plot_final = abundance_merge_df_plot_final.reindex(['Stem', \n",
    "                                                              'Enterocyte', \n",
    "                                                              'Enteroendocrine', \n",
    "                                                              'Secretory', \n",
    "                                                              'Tuft', \n",
    "                                                              'Stretch Signature'])"
   ]
  },
  {
   "cell_type": "code",
   "execution_count": 35,
   "metadata": {},
   "outputs": [
    {
     "data": {
      "text/html": [
       "<div>\n",
       "<style scoped>\n",
       "    .dataframe tbody tr th:only-of-type {\n",
       "        vertical-align: middle;\n",
       "    }\n",
       "\n",
       "    .dataframe tbody tr th {\n",
       "        vertical-align: top;\n",
       "    }\n",
       "\n",
       "    .dataframe thead th {\n",
       "        text-align: right;\n",
       "    }\n",
       "</style>\n",
       "<table border=\"1\" class=\"dataframe\">\n",
       "  <thead>\n",
       "    <tr style=\"text-align: right;\">\n",
       "      <th></th>\n",
       "      <th>Log2(Forskolin%/DMSO%)</th>\n",
       "      <th>Log2(CFTR-inh172%/DMSO%)</th>\n",
       "    </tr>\n",
       "    <tr>\n",
       "      <th>state</th>\n",
       "      <th></th>\n",
       "      <th></th>\n",
       "    </tr>\n",
       "  </thead>\n",
       "  <tbody>\n",
       "    <tr>\n",
       "      <th>Stem</th>\n",
       "      <td>-1.173354</td>\n",
       "      <td>0.097399</td>\n",
       "    </tr>\n",
       "    <tr>\n",
       "      <th>Enterocyte</th>\n",
       "      <td>0.194502</td>\n",
       "      <td>0.072683</td>\n",
       "    </tr>\n",
       "    <tr>\n",
       "      <th>Enteroendocrine</th>\n",
       "      <td>-0.175913</td>\n",
       "      <td>0.400645</td>\n",
       "    </tr>\n",
       "    <tr>\n",
       "      <th>Secretory</th>\n",
       "      <td>0.341572</td>\n",
       "      <td>-0.682423</td>\n",
       "    </tr>\n",
       "    <tr>\n",
       "      <th>Tuft</th>\n",
       "      <td>-0.759151</td>\n",
       "      <td>1.194194</td>\n",
       "    </tr>\n",
       "    <tr>\n",
       "      <th>Stretch Signature</th>\n",
       "      <td>1.655887</td>\n",
       "      <td>-1.089599</td>\n",
       "    </tr>\n",
       "  </tbody>\n",
       "</table>\n",
       "</div>"
      ],
      "text/plain": [
       "                   Log2(Forskolin%/DMSO%)  Log2(CFTR-inh172%/DMSO%)\n",
       "state                                                              \n",
       "Stem                            -1.173354                  0.097399\n",
       "Enterocyte                       0.194502                  0.072683\n",
       "Enteroendocrine                 -0.175913                  0.400645\n",
       "Secretory                        0.341572                 -0.682423\n",
       "Tuft                            -0.759151                  1.194194\n",
       "Stretch Signature                1.655887                 -1.089599"
      ]
     },
     "execution_count": 35,
     "metadata": {},
     "output_type": "execute_result"
    }
   ],
   "source": [
    "abundance_merge_df_plot_final"
   ]
  },
  {
   "cell_type": "markdown",
   "metadata": {},
   "source": [
    "### Calculate the standard error for each experiment"
   ]
  },
  {
   "cell_type": "markdown",
   "metadata": {},
   "source": [
    "#### Forskolin 12 h treatment\n",
    "* N12 = # cells total in Forskolin\n",
    "* M12 = # cells total in DMSO"
   ]
  },
  {
   "cell_type": "code",
   "execution_count": 36,
   "metadata": {},
   "outputs": [],
   "source": [
    "#Calculate standard error: SE(y) = [1/ln(2)]*sqrt[ 1/n + 1/m - 1/N - 1/M ]\n",
    "N12 = adata_12_forsk.X.shape[0]\n",
    "M12 = adata_12_dmso.X.shape[0]\n",
    "\n",
    "\n",
    "SE_dfF = pd.DataFrame(columns=list(adata_12_forsk.obs['state_coarse_grain'].unique()))\n",
    "\n",
    "for state in adata_12_forsk.obs['state_coarse_grain'].unique():\n",
    "    SE_dfF[state] = [1/np.log(2)]*np.sqrt([1/(len(adata_12_forsk.obs.loc[adata_12_forsk.obs['state_coarse_grain'] == state]))\\\n",
    "                                          + 1/(len(adata_12_dmso.obs.loc[adata_12_dmso.obs['state_coarse_grain'] == state]))\\\n",
    "                                         - 1/N12 - 1/M12])\n",
    "\n",
    "SE_dfF = SE_dfF.transpose().rename(columns={0:'SE Forskolin'})"
   ]
  },
  {
   "cell_type": "markdown",
   "metadata": {},
   "source": [
    "#### CFTR-inh172 36 h treatment\n",
    "* N36 = # cells total in CFTR-inh172\n",
    "* M36 = # cells total in DMSO"
   ]
  },
  {
   "cell_type": "code",
   "execution_count": 37,
   "metadata": {},
   "outputs": [],
   "source": [
    "#Calculate standard error: SE(y) = [1/ln(2)]*sqrt[ 1/n + 1/m - 1/N - 1/M ]\n",
    "N36 = adata_36_cftr.X.shape[0]\n",
    "M36 = adata_36_dmso.X.shape[0]\n",
    "\n",
    "\n",
    "SE_dfC = pd.DataFrame(columns=list(adata_36_cftr.obs['state_coarse_grain'].unique()))\n",
    "\n",
    "for state in adata_36_cftr.obs['state_coarse_grain'].unique():\n",
    "    SE_dfC[state] = [1/np.log(2)]*np.sqrt([1/(len(adata_36_cftr.obs.loc[adata_36_cftr.obs['state_coarse_grain'] == state]))\\\n",
    "                                          + 1/(len(adata_36_dmso.obs.loc[adata_36_dmso.obs['state_coarse_grain'] == state]))\\\n",
    "                                         - 1/N36 - 1/M36])\n",
    "\n",
    "SE_dfC = SE_dfC.transpose().rename(columns={0:'SE CFTR-inh172'})"
   ]
  },
  {
   "cell_type": "code",
   "execution_count": 38,
   "metadata": {},
   "outputs": [],
   "source": [
    "SE_df=SE_dfF.merge(SE_dfC, on=SE_dfC.index).rename(columns={'key_0': 'state'})"
   ]
  },
  {
   "cell_type": "markdown",
   "metadata": {},
   "source": [
    "### Plot fold change in abundances between experiments across states - Figure 6B"
   ]
  },
  {
   "cell_type": "code",
   "execution_count": 39,
   "metadata": {
    "scrolled": true
   },
   "outputs": [
    {
     "name": "stderr",
     "output_type": "stream",
     "text": [
      "The PostScript backend does not support transparency; partially transparent artists will be rendered opaque.\n",
      "The PostScript backend does not support transparency; partially transparent artists will be rendered opaque.\n"
     ]
    },
    {
     "data": {
      "image/png": "[encoded data removed]",
      "text/plain": [
       "<Figure size 600x600 with 1 Axes>"
      ]
     },
     "metadata": {
      "image/png": {
       "height": 601,
       "width": 602
      }
     },
     "output_type": "display_data"
    }
   ],
   "source": [
    "plt.figsize=(10, 10)\n",
    "ax = abundance_merge_df_plot_final.plot.bar(color=['#7b3294', '#008837'], yerr = SE_df[['SE Forskolin', 'SE CFTR-inh172']].values.T)\n",
    "\n",
    "plt.tight_layout()\n",
    "plt.savefig(f'{plot_dir}/Abundance_FC_conditions_strict_tot_counts_perturbations.eps')"
   ]
  },
  {
   "cell_type": "markdown",
   "metadata": {},
   "source": [
    "### Calculate p-values for each state"
   ]
  },
  {
   "cell_type": "code",
   "execution_count": 40,
   "metadata": {},
   "outputs": [],
   "source": [
    "pval_dictF = {}\n",
    "\n",
    "for state in adata_12_forsk.obs['state_coarse_grain'].unique():\n",
    "    n = len(adata_12_forsk.obs.loc[adata_12_forsk.obs['state_coarse_grain'] == state])\n",
    "    m = len(adata_12_dmso.obs.loc[adata_12_dmso.obs['state_coarse_grain'] == state])\n",
    "    pval_dictF[state] = scipy.stats.fisher_exact([[n, N12-n], [m, M12-m]])[1]\n",
    "    "
   ]
  },
  {
   "cell_type": "code",
   "execution_count": 41,
   "metadata": {},
   "outputs": [],
   "source": [
    "pval_dictC = {}\n",
    "\n",
    "for state in adata_12_forsk.obs['state_coarse_grain'].unique():\n",
    "    n = len(adata_36_cftr.obs.loc[adata_36_cftr.obs['state_coarse_grain'] == state])\n",
    "    m = len(adata_36_dmso.obs.loc[adata_36_dmso.obs['state_coarse_grain'] == state])\n",
    "    pval_dictC[state] = scipy.stats.fisher_exact([[n, N36-n], [m, M36-m]])[1]"
   ]
  },
  {
   "cell_type": "code",
   "execution_count": 42,
   "metadata": {},
   "outputs": [],
   "source": [
    "pval_dfF = pd.DataFrame.from_dict(pval_dictF, orient='index').rename(columns={0:'pval Forsk'})"
   ]
  },
  {
   "cell_type": "code",
   "execution_count": 43,
   "metadata": {},
   "outputs": [],
   "source": [
    "pval_dfC = pd.DataFrame.from_dict(pval_dictC, orient='index').rename(columns={0:'pval CFTR'})"
   ]
  },
  {
   "cell_type": "code",
   "execution_count": 44,
   "metadata": {},
   "outputs": [],
   "source": [
    "pval_dfF.merge(pval_dfC, on=pval_dfC.index).rename(columns={'key_0': 'state'}).to_excel('pvals_abundance_fold_change_perturbations_strict_>1000_tot_counts.xlsx')"
   ]
  }
 ],
 "metadata": {
  "kernelspec": {
   "display_name": "Python 3",
   "language": "python",
   "name": "python3"
  },
  "language_info": {
   "codemirror_mode": {
    "name": "ipython",
    "version": 3
   },
   "file_extension": ".py",
   "mimetype": "text/x-python",
   "name": "python",
   "nbconvert_exporter": "python",
   "pygments_lexer": "ipython3",
   "version": "3.8.3"
  }
 },
 "nbformat": 4,
 "nbformat_minor": 4
}
