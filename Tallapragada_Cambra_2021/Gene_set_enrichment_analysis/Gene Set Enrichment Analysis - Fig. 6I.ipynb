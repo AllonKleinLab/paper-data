{
 "cells": [
  {
   "cell_type": "code",
   "execution_count": 1,
   "metadata": {},
   "outputs": [],
   "source": [
    "%matplotlib inline\n",
    "\n",
    "import scipy as sp\n",
    "import scipy.stats \n",
    "import pandas as pd\n",
    "import numpy as np\n",
    "import matplotlib.pyplot as plt\n",
    "import statsmodels.stats.multitest as multi"
   ]
  },
  {
   "cell_type": "markdown",
   "metadata": {},
   "source": [
    "# Gene set enrichment analysis for stretch-associated cluster"
   ]
  },
  {
   "cell_type": "markdown",
   "metadata": {},
   "source": [
    "## Load gene sets from selected papers"
   ]
  },
  {
   "cell_type": "markdown",
   "metadata": {},
   "source": [
    "### Load gene sets from Ayyaz et al., Nature 2019"
   ]
  },
  {
   "cell_type": "markdown",
   "metadata": {},
   "source": [
    "Data from:\n",
    "https://www-nature-com.ezp-prod1.hul.harvard.edu/articles/s41586-019-1154-y#Sec20"
   ]
  },
  {
   "cell_type": "code",
   "execution_count": 2,
   "metadata": {},
   "outputs": [],
   "source": [
    "workbook_name = 'Ayyaz2019_TableS3.xlsx'\n",
    "header_row = 3\n",
    "ind_col  = 0\n",
    "\n",
    "ayyaz_S3 = pd.read_excel(workbook_name, sheet_name=None, header=header_row, index_col=ind_col)\n",
    "ayyaz_S3_keys = list(ayyaz_S3.keys())\n"
   ]
  },
  {
   "cell_type": "code",
   "execution_count": 3,
   "metadata": {},
   "outputs": [],
   "source": [
    "workbook_name = 'Ayyaz2019_TableS5.xlsx'\n",
    "header_row = 3\n",
    "ind_col  = 0\n",
    "\n",
    "ayyaz_S5 = pd.read_excel(workbook_name, sheet_name=None, header=header_row, index_col=ind_col)\n",
    "ayyaz_S5_keys = list(ayyaz_S5.keys())\n"
   ]
  },
  {
   "cell_type": "markdown",
   "metadata": {},
   "source": [
    "### Load gene sets from Ayyaz et al., Nature 2019"
   ]
  },
  {
   "cell_type": "markdown",
   "metadata": {},
   "source": [
    "Data from:\n",
    "https://www-nature-com.ezp-prod1.hul.harvard.edu/articles/s41586-019-1154-y#Sec20"
   ]
  },
  {
   "cell_type": "code",
   "execution_count": 4,
   "metadata": {},
   "outputs": [],
   "source": [
    "workbook_name = 'Ayyaz2019_TableS3.xlsx'\n",
    "header_row = 3\n",
    "ind_col  = 0\n",
    "\n",
    "ayyaz_S3 = pd.read_excel(workbook_name, sheet_name=None, header=header_row, \\\n",
    "                         index_col=ind_col, dtype={'B':str})\n",
    "ayyaz_S3_keys = list(ayyaz_S3.keys())\n"
   ]
  },
  {
   "cell_type": "code",
   "execution_count": 5,
   "metadata": {},
   "outputs": [],
   "source": [
    "workbook_name = 'Ayyaz2019_TableS5.xlsx'\n",
    "header_row = 3\n",
    "ind_col  = 0\n",
    "\n",
    "ayyaz_S5 = pd.read_excel(workbook_name, sheet_name=None, header=header_row, \\\n",
    "                         index_col=ind_col, dtype={'B':str})\n",
    "ayyaz_S5_keys = list(ayyaz_S5.keys())\n"
   ]
  },
  {
   "cell_type": "markdown",
   "metadata": {},
   "source": [
    "### Load Mustata et al., 2013 Fetal gene signature - upregulated in spheroids"
   ]
  },
  {
   "cell_type": "markdown",
   "metadata": {},
   "source": [
    "Data from:\n",
    "https://www-nature-com.ezp-prod1.hul.harvard.edu/articles/s41586-018-0257-1#Sec18"
   ]
  },
  {
   "cell_type": "code",
   "execution_count": 6,
   "metadata": {},
   "outputs": [],
   "source": [
    "workbook_name = 'Mustata_et_al_2013_tables1.xlsx'\n",
    "header_row = 1\n",
    "use_sheet  = 'UP'\n",
    "#use_col    = 'Gene Symbol'\n",
    "\n",
    "mustata_gl = pd.read_excel(workbook_name, sheet_name=use_sheet, \\\n",
    "                           header=header_row,  \n",
    "                           dtype={'A':str})\n",
    "\n"
   ]
  },
  {
   "cell_type": "code",
   "execution_count": 7,
   "metadata": {},
   "outputs": [],
   "source": [
    "mustata_gl = list(mustata_gl['Gene Symbol'])"
   ]
  },
  {
   "cell_type": "markdown",
   "metadata": {},
   "source": [
    "### Load Yui et al., 2018 Fetal gene signature - shares signature with ulcerative colitis patients"
   ]
  },
  {
   "cell_type": "markdown",
   "metadata": {},
   "source": [
    "Data from: https://pubmed.ncbi.nlm.nih.gov/29249464/"
   ]
  },
  {
   "cell_type": "code",
   "execution_count": 8,
   "metadata": {},
   "outputs": [],
   "source": [
    "workbook_name = 'TableS3_yui_jensen_2018.xlsx'\n",
    "header_row = 3\n",
    "ind_col  = 0\n",
    "\n",
    "yui_S2 = pd.read_excel(workbook_name, sheet_name=None, header=header_row, \\\n",
    "                         index_col=ind_col, dtype={'B':str})\n",
    "yui_S2_keys = list(yui_S2.keys())"
   ]
  },
  {
   "cell_type": "code",
   "execution_count": 9,
   "metadata": {},
   "outputs": [],
   "source": [
    "yui_df = yui_S2['Table S2']"
   ]
  },
  {
   "cell_type": "code",
   "execution_count": 11,
   "metadata": {},
   "outputs": [],
   "source": [
    "yui_gl = []\n",
    "for gene in yui_df.loc[yui_df['CORE ENRICHMENT'] =='Yes'][0:100]['PROBE'].to_list():\n",
    "    yui_gl.append(gene.title())"
   ]
  },
  {
   "cell_type": "markdown",
   "metadata": {},
   "source": [
    "### Load Gregorieff et al., 2015 Yap regulated gene signature"
   ]
  },
  {
   "cell_type": "markdown",
   "metadata": {},
   "source": [
    "Data from: https://pubmed.ncbi.nlm.nih.gov/26503053/"
   ]
  },
  {
   "cell_type": "code",
   "execution_count": 58,
   "metadata": {},
   "outputs": [],
   "source": [
    "workbook_name = 'Gregorieff_2015_S1_Yap_regulated_gene_signature.xlsx'\n",
    "header_row = 0\n",
    "ind_col  = 0\n",
    "\n",
    "greg_S1 = pd.read_excel(workbook_name, sheet_name=None, header=header_row, index_col=ind_col)\n",
    "greg_S1_keys = list(greg_S1.keys())"
   ]
  },
  {
   "cell_type": "code",
   "execution_count": 67,
   "metadata": {},
   "outputs": [],
   "source": [
    "yap_gl = list(greg_S1['List of Yap regulated genes'].index[0:100])"
   ]
  },
  {
   "cell_type": "markdown",
   "metadata": {},
   "source": [
    "### Load Nusse et al., 2018 enriched genes in reported clusters"
   ]
  },
  {
   "cell_type": "markdown",
   "metadata": {},
   "source": [
    "Paper: https://pubmed.ncbi.nlm.nih.gov/29950724/"
   ]
  },
  {
   "cell_type": "markdown",
   "metadata": {},
   "source": [
    "GEO accession link: [GEO:GSE108233](https://www.ncbi.nlm.nih.gov/geo/query/acc.cgi?acc=GSE108233)"
   ]
  },
  {
   "cell_type": "markdown",
   "metadata": {},
   "source": [
    "#### Enriched genes were calculated for original clusters as reported in Nusse et al., 2018"
   ]
  },
  {
   "cell_type": "code",
   "execution_count": 12,
   "metadata": {},
   "outputs": [],
   "source": [
    "nusse_df = pd.read_excel('Nusse2018_cluster_enriched_top100_wilcoxranksum.xlsx')"
   ]
  },
  {
   "cell_type": "code",
   "execution_count": 13,
   "metadata": {},
   "outputs": [],
   "source": [
    "nusse_df = nusse_df.add_prefix('cluster_')"
   ]
  },
  {
   "cell_type": "code",
   "execution_count": 14,
   "metadata": {},
   "outputs": [],
   "source": [
    "del nusse_df['cluster_Unnamed: 0']"
   ]
  },
  {
   "cell_type": "code",
   "execution_count": 15,
   "metadata": {
    "scrolled": false
   },
   "outputs": [],
   "source": [
    "for col, val in nusse_df.iteritems():\n",
    "    nusse_df[col] = nusse_df[col].str.title()"
   ]
  },
  {
   "cell_type": "markdown",
   "metadata": {},
   "source": [
    "### Organize data into gene lists"
   ]
  },
  {
   "cell_type": "code",
   "execution_count": 68,
   "metadata": {},
   "outputs": [],
   "source": [
    "gene_sets = {}\n",
    "ayyaz_subset = ['Cluster#4', 'Cluster#5', 'Cluster#7', 'Cluster#8', 'Cluster#9', 'Cluster#11', 'Cluster#18']\n",
    "for key in ayyaz_subset:\n",
    "    gene_sets['Ayyaz2018_'+key] = list(ayyaz_S3[key]['gene'].values)\n",
    "\n",
    "for key in ayyaz_S5.keys():\n",
    "    if key != 'SSC2a':\n",
    "        gene_sets['Ayyaz2018_'+key] = list(ayyaz_S5[key]['gene'].values)\n",
    "\n",
    "nusse_subset = ['cluster_2','cluster_3','cluster_7', 'cluster_8', 'cluster_10', \n",
    "                'cluster_11', 'cluster_12', 'cluster_14', 'cluster_18', 'cluster_19']\n",
    "for col in nusse_subset:\n",
    "    gene_sets['Nusse2018_'+col] = list(nusse_df[col])\n",
    "\n",
    "gene_sets['Mustata2013_Fetal'] = mustata_gl\n",
    "\n",
    "gene_sets['Yui2018_Fetal'] = yui_gl\n",
    "\n",
    "gene_sets['Gregorieff2015_Yap'] = yap_gl\n",
    "\n",
    "# Capitalize for consistency:\n",
    "for key in gene_sets:\n",
    "    gene_sets[key] = [str(s).capitalize() for s in gene_sets[key]]"
   ]
  },
  {
   "cell_type": "code",
   "execution_count": 69,
   "metadata": {},
   "outputs": [
    {
     "name": "stdout",
     "output_type": "stream",
     "text": [
      "Number genes sets = 22\n",
      "Gene set names:\n",
      "    Ayyaz2018_Cluster#4\n",
      "    Ayyaz2018_Cluster#5\n",
      "    Ayyaz2018_Cluster#7\n",
      "    Ayyaz2018_Cluster#8\n",
      "    Ayyaz2018_Cluster#9\n",
      "    Ayyaz2018_Cluster#11\n",
      "    Ayyaz2018_Cluster#18\n",
      "    Ayyaz2018_SSC2b\n",
      "    Ayyaz2018_SSC2c\n",
      "    Nusse2018_cluster_2\n",
      "    Nusse2018_cluster_3\n",
      "    Nusse2018_cluster_7\n",
      "    Nusse2018_cluster_8\n",
      "    Nusse2018_cluster_10\n",
      "    Nusse2018_cluster_11\n",
      "    Nusse2018_cluster_12\n",
      "    Nusse2018_cluster_14\n",
      "    Nusse2018_cluster_18\n",
      "    Nusse2018_cluster_19\n",
      "    Mustata2013_Fetal\n",
      "    Yui2018_Fetal\n",
      "    Gregorieff2015_Yap\n"
     ]
    }
   ],
   "source": [
    "print('Number genes sets = '+str(len(gene_sets)))\n",
    "print('Gene set names:')\n",
    "for key in gene_sets.keys():\n",
    "    print('   ',key)"
   ]
  },
  {
   "cell_type": "markdown",
   "metadata": {},
   "source": [
    "## Load gene set of interest, and background gene list"
   ]
  },
  {
   "cell_type": "markdown",
   "metadata": {},
   "source": [
    "**Comment:** Background gene list could be all genes, or just list of genes that are markers of clusters in our data, or otherwise variable. By reducing the background gene list size, we weaken the statistical power of the analysis, makign a strong p-values more meaningful"
   ]
  },
  {
   "cell_type": "markdown",
   "metadata": {},
   "source": [
    "### Background gene list:"
   ]
  },
  {
   "cell_type": "code",
   "execution_count": 70,
   "metadata": {},
   "outputs": [],
   "source": [
    "# Explore multiple background gene lists\n",
    "bkgnd_gl_dict = {}"
   ]
  },
  {
   "cell_type": "markdown",
   "metadata": {},
   "source": [
    "#### Option 1:  a quite restricted list of 'marker genes' for the major cell types\n",
    "i.e. maximal in the cluster and max-to-second-max ratio of 1.3. This is very conservative."
   ]
  },
  {
   "cell_type": "code",
   "execution_count": 71,
   "metadata": {},
   "outputs": [],
   "source": [
    "bkgnd_gl_file_name = 'perturbations_mg_list_mg150.txt'\n",
    "bkgnd_gl_name = 'Marker_Genes'\n",
    "\n",
    "bkgnd_gl_df = pd.read_table(bkgnd_gl_file_name) # Load file\n",
    "bkgnd_gl    = list(bkgnd_gl_df['#Genes'].values) # Format as a list\n",
    "# Capitalize for consistency:\n",
    "bkgnd_gl_dict[bkgnd_gl_name] = [str(s).capitalize() for s in bkgnd_gl]"
   ]
  },
  {
   "cell_type": "markdown",
   "metadata": {},
   "source": [
    "#### Option 2: list of all variable genes"
   ]
  },
  {
   "cell_type": "code",
   "execution_count": 72,
   "metadata": {},
   "outputs": [],
   "source": [
    "bkgnd_gl_file_name = 'highly_variable_genes_perturbation.txt'\n",
    "bkgnd_gl_name = 'Highly_variable_genes'\n",
    "\n",
    "bkgnd_gl_df = pd.read_table(bkgnd_gl_file_name) # Load file\n",
    "bkgnd_gl    = list(bkgnd_gl_df['#Genes'].values) # Format as a list\n",
    "# Capitalize for consistency:\n",
    "bkgnd_gl_dict[bkgnd_gl_name] = [str(s).capitalize() for s in bkgnd_gl]"
   ]
  },
  {
   "cell_type": "markdown",
   "metadata": {},
   "source": [
    "#### Option 3: list of all genes (post-filter)"
   ]
  },
  {
   "cell_type": "code",
   "execution_count": 73,
   "metadata": {},
   "outputs": [],
   "source": [
    "bkgnd_gl_file_name = 'all_genes_post_filter_perturbation.txt'\n",
    "bkgnd_gl_name = 'All_genes'\n",
    "\n",
    "bkgnd_gl_df = pd.read_table(bkgnd_gl_file_name) # Load file\n",
    "bkgnd_gl    = list(bkgnd_gl_df['#Genes'].values) # Format as a list\n",
    "# Capitalize for consistency:\n",
    "bkgnd_gl_dict[bkgnd_gl_name] = [str(s).capitalize() for s in bkgnd_gl]"
   ]
  },
  {
   "cell_type": "markdown",
   "metadata": {},
   "source": [
    "### The test gene list:"
   ]
  },
  {
   "cell_type": "code",
   "execution_count": 74,
   "metadata": {},
   "outputs": [],
   "source": [
    "test_gl_file_name = 'stretch_associated_gene_list.txt'\n",
    "\n",
    "test_gl_df = pd.read_table(test_gl_file_name) # Load file\n",
    "test_gl    = list(test_gl_df['#Genes'].values) # Format as a list\n",
    "\n",
    "# Capitalize for consistency:\n",
    "test_gl = [str(s).capitalize() for s in test_gl]\n",
    "\n",
    "# Ensure that test list is encompassed by background list\n",
    "# (Hopefully unnecessary)\n",
    "bkgnd_gl =  bkgnd_gl + list(set(test_gl) - set(bkgnd_gl))"
   ]
  },
  {
   "cell_type": "markdown",
   "metadata": {},
   "source": [
    "## Set enrichment analysis (Fisher Exact test)"
   ]
  },
  {
   "cell_type": "markdown",
   "metadata": {},
   "source": [
    "### Define the set enrichment function:"
   ]
  },
  {
   "cell_type": "code",
   "execution_count": 75,
   "metadata": {},
   "outputs": [],
   "source": [
    "def set_enrichment(test_gl, reference_gl, background_gl):\n",
    "    # test_gl, reference_gl, background_gl : lists of gene names\n",
    "    \n",
    "    # Expand background list to include all genes: \n",
    "    T = set(test_gl)\n",
    "    R = set(reference_gl)\n",
    "    B = set(background_gl) | T | R # Union\n",
    "    \n",
    "    n11 = len(T & R)\n",
    "    n21 = len((B-T) & R)\n",
    "    n12 = len(T & (B-R))\n",
    "    n22 = len((B-T) & (B-R))\n",
    "    \n",
    "    # Debugging:\n",
    "    if 0:\n",
    "        print(len(T))\n",
    "        print(len(R))\n",
    "        print(len(B))\n",
    "        print([[n11, n21], [n12, n22]])\n",
    "        print(' ')\n",
    "    \n",
    "    # The test:\n",
    "    odds_ratio, p_value_gtr = sp.stats.fisher_exact([[n11, n21],[n12, n22]], \\\n",
    "                                                   alternative='greater')\n",
    "    odds_ratio, p_value_less = sp.stats.fisher_exact([[n11, n21],[n12, n22]], \\\n",
    "                                                   alternative='less')\n",
    "\n",
    "    return p_value_gtr, p_value_less, n11, n11/len(T), n11/len(R)"
   ]
  },
  {
   "cell_type": "markdown",
   "metadata": {},
   "source": [
    "### Carry out gene set enrichment:"
   ]
  },
  {
   "cell_type": "code",
   "execution_count": 76,
   "metadata": {},
   "outputs": [],
   "source": [
    "# Try all three background lists: 'All_genes', 'Highly_variable_genes', 'Marker_Genes'\n"
   ]
  },
  {
   "cell_type": "code",
   "execution_count": 77,
   "metadata": {},
   "outputs": [],
   "source": [
    "# Make multi-level columns for the dataframe:\n",
    "iterables = [list(bkgnd_gl_dict.keys()),\\\n",
    "             ['p_gtr', 'p_less','nShared','fShared_tgt','fShared_ref','fdr_gtr']]\n",
    "\n",
    "GSE_df = pd.DataFrame(index=gene_sets.keys() , \\\n",
    "                      columns=pd.MultiIndex.from_product(iterables, names=['background', 'metrics']))\n",
    "\n",
    "\n",
    "for bg_opt in bkgnd_gl_dict.keys():\n",
    "    use_bg = bkgnd_gl_dict[bg_opt]\n",
    "\n",
    "    for key in gene_sets.keys():\n",
    "        p_value_gtr, p_value_less, nShared, fShared_tgt, fShared_ref = \\\n",
    "            set_enrichment(test_gl, gene_sets[key], use_bg)\n",
    "        GSE_df.loc[key, (bg_opt,'p_gtr')] = p_value_gtr\n",
    "        GSE_df.loc[key, (bg_opt,'p_less')] = p_value_less\n",
    "        GSE_df.loc[key, (bg_opt,'nShared')] = nShared\n",
    "        GSE_df.loc[key, (bg_opt,'fShared_tgt')] = fShared_tgt\n",
    "        GSE_df.loc[key, (bg_opt,'fShared_ref')] = fShared_ref\n",
    "        \n",
    "        # Multiple hypothesis correction:\n",
    "        _, pvals_corrected, _, _, =multi.multipletests(GSE_df[(bg_opt,'p_gtr')], \\\n",
    "                                                       alpha=0.05, method='fdr_bh')\n",
    "        GSE_df.loc[:,(bg_opt,'fdr_gtr')] = list(pvals_corrected)\n",
    "    \n",
    "\n",
    "#GSE_df"
   ]
  },
  {
   "cell_type": "markdown",
   "metadata": {},
   "source": [
    "#### Output table"
   ]
  },
  {
   "cell_type": "code",
   "execution_count": 85,
   "metadata": {},
   "outputs": [],
   "source": [
    "GSE_df = GSE_df.sort_values(by=[('Highly_variable_genes','fdr_gtr')])"
   ]
  },
  {
   "cell_type": "code",
   "execution_count": 86,
   "metadata": {},
   "outputs": [
    {
     "data": {
      "text/html": [
       "<div>\n",
       "<style scoped>\n",
       "    .dataframe tbody tr th:only-of-type {\n",
       "        vertical-align: middle;\n",
       "    }\n",
       "\n",
       "    .dataframe tbody tr th {\n",
       "        vertical-align: top;\n",
       "    }\n",
       "\n",
       "    .dataframe thead tr th {\n",
       "        text-align: left;\n",
       "    }\n",
       "</style>\n",
       "<table border=\"1\" class=\"dataframe\">\n",
       "  <thead>\n",
       "    <tr>\n",
       "      <th>background</th>\n",
       "      <th colspan=\"6\" halign=\"left\">Marker_Genes</th>\n",
       "      <th colspan=\"6\" halign=\"left\">Highly_variable_genes</th>\n",
       "      <th colspan=\"6\" halign=\"left\">All_genes</th>\n",
       "    </tr>\n",
       "    <tr>\n",
       "      <th>metrics</th>\n",
       "      <th>p_gtr</th>\n",
       "      <th>p_less</th>\n",
       "      <th>nShared</th>\n",
       "      <th>fShared_tgt</th>\n",
       "      <th>fShared_ref</th>\n",
       "      <th>fdr_gtr</th>\n",
       "      <th>p_gtr</th>\n",
       "      <th>p_less</th>\n",
       "      <th>nShared</th>\n",
       "      <th>fShared_tgt</th>\n",
       "      <th>fShared_ref</th>\n",
       "      <th>fdr_gtr</th>\n",
       "      <th>p_gtr</th>\n",
       "      <th>p_less</th>\n",
       "      <th>nShared</th>\n",
       "      <th>fShared_tgt</th>\n",
       "      <th>fShared_ref</th>\n",
       "      <th>fdr_gtr</th>\n",
       "    </tr>\n",
       "  </thead>\n",
       "  <tbody>\n",
       "    <tr>\n",
       "      <th>Mustata2013_Fetal</th>\n",
       "      <td>0.28607</td>\n",
       "      <td>0.773735</td>\n",
       "      <td>55</td>\n",
       "      <td>0.366667</td>\n",
       "      <td>0.173502</td>\n",
       "      <td>1.000000</td>\n",
       "      <td>4.39045e-28</td>\n",
       "      <td>1</td>\n",
       "      <td>55</td>\n",
       "      <td>0.366667</td>\n",
       "      <td>0.173502</td>\n",
       "      <td>9.658980e-27</td>\n",
       "      <td>5.6106e-70</td>\n",
       "      <td>1</td>\n",
       "      <td>55</td>\n",
       "      <td>0.366667</td>\n",
       "      <td>0.173502</td>\n",
       "      <td>1.234332e-68</td>\n",
       "    </tr>\n",
       "    <tr>\n",
       "      <th>Ayyaz2018_SSC2c</th>\n",
       "      <td>0.000231671</td>\n",
       "      <td>0.999931</td>\n",
       "      <td>22</td>\n",
       "      <td>0.146667</td>\n",
       "      <td>0.44</td>\n",
       "      <td>0.005097</td>\n",
       "      <td>1.89692e-20</td>\n",
       "      <td>1</td>\n",
       "      <td>22</td>\n",
       "      <td>0.146667</td>\n",
       "      <td>0.44</td>\n",
       "      <td>2.086612e-19</td>\n",
       "      <td>5.04026e-38</td>\n",
       "      <td>1</td>\n",
       "      <td>22</td>\n",
       "      <td>0.146667</td>\n",
       "      <td>0.44</td>\n",
       "      <td>5.544281e-37</td>\n",
       "    </tr>\n",
       "    <tr>\n",
       "      <th>Ayyaz2018_Cluster#18</th>\n",
       "      <td>0.0512584</td>\n",
       "      <td>0.975057</td>\n",
       "      <td>16</td>\n",
       "      <td>0.106667</td>\n",
       "      <td>0.32</td>\n",
       "      <td>0.563843</td>\n",
       "      <td>1.4031e-12</td>\n",
       "      <td>1</td>\n",
       "      <td>16</td>\n",
       "      <td>0.106667</td>\n",
       "      <td>0.32</td>\n",
       "      <td>1.028939e-11</td>\n",
       "      <td>3.51981e-25</td>\n",
       "      <td>1</td>\n",
       "      <td>16</td>\n",
       "      <td>0.106667</td>\n",
       "      <td>0.32</td>\n",
       "      <td>1.548717e-24</td>\n",
       "    </tr>\n",
       "    <tr>\n",
       "      <th>Nusse2018_cluster_19</th>\n",
       "      <td>0.47662</td>\n",
       "      <td>0.62693</td>\n",
       "      <td>21</td>\n",
       "      <td>0.14</td>\n",
       "      <td>0.21</td>\n",
       "      <td>1.000000</td>\n",
       "      <td>3.17097e-12</td>\n",
       "      <td>1</td>\n",
       "      <td>21</td>\n",
       "      <td>0.14</td>\n",
       "      <td>0.21</td>\n",
       "      <td>1.744034e-11</td>\n",
       "      <td>2.1431e-28</td>\n",
       "      <td>1</td>\n",
       "      <td>21</td>\n",
       "      <td>0.14</td>\n",
       "      <td>0.21</td>\n",
       "      <td>1.571609e-27</td>\n",
       "    </tr>\n",
       "    <tr>\n",
       "      <th>Nusse2018_cluster_12</th>\n",
       "      <td>0.603033</td>\n",
       "      <td>0.502544</td>\n",
       "      <td>20</td>\n",
       "      <td>0.133333</td>\n",
       "      <td>0.2</td>\n",
       "      <td>1.000000</td>\n",
       "      <td>2.81058e-11</td>\n",
       "      <td>1</td>\n",
       "      <td>20</td>\n",
       "      <td>0.133333</td>\n",
       "      <td>0.2</td>\n",
       "      <td>1.236654e-10</td>\n",
       "      <td>1.27436e-26</td>\n",
       "      <td>1</td>\n",
       "      <td>20</td>\n",
       "      <td>0.133333</td>\n",
       "      <td>0.2</td>\n",
       "      <td>7.009004e-26</td>\n",
       "    </tr>\n",
       "    <tr>\n",
       "      <th>Gregorieff2015_Yap</th>\n",
       "      <td>0.749938</td>\n",
       "      <td>0.34456</td>\n",
       "      <td>18</td>\n",
       "      <td>0.12</td>\n",
       "      <td>0.18</td>\n",
       "      <td>1.000000</td>\n",
       "      <td>1.78822e-09</td>\n",
       "      <td>1</td>\n",
       "      <td>18</td>\n",
       "      <td>0.12</td>\n",
       "      <td>0.18</td>\n",
       "      <td>6.556793e-09</td>\n",
       "      <td>3.62987e-23</td>\n",
       "      <td>1</td>\n",
       "      <td>18</td>\n",
       "      <td>0.12</td>\n",
       "      <td>0.18</td>\n",
       "      <td>1.330951e-22</td>\n",
       "    </tr>\n",
       "    <tr>\n",
       "      <th>Ayyaz2018_Cluster#5</th>\n",
       "      <td>0.880602</td>\n",
       "      <td>0.212817</td>\n",
       "      <td>8</td>\n",
       "      <td>0.0533333</td>\n",
       "      <td>0.16</td>\n",
       "      <td>1.000000</td>\n",
       "      <td>0.000179005</td>\n",
       "      <td>0.999974</td>\n",
       "      <td>8</td>\n",
       "      <td>0.0533333</td>\n",
       "      <td>0.16</td>\n",
       "      <td>5.625869e-04</td>\n",
       "      <td>1.61333e-10</td>\n",
       "      <td>1</td>\n",
       "      <td>8</td>\n",
       "      <td>0.0533333</td>\n",
       "      <td>0.16</td>\n",
       "      <td>5.070479e-10</td>\n",
       "    </tr>\n",
       "    <tr>\n",
       "      <th>Ayyaz2018_SSC2b</th>\n",
       "      <td>0.939496</td>\n",
       "      <td>0.123706</td>\n",
       "      <td>7</td>\n",
       "      <td>0.0466667</td>\n",
       "      <td>0.14</td>\n",
       "      <td>1.000000</td>\n",
       "      <td>0.00103644</td>\n",
       "      <td>0.999824</td>\n",
       "      <td>7</td>\n",
       "      <td>0.0466667</td>\n",
       "      <td>0.14</td>\n",
       "      <td>2.850197e-03</td>\n",
       "      <td>6.1907e-09</td>\n",
       "      <td>1</td>\n",
       "      <td>7</td>\n",
       "      <td>0.0466667</td>\n",
       "      <td>0.14</td>\n",
       "      <td>1.361953e-08</td>\n",
       "    </tr>\n",
       "    <tr>\n",
       "      <th>Nusse2018_cluster_8</th>\n",
       "      <td>0.999806</td>\n",
       "      <td>0.000623428</td>\n",
       "      <td>9</td>\n",
       "      <td>0.06</td>\n",
       "      <td>0.09</td>\n",
       "      <td>1.000000</td>\n",
       "      <td>0.00473774</td>\n",
       "      <td>0.998669</td>\n",
       "      <td>9</td>\n",
       "      <td>0.06</td>\n",
       "      <td>0.09</td>\n",
       "      <td>1.042302e-02</td>\n",
       "      <td>2.21873e-09</td>\n",
       "      <td>1</td>\n",
       "      <td>9</td>\n",
       "      <td>0.06</td>\n",
       "      <td>0.09</td>\n",
       "      <td>5.428292e-09</td>\n",
       "    </tr>\n",
       "    <tr>\n",
       "      <th>Nusse2018_cluster_2</th>\n",
       "      <td>0.999638</td>\n",
       "      <td>0.00111135</td>\n",
       "      <td>9</td>\n",
       "      <td>0.06</td>\n",
       "      <td>0.09</td>\n",
       "      <td>1.000000</td>\n",
       "      <td>0.00472451</td>\n",
       "      <td>0.998673</td>\n",
       "      <td>9</td>\n",
       "      <td>0.06</td>\n",
       "      <td>0.09</td>\n",
       "      <td>1.042302e-02</td>\n",
       "      <td>2.22066e-09</td>\n",
       "      <td>1</td>\n",
       "      <td>9</td>\n",
       "      <td>0.06</td>\n",
       "      <td>0.09</td>\n",
       "      <td>5.428292e-09</td>\n",
       "    </tr>\n",
       "    <tr>\n",
       "      <th>Yui2018_Fetal</th>\n",
       "      <td>0.999847</td>\n",
       "      <td>0.000519605</td>\n",
       "      <td>8</td>\n",
       "      <td>0.0533333</td>\n",
       "      <td>0.08</td>\n",
       "      <td>1.000000</td>\n",
       "      <td>0.014974</td>\n",
       "      <td>0.995289</td>\n",
       "      <td>8</td>\n",
       "      <td>0.0533333</td>\n",
       "      <td>0.08</td>\n",
       "      <td>2.994805e-02</td>\n",
       "      <td>4.51651e-08</td>\n",
       "      <td>1</td>\n",
       "      <td>8</td>\n",
       "      <td>0.0533333</td>\n",
       "      <td>0.08</td>\n",
       "      <td>9.033012e-08</td>\n",
       "    </tr>\n",
       "    <tr>\n",
       "      <th>Ayyaz2018_Cluster#4</th>\n",
       "      <td>0.998098</td>\n",
       "      <td>0.00727451</td>\n",
       "      <td>4</td>\n",
       "      <td>0.0266667</td>\n",
       "      <td>0.08</td>\n",
       "      <td>1.000000</td>\n",
       "      <td>0.0798938</td>\n",
       "      <td>0.977112</td>\n",
       "      <td>4</td>\n",
       "      <td>0.0266667</td>\n",
       "      <td>0.08</td>\n",
       "      <td>1.352048e-01</td>\n",
       "      <td>0.000121662</td>\n",
       "      <td>0.999994</td>\n",
       "      <td>4</td>\n",
       "      <td>0.0266667</td>\n",
       "      <td>0.08</td>\n",
       "      <td>1.784376e-04</td>\n",
       "    </tr>\n",
       "    <tr>\n",
       "      <th>Ayyaz2018_Cluster#11</th>\n",
       "      <td>0.997872</td>\n",
       "      <td>0.00803599</td>\n",
       "      <td>4</td>\n",
       "      <td>0.0266667</td>\n",
       "      <td>0.08</td>\n",
       "      <td>1.000000</td>\n",
       "      <td>0.0796451</td>\n",
       "      <td>0.977207</td>\n",
       "      <td>4</td>\n",
       "      <td>0.0266667</td>\n",
       "      <td>0.08</td>\n",
       "      <td>1.352048e-01</td>\n",
       "      <td>0.000121615</td>\n",
       "      <td>0.999994</td>\n",
       "      <td>4</td>\n",
       "      <td>0.0266667</td>\n",
       "      <td>0.08</td>\n",
       "      <td>1.784376e-04</td>\n",
       "    </tr>\n",
       "    <tr>\n",
       "      <th>Nusse2018_cluster_7</th>\n",
       "      <td>0.999996</td>\n",
       "      <td>1.90509e-05</td>\n",
       "      <td>6</td>\n",
       "      <td>0.04</td>\n",
       "      <td>0.06</td>\n",
       "      <td>1.000000</td>\n",
       "      <td>0.103203</td>\n",
       "      <td>0.958179</td>\n",
       "      <td>6</td>\n",
       "      <td>0.04</td>\n",
       "      <td>0.06</td>\n",
       "      <td>1.517144e-01</td>\n",
       "      <td>1.23204e-05</td>\n",
       "      <td>0.999999</td>\n",
       "      <td>6</td>\n",
       "      <td>0.04</td>\n",
       "      <td>0.06</td>\n",
       "      <td>2.086175e-05</td>\n",
       "    </tr>\n",
       "    <tr>\n",
       "      <th>Nusse2018_cluster_3</th>\n",
       "      <td>0.999995</td>\n",
       "      <td>2.47513e-05</td>\n",
       "      <td>6</td>\n",
       "      <td>0.04</td>\n",
       "      <td>0.06</td>\n",
       "      <td>1.000000</td>\n",
       "      <td>0.103442</td>\n",
       "      <td>0.958057</td>\n",
       "      <td>6</td>\n",
       "      <td>0.04</td>\n",
       "      <td>0.06</td>\n",
       "      <td>1.517144e-01</td>\n",
       "      <td>1.23274e-05</td>\n",
       "      <td>0.999999</td>\n",
       "      <td>6</td>\n",
       "      <td>0.04</td>\n",
       "      <td>0.06</td>\n",
       "      <td>2.086175e-05</td>\n",
       "    </tr>\n",
       "    <tr>\n",
       "      <th>Ayyaz2018_Cluster#9</th>\n",
       "      <td>0.999672</td>\n",
       "      <td>0.00172362</td>\n",
       "      <td>3</td>\n",
       "      <td>0.02</td>\n",
       "      <td>0.06</td>\n",
       "      <td>1.000000</td>\n",
       "      <td>0.224387</td>\n",
       "      <td>0.920156</td>\n",
       "      <td>3</td>\n",
       "      <td>0.02</td>\n",
       "      <td>0.06</td>\n",
       "      <td>2.598170e-01</td>\n",
       "      <td>0.00209883</td>\n",
       "      <td>0.999878</td>\n",
       "      <td>3</td>\n",
       "      <td>0.02</td>\n",
       "      <td>0.06</td>\n",
       "      <td>2.098826e-03</td>\n",
       "    </tr>\n",
       "    <tr>\n",
       "      <th>Nusse2018_cluster_14</th>\n",
       "      <td>0.999999</td>\n",
       "      <td>3.75854e-06</td>\n",
       "      <td>5</td>\n",
       "      <td>0.0333333</td>\n",
       "      <td>0.05</td>\n",
       "      <td>1.000000</td>\n",
       "      <td>0.220971</td>\n",
       "      <td>0.896717</td>\n",
       "      <td>5</td>\n",
       "      <td>0.0333333</td>\n",
       "      <td>0.05</td>\n",
       "      <td>2.598170e-01</td>\n",
       "      <td>0.000159617</td>\n",
       "      <td>0.999988</td>\n",
       "      <td>5</td>\n",
       "      <td>0.0333333</td>\n",
       "      <td>0.05</td>\n",
       "      <td>2.194734e-04</td>\n",
       "    </tr>\n",
       "    <tr>\n",
       "      <th>Ayyaz2018_Cluster#8</th>\n",
       "      <td>0.999507</td>\n",
       "      <td>0.00248534</td>\n",
       "      <td>3</td>\n",
       "      <td>0.02</td>\n",
       "      <td>0.06</td>\n",
       "      <td>1.000000</td>\n",
       "      <td>0.22382</td>\n",
       "      <td>0.920454</td>\n",
       "      <td>3</td>\n",
       "      <td>0.02</td>\n",
       "      <td>0.06</td>\n",
       "      <td>2.598170e-01</td>\n",
       "      <td>0.00209863</td>\n",
       "      <td>0.999878</td>\n",
       "      <td>3</td>\n",
       "      <td>0.02</td>\n",
       "      <td>0.06</td>\n",
       "      <td>2.098826e-03</td>\n",
       "    </tr>\n",
       "    <tr>\n",
       "      <th>Ayyaz2018_Cluster#7</th>\n",
       "      <td>0.99949</td>\n",
       "      <td>0.00256187</td>\n",
       "      <td>3</td>\n",
       "      <td>0.02</td>\n",
       "      <td>0.06</td>\n",
       "      <td>1.000000</td>\n",
       "      <td>0.223631</td>\n",
       "      <td>0.920553</td>\n",
       "      <td>3</td>\n",
       "      <td>0.02</td>\n",
       "      <td>0.06</td>\n",
       "      <td>2.598170e-01</td>\n",
       "      <td>0.00209883</td>\n",
       "      <td>0.999878</td>\n",
       "      <td>3</td>\n",
       "      <td>0.02</td>\n",
       "      <td>0.06</td>\n",
       "      <td>2.098826e-03</td>\n",
       "    </tr>\n",
       "    <tr>\n",
       "      <th>Nusse2018_cluster_10</th>\n",
       "      <td>1</td>\n",
       "      <td>6.263e-07</td>\n",
       "      <td>4</td>\n",
       "      <td>0.0266667</td>\n",
       "      <td>0.04</td>\n",
       "      <td>1.000000</td>\n",
       "      <td>0.411219</td>\n",
       "      <td>0.774545</td>\n",
       "      <td>4</td>\n",
       "      <td>0.0266667</td>\n",
       "      <td>0.04</td>\n",
       "      <td>4.112191e-01</td>\n",
       "      <td>0.00170247</td>\n",
       "      <td>0.99984</td>\n",
       "      <td>4</td>\n",
       "      <td>0.0266667</td>\n",
       "      <td>0.04</td>\n",
       "      <td>1.971280e-03</td>\n",
       "    </tr>\n",
       "    <tr>\n",
       "      <th>Nusse2018_cluster_11</th>\n",
       "      <td>1</td>\n",
       "      <td>7.90055e-07</td>\n",
       "      <td>4</td>\n",
       "      <td>0.0266667</td>\n",
       "      <td>0.04</td>\n",
       "      <td>1.000000</td>\n",
       "      <td>0.408807</td>\n",
       "      <td>0.776479</td>\n",
       "      <td>4</td>\n",
       "      <td>0.0266667</td>\n",
       "      <td>0.04</td>\n",
       "      <td>4.112191e-01</td>\n",
       "      <td>0.00170226</td>\n",
       "      <td>0.99984</td>\n",
       "      <td>4</td>\n",
       "      <td>0.0266667</td>\n",
       "      <td>0.04</td>\n",
       "      <td>1.971280e-03</td>\n",
       "    </tr>\n",
       "    <tr>\n",
       "      <th>Nusse2018_cluster_18</th>\n",
       "      <td>1</td>\n",
       "      <td>6.263e-07</td>\n",
       "      <td>4</td>\n",
       "      <td>0.0266667</td>\n",
       "      <td>0.04</td>\n",
       "      <td>1.000000</td>\n",
       "      <td>0.405296</td>\n",
       "      <td>0.779283</td>\n",
       "      <td>4</td>\n",
       "      <td>0.0266667</td>\n",
       "      <td>0.04</td>\n",
       "      <td>4.112191e-01</td>\n",
       "      <td>0.00170226</td>\n",
       "      <td>0.99984</td>\n",
       "      <td>4</td>\n",
       "      <td>0.0266667</td>\n",
       "      <td>0.04</td>\n",
       "      <td>1.971280e-03</td>\n",
       "    </tr>\n",
       "  </tbody>\n",
       "</table>\n",
       "</div>"
      ],
      "text/plain": [
       "background           Marker_Genes                                   \\\n",
       "metrics                     p_gtr       p_less nShared fShared_tgt   \n",
       "Mustata2013_Fetal         0.28607     0.773735      55    0.366667   \n",
       "Ayyaz2018_SSC2c       0.000231671     0.999931      22    0.146667   \n",
       "Ayyaz2018_Cluster#18    0.0512584     0.975057      16    0.106667   \n",
       "Nusse2018_cluster_19      0.47662      0.62693      21        0.14   \n",
       "Nusse2018_cluster_12     0.603033     0.502544      20    0.133333   \n",
       "Gregorieff2015_Yap       0.749938      0.34456      18        0.12   \n",
       "Ayyaz2018_Cluster#5      0.880602     0.212817       8   0.0533333   \n",
       "Ayyaz2018_SSC2b          0.939496     0.123706       7   0.0466667   \n",
       "Nusse2018_cluster_8      0.999806  0.000623428       9        0.06   \n",
       "Nusse2018_cluster_2      0.999638   0.00111135       9        0.06   \n",
       "Yui2018_Fetal            0.999847  0.000519605       8   0.0533333   \n",
       "Ayyaz2018_Cluster#4      0.998098   0.00727451       4   0.0266667   \n",
       "Ayyaz2018_Cluster#11     0.997872   0.00803599       4   0.0266667   \n",
       "Nusse2018_cluster_7      0.999996  1.90509e-05       6        0.04   \n",
       "Nusse2018_cluster_3      0.999995  2.47513e-05       6        0.04   \n",
       "Ayyaz2018_Cluster#9      0.999672   0.00172362       3        0.02   \n",
       "Nusse2018_cluster_14     0.999999  3.75854e-06       5   0.0333333   \n",
       "Ayyaz2018_Cluster#8      0.999507   0.00248534       3        0.02   \n",
       "Ayyaz2018_Cluster#7       0.99949   0.00256187       3        0.02   \n",
       "Nusse2018_cluster_10            1    6.263e-07       4   0.0266667   \n",
       "Nusse2018_cluster_11            1  7.90055e-07       4   0.0266667   \n",
       "Nusse2018_cluster_18            1    6.263e-07       4   0.0266667   \n",
       "\n",
       "background                                 Highly_variable_genes            \\\n",
       "metrics              fShared_ref   fdr_gtr                 p_gtr    p_less   \n",
       "Mustata2013_Fetal       0.173502  1.000000           4.39045e-28         1   \n",
       "Ayyaz2018_SSC2c             0.44  0.005097           1.89692e-20         1   \n",
       "Ayyaz2018_Cluster#18        0.32  0.563843            1.4031e-12         1   \n",
       "Nusse2018_cluster_19        0.21  1.000000           3.17097e-12         1   \n",
       "Nusse2018_cluster_12         0.2  1.000000           2.81058e-11         1   \n",
       "Gregorieff2015_Yap          0.18  1.000000           1.78822e-09         1   \n",
       "Ayyaz2018_Cluster#5         0.16  1.000000           0.000179005  0.999974   \n",
       "Ayyaz2018_SSC2b             0.14  1.000000            0.00103644  0.999824   \n",
       "Nusse2018_cluster_8         0.09  1.000000            0.00473774  0.998669   \n",
       "Nusse2018_cluster_2         0.09  1.000000            0.00472451  0.998673   \n",
       "Yui2018_Fetal               0.08  1.000000              0.014974  0.995289   \n",
       "Ayyaz2018_Cluster#4         0.08  1.000000             0.0798938  0.977112   \n",
       "Ayyaz2018_Cluster#11        0.08  1.000000             0.0796451  0.977207   \n",
       "Nusse2018_cluster_7         0.06  1.000000              0.103203  0.958179   \n",
       "Nusse2018_cluster_3         0.06  1.000000              0.103442  0.958057   \n",
       "Ayyaz2018_Cluster#9         0.06  1.000000              0.224387  0.920156   \n",
       "Nusse2018_cluster_14        0.05  1.000000              0.220971  0.896717   \n",
       "Ayyaz2018_Cluster#8         0.06  1.000000               0.22382  0.920454   \n",
       "Ayyaz2018_Cluster#7         0.06  1.000000              0.223631  0.920553   \n",
       "Nusse2018_cluster_10        0.04  1.000000              0.411219  0.774545   \n",
       "Nusse2018_cluster_11        0.04  1.000000              0.408807  0.776479   \n",
       "Nusse2018_cluster_18        0.04  1.000000              0.405296  0.779283   \n",
       "\n",
       "background                                                          \\\n",
       "metrics              nShared fShared_tgt fShared_ref       fdr_gtr   \n",
       "Mustata2013_Fetal         55    0.366667    0.173502  9.658980e-27   \n",
       "Ayyaz2018_SSC2c           22    0.146667        0.44  2.086612e-19   \n",
       "Ayyaz2018_Cluster#18      16    0.106667        0.32  1.028939e-11   \n",
       "Nusse2018_cluster_19      21        0.14        0.21  1.744034e-11   \n",
       "Nusse2018_cluster_12      20    0.133333         0.2  1.236654e-10   \n",
       "Gregorieff2015_Yap        18        0.12        0.18  6.556793e-09   \n",
       "Ayyaz2018_Cluster#5        8   0.0533333        0.16  5.625869e-04   \n",
       "Ayyaz2018_SSC2b            7   0.0466667        0.14  2.850197e-03   \n",
       "Nusse2018_cluster_8        9        0.06        0.09  1.042302e-02   \n",
       "Nusse2018_cluster_2        9        0.06        0.09  1.042302e-02   \n",
       "Yui2018_Fetal              8   0.0533333        0.08  2.994805e-02   \n",
       "Ayyaz2018_Cluster#4        4   0.0266667        0.08  1.352048e-01   \n",
       "Ayyaz2018_Cluster#11       4   0.0266667        0.08  1.352048e-01   \n",
       "Nusse2018_cluster_7        6        0.04        0.06  1.517144e-01   \n",
       "Nusse2018_cluster_3        6        0.04        0.06  1.517144e-01   \n",
       "Ayyaz2018_Cluster#9        3        0.02        0.06  2.598170e-01   \n",
       "Nusse2018_cluster_14       5   0.0333333        0.05  2.598170e-01   \n",
       "Ayyaz2018_Cluster#8        3        0.02        0.06  2.598170e-01   \n",
       "Ayyaz2018_Cluster#7        3        0.02        0.06  2.598170e-01   \n",
       "Nusse2018_cluster_10       4   0.0266667        0.04  4.112191e-01   \n",
       "Nusse2018_cluster_11       4   0.0266667        0.04  4.112191e-01   \n",
       "Nusse2018_cluster_18       4   0.0266667        0.04  4.112191e-01   \n",
       "\n",
       "background              All_genes                                            \\\n",
       "metrics                     p_gtr    p_less nShared fShared_tgt fShared_ref   \n",
       "Mustata2013_Fetal      5.6106e-70         1      55    0.366667    0.173502   \n",
       "Ayyaz2018_SSC2c       5.04026e-38         1      22    0.146667        0.44   \n",
       "Ayyaz2018_Cluster#18  3.51981e-25         1      16    0.106667        0.32   \n",
       "Nusse2018_cluster_19   2.1431e-28         1      21        0.14        0.21   \n",
       "Nusse2018_cluster_12  1.27436e-26         1      20    0.133333         0.2   \n",
       "Gregorieff2015_Yap    3.62987e-23         1      18        0.12        0.18   \n",
       "Ayyaz2018_Cluster#5   1.61333e-10         1       8   0.0533333        0.16   \n",
       "Ayyaz2018_SSC2b        6.1907e-09         1       7   0.0466667        0.14   \n",
       "Nusse2018_cluster_8   2.21873e-09         1       9        0.06        0.09   \n",
       "Nusse2018_cluster_2   2.22066e-09         1       9        0.06        0.09   \n",
       "Yui2018_Fetal         4.51651e-08         1       8   0.0533333        0.08   \n",
       "Ayyaz2018_Cluster#4   0.000121662  0.999994       4   0.0266667        0.08   \n",
       "Ayyaz2018_Cluster#11  0.000121615  0.999994       4   0.0266667        0.08   \n",
       "Nusse2018_cluster_7   1.23204e-05  0.999999       6        0.04        0.06   \n",
       "Nusse2018_cluster_3   1.23274e-05  0.999999       6        0.04        0.06   \n",
       "Ayyaz2018_Cluster#9    0.00209883  0.999878       3        0.02        0.06   \n",
       "Nusse2018_cluster_14  0.000159617  0.999988       5   0.0333333        0.05   \n",
       "Ayyaz2018_Cluster#8    0.00209863  0.999878       3        0.02        0.06   \n",
       "Ayyaz2018_Cluster#7    0.00209883  0.999878       3        0.02        0.06   \n",
       "Nusse2018_cluster_10   0.00170247   0.99984       4   0.0266667        0.04   \n",
       "Nusse2018_cluster_11   0.00170226   0.99984       4   0.0266667        0.04   \n",
       "Nusse2018_cluster_18   0.00170226   0.99984       4   0.0266667        0.04   \n",
       "\n",
       "background                          \n",
       "metrics                    fdr_gtr  \n",
       "Mustata2013_Fetal     1.234332e-68  \n",
       "Ayyaz2018_SSC2c       5.544281e-37  \n",
       "Ayyaz2018_Cluster#18  1.548717e-24  \n",
       "Nusse2018_cluster_19  1.571609e-27  \n",
       "Nusse2018_cluster_12  7.009004e-26  \n",
       "Gregorieff2015_Yap    1.330951e-22  \n",
       "Ayyaz2018_Cluster#5   5.070479e-10  \n",
       "Ayyaz2018_SSC2b       1.361953e-08  \n",
       "Nusse2018_cluster_8   5.428292e-09  \n",
       "Nusse2018_cluster_2   5.428292e-09  \n",
       "Yui2018_Fetal         9.033012e-08  \n",
       "Ayyaz2018_Cluster#4   1.784376e-04  \n",
       "Ayyaz2018_Cluster#11  1.784376e-04  \n",
       "Nusse2018_cluster_7   2.086175e-05  \n",
       "Nusse2018_cluster_3   2.086175e-05  \n",
       "Ayyaz2018_Cluster#9   2.098826e-03  \n",
       "Nusse2018_cluster_14  2.194734e-04  \n",
       "Ayyaz2018_Cluster#8   2.098826e-03  \n",
       "Ayyaz2018_Cluster#7   2.098826e-03  \n",
       "Nusse2018_cluster_10  1.971280e-03  \n",
       "Nusse2018_cluster_11  1.971280e-03  \n",
       "Nusse2018_cluster_18  1.971280e-03  "
      ]
     },
     "execution_count": 86,
     "metadata": {},
     "output_type": "execute_result"
    }
   ],
   "source": [
    "GSE_df"
   ]
  },
  {
   "cell_type": "markdown",
   "metadata": {},
   "source": [
    "## Plot results"
   ]
  },
  {
   "cell_type": "code",
   "execution_count": 87,
   "metadata": {},
   "outputs": [
    {
     "data": {
      "image/png": "[encoded data removed]",
      "text/plain": [
       "<Figure size 1440x1440 with 1 Axes>"
      ]
     },
     "metadata": {
      "needs_background": "light"
     },
     "output_type": "display_data"
    }
   ],
   "source": [
    "y1 = -np.log10(GSE_df[('All_genes','fdr_gtr')].sort_values())\n",
    "y2 = -np.log10(GSE_df[('Highly_variable_genes','fdr_gtr')].sort_values())\n",
    "y3 = -np.log10(GSE_df[('Marker_Genes','fdr_gtr')].sort_values())\n",
    "\n",
    "ind = np.arange(len(y1))\n",
    "width = 0.5\n",
    "\n",
    "fig, ax = plt.subplots(figsize=(20, 20))\n",
    "#ax.barh(ind, y1, width, color='red', label='All_genes')\n",
    "ax.barh(ind, y3, width, color='black', label='Background = marker genes')\n",
    "ax.barh(ind + width, y2, width, color='grey', label='Background = all highly variable genes')\n",
    "#ax.barh(ind + 2*width, y3, width, color='blue', label='Marker_Genes')\n",
    "\n",
    "ax.set(yticks=ind+width , yticklabels=list(GSE_df.index) , ylim=[2*width - 1, len(y1)])\n",
    "ax.legend()\n",
    "ax.set(xlim=[0, 30],xticks=np.arange(0,31,5))\n",
    "plt.xlabel('-log10(p-value), FDR corrected', fontsize=20)\n",
    "plt.ylabel('Gene set', fontsize=20)\n",
    "\n",
    "#plt.savefig('')\n",
    "\n",
    "plt.show()"
   ]
  },
  {
   "cell_type": "code",
   "execution_count": 89,
   "metadata": {},
   "outputs": [
    {
     "data": {
      "image/png": "[encoded data removed]",
      "text/plain": [
       "<Figure size 1440x1440 with 1 Axes>"
      ]
     },
     "metadata": {
      "needs_background": "light"
     },
     "output_type": "display_data"
    }
   ],
   "source": [
    "fig, ax = plt.subplots(figsize=(20, 20))\n",
    "\n",
    "\n",
    "\n",
    "ind = np.arange(len(y2))\n",
    "plt.barh(ind, y2, 0.9, color='grey')\n",
    "#ax.barh(ind + 2*width, y3, width, color='blue', label='Marker_Genes')\n",
    "\n",
    "ax.set(yticks=ind,yticklabels=list(GSE_df.index))\n",
    "plt.ylim=[-1, len(y1)]\n",
    "plt.xlim=[0, 20]\n",
    "plt.xticks=np.arange(0,21,5)\n",
    "\n",
    "plt.xlabel('-log10(p-value), FDR corrected', fontsize=20)\n",
    "plt.ylabel('Gene set', fontsize=20)\n",
    "\n",
    "#plt.legend()\n",
    "\n",
    "plt.tight_layout()\n",
    "plt.savefig('GSEA_stretch_signature_genes_barplot_ayyaz_gregorieff_mustata_nusse_yui.eps', transparent=True)\n",
    "\n",
    "plt.show()"
   ]
  }
 ],
 "metadata": {
  "kernelspec": {
   "display_name": "Python 3",
   "language": "python",
   "name": "python3"
  },
  "language_info": {
   "codemirror_mode": {
    "name": "ipython",
    "version": 3
   },
   "file_extension": ".py",
   "mimetype": "text/x-python",
   "name": "python",
   "nbconvert_exporter": "python",
   "pygments_lexer": "ipython3",
   "version": "3.8.3"
  }
 },
 "nbformat": 4,
 "nbformat_minor": 4
}
