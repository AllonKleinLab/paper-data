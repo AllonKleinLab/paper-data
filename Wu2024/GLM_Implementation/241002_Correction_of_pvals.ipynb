{
 "cells": [
  {
   "cell_type": "code",
   "execution_count": 9,
   "id": "487cde81-5a9b-4832-a743-1d6462b2cffe",
   "metadata": {},
   "outputs": [
    {
     "name": "stdout",
     "output_type": "stream",
     "text": [
      "Corrected results saved for EEP to adj_pval_results/241002_GLM_Updated_results_EEP_corrected.csv\n",
      "Corrected results saved for CEP-1 to adj_pval_results/241002_GLM_Updated_results_CEP-1_corrected.csv\n",
      "Corrected results saved for CEP-2 to adj_pval_results/241002_GLM_Updated_results_CEP-2_corrected.csv\n"
     ]
    }
   ],
   "source": [
    "import pandas as pd\n",
    "from statsmodels.stats.multitest import multipletests\n",
    "import os as os\n",
    "# Define the cell states\n",
    "cellstates = ['EEP', 'CEP-1', 'CEP-2']\n",
    "\n",
    "folder_name = 'adj_pval_results/'\n",
    "if not os.path.exists(folder_name):\n",
    "    os.mkdir(folder_name)\n",
    "\n",
    "# Iterate over each cell state and apply multiple hypothesis correction\n",
    "for cell_state in cellstates:\n",
    "    # Load the corresponding CSV file for each cell state\n",
    "    file_name = f'241002_GLM_Updated_results_{cell_state}.csv'\n",
    "    results_df = pd.read_csv(file_name)\n",
    "\n",
    "    # Collect all LRT p-values across all comparisons (columns that contain 'lrt_pval')\n",
    "    lrt_pval_columns = [col for col in results_df.columns if 'lrt_pval' in col]\n",
    "\n",
    "    # Flatten all LRT p-values into a single list\n",
    "    all_pvals = results_df[lrt_pval_columns].values.flatten()\n",
    "\n",
    "    # Remove NaN values from the list\n",
    "    all_pvals = all_pvals[~pd.isna(all_pvals)]\n",
    "\n",
    "    # Apply Benjamini-Hochberg correction across all comparisons and all p-values\n",
    "    _, pvals_corrected, _, _ = multipletests(all_pvals, method='fdr_bh')\n",
    "\n",
    "    # Reshape the corrected p-values back into the same shape as the original DataFrame\n",
    "    corrected_pvals = pd.Series(pvals_corrected).values.reshape(results_df[lrt_pval_columns].shape)\n",
    "\n",
    "    # Assign the corrected p-values back to the corresponding columns in the DataFrame\n",
    "    for i, col in enumerate(lrt_pval_columns):\n",
    "        results_df[f'{col}_corrected'] = corrected_pvals[:, i]\n",
    "\n",
    "    # Save the corrected results back to a CSV file\n",
    "    corrected_file_name = f'{folder_name}241002_GLM_Updated_results_{cell_state}_corrected.csv'\n",
    "    results_df.to_csv(corrected_file_name, index=False)\n",
    "    print(f\"Corrected results saved for {cell_state} to {corrected_file_name}\")"
   ]
  }
 ],
 "metadata": {
  "kernelspec": {
   "display_name": "pydeseq2_env",
   "language": "python",
   "name": "pydeseq2_env"
  },
  "language_info": {
   "codemirror_mode": {
    "name": "ipython",
    "version": 3
   },
   "file_extension": ".py",
   "mimetype": "text/x-python",
   "name": "python",
   "nbconvert_exporter": "python",
   "pygments_lexer": "ipython3",
   "version": "3.9.19"
  },
  "widgets": {
   "application/vnd.jupyter.widget-state+json": {
    "state": {},
    "version_major": 2,
    "version_minor": 0
   }
  }
 },
 "nbformat": 4,
 "nbformat_minor": 5
}
