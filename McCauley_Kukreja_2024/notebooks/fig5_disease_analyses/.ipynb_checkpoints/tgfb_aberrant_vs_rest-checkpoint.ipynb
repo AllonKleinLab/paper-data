{
 "cells": [
  {
   "cell_type": "markdown",
   "id": "6bbf8859-8a63-4457-b23e-685170808662",
   "metadata": {},
   "source": [
    "# What this notebook does\n",
    "\n",
    "This notebook plots expression of TGFB1 programs (TGFB1-1 and TGFB1-1) in aberrant and non-aberrant disease states for Fig. 5E."
   ]
  },
  {
   "cell_type": "markdown",
   "id": "39081d3e-c74a-4a76-88ab-a24be49f62b3",
   "metadata": {},
   "source": [
    "# Set up"
   ]
  },
  {
   "cell_type": "code",
   "execution_count": 1,
   "id": "98c8d690-b4ee-43c8-8f5f-40222bc49e64",
   "metadata": {},
   "outputs": [],
   "source": [
    "import numpy as np, pandas as pd, matplotlib.pyplot as pl, scipy.sparse as ssp\n",
    "import scanpy as sc,scanpy.external as sce\n",
    "import sys\n",
    "sys.path.append('../../helper_functions/')\n",
    "import helper_functions_py3 as hf\n",
    "\n",
    "sc.settings.verbosity = 2  # verbosity: errors (0), warnings (1), info (2), hints (3)\n",
    "sc.settings.set_figure_params(dpi=100)  # low dpi (dots per inch) yields small inline figures\n",
    "\n",
    "import random\n",
    "import scipy.stats  as ss\n",
    "import statsmodels.stats.multitest as multitest\n",
    "from matplotlib.patches import Rectangle\n",
    "import seaborn as sn"
   ]
  },
  {
   "cell_type": "markdown",
   "id": "95feeae9-d46c-4c9a-9d19-5b461ce294be",
   "metadata": {},
   "source": [
    "# Load data"
   ]
  },
  {
   "cell_type": "markdown",
   "id": "e984069c-d7f4-4203-ac8e-98ddd4bac318",
   "metadata": {},
   "source": [
    "## Disease datasets"
   ]
  },
  {
   "cell_type": "code",
   "execution_count": 2,
   "id": "fca57496-41be-45c7-9113-c1a1e9674271",
   "metadata": {},
   "outputs": [],
   "source": [
    "# load data from all diseases:\n",
    "# update this with the path where your anndata objects are stored !!\n",
    "\n",
    "anndata_path = '../../data/anndata_objects/'\n",
    "\n",
    "# IPF1, GEO ID: GSE135893\n",
    "adata_ipf1 = sc.read_h5ad(anndata_path + 'adata_ipf1_epithelial_processed.h5ad')\n",
    "\n",
    "# IPF 2, GEO ID: GSE136831\n",
    "adata_ipf2 = sc.read_h5ad(anndata_path + 'adata_ipf2_epithelial_processed.h5ad')\n",
    "\n",
    "# COPD, GEO ID: GSE136831\n",
    "adata_copd = sc.read_h5ad(anndata_path + 'adata_copd_epithelial_processed.h5ad')\n",
    "\n",
    "# COVID, GEO ID: GSE171524\n",
    "adata_covid = sc.read_h5ad(anndata_path +'adata_covid_epithelial_processed.h5ad')\n",
    "\n",
    "# subset data to only include diseased donors:\n",
    "adata_ipf1_disease = adata_ipf1[adata_ipf1.obs.Diagnosis != 'Control'].copy()\n",
    "adata_ipf2_disease = adata_ipf2[adata_ipf2.obs['\"Disease_Identity\"'] == '\"IPF\"'].copy()\n",
    "adata_copd_disease = adata_copd[adata_copd.obs['\"Disease_Identity\"'] == '\"COPD\"'].copy()\n",
    "adata_covid_disease = adata_covid[adata_covid.obs['disease__ontology_label'] == 'COVID-19'].copy()\n"
   ]
  },
  {
   "cell_type": "markdown",
   "id": "afb6b356-cf11-480e-8202-7bd4cbdb3f16",
   "metadata": {},
   "source": [
    "## cNMF data"
   ]
  },
  {
   "cell_type": "code",
   "execution_count": 3,
   "id": "50320400",
   "metadata": {},
   "outputs": [],
   "source": [
    "# load gene program data, also called the spectra matrix:\n",
    "\n",
    "# this is gene x programs matrix with a weight for every gene \n",
    "# for each of the gene expression programs\n",
    "\n",
    "cnmf_dir = '../../data/cnmf/'\n",
    "spectra = pd.read_csv(cnmf_dir+'program_weights.csv', sep=',', index_col=0).T\n"
   ]
  },
  {
   "cell_type": "code",
   "execution_count": 4,
   "id": "408d6013",
   "metadata": {},
   "outputs": [],
   "source": [
    "# subset genes to only include the ones in disease dataset:\n",
    "\n",
    "# ipf1:\n",
    "gene_subset_mask_ipf1 = np.in1d(spectra.columns, adata_ipf1.var_names)\n",
    "spectra_subset_ipf1 = spectra[spectra.columns[gene_subset_mask_ipf1]]\n",
    "\n",
    "# ipf2:\n",
    "gene_subset_mask_ipf2 = np.in1d(spectra.columns, adata_ipf2.var_names)\n",
    "spectra_subset_ipf2 = spectra[spectra.columns[gene_subset_mask_ipf2]]\n",
    "\n",
    "# copd:\n",
    "gene_subset_mask_copd = np.in1d(spectra.columns, adata_copd.var_names)\n",
    "spectra_subset_copd = spectra[spectra.columns[gene_subset_mask_copd]]\n",
    "\n",
    "# covid:\n",
    "gene_subset_mask_covid = np.in1d(spectra.columns, adata_covid.var_names)\n",
    "spectra_subset_covid = spectra[spectra.columns[gene_subset_mask_covid]]\n"
   ]
  },
  {
   "cell_type": "code",
   "execution_count": 5,
   "id": "c53bc251-08cd-4139-ab80-230ba8385730",
   "metadata": {},
   "outputs": [],
   "source": [
    "# re-normalize spectra since some of the genes were removed:\n",
    "\n",
    "# ipf1:\n",
    "spectra_subset_new_ipf1 = pd.DataFrame(np.array(spectra_subset_ipf1)/np.array(spectra_subset_ipf1.sum(1))[:,np.newaxis])\n",
    "spectra_subset_new_ipf1.columns = spectra_subset_ipf1.columns\n",
    "spectra_subset_new_ipf1.index = spectra_subset_ipf1.index\n",
    "\n",
    "# ipf2:\n",
    "spectra_subset_new_ipf2 = pd.DataFrame(np.array(spectra_subset_ipf2)/np.array(spectra_subset_ipf2.sum(1))[:,np.newaxis])\n",
    "spectra_subset_new_ipf2.columns = spectra_subset_ipf2.columns\n",
    "spectra_subset_new_ipf2.index = spectra_subset_ipf2.index\n",
    "\n",
    "# copd:\n",
    "spectra_subset_new_copd = pd.DataFrame(np.array(spectra_subset_copd)/np.array(spectra_subset_copd.sum(1))[:,np.newaxis])\n",
    "spectra_subset_new_copd.columns = spectra_subset_copd.columns\n",
    "spectra_subset_new_copd.index = spectra_subset_copd.index\n",
    "\n",
    "# covid:\n",
    "spectra_subset_new_covid = pd.DataFrame(np.array(spectra_subset_covid)/np.array(spectra_subset_covid.sum(1))[:,np.newaxis])\n",
    "spectra_subset_new_covid.columns = spectra_subset_covid.columns\n",
    "spectra_subset_new_covid.index = spectra_subset_covid.index\n"
   ]
  },
  {
   "cell_type": "markdown",
   "id": "8adfd9fd-fe21-435c-b6d8-aa3e404df58d",
   "metadata": {},
   "source": [
    "# Find expression of TGFB1 programs in aberrant vs rest of the states"
   ]
  },
  {
   "cell_type": "markdown",
   "id": "0f8615a1-aa0b-4a35-a933-df647e8b7e74",
   "metadata": {},
   "source": [
    "## Make matrix of gene for every program\n"
   ]
  },
  {
   "cell_type": "code",
   "execution_count": 6,
   "id": "d2be02a6-8db6-4884-8327-ff4e4a15ab1f",
   "metadata": {},
   "outputs": [],
   "source": [
    "# Make matrix of gene for every program\n",
    "\n",
    "num_genes = 20\n",
    "prog_names = np.array(['TGFB1-1', 'TGFB1-2'])\n",
    "\n",
    "# ipf1:\n",
    "prog_genes_ipf1 = np.zeros((num_genes, prog_names.shape[0]), dtype = object)\n",
    "\n",
    "for i,programs in enumerate(prog_names):\n",
    "    prog_genes_ipf1[:,i] = np.array(spectra_subset_ipf1.loc[programs].sort_values(ascending = False).index[:num_genes])\n",
    "\n",
    "prog_genes_ipf1_pd = pd.DataFrame(prog_genes_ipf1)\n",
    "prog_genes_ipf1_pd.columns = prog_names\n",
    "\n",
    "# ipf2:\n",
    "prog_genes_ipf2 = np.zeros((num_genes, prog_names.shape[0]), dtype = object)\n",
    "\n",
    "for i,programs in enumerate(prog_names):\n",
    "    prog_genes_ipf2[:,i] = np.array(spectra_subset_ipf2.loc[programs].sort_values(ascending = False).index[:num_genes])\n",
    "\n",
    "prog_genes_ipf2_pd = pd.DataFrame(prog_genes_ipf2)\n",
    "prog_genes_ipf2_pd.columns = prog_names\n",
    "\n",
    "# copd:\n",
    "prog_genes_copd = np.zeros((num_genes, prog_names.shape[0]), dtype = object)\n",
    "\n",
    "for i,programs in enumerate(prog_names):\n",
    "    prog_genes_copd[:,i] = np.array(spectra_subset_copd.loc[programs].sort_values(ascending = False).index[:num_genes])\n",
    "\n",
    "prog_genes_copd_pd = pd.DataFrame(prog_genes_copd)\n",
    "prog_genes_copd_pd.columns = prog_names\n",
    "\n",
    "# covid:\n",
    "prog_genes_covid = np.zeros((num_genes, prog_names.shape[0]), dtype = object)\n",
    "\n",
    "for i,programs in enumerate(prog_names):\n",
    "    prog_genes_covid[:,i] = np.array(spectra_subset_covid.loc[programs].sort_values(ascending = False).index[:num_genes])\n",
    "\n",
    "prog_genes_covid_pd = pd.DataFrame(prog_genes_covid)\n",
    "prog_genes_covid_pd.columns = prog_names"
   ]
  },
  {
   "cell_type": "markdown",
   "id": "ee1f65fc-78d5-48ca-a906-bdbfc9d1fac3",
   "metadata": {},
   "source": [
    "## Find expression of TGFB1-1 and TGFB1-2 programs"
   ]
  },
  {
   "cell_type": "code",
   "execution_count": 7,
   "id": "a006fc03-e77c-40c5-978a-94f4f17420dc",
   "metadata": {},
   "outputs": [],
   "source": [
    "# function to find expression of program in a cell with the given gene list:\n",
    "\n",
    "def program_expr_cp10k(adata, spectra, gene_list, program ):\n",
    "    \n",
    "    # subset expression for the gene list\n",
    "    \n",
    "    E = adata[:,gene_list].copy().layers['raw_counts']\n",
    "    \n",
    "    if ssp.issparse == True:\n",
    "        E = E.A\n",
    "    \n",
    "    # subset loads for the particular gene_list and program\n",
    "    loadings = np.array(spectra[gene_list].loc[program]) \n",
    "    \n",
    "    # renormalize loadings to sum to 1\n",
    "    loadings = loadings/sum(loadings) \n",
    "    \n",
    "    # calculate expression x loadings to get program expression:\n",
    "    if ssp.issparse(E):\n",
    "        prog_exp =(E.todense().A*loadings).sum(axis=1)\n",
    "    else:\n",
    "        prog_exp = np.sum(E*loadings, axis = 1)\n",
    "    return prog_exp\n"
   ]
  },
  {
   "cell_type": "markdown",
   "id": "7a69325e-23a3-4be7-8b10-a93154256fba",
   "metadata": {},
   "source": [
    "### TGFB1-1:"
   ]
  },
  {
   "cell_type": "code",
   "execution_count": 8,
   "id": "0bf30ace-595c-4c98-beb6-fd2d6a34981c",
   "metadata": {
    "tags": []
   },
   "outputs": [],
   "source": [
    "# find expression of TGFB1-1 program across disease datasets:\n",
    "\n",
    "# ipf1:\n",
    "ipf1_exp1 = program_expr_cp10k(adata_ipf1_disease, \n",
    "                                    spectra_subset_new_ipf1,\n",
    "                                    list(prog_genes_ipf1_pd['TGFB1-1']), 'TGFB1-1' )\n",
    "\n",
    "# ipf2:\n",
    "ipf2_exp1 = program_expr_cp10k(adata_ipf2_disease, \n",
    "                                    spectra_subset_new_ipf2,\n",
    "                                    list(prog_genes_ipf2_pd['TGFB1-1']), 'TGFB1-1' )\n",
    "\n",
    "# copd:\n",
    "copd_exp1 = program_expr_cp10k(adata_copd_disease, \n",
    "                                    spectra_subset_new_copd,\n",
    "                                    list(prog_genes_copd_pd['TGFB1-1']), 'TGFB1-1' )\n",
    "# covid:\n",
    "covid_exp1 = program_expr_cp10k(adata_covid_disease, \n",
    "                                    spectra_subset_new_covid,\n",
    "                                    list(prog_genes_covid_pd['TGFB1-1']), 'TGFB1-1' )\n"
   ]
  },
  {
   "cell_type": "code",
   "execution_count": 9,
   "id": "71c5c4d4-9c3d-4448-aeb1-9a17c383252e",
   "metadata": {},
   "outputs": [],
   "source": [
    "# subset expression of aberrant cells and rest of the cells in various datasets:\n",
    "\n",
    "# ipf1:\n",
    "ipf1_aberrant_exp1= ipf1_exp1[np.array(adata_ipf1_disease.obs['celltype']=='KRT5-/KRT17+')]\n",
    "ipf1_rest_exp1=ipf1_exp1[np.array(adata_ipf1_disease.obs['celltype']!='KRT5-/KRT17+')]\n",
    "\n",
    "# ipf2:\n",
    "ipf2_aberrant_exp1= ipf2_exp1[np.array(adata_ipf2_disease.obs['\"Manuscript_Identity\"']=='Aberrant_Basaloid')]\n",
    "ipf2_rest_exp1=ipf2_exp1[np.array(adata_ipf2_disease.obs['\"Manuscript_Identity\"']!='Aberrant_Basaloid')]\n",
    "\n",
    "# copd:\n",
    "copd_aberrant_exp1= copd_exp1[np.array(adata_copd_disease.obs['\"Manuscript_Identity\"']=='Aberrant_Basaloid')]\n",
    "copd_rest_exp1=copd_exp1[np.array(adata_copd_disease.obs['\"Manuscript_Identity\"']!='Aberrant_Basaloid')]\n",
    "\n",
    "# covid:\n",
    "covid_aberrant_exp1= covid_exp1[np.array(adata_covid_disease.obs['cell_type_fine']=='ECM-high epithelial')]\n",
    "covid_rest_exp1=covid_exp1[np.array(adata_covid_disease.obs['cell_type_fine']!='ECM-high epithelial')]\n"
   ]
  },
  {
   "cell_type": "markdown",
   "id": "7e9381d0-f55e-4cba-8d79-8fb9e365baba",
   "metadata": {
    "tags": []
   },
   "source": [
    "### TGFB1-2:"
   ]
  },
  {
   "cell_type": "code",
   "execution_count": 10,
   "id": "91128972-08f7-4a30-bf97-5d251276d59c",
   "metadata": {
    "tags": []
   },
   "outputs": [],
   "source": [
    "# find expression of TGFB1-2 program across disease datasets:\n",
    "\n",
    "# ipf1:\n",
    "ipf1_exp2 = program_expr_cp10k(adata_ipf1_disease, \n",
    "                                    spectra_subset_new_ipf1,\n",
    "                                    list(prog_genes_ipf1_pd['TGFB1-2']), 'TGFB1-2' )\n",
    "\n",
    "# ipf2:\n",
    "ipf2_exp2 = program_expr_cp10k(adata_ipf2_disease, \n",
    "                                    spectra_subset_new_ipf2,\n",
    "                                    list(prog_genes_ipf2_pd['TGFB1-2']), 'TGFB1-2' )\n",
    "\n",
    "# copd:\n",
    "copd_exp2 = program_expr_cp10k(adata_copd_disease, \n",
    "                                    spectra_subset_new_copd,\n",
    "                                    list(prog_genes_copd_pd['TGFB1-2']), 'TGFB1-2' )\n",
    "# covid:\n",
    "covid_exp2 = program_expr_cp10k(adata_covid_disease, \n",
    "                                    spectra_subset_new_covid,\n",
    "                                    list(prog_genes_covid_pd['TGFB1-2']), 'TGFB1-2' )\n"
   ]
  },
  {
   "cell_type": "code",
   "execution_count": 11,
   "id": "78469f93-8e25-482a-bd00-5dc62f6ca1c3",
   "metadata": {},
   "outputs": [],
   "source": [
    "# subset expression of aberrant cells and rest of the cells in various datasets:\n",
    "\n",
    "# ipf1:\n",
    "ipf1_aberrant_exp2= ipf1_exp2[np.array(adata_ipf1_disease.obs['celltype']=='KRT5-/KRT17+')]\n",
    "ipf1_rest_exp2=ipf1_exp2[np.array(adata_ipf1_disease.obs['celltype']!='KRT5-/KRT17+')]\n",
    "\n",
    "# ipf2:\n",
    "ipf2_aberrant_exp2= ipf2_exp2[np.array(adata_ipf2_disease.obs['\"Manuscript_Identity\"']=='Aberrant_Basaloid')]\n",
    "ipf2_rest_exp2=ipf2_exp2[np.array(adata_ipf2_disease.obs['\"Manuscript_Identity\"']!='Aberrant_Basaloid')]\n",
    "\n",
    "# copd:\n",
    "copd_aberrant_exp2= copd_exp2[np.array(adata_copd_disease.obs['\"Manuscript_Identity\"']=='Aberrant_Basaloid')]\n",
    "copd_rest_exp2=copd_exp2[np.array(adata_copd_disease.obs['\"Manuscript_Identity\"']!='Aberrant_Basaloid')]\n",
    "\n",
    "# covid:\n",
    "covid_aberrant_exp2= covid_exp2[np.array(adata_covid_disease.obs['cell_type_fine']=='ECM-high epithelial')]\n",
    "covid_rest_exp2=covid_exp2[np.array(adata_covid_disease.obs['cell_type_fine']!='ECM-high epithelial')]\n"
   ]
  },
  {
   "cell_type": "markdown",
   "id": "c0312f84-b9dc-4ece-9cc0-713c93dd78b5",
   "metadata": {},
   "source": [
    "# Plot data"
   ]
  },
  {
   "cell_type": "markdown",
   "id": "b2c5b796-3bde-4435-80a0-5c39acc2c86e",
   "metadata": {},
   "source": [
    "## TGFB1"
   ]
  },
  {
   "cell_type": "code",
   "execution_count": 12,
   "id": "df921455-4c44-4bc4-9dfe-20d447d40933",
   "metadata": {
    "tags": []
   },
   "outputs": [],
   "source": [
    "tidydata1 = pd.DataFrame(np.hstack([np.vstack([ipf1_aberrant_exp1, \n",
    "                                               'IPF1'*np.ones(ipf1_aberrant_exp1.shape[0],dtype = object),\n",
    "                                               'Aberrant'*np.ones(ipf1_aberrant_exp1.shape[0], dtype =object)]),\n",
    "                                    np.vstack([ipf1_rest_exp1, \n",
    "                                               'IPF1'*np.ones(ipf1_rest_exp1.shape[0],dtype = object),\n",
    "                                               'Rest'*np.ones(ipf1_rest_exp1.shape[0], dtype =object)]),\n",
    "           \n",
    "                                    np.vstack([ipf2_aberrant_exp1, \n",
    "                                               'IPF2'*np.ones(ipf2_aberrant_exp1.shape[0],dtype = object),\n",
    "                                               'Aberrant'*np.ones(ipf2_aberrant_exp1.shape[0], dtype =object)]),\n",
    "                                    np.vstack([ipf2_rest_exp1, \n",
    "                                               'IPF2'*np.ones(ipf2_rest_exp1.shape[0],dtype = object),\n",
    "                                               'Rest'*np.ones(ipf2_rest_exp1.shape[0], dtype =object)]),\n",
    "                                    \n",
    "                                    np.vstack([copd_aberrant_exp1, \n",
    "                                               'COPD'*np.ones(copd_aberrant_exp1.shape[0],dtype = object),\n",
    "                                               'Aberrant'*np.ones(copd_aberrant_exp1.shape[0], dtype =object)]),\n",
    "                                    np.vstack([copd_rest_exp1, \n",
    "                                               'COPD'*np.ones(copd_rest_exp1.shape[0],dtype = object),\n",
    "                                               'Rest'*np.ones(copd_rest_exp1.shape[0], dtype =object)]),\n",
    "                                    \n",
    "                                    np.vstack([covid_aberrant_exp1, \n",
    "                                               'Covid'*np.ones(covid_aberrant_exp1.shape[0],dtype = object),\n",
    "                                               'Aberrant'*np.ones(covid_aberrant_exp1.shape[0], dtype =object)]),\n",
    "                                    np.vstack([covid_rest_exp1, \n",
    "                                               'Covid'*np.ones(covid_rest_exp1.shape[0],dtype = object),\n",
    "                                               'Rest'*np.ones(covid_rest_exp1.shape[0], dtype =object)]),\n",
    "                                   ])).T"
   ]
  },
  {
   "cell_type": "code",
   "execution_count": 13,
   "id": "02843d01-eba0-42dd-82ef-0439a7c27172",
   "metadata": {},
   "outputs": [],
   "source": [
    "tidydata1.columns = ['Expression', 'Dataset', 'Cell state']"
   ]
  },
  {
   "cell_type": "code",
   "execution_count": 14,
   "id": "3fcfca9e-929d-4c9d-b2a1-b0f17469c7fe",
   "metadata": {},
   "outputs": [
    {
     "data": {
      "image/png": "[encoded data removed]",
      "text/plain": [
       "<Figure size 400x400 with 1 Axes>"
      ]
     },
     "metadata": {
      "image/png": {
       "height": 328,
       "width": 354
      }
     },
     "output_type": "display_data"
    }
   ],
   "source": [
    "#pl.figure(figsize = (3,3))\n",
    "line_color = '#525252'\n",
    "line_thickness = 1.2\n",
    "sn.boxplot(data = tidydata1, x='Dataset', y = 'Expression', \n",
    "           hue = 'Cell state', \n",
    "            hue_order = ['Rest','Aberrant'],\n",
    "           boxprops=dict(linestyle='-', linewidth=line_thickness, edgecolor=line_color),\n",
    "            whiskerprops=dict(linestyle='-', linewidth=line_thickness, color=line_color),\n",
    "            capprops=dict(linestyle='-', linewidth=line_thickness, color=line_color),\n",
    "            flierprops=dict(markeredgecolor=line_color, markerfacecolor='white', marker='o'),\n",
    "            medianprops=dict(linestyle='-', linewidth=line_thickness, color=line_color),\n",
    "           palette = {'Aberrant':'#737373', 'Rest':'#C8C8C8'},\n",
    "\n",
    "          showfliers = False, width=0.65)\n",
    "\n",
    "\n",
    "\n",
    "pl.grid(False)\n",
    "sn.despine()\n",
    "pl.legend([],[], frameon=False)\n",
    "\n",
    "pl.xticks([0,1,2,3],labels = [], fontname = 'Arial')\n",
    "pl.yticks([0,1,2,3,4,5],labels = [0,1,2,3,4,5], fontname = 'Arial', fontsize = 17)\n",
    "pl.xlabel(None)\n",
    "pl.ylabel(None)\n",
    "\n",
    "pl.savefig(\"../../figures/Fig5E_aberrant_vs_rest1.pdf\", bbox_inches='tight', dpi = 300)\n"
   ]
  },
  {
   "cell_type": "markdown",
   "id": "80a1c778-64a9-40c6-a077-cc996ee7e7b9",
   "metadata": {},
   "source": [
    "## TGFB2"
   ]
  },
  {
   "cell_type": "code",
   "execution_count": 15,
   "id": "6bd8b780-d7b6-4983-b1be-15d4925006a3",
   "metadata": {},
   "outputs": [],
   "source": [
    "tidydata2 = pd.DataFrame(np.hstack([np.vstack([ipf1_aberrant_exp2, \n",
    "                                               'IPF1'*np.ones(ipf1_aberrant_exp2.shape[0],dtype = object),\n",
    "                                               'Aberrant'*np.ones(ipf1_aberrant_exp2.shape[0], dtype =object)]),\n",
    "                                    np.vstack([ipf1_rest_exp2, \n",
    "                                               'IPF1'*np.ones(ipf1_rest_exp2.shape[0],dtype = object),\n",
    "                                               'Rest'*np.ones(ipf1_rest_exp2.shape[0], dtype =object)]),\n",
    "           \n",
    "                                    np.vstack([ipf2_aberrant_exp2, \n",
    "                                               'IPF2'*np.ones(ipf2_aberrant_exp2.shape[0],dtype = object),\n",
    "                                               'Aberrant'*np.ones(ipf2_aberrant_exp2.shape[0], dtype =object)]),\n",
    "                                    np.vstack([ipf2_rest_exp2, \n",
    "                                               'IPF2'*np.ones(ipf2_rest_exp2.shape[0],dtype = object),\n",
    "                                               'Rest'*np.ones(ipf2_rest_exp2.shape[0], dtype =object)]),\n",
    "                                    \n",
    "                                    np.vstack([copd_aberrant_exp2, \n",
    "                                               'COPD'*np.ones(copd_aberrant_exp2.shape[0],dtype = object),\n",
    "                                               'Aberrant'*np.ones(copd_aberrant_exp2.shape[0], dtype =object)]),\n",
    "                                    np.vstack([copd_rest_exp2, \n",
    "                                               'COPD'*np.ones(copd_rest_exp2.shape[0],dtype = object),\n",
    "                                               'Rest'*np.ones(copd_rest_exp2.shape[0], dtype =object)]),\n",
    "                                    \n",
    "                                    np.vstack([covid_aberrant_exp2, \n",
    "                                               'Covid'*np.ones(covid_aberrant_exp2.shape[0],dtype = object),\n",
    "                                               'Aberrant'*np.ones(covid_aberrant_exp2.shape[0], dtype =object)]),\n",
    "                                    np.vstack([covid_rest_exp2, \n",
    "                                               'Covid'*np.ones(covid_rest_exp2.shape[0],dtype = object),\n",
    "                                               'Rest'*np.ones(covid_rest_exp2.shape[0], dtype =object)]),\n",
    "                                   ])).T\n",
    "\n",
    "tidydata2.columns = ['Expression', 'Dataset', 'Cell state']"
   ]
  },
  {
   "cell_type": "code",
   "execution_count": 16,
   "id": "2fcfdc81-1ee1-4117-a7fb-0dbfb1d423d4",
   "metadata": {},
   "outputs": [
    {
     "data": {
      "image/png": "[encoded data removed]",
      "text/plain": [
       "<Figure size 400x400 with 1 Axes>"
      ]
     },
     "metadata": {
      "image/png": {
       "height": 328,
       "width": 354
      }
     },
     "output_type": "display_data"
    }
   ],
   "source": [
    "#pl.figure(figsize = (3,3))\n",
    "line_color = '#525252'\n",
    "sn.boxplot(data = tidydata2, x='Dataset', y = 'Expression', \n",
    "           hue = 'Cell state', \n",
    "            hue_order = ['Rest','Aberrant'],\n",
    "           boxprops=dict(linestyle='-', linewidth=line_thickness, edgecolor=line_color),\n",
    "            whiskerprops=dict(linestyle='-', linewidth=line_thickness, color=line_color),\n",
    "            capprops=dict(linestyle='-', linewidth=line_thickness, color=line_color),\n",
    "            flierprops=dict(markeredgecolor=line_color, markerfacecolor='white', marker='o'),\n",
    "            medianprops=dict(linestyle='-', linewidth=line_thickness, color=line_color),\n",
    "           palette = {'Aberrant':'#737373', 'Rest':'#C8C8C8'},\n",
    "\n",
    "          showfliers = False, width=0.65)\n",
    "\n",
    "\n",
    "\n",
    "pl.grid(False)\n",
    "sn.despine()\n",
    "pl.legend([],[], frameon=False)\n",
    "\n",
    "pl.xticks([0,1,2,3],labels = [], fontname = 'Arial')\n",
    "pl.yticks([0,2,4,6,8],labels = [0,2,4,6,8], fontname = 'Arial', fontsize = 17)\n",
    "pl.xlabel(None)\n",
    "pl.ylabel(None)\n",
    "\n",
    "pl.savefig(\"../../figures/Fig5E_aberrant_vs_rest2.pdf\", bbox_inches='tight', dpi = 300)\n"
   ]
  },
  {
   "cell_type": "code",
   "execution_count": null,
   "id": "82afea13-8eb0-4521-aaeb-47e56dbaab59",
   "metadata": {},
   "outputs": [],
   "source": []
  }
 ],
 "metadata": {
  "kernelspec": {
   "display_name": "Python 3 (ipykernel)",
   "language": "python",
   "name": "python3"
  },
  "language_info": {
   "codemirror_mode": {
    "name": "ipython",
    "version": 3
   },
   "file_extension": ".py",
   "mimetype": "text/x-python",
   "name": "python",
   "nbconvert_exporter": "python",
   "pygments_lexer": "ipython3",
   "version": "3.10.6"
  }
 },
 "nbformat": 4,
 "nbformat_minor": 5
}
