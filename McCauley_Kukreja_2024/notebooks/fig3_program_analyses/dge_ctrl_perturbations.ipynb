{
 "cells": [
  {
   "cell_type": "markdown",
   "metadata": {
    "jp-MarkdownHeadingCollapsed": true,
    "tags": []
   },
   "source": [
    "# What this notebook does:\n",
    "\n",
    "* This notebook finds number of differentially expressed genes between unperturbed and signaling perturbation conditions across various cell states.\n",
    "* This analysis was used to generate the figure 3A and Table S5 for McCauley/Kukreja et. al. 2024 paper"
   ]
  },
  {
   "cell_type": "markdown",
   "metadata": {},
   "source": [
    "# Set up"
   ]
  },
  {
   "cell_type": "code",
   "execution_count": 1,
   "metadata": {},
   "outputs": [],
   "source": [
    "import numpy as np, pandas as pd, matplotlib.pyplot as pl, scipy.sparse as ssp\n",
    "import scanpy as sc,scanpy.external as sce\n",
    "import sys\n",
    "sys.path.append('../../helper_functions/')\n",
    "import helper_functions_py3 as hf\n",
    "\n",
    "sc.settings.verbosity = 2  # verbosity: errors (0), warnings (1), info (2), hints (3)\n",
    "sc.settings.set_figure_params(dpi=100)  # low dpi (dots per inch) yields small inline figures\n",
    "\n",
    "import random\n",
    "import scipy.stats  as ss\n",
    "import statsmodels.stats.multitest as multitest\n",
    "from matplotlib.patches import Rectangle\n",
    "import seaborn as sn\n",
    "from sklearn.neighbors import NearestNeighbors\n",
    "import pickle"
   ]
  },
  {
   "cell_type": "markdown",
   "metadata": {},
   "source": [
    "# Load data"
   ]
  },
  {
   "cell_type": "code",
   "execution_count": 2,
   "metadata": {},
   "outputs": [],
   "source": [
    "# load indrops data\n",
    "# update this with the path where your anndata objects are stored !!\n",
    "anndata_path = '../../data/anndata_objects/'\n",
    "adata = sc.read_h5ad('../../data/anndata_objects/all_indrops_data.h5ad')"
   ]
  },
  {
   "cell_type": "code",
   "execution_count": 3,
   "metadata": {},
   "outputs": [
    {
     "name": "stdout",
     "output_type": "stream",
     "text": [
      "filtered out 6937 genes that are detected in less than 3 cells\n",
      "filtered out 2906 genes that are detected in less than 6 counts\n",
      "normalizing by total count per cell\n",
      "    finished (0:00:02): normalized adata.X and added    'n_counts', counts per cell before normalization (adata.obs)\n"
     ]
    }
   ],
   "source": [
    "# filter genes:\n",
    "sc.pp.filter_genes(adata, min_cells=3)\n",
    "sc.pp.filter_genes(adata, min_counts=6)\n",
    "\n",
    "# counts normalize data:\n",
    "sc.pp.normalize_per_cell(adata, counts_per_cell_after=1e4)\n"
   ]
  },
  {
   "cell_type": "markdown",
   "metadata": {},
   "source": [
    "# Find differentially expressed genes"
   ]
  },
  {
   "cell_type": "code",
   "execution_count": 4,
   "metadata": {},
   "outputs": [],
   "source": [
    "# subset data into specific cell states:\n",
    "\n",
    "adata_basal = adata[adata.obs.cell_states.isin(['Basal'])].copy()\n",
    "adata_secretory = adata[adata.obs.cell_states.isin(['Club','Goblet'])].copy()\n",
    "adata_multiciliated = adata[adata.obs.cell_states.isin(['Multiciliated'])].copy()\n",
    "adata_rare = adata[adata.obs.cell_states.isin(['Ionocyte', 'PNEC','Tuft' ])].copy()"
   ]
  },
  {
   "cell_type": "markdown",
   "metadata": {},
   "source": [
    "### Basal"
   ]
  },
  {
   "cell_type": "code",
   "execution_count": 5,
   "metadata": {},
   "outputs": [
    {
     "name": "stdout",
     "output_type": "stream",
     "text": [
      "CHIR\n",
      "CHIR  done\n",
      "BMP4\n",
      "BMP4  done\n",
      "TNFA\n",
      "TNFA  done\n",
      "FGF2\n",
      "FGF2  done\n",
      "HGF\n",
      "HGF  done\n",
      "TGFB1\n",
      "TGFB1  done\n",
      "Leptin\n",
      "Leptin  done\n",
      "ActA\n",
      "ActA  done\n",
      "Adipo\n",
      "Adipo  done\n",
      "IFNA\n",
      "IFNA  done\n",
      "IGF1\n",
      "IGF1  done\n",
      "OSM\n",
      "OSM  done\n",
      "EGF\n",
      "EGF  done\n",
      "IFNG\n",
      "IFNG  done\n",
      "IL17A\n",
      "IL17A  done\n",
      "IL13\n",
      "IL13  done\n",
      "FGF10\n",
      "FGF10  done\n"
     ]
    }
   ],
   "source": [
    "# initialize dge dictionary:\n",
    "dge_basal = {}\n",
    "\n",
    "# subset control cells:\n",
    "adata_basal_ctrl = adata_basal[adata_basal.obs.condition == 'None'].copy()\n",
    "\n",
    "# find dge between perturbed and control data:\n",
    "for conditions in set(adata.obs.condition) - set(['None']):\n",
    "    print(conditions)\n",
    "    adata_temp = adata_basal[adata_basal.obs.condition == conditions].copy()\n",
    "    dge_basal[conditions] = hf.dge(adata_basal_ctrl, adata_temp, alpha = 0.05,pseudocount = 1)\n",
    "    print(conditions, ' done')\n"
   ]
  },
  {
   "cell_type": "code",
   "execution_count": 6,
   "metadata": {},
   "outputs": [],
   "source": [
    "del adata_temp\n",
    "del adata_basal_ctrl"
   ]
  },
  {
   "cell_type": "code",
   "execution_count": 9,
   "metadata": {},
   "outputs": [],
   "source": [
    "# save the result into a pickle file:\n",
    "pickle.dump(dge_basal, open(\"../../data/csv_txt_files/dge_basal.p\", \"wb\"))  # save it into a file named save.p\n"
   ]
  },
  {
   "cell_type": "markdown",
   "metadata": {},
   "source": [
    "### Secretory"
   ]
  },
  {
   "cell_type": "code",
   "execution_count": 15,
   "metadata": {},
   "outputs": [
    {
     "name": "stdout",
     "output_type": "stream",
     "text": [
      "CHIR\n",
      "CHIR  done\n",
      "BMP4\n",
      "BMP4  done\n",
      "TNFA\n",
      "TNFA  done\n",
      "FGF2\n",
      "FGF2  done\n",
      "HGF\n",
      "HGF  done\n",
      "TGFB1\n",
      "TGFB1  done\n",
      "Leptin\n",
      "Leptin  done\n",
      "ActA\n",
      "ActA  done\n",
      "Adipo\n",
      "Adipo  done\n",
      "IFNA\n",
      "IFNA  done\n",
      "IGF1\n",
      "IGF1  done\n",
      "OSM\n",
      "OSM  done\n",
      "EGF\n",
      "EGF  done\n",
      "IFNG\n",
      "IFNG  done\n",
      "IL17A\n",
      "IL17A  done\n",
      "IL13\n",
      "IL13  done\n",
      "FGF10\n",
      "FGF10  done\n"
     ]
    }
   ],
   "source": [
    "# initialize dge dictionary:\n",
    "dge_secretory = {}\n",
    "\n",
    "# subset control cells:\n",
    "adata_secretory_ctrl = adata_secretory[adata_secretory.obs.condition == 'None'].copy()\n",
    "\n",
    "# find dge between perturbed and control data:\n",
    "for conditions in set(adata.obs.condition) - set(['None']):\n",
    "    print(conditions)\n",
    "    adata_temp = adata_secretory[adata_secretory.obs.condition == conditions].copy()\n",
    "    dge_secretory[conditions] = hf.dge(adata_secretory_ctrl, adata_temp, alpha = 0.05,pseudocount = 1)\n",
    "    print(conditions, ' done')\n",
    "\n",
    "del adata_temp\n",
    "del adata_secretory_ctrl\n",
    "\n",
    "# save the result into a pickle file:\n",
    "pickle.dump(dge_secretory, open(\"../../data/csv_txt_files/dge_secretory.p\", \"wb\"))  # save it into a file named save.p\n"
   ]
  },
  {
   "cell_type": "markdown",
   "metadata": {},
   "source": [
    "\n",
    "### Multiciliated"
   ]
  },
  {
   "cell_type": "code",
   "execution_count": 11,
   "metadata": {},
   "outputs": [
    {
     "name": "stdout",
     "output_type": "stream",
     "text": [
      "CHIR\n",
      "CHIR  done\n",
      "BMP4\n",
      "BMP4  done\n",
      "TNFA\n",
      "TNFA  done\n",
      "FGF2\n",
      "FGF2  done\n",
      "HGF\n",
      "HGF  done\n",
      "TGFB1\n",
      "TGFB1  done\n",
      "Leptin\n",
      "Leptin  done\n",
      "ActA\n",
      "ActA  done\n",
      "Adipo\n",
      "Adipo  done\n",
      "IFNA\n",
      "IFNA  done\n",
      "IGF1\n",
      "IGF1  done\n",
      "OSM\n",
      "OSM  done\n",
      "EGF\n",
      "EGF  done\n",
      "IFNG\n",
      "IFNG  done\n",
      "IL17A\n",
      "IL17A  done\n",
      "IL13\n",
      "IL13  done\n",
      "FGF10\n",
      "FGF10  done\n"
     ]
    }
   ],
   "source": [
    "\n",
    "# initialize dge dictionary:\n",
    "dge_multiciliated = {}\n",
    "\n",
    "# subset control cells:\n",
    "adata_multiciliated_ctrl = adata_multiciliated[adata_multiciliated.obs.condition == 'None'].copy()\n",
    "\n",
    "# find dge between perturbed and control data:\n",
    "for conditions in set(adata.obs.condition) - set(['None']):\n",
    "    print(conditions)\n",
    "    adata_temp = adata_multiciliated[adata_multiciliated.obs.condition == conditions].copy()\n",
    "    dge_multiciliated[conditions] = hf.dge(adata_multiciliated_ctrl, adata_temp, alpha = 0.05,pseudocount = 1)\n",
    "    print(conditions, ' done')\n",
    "\n",
    "del adata_temp\n",
    "del adata_multiciliated_ctrl\n",
    "\n",
    "# save the result into a pickle file:\n",
    "pickle.dump(dge_multiciliated, open(\"../../data/csv_txt_files/dge_multiciliated.p\", \"wb\"))  # save it into a file named save.p\n"
   ]
  },
  {
   "cell_type": "markdown",
   "metadata": {},
   "source": [
    "### Rare"
   ]
  },
  {
   "cell_type": "code",
   "execution_count": 12,
   "metadata": {},
   "outputs": [
    {
     "name": "stdout",
     "output_type": "stream",
     "text": [
      "CHIR\n",
      "CHIR  done\n",
      "TNFA\n",
      "TNFA  done\n",
      "FGF2\n",
      "FGF2  done\n",
      "HGF\n",
      "HGF  done\n",
      "TGFB1\n",
      "TGFB1  done\n",
      "Leptin\n",
      "Leptin  done\n",
      "ActA\n",
      "ActA  done\n",
      "Adipo\n",
      "Adipo  done\n",
      "IFNA\n",
      "IFNA  done\n",
      "IGF1\n",
      "IGF1  done\n",
      "OSM\n",
      "OSM  done\n",
      "EGF\n",
      "EGF  done\n",
      "IL17A\n",
      "IL17A  done\n",
      "IL13\n",
      "IL13  done\n",
      "FGF10\n",
      "FGF10  done\n"
     ]
    }
   ],
   "source": [
    "# initialize dge dictionary:\n",
    "dge_rare = {}\n",
    "\n",
    "# subset control cells:\n",
    "adata_rare_ctrl = adata_rare[adata_rare.obs.condition == 'None'].copy()\n",
    "\n",
    "# find dge between perturbed and control data:\n",
    "for conditions in set(adata.obs.condition) - set(['None','BMP4', 'IFNG']):\n",
    "    print(conditions)\n",
    "    adata_temp = adata_rare[adata_rare.obs.condition == conditions].copy()\n",
    "    dge_rare[conditions] = hf.dge(adata_rare_ctrl, adata_temp, alpha = 0.05,pseudocount = 1)\n",
    "    print(conditions, ' done')\n",
    "\n",
    "del adata_temp\n",
    "del adata_rare_ctrl\n",
    "\n",
    "# save the result into a pickle file:\n",
    "pickle.dump(dge_rare, open(\"../../data/csv_txt_files/dge_rare.p\", \"wb\"))  # save it into a file named save.p\n"
   ]
  },
  {
   "cell_type": "markdown",
   "metadata": {},
   "source": [
    "# Plot number of differentially expressed genes"
   ]
  },
  {
   "cell_type": "code",
   "execution_count": 13,
   "metadata": {},
   "outputs": [],
   "source": [
    "condition_names = list(set(adata.obs.condition) - set(['None']))"
   ]
  },
  {
   "cell_type": "code",
   "execution_count": 16,
   "metadata": {},
   "outputs": [],
   "source": [
    "diff_num_multiciliated = {}\n",
    "for conditions in condition_names:\n",
    "    diff_num_multiciliated[conditions] = len(dge_multiciliated[conditions]['diff_genes'])\n",
    "    \n",
    "    "
   ]
  },
  {
   "cell_type": "code",
   "execution_count": 17,
   "metadata": {},
   "outputs": [],
   "source": [
    "diff_num_secretory = {}\n",
    "for conditions in condition_names:\n",
    "    diff_num_secretory[conditions] = len(dge_secretory[conditions]['diff_genes'])\n",
    "    \n",
    "    "
   ]
  },
  {
   "cell_type": "code",
   "execution_count": 18,
   "metadata": {},
   "outputs": [],
   "source": [
    "diff_num_basal = {}\n",
    "for conditions in condition_names:\n",
    "    diff_num_basal[conditions] = len(dge_basal[conditions]['diff_genes'])\n",
    "    \n",
    "    "
   ]
  },
  {
   "cell_type": "code",
   "execution_count": 19,
   "metadata": {},
   "outputs": [],
   "source": [
    "diff_num_rare = {}\n",
    "for conditions in dge_rare.keys():\n",
    "    diff_num_rare[conditions] = len(dge_rare[conditions]['diff_genes'])\n",
    "    \n",
    "    "
   ]
  },
  {
   "cell_type": "code",
   "execution_count": 20,
   "metadata": {},
   "outputs": [],
   "source": [
    "diff_num_all = pd.DataFrame([pd.Series(diff_num_basal), \n",
    "                             pd.Series(diff_num_secretory),\n",
    "                             pd.Series(diff_num_multiciliated),\n",
    "                            pd.Series(diff_num_rare)])\n",
    "\n",
    "diff_num_all.index = ['Basal','Secretory',  'Multiciliated', 'Rare']"
   ]
  },
  {
   "cell_type": "code",
   "execution_count": 21,
   "metadata": {},
   "outputs": [],
   "source": [
    "diff_num_all = diff_num_all[pd.Series(diff_num_basal).sort_values().index]"
   ]
  },
  {
   "cell_type": "code",
   "execution_count": 25,
   "metadata": {},
   "outputs": [
    {
     "data": {
      "image/png": "[encoded data removed]",
      "text/plain": [
       "<Figure size 700x200 with 1 Axes>"
      ]
     },
     "metadata": {
      "image/png": {
       "height": 244,
       "width": 677
      }
     },
     "output_type": "display_data"
    }
   ],
   "source": [
    "\n",
    "pl.figure(figsize = (7,2))\n",
    "\n",
    "\n",
    "sn.heatmap(diff_num_all, cmap = 'Reds', cbar_kws={\"shrink\": 0.5} ,\n",
    "           vmax = 250, vmin=0, cbar = False)\n",
    "\n",
    "#pl.title('Number of differentialy expressed genes')\n",
    "pl.savefig('../../figures/Fig3A_dge_celltypes.pdf', dpi=300,bbox_inches='tight')"
   ]
  },
  {
   "cell_type": "markdown",
   "metadata": {},
   "source": [
    "# Make table for DGEs"
   ]
  },
  {
   "cell_type": "code",
   "execution_count": 24,
   "metadata": {},
   "outputs": [],
   "source": [
    "for conditions in diff_num_all.columns:\n",
    "    \n",
    "    pd_basal = pd.DataFrame([dge_basal[conditions]['diff_genes'],\n",
    "                            'Basal'*np.ones(dge_basal[conditions]['diff_genes'].shape[0], dtype = object),\n",
    "                            dge_basal[conditions]['FC'][dge_basal[conditions]['mask']], \n",
    "                            dge_basal[conditions]['p_value'][dge_basal[conditions]['mask']]]).T\n",
    "    \n",
    "    pd_secretory = pd.DataFrame([dge_secretory[conditions]['diff_genes'],\n",
    "                            'Secretory'*np.ones(dge_secretory[conditions]['diff_genes'].shape[0], dtype = object),\n",
    "                            dge_secretory[conditions]['FC'][dge_secretory[conditions]['mask']], \n",
    "                            dge_secretory[conditions]['p_value'][dge_secretory[conditions]['mask']] ]).T\n",
    "    \n",
    "    pd_multiciliated = pd.DataFrame([dge_multiciliated[conditions]['diff_genes'],\n",
    "                            'Multiciliated'*np.ones(dge_multiciliated[conditions]['diff_genes'].shape[0], dtype = object),\n",
    "                            dge_multiciliated[conditions]['FC'][dge_multiciliated[conditions]['mask']], \n",
    "                            dge_multiciliated[conditions]['p_value'][dge_multiciliated[conditions]['mask']] ]).T\n",
    "    \n",
    "    if (conditions != 'BMP4')&(conditions != 'IFNG'):\n",
    "        pd_rare = pd.DataFrame([dge_rare[conditions]['diff_genes'],\n",
    "                            'Rare'*np.ones(dge_rare[conditions]['diff_genes'].shape[0], dtype = object),\n",
    "                            dge_rare[conditions]['FC'][dge_rare[conditions]['mask']], \n",
    "                            dge_rare[conditions]['p_value'][dge_rare[conditions]['mask']] ]).T    \n",
    "    \n",
    "    pd_temp = pd.concat([pd_basal, pd_secretory, pd_multiciliated, pd_rare])\n",
    "    pd_temp.columns = ['Genes', 'Cell type','Log2FC', 'FDR']\n",
    "    pd_temp.index = np.arange(pd_temp.shape[0])\n",
    "    \n",
    "    pd_temp.to_csv('../../data/csv_txt_files/dge_{}_celltypes.csv'.format(conditions), sep = ',')"
   ]
  },
  {
   "cell_type": "code",
   "execution_count": null,
   "metadata": {},
   "outputs": [],
   "source": []
  }
 ],
 "metadata": {
  "kernelspec": {
   "display_name": "Python 3 (ipykernel)",
   "language": "python",
   "name": "python3"
  },
  "language_info": {
   "codemirror_mode": {
    "name": "ipython",
    "version": 3
   },
   "file_extension": ".py",
   "mimetype": "text/x-python",
   "name": "python",
   "nbconvert_exporter": "python",
   "pygments_lexer": "ipython3",
   "version": "3.10.6"
  }
 },
 "nbformat": 4,
 "nbformat_minor": 4
}
