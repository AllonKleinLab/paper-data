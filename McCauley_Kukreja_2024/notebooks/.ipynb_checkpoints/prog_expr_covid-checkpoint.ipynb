{
 "cells": [
  {
   "cell_type": "markdown",
   "id": "1b7dfd85-cbaa-4083-b33f-a67aae2c2013",
   "metadata": {},
   "source": [
    "# What this notebook does:\n",
    "- Finds out if a particular signaling program is induced in the COVID 19 lung dataset (GEO ID: GSE135893) by:\n",
    "    - calculating program expression in cells from control and disease donors in the dataset\n",
    "    - finding fold change between of program expression in disease versus control conditions in different cell types\n",
    "    \n",
    "- For detailed method description, see manuscript McCauley/Kukreja et. al. 2024 manuscript method's section: \"Enrichment of signaling programs in disease\""
   ]
  },
  {
   "cell_type": "markdown",
   "id": "3af132a1",
   "metadata": {},
   "source": [
    "# Set up "
   ]
  },
  {
   "cell_type": "code",
   "execution_count": 2,
   "id": "c7b73ec8",
   "metadata": {},
   "outputs": [],
   "source": [
    "import numpy as np, pandas as pd, matplotlib.pyplot as pl, scipy.sparse as ssp\n",
    "import scanpy as sc,scanpy.external as sce\n",
    "import sys\n",
    "sys.path.append('../helper_functions/')\n",
    "import helper_functions_py3 as hf\n",
    "\n",
    "sc.settings.verbosity = 2  # verbosity: errors (0), warnings (1), info (2), hints (3)\n",
    "sc.settings.set_figure_params(dpi=100)  # low dpi (dots per inch) yields small inline figures\n",
    "\n",
    "import random\n",
    "import scipy.stats  as ss\n",
    "import statsmodels.stats.multitest as multitest\n",
    "from matplotlib.patches import Rectangle\n",
    "import seaborn as sn"
   ]
  },
  {
   "cell_type": "markdown",
   "id": "a15b339f",
   "metadata": {},
   "source": [
    "# Load data"
   ]
  },
  {
   "cell_type": "markdown",
   "id": "5cecfc05",
   "metadata": {},
   "source": [
    "## COVID data"
   ]
  },
  {
   "cell_type": "code",
   "execution_count": 3,
   "id": "098c3882",
   "metadata": {},
   "outputs": [],
   "source": [
    "# load disease data:\n",
    "covid_path = '../data/anndata_objects/'\n",
    "adata = sc.read_h5ad(covid_path +'adata_covid_epithelial_processed.h5ad')\n",
    "\n",
    "# subset disease datasets:\n",
    "adata_ctrl = adata[adata.obs['disease__ontology_label'] == 'normal'].copy()\n",
    "adata_disease = adata[adata.obs['disease__ontology_label'] == 'COVID-19'].copy()\n"
   ]
  },
  {
   "cell_type": "markdown",
   "id": "be99a175",
   "metadata": {},
   "source": [
    "## cNMF data"
   ]
  },
  {
   "cell_type": "code",
   "execution_count": 4,
   "id": "50320400",
   "metadata": {},
   "outputs": [],
   "source": [
    "# load gene program data, also called the spectra matrix:\n",
    "\n",
    "# this is gene x programs matrix with a weight for every gene \n",
    "# for each of the gene expression programs\n",
    "\n",
    "cnmf_dir = '../data/cnmf/'\n",
    "\n",
    "spectra = pd.read_csv(cnmf_dir+'program_weights.csv', sep=',', index_col=0).T\n"
   ]
  },
  {
   "cell_type": "code",
   "execution_count": 5,
   "id": "981f6847-8bb5-4b41-ae59-3b1be89a306d",
   "metadata": {},
   "outputs": [],
   "source": [
    "# subset genes to only include the ones in disease dataset:\n",
    "gene_subset_mask = np.in1d(spectra.columns, adata.var_names)\n",
    "spectra_subset = spectra[spectra.columns[gene_subset_mask]]\n"
   ]
  },
  {
   "cell_type": "code",
   "execution_count": 6,
   "id": "6d42756c-f7b5-4348-9400-355a0f50f634",
   "metadata": {},
   "outputs": [],
   "source": [
    "# re-normalize spectra since some of the genes were removed:\n",
    "spectra_subset_new = pd.DataFrame(np.array(spectra_subset)/np.array(spectra_subset.sum(1))[:,np.newaxis])\n",
    "spectra_subset_new.columns = spectra_subset.columns\n",
    "spectra_subset_new.index = spectra_subset.index\n"
   ]
  },
  {
   "cell_type": "markdown",
   "id": "9ce4f611",
   "metadata": {},
   "source": [
    "# Make matrix of gene for every program"
   ]
  },
  {
   "cell_type": "code",
   "execution_count": 7,
   "id": "95147387",
   "metadata": {},
   "outputs": [],
   "source": [
    "# input:\n",
    "\n",
    "num_genes = 20\n",
    "prog_names = np.array(['Shared-1', 'Shared-2', 'Shared-3', 'CHIR', 'IL13','IFNA', \n",
    "                          'IFNG-1', 'IFNG-2', 'IFNG-3', 'TGFB1-1', 'TGFB1-2'])\n",
    "prog_genes = np.zeros((num_genes, prog_names.shape[0]), dtype = object)\n",
    "\n",
    "for i,programs in enumerate(prog_names):\n",
    "    prog_genes[:,i] = np.array(spectra_subset.loc[programs].sort_values(ascending = False).index[:num_genes])\n",
    "\n",
    "prog_genes_pd = pd.DataFrame(prog_genes)\n",
    "prog_genes_pd.columns = prog_names"
   ]
  },
  {
   "cell_type": "code",
   "execution_count": 8,
   "id": "c96be7cc",
   "metadata": {},
   "outputs": [],
   "source": [
    "# function to find expression of program in a cell with the given gene list:\n",
    "\n",
    "def program_expr_cp10k(adata, spectra, gene_list, program ):\n",
    "    \n",
    "    # subset expression for the gene list. Also add pseudo count (for fold change later)\n",
    "    E = adata[:,gene_list].copy().layers['raw_counts']+0.01 \n",
    "    \n",
    "    # subset loads for the particular gene_list and program\n",
    "    loadings = np.array(spectra[gene_list].loc[program]) \n",
    "    \n",
    "    # renormalize loadings to sum to 1\n",
    "    loadings = loadings/sum(loadings) \n",
    "    \n",
    "    # calculate expression x loadings to get program expression:\n",
    "    if ssp.issparse(E):\n",
    "        prog_exp =(E.todense().A*loadings).sum(axis=1)\n",
    "    else:\n",
    "        prog_exp = np.sum(E*loadings, axis = 1)\n",
    "    return prog_exp\n"
   ]
  },
  {
   "cell_type": "code",
   "execution_count": null,
   "id": "caf538b1",
   "metadata": {},
   "outputs": [
    {
     "name": "stdout",
     "output_type": "stream",
     "text": [
      "0\n",
      "10\n",
      "20\n",
      "30\n",
      "40\n",
      "50\n"
     ]
    }
   ],
   "source": [
    "fc_all = {}\n",
    "pval_all = {}\n",
    "rand_num = 7\n",
    "\n",
    "num = 101\n",
    "for blu in range(num):\n",
    "    if (blu%10) == 0:\n",
    "        print(blu)\n",
    "    #rand_num = random.choice([6,7])\n",
    "    ix_temp = random.sample(list(np.arange(num_genes)), rand_num)\n",
    "    prog_genes_random = prog_genes_pd.loc[ix_temp] # top 20\n",
    "    \n",
    "    # find program expression for each cell and each of the specified program\n",
    "    prog_expr = np.zeros((adata.shape[0], prog_names.shape[0]))\n",
    "    for i,programs in enumerate(prog_names):\n",
    "        prog_expr[:,i] =  program_expr_cp10k(adata, spectra_subset_new, prog_genes_random[programs], programs )\n",
    "        \n",
    "    prog_expr_pd = pd.DataFrame(prog_expr)\n",
    "    prog_expr_pd.columns = prog_names\n",
    "    \n",
    "    # find fold change of program expression between disease cluster and control cell types\n",
    "    row_names = list(set(adata_disease.obs.cell_type_fine))\n",
    "    row_names.sort()\n",
    "    # initialize the fc matrix and pvalue matrix:\n",
    "    fc_clust_celltype = np.zeros((len(row_names),prog_names.shape[0]))\n",
    "    pval_clust_celltype = np.zeros((len(row_names),prog_names.shape[0]))\n",
    "\n",
    "    # subset control and disease program expression:\n",
    "    prog_expr_ctrl_pd = prog_expr_pd[np.array(adata.obs.disease__ontology_label == 'normal')]\n",
    "    prog_expr_disease_pd = prog_expr_pd[np.array(adata.obs.disease__ontology_label == 'COVID-19')]\n",
    "\n",
    "    # find fc and pvalue:\n",
    "    for i,progs in enumerate(prog_names):\n",
    "        for j,clusts in enumerate(row_names):\n",
    "            # program expression of disease cell type:\n",
    "            disease_temp = np.array(prog_expr_disease_pd[progs])[adata_disease.obs.cell_type_fine == clusts]\n",
    "            # program expression of control cell type:\n",
    "            ctrl_temp = np.array(prog_expr_ctrl_pd[progs])[adata_ctrl.obs.cell_type_fine == clusts]\n",
    "            fc_clust_celltype[j,i] = np.log2(disease_temp.mean()/ctrl_temp.mean())\n",
    "            pval_clust_celltype[j,i] = ss.ranksums(disease_temp, ctrl_temp).pvalue\n",
    "\n",
    "            # convert pvalue from 2 tail to one tail test \n",
    "            if fc_clust_celltype[j,i] > 0: pval_clust_celltype[j,i] = 0.5*pval_clust_celltype[j,i]\n",
    "            else: pval_clust_celltype[j,i] = 1 - 0.5*pval_clust_celltype[j,i]\n",
    "\n",
    "    # make dataframe of fc and pvalues:\n",
    "    fc_clust_celltype_pd = pd.DataFrame(fc_clust_celltype)\n",
    "    fc_clust_celltype_pd.index = row_names\n",
    "    fc_clust_celltype_pd.columns = prog_names\n",
    "\n",
    "    pval_clust_celltype_pd = pd.DataFrame(pval_clust_celltype)\n",
    "    pval_clust_celltype_pd.index = row_names\n",
    "    pval_clust_celltype_pd.columns = prog_names\n",
    "    \n",
    "    fc_all[blu] = fc_clust_celltype_pd\n",
    "    pval_all[blu] = pval_clust_celltype_pd"
   ]
  },
  {
   "cell_type": "code",
   "execution_count": null,
   "id": "67f97026",
   "metadata": {},
   "outputs": [],
   "source": [
    "median_fc = np.zeros(fc_all[0].shape)\n",
    "median_fc = pd.DataFrame(median_fc)\n",
    "median_fc.index = fc_all[0].index\n",
    "median_fc.columns = fc_all[0].columns\n",
    "\n",
    "\n",
    "for states in median_fc.index:\n",
    "    for progs in median_fc.columns:\n",
    "        temp = np.zeros(num)\n",
    "        for iters in range(num):\n",
    "            temp[iters] =  fc_all[iters].loc[states,progs]\n",
    "            \n",
    "        median_fc.loc[states,progs] = np.median(temp)\n",
    "    "
   ]
  },
  {
   "cell_type": "code",
   "execution_count": null,
   "id": "580886ab",
   "metadata": {},
   "outputs": [],
   "source": [
    "median_pval = np.zeros(pval_all[0].shape)\n",
    "median_pval = pd.DataFrame(median_pval)\n",
    "median_pval.index = pval_all[0].index\n",
    "median_pval.columns = pval_all[0].columns\n",
    "\n",
    "\n",
    "for states in median_pval.index:\n",
    "    for progs in median_pval.columns:\n",
    "        for iters in range(num):\n",
    "            if fc_all[iters].loc[states,progs] == median_fc.loc[states,progs]:\n",
    "                median_pval.loc[states,progs] =  pval_all[iters].loc[states,progs]\n",
    "            \n",
    "    "
   ]
  },
  {
   "cell_type": "code",
   "execution_count": null,
   "id": "05cdaa7f",
   "metadata": {},
   "outputs": [],
   "source": [
    "median_pval_corr = multitest.multipletests(np.array(median_pval).flatten(), \n",
    "                                              alpha=0.05,method='fdr_bh')[1]\n",
    "median_pval_corr = np.reshape(median_pval_corr, (median_pval.shape[0],\n",
    "                                                       median_pval.shape[1] ) )\n",
    "\n",
    "median_pval_corr = pd.DataFrame(median_pval_corr)\n",
    "median_pval_corr.index = median_pval.index\n",
    "median_pval_corr.columns = median_pval.columns"
   ]
  },
  {
   "cell_type": "code",
   "execution_count": null,
   "id": "3ff447b9",
   "metadata": {},
   "outputs": [],
   "source": [
    "# subset signifant differences and fc > 0\n",
    "fc_plot_median = median_fc[(median_pval_corr<0.05)]\n",
    "\n",
    "# initialize plot\n",
    "pl.figure(figsize = (fc_plot_median.shape[1]/2,fc_plot_median.shape[0]/2))\n",
    "\n",
    "# plot grey region\n",
    "sn.heatmap(-fc_plot_median.isnull(),  xticklabels=False, yticklabels = False,\n",
    "              cmap = 'Greys', vmax = 1, vmin = -0.3, cbar=False)\n",
    "\n",
    "# plot FC\n",
    "g=sn.heatmap(fc_plot_median, cmap = 'Reds' , vmax = 3, vmin = 0, square = True,\n",
    "          xticklabels=fc_plot_median.columns, yticklabels=fc_plot_median.index, cbar_kws={\"shrink\": 0.5})\n",
    "\n",
    "# add box around fold change greater than 2\n",
    "add_boxes_bool = np.array((median_fc>2)&(median_pval_corr<0.05))\n",
    "r,c = np.where(add_boxes_bool)\n",
    "\n",
    "for i in range(r.shape[0]):\n",
    "    g.add_patch(Rectangle((c[i], r[i]), 1, 1, fill=False, edgecolor='black', lw=2))\n"
   ]
  },
  {
   "cell_type": "code",
   "execution_count": null,
   "id": "e485f167",
   "metadata": {},
   "outputs": [],
   "source": [
    "fc_plot_median.to_csv('../data/csv_txt_files/covid_heatmap_bootstrapped.csv', sep = ',')"
   ]
  },
  {
   "cell_type": "code",
   "execution_count": null,
   "id": "dbfc8382-765f-449d-b144-4295f31ed206",
   "metadata": {},
   "outputs": [],
   "source": [
    "median_pval_corr.to_csv('../data/csv_txt_files/pval_covid_bootstrapped.csv', sep = ',')\n",
    "median_fc.to_csv('../data/csv_txt_files/fc_covid_bootstrapped.csv', sep = ',')"
   ]
  },
  {
   "cell_type": "code",
   "execution_count": null,
   "id": "39d2893e-0030-41ac-ba1e-4914a06ed90a",
   "metadata": {},
   "outputs": [],
   "source": []
  }
 ],
 "metadata": {
  "kernelspec": {
   "display_name": "Python 3 (ipykernel)",
   "language": "python",
   "name": "python3"
  },
  "language_info": {
   "codemirror_mode": {
    "name": "ipython",
    "version": 3
   },
   "file_extension": ".py",
   "mimetype": "text/x-python",
   "name": "python",
   "nbconvert_exporter": "python",
   "pygments_lexer": "ipython3",
   "version": "3.10.6"
  }
 },
 "nbformat": 4,
 "nbformat_minor": 5
}
