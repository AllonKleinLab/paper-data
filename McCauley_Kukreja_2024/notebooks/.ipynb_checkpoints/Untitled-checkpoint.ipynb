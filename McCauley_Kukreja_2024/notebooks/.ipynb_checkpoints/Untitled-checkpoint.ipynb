{
 "cells": [
  {
   "cell_type": "code",
   "execution_count": null,
   "id": "134671f3-bf8e-4df6-8781-f131a6494c05",
   "metadata": {},
   "outputs": [],
   "source": [
    "covid_exp1 = program_expr_cp10k(adata_covid_disease, \n",
    "                                    spectra_subset_new_covid,\n",
    "                                    list(prog_genes_covid_pd['TGFB1-1']), 'TGFB1-1' )\n"
   ]
  }
 ],
 "metadata": {
  "kernelspec": {
   "display_name": "Python 3 (ipykernel)",
   "language": "python",
   "name": "python3"
  },
  "language_info": {
   "codemirror_mode": {
    "name": "ipython",
    "version": 3
   },
   "file_extension": ".py",
   "mimetype": "text/x-python",
   "name": "python",
   "nbconvert_exporter": "python",
   "pygments_lexer": "ipython3",
   "version": "3.10.6"
  }
 },
 "nbformat": 4,
 "nbformat_minor": 5
}
