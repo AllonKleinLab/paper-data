{
 "cells": [
  {
   "cell_type": "markdown",
   "metadata": {},
   "source": [
    "# What this notebook does:\n",
    "\n",
    "This notebook makes various plots for abundance analyses related to Figure 2"
   ]
  },
  {
   "cell_type": "code",
   "execution_count": 1,
   "metadata": {},
   "outputs": [
    {
     "name": "stdout",
     "output_type": "stream",
     "text": [
      "1.9.1\n"
     ]
    }
   ],
   "source": [
    "%matplotlib inline\n",
    "\n",
    "import os\n",
    "import sys\n",
    "\n",
    "import scanpy as sc\n",
    "print(sc.__version__)\n",
    "\n",
    "#import anndata as ad\n",
    "#print(ad.__version__)\n",
    "\n",
    "import scipy as sp\n",
    "import pandas as pd\n",
    "import numpy as np\n",
    "import seaborn as sns\n",
    "import matplotlib.pyplot as plt\n",
    "from sklearn.decomposition import PCA\n",
    "\n",
    "sys.path.append('./Library/Python/3.8/lib/python/site-packages/')\n",
    "#import plotly.express as px"
   ]
  },
  {
   "cell_type": "markdown",
   "metadata": {},
   "source": [
    "## Plots on data averaged across all donors"
   ]
  },
  {
   "cell_type": "code",
   "execution_count": 2,
   "metadata": {},
   "outputs": [],
   "source": [
    "# Original data:\n",
    "\n",
    "#df = pd.read_csv('cell_abundances_with_mixed.csv')\n",
    "df = pd.read_csv('../../data/csv_txt_files/abundance_mean_combined.csv')\n",
    "df.set_index('Unnamed: 0',inplace=True)\n",
    "col_ord =['Basal','Multiciliated', 'Secretory', 'Goblet',  'Ionocyte', 'Tuft',\n",
    "       'PNEC'];\n",
    "df = df.reindex(columns=col_ord)"
   ]
  },
  {
   "cell_type": "code",
   "execution_count": 3,
   "metadata": {},
   "outputs": [
    {
     "data": {
      "text/html": [
       "<div>\n",
       "<style scoped>\n",
       "    .dataframe tbody tr th:only-of-type {\n",
       "        vertical-align: middle;\n",
       "    }\n",
       "\n",
       "    .dataframe tbody tr th {\n",
       "        vertical-align: top;\n",
       "    }\n",
       "\n",
       "    .dataframe thead th {\n",
       "        text-align: right;\n",
       "    }\n",
       "</style>\n",
       "<table border=\"1\" class=\"dataframe\">\n",
       "  <thead>\n",
       "    <tr style=\"text-align: right;\">\n",
       "      <th></th>\n",
       "      <th>Basal</th>\n",
       "      <th>Multiciliated</th>\n",
       "      <th>Secretory</th>\n",
       "      <th>Goblet</th>\n",
       "      <th>Ionocyte</th>\n",
       "      <th>Tuft</th>\n",
       "      <th>PNEC</th>\n",
       "    </tr>\n",
       "    <tr>\n",
       "      <th>Unnamed: 0</th>\n",
       "      <th></th>\n",
       "      <th></th>\n",
       "      <th></th>\n",
       "      <th></th>\n",
       "      <th></th>\n",
       "      <th></th>\n",
       "      <th></th>\n",
       "    </tr>\n",
       "  </thead>\n",
       "  <tbody>\n",
       "    <tr>\n",
       "      <th>None</th>\n",
       "      <td>43.286395</td>\n",
       "      <td>18.876388</td>\n",
       "      <td>35.370055</td>\n",
       "      <td>1.448409</td>\n",
       "      <td>0.899318</td>\n",
       "      <td>0.524542</td>\n",
       "      <td>0.155753</td>\n",
       "    </tr>\n",
       "    <tr>\n",
       "      <th>Leptin</th>\n",
       "      <td>28.033898</td>\n",
       "      <td>29.220378</td>\n",
       "      <td>39.115794</td>\n",
       "      <td>1.151336</td>\n",
       "      <td>1.248405</td>\n",
       "      <td>1.015343</td>\n",
       "      <td>0.214846</td>\n",
       "    </tr>\n",
       "    <tr>\n",
       "      <th>TNFA</th>\n",
       "      <td>31.335767</td>\n",
       "      <td>14.672305</td>\n",
       "      <td>52.153255</td>\n",
       "      <td>0.685343</td>\n",
       "      <td>0.648346</td>\n",
       "      <td>0.372204</td>\n",
       "      <td>0.132781</td>\n",
       "    </tr>\n",
       "    <tr>\n",
       "      <th>ActA</th>\n",
       "      <td>34.257086</td>\n",
       "      <td>21.194213</td>\n",
       "      <td>42.873190</td>\n",
       "      <td>0.380815</td>\n",
       "      <td>0.640706</td>\n",
       "      <td>0.593700</td>\n",
       "      <td>0.060289</td>\n",
       "    </tr>\n",
       "    <tr>\n",
       "      <th>OSM</th>\n",
       "      <td>48.381477</td>\n",
       "      <td>3.241310</td>\n",
       "      <td>46.819192</td>\n",
       "      <td>1.390369</td>\n",
       "      <td>0.056201</td>\n",
       "      <td>0.037467</td>\n",
       "      <td>0.074934</td>\n",
       "    </tr>\n",
       "  </tbody>\n",
       "</table>\n",
       "</div>"
      ],
      "text/plain": [
       "                Basal  Multiciliated  Secretory    Goblet  Ionocyte      Tuft  \\\n",
       "Unnamed: 0                                                                      \n",
       "None        43.286395      18.876388  35.370055  1.448409  0.899318  0.524542   \n",
       "Leptin      28.033898      29.220378  39.115794  1.151336  1.248405  1.015343   \n",
       "TNFA        31.335767      14.672305  52.153255  0.685343  0.648346  0.372204   \n",
       "ActA        34.257086      21.194213  42.873190  0.380815  0.640706  0.593700   \n",
       "OSM         48.381477       3.241310  46.819192  1.390369  0.056201  0.037467   \n",
       "\n",
       "                PNEC  \n",
       "Unnamed: 0            \n",
       "None        0.155753  \n",
       "Leptin      0.214846  \n",
       "TNFA        0.132781  \n",
       "ActA        0.060289  \n",
       "OSM         0.074934  "
      ]
     },
     "execution_count": 3,
     "metadata": {},
     "output_type": "execute_result"
    }
   ],
   "source": [
    "df.head()"
   ]
  },
  {
   "cell_type": "code",
   "execution_count": 4,
   "metadata": {
    "scrolled": true
   },
   "outputs": [
    {
     "data": {
      "image/png": "[encoded data removed]",
      "text/plain": [
       "<Figure size 240x280 with 2 Axes>"
      ]
     },
     "metadata": {},
     "output_type": "display_data"
    }
   ],
   "source": [
    "plt.figure(figsize=(3, 3.5), dpi=80)\n",
    "sns.heatmap(df/df.max(),cmap='Reds',cbar_kws={'label': 'Relative frequency (max=1)'},yticklabels=True)\n",
    "tmp1 = plt.xticks(fontname = 'Arial', rotation = 45)\n",
    "tmp2 = plt.yticks(fontname = 'Arial', fontsize = 11)\n",
    "plt.savefig('../../figures/Fig2C_freq_heatmap_max=1.pdf',  bbox_inches='tight', dpi = 300)"
   ]
  },
  {
   "cell_type": "code",
   "execution_count": 5,
   "metadata": {
    "scrolled": true
   },
   "outputs": [
    {
     "data": {
      "image/png": "[encoded data removed]",
      "text/plain": [
       "<Figure size 240x160 with 1 Axes>"
      ]
     },
     "metadata": {},
     "output_type": "display_data"
    }
   ],
   "source": [
    "\n",
    "\n",
    "satmin = [np.max([0.1,val]) for val in df.min()]\n",
    "\n",
    "plt.figure(figsize=(3, 2), dpi=80)\n",
    "plt.plot(range(df.shape[1]),df.max(),'o--', color = '#ca0020', linewidth=2 )\n",
    "plt.plot(range(df.shape[1]),df.loc['None'],'o--', color = 'Black', linewidth=2)\n",
    "plt.plot(range(df.shape[1]),satmin,'o--', color = '#0571b0', linewidth=2)\n",
    "plt.yscale('log')\n",
    "plt.xticks(ticks=np.arange(df.shape[1]),labels=df.columns,rotation=45, fontname = 'Arial')\n",
    "plt.yticks(fontname = 'Arial', ticks =[0.1,1,10,100] ,labels = [0.1,1,10,100], fontsize = 13)\n",
    "plt.savefig('../../figures/Fig2C_freq_maxminValues.pdf',bbox_inches='tight',  dpi = 300)"
   ]
  },
  {
   "cell_type": "code",
   "execution_count": 6,
   "metadata": {},
   "outputs": [
    {
     "data": {
      "image/png": "[encoded data removed]",
      "text/plain": [
       "<Figure size 240x240 with 1 Axes>"
      ]
     },
     "metadata": {},
     "output_type": "display_data"
    }
   ],
   "source": [
    "showLabels = False\n",
    "plt.figure(figsize=(3, 3), dpi=80)\n",
    "x=(df.fillna(0))['Multiciliated']\n",
    "y=(df.fillna(0))['Secretory']+(df.fillna(0))['Goblet']\n",
    "plt.scatter(x,y,color='Black',s=45,zorder=9)\n",
    "plt.scatter(x['None'],y['None'],color='Red',edgecolor='Black',s=45,zorder=10)\n",
    "\n",
    "if showLabels:\n",
    "    for i in range(df.shape[0]):\n",
    "        plt.text(x=x[i]+.2,y=y[i]+.2,s=df.index[i])\n",
    "\n",
    "xfit=np.array([0,70])\n",
    "plt.plot(xfit,1*xfit,'-', color=\"0.5\")    \n",
    "\n",
    "if 1:\n",
    "    plt.xlim(0, 40)\n",
    "    plt.ylim(0, 70)\n",
    "else:\n",
    "    plt.xscale('log')\n",
    "    plt.yscale('log')\n",
    "plt.xlabel('Multiciliated (%)', fontname = 'Arial')    \n",
    "plt.ylabel('Club+Goblet (%)',fontname = 'Arial')\n",
    "plt.xticks(fontname = 'Arial')\n",
    "plt.yticks(fontname = 'Arial')\n",
    "\n",
    "#plt.gca().set_aspect('equal', adjustable='box')\n",
    "plt.draw()\n",
    "\n",
    "if showLabels:\n",
    "    plt.savefig('../../figures/FigS4C_MCC_Sec.pdf',  bbox_inches='tight', dpi = 300)\n",
    "else:\n",
    "    plt.savefig('../../figures/FigS4C_MCC_Sec_noLabels.pdf',  bbox_inches='tight', dpi = 300)"
   ]
  },
  {
   "cell_type": "code",
   "execution_count": 7,
   "metadata": {},
   "outputs": [
    {
     "data": {
      "image/png": "[encoded data removed]",
      "text/plain": [
       "<Figure size 240x240 with 1 Axes>"
      ]
     },
     "metadata": {},
     "output_type": "display_data"
    }
   ],
   "source": [
    "showLabels = False\n",
    "plt.figure(figsize=(3, 3), dpi=80)\n",
    "x=(df.fillna(0))['Secretory']\n",
    "y=(df.fillna(0))['Goblet']\n",
    "\n",
    "plt.scatter(x,y,color='Black',s=45,zorder=9)\n",
    "plt.scatter(x['None'],y['None'],color='Red',edgecolor='Black',s=45,zorder=10)\n",
    "\n",
    "xfit=np.array([0,150])\n",
    "plt.plot(xfit,.015*xfit,'-', color=\"0.5\")    \n",
    "    \n",
    "if 0:\n",
    "    plt.xlim(0, 65)\n",
    "    plt.ylim(0, 25)\n",
    "    \n",
    "    if showLabels:\n",
    "        for i in range(df.shape[0]):\n",
    "            plt.text(x=x[i]+.02,y=y[i]+.02,s=df.index[i],fontname = 'Arial')\n",
    "    \n",
    "else:\n",
    "    plt.xlim(4, 100)\n",
    "    plt.ylim(.2, 100)\n",
    "    \n",
    "    if showLabels:\n",
    "        for i in range(df.shape[0]):\n",
    "            plt.text(x=x[i]+.02,y=y[i]+.02,s=df.index[i],fontname = 'Arial')\n",
    "\n",
    "\n",
    "    plt.xscale('log')\n",
    "    plt.yscale('log')\n",
    "    \n",
    "plt.grid(False)    \n",
    "plt.xlabel('Club (%)',fontname = 'Arial')\n",
    "plt.ylabel('Goblet (%)',fontname = 'Arial')\n",
    "plt.xticks(fontname = 'Arial')\n",
    "plt.yticks(fontname = 'Arial')\n",
    "#plt.gca().set_aspect('equal', adjustable='box')\n",
    "plt.draw()\n",
    "if showLabels:\n",
    "    plt.savefig('../../figures/FigS4B_Club_Gob.pdf', bbox_inches='tight', dpi = 300)\n",
    "else:\n",
    "    plt.savefig('../../figures/FigS4B_Club_Gob_noLabels.pdf', bbox_inches='tight', dpi = 300)"
   ]
  },
  {
   "cell_type": "code",
   "execution_count": 8,
   "metadata": {},
   "outputs": [
    {
     "data": {
      "image/png": "[encoded data removed]",
      "text/plain": [
       "<Figure size 240x240 with 1 Axes>"
      ]
     },
     "metadata": {},
     "output_type": "display_data"
    }
   ],
   "source": [
    "showLabels = False\n",
    "plt.figure(figsize=(3, 3), dpi=80)\n",
    "x=df['PNEC']+df['Tuft']\n",
    "y=df['Ionocyte']\n",
    "\n",
    "plt.scatter(x,y,color='Black',s=45,zorder=9)\n",
    "plt.scatter(x['None'],y['None'],color='Red',edgecolor='Black',s=45,zorder=10)\n",
    "\n",
    "if showLabels:\n",
    "    for i in range(df.shape[0]):\n",
    "        plt.text(x=x[i]+.02,y=y[i]+.02,s=df.index[i],fontname = 'Arial')\n",
    "\n",
    "xfit=np.array([0,70])\n",
    "plt.plot(xfit,xfit,'-',color=\"0.5\")    \n",
    "    \n",
    "plt.xlim(0, 1.5)\n",
    "plt.ylim(0, 1.5)\n",
    "plt.yticks([0,0.5,1,1.5],fontname='Arial')\n",
    "plt.xticks(fontname='Arial')\n",
    "plt.xlabel('PNEC+Tuft (%)',fontname='Arial')\n",
    "plt.ylabel('Ionocyte (%)',fontname='Arial')\n",
    "\n",
    "\n",
    "plt.gca().set_aspect('equal', adjustable='box')\n",
    "plt.draw()\n",
    "if showLabels:\n",
    "    plt.savefig('../../figures/FigS4D_PNEC_Tuft_Ionocyte.pdf', bbox_inches='tight', dpi = 300)\n",
    "else:\n",
    "    plt.savefig('../../figures/FigS4D_PNEC_Tuft_Ionocyte_noLabels.pdf', bbox_inches='tight', dpi = 300)"
   ]
  },
  {
   "cell_type": "markdown",
   "metadata": {},
   "source": [
    "# Plots after normalizing per-donor"
   ]
  },
  {
   "cell_type": "code",
   "execution_count": 9,
   "metadata": {},
   "outputs": [],
   "source": [
    "# Initialize dictionary of data frames:\n",
    "df_dnrs = {}\n",
    "\n",
    "# List of file names for source data:\n",
    "replicate_fnames = ['abundance_indrops_rep1.csv','abundance_indrops_rep2.csv','abundance_indrops_rep3.csv', \n",
    "                    'abundance_new_data_rep1.csv','abundance_new_data_rep2.csv',\n",
    "                    'abundance_new_data_rep3.csv']\n",
    "\n",
    "# Order of columns that I would like:\n",
    "col_ord = ['Basal','Multiciliated', 'Club', 'Goblet',  'Ionocyte', 'Tuft','PNEC'];\n",
    "\n",
    "\n",
    "for k,fname in enumerate(replicate_fnames):\n",
    "\n",
    "    df_dnrs[k] = pd.read_csv('../../data/csv_txt_files/'+fname)\n",
    "    df_dnrs[k].set_index('Unnamed: 0',inplace=True)\n",
    "    \n",
    "    \n",
    "    # For the new data, we only have 'rare' cell types for now:\n",
    "    if 'Rare' in df_dnrs[k].columns:\n",
    "        # Distribute  values over the three cell types\n",
    "        df_dnrs[k]['Ionocyte'] = df_dnrs[k]['Rare']/3\n",
    "        df_dnrs[k]['Tuft'] = df_dnrs[k]['Rare']/3\n",
    "        df_dnrs[k]['PNEC'] = df_dnrs[k]['Rare']/3\n",
    "        df_dnrs[k].drop(columns='Rare',inplace=True)\n",
    "    \n",
    "    df_dnrs[k] = df_dnrs[k].reindex(columns=col_ord)\n",
    "    #print(k)\n",
    "    #print(df_dnrs[k])\n",
    "\n",
    "\n",
    "    \n"
   ]
  },
  {
   "cell_type": "code",
   "execution_count": 10,
   "metadata": {},
   "outputs": [],
   "source": [
    "# Normalize all values within-donor\n",
    "df_dnrs_norm = {}\n",
    "df_dnrs_norm_no_pseudo = {}\n",
    "df_dnrs_all_sec_norm_no_pseudo = {}\n",
    "df_dnrs_tuftPNEC_norm_no_pseudo = {}\n",
    "pseudo_ct = 0.05 # Blunt large fold-changes\n",
    "for k,fname in enumerate(replicate_fnames):\n",
    "\n",
    "    #df_dnrs_norm[k] = df_dnrs[k]-df_dnrs[k].loc['None']\n",
    "    \n",
    "    # Log-fold change for each donor separately:\n",
    "    df_dnrs_norm[k] = np.log2((pseudo_ct+df_dnrs[k])/(pseudo_ct+df_dnrs[k].loc['None']))\n",
    "    df_dnrs_norm_no_pseudo[k] = np.log2((1e-10+df_dnrs[k])/(1e-10+df_dnrs[k].loc['None']))\n",
    "    df_dnrs_all_sec_norm_no_pseudo[k] = np.log2((1e-10+df_dnrs[k]['Club']+df_dnrs[k]['Goblet'])/(1e-10+df_dnrs[k].loc['None']['Club']+df_dnrs[k].loc['None']['Goblet']))\n",
    "    df_dnrs_tuftPNEC_norm_no_pseudo[k] = np.log2((1e-10+df_dnrs[k]['Tuft']+df_dnrs[k]['PNEC'])/(1e-10+df_dnrs[k].loc['None']['Tuft']+df_dnrs[k].loc['None']['PNEC']))\n",
    "    #print(df_dnrs_norm[k])\n",
    "    \n",
    "# Concatenate in order to \n",
    "df_all = pd.concat(df_dnrs_norm)    \n",
    "df_all_no_pseudo = pd.concat(df_dnrs_norm_no_pseudo)  \n",
    "df_all_sec_norm_no_pseudo = pd.concat(df_dnrs_all_sec_norm_no_pseudo)   \n",
    "\n",
    "# Make means of normalized\n",
    "df_mean = df_all.groupby('Unnamed: 0').mean()\n",
    "df_geomean = 2**(df_all_no_pseudo.groupby('Unnamed: 0').mean())\n",
    "df_allsec_geomean = 2**(df_all_sec_norm_no_pseudo.groupby('Unnamed: 0').mean()) \n",
    "df_tuftPNEC_geomean = 2**(df_all_sec_norm_no_pseudo.groupby('Unnamed: 0').mean()) \n"
   ]
  },
  {
   "cell_type": "code",
   "execution_count": 11,
   "metadata": {},
   "outputs": [],
   "source": [
    "\n",
    "pca = PCA(n_components=6)\n",
    "#pca.fit(df.fillna(0)) # Replace NaN with 0\n",
    "if 1:\n",
    "    components = pca.fit_transform(df_mean)\n",
    "    #ctrl = (pd.concat(df_dnrs).groupby('Unnamed: 0').mean()).loc['None'] # Average of all controls\n",
    "    #components = pca.fit_transform(df_mean/ctrl)\n",
    "    #components = pca.fit_transform(df_mean/df_mean.std())\n",
    "else:\n",
    "    components = pca.fit_transform((df_mean - df_mean.mean())/df_mean.std())"
   ]
  },
  {
   "cell_type": "code",
   "execution_count": 12,
   "metadata": {
    "scrolled": true,
    "tags": []
   },
   "outputs": [
    {
     "data": {
      "image/png": "[encoded data removed]",
      "text/plain": [
       "<Figure size 240x240 with 1 Axes>"
      ]
     },
     "metadata": {},
     "output_type": "display_data"
    }
   ],
   "source": [
    "c1 = 0\n",
    "c2 = 1\n",
    "\n",
    "plt.figure(figsize=(3, 3), dpi=80)\n",
    "plt.plot(components[:,c1],components[:,c2],'ok')\n",
    "\n",
    "for i in range(df.shape[0]):\n",
    "    plt.text(x=components[i,c1]+.1,y=components[i,c2]+.1,s=df_mean.index[i], fontname = 'Arial')\n",
    "\n",
    "x0 = components[14,c1]\n",
    "y0 = components[14,c2]\n",
    "\n",
    "plt.plot([-4.5,6.5],[y0,y0],'k-',linewidth=0.5)\n",
    "plt.plot([x0,x0],[-2.5,6],'k-',linewidth=0.5)\n",
    "\n",
    "plt.xlim(-4.5, 6.5)\n",
    "plt.ylim(-2.5, 6)\n",
    "plt.yticks(fontname = 'Arial')\n",
    "plt.xticks(fontname = 'Arial')\n",
    "plt.xlabel('PC '+str(c1+1)+ '('+\"{:.0%}\".format(pca.explained_variance_[c1]/sum(pca.explained_variance_))+')' ,fontname = 'Arial')\n",
    "plt.ylabel('PC '+str(c2+1)+ '('+\"{:.0%}\".format(pca.explained_variance_[c2]/sum(pca.explained_variance_))+')' ,fontname = 'Arial')\n",
    "#plt.gca().set_aspect('equal', adjustable='box')\n",
    "plt.draw()\n",
    "#plt.savefig('../../figures/Fig2D_PC_meanlog2FC'+str(c1+1)+str(c2+1),   bbox_inches='tight', dpi = 300)"
   ]
  },
  {
   "cell_type": "code",
   "execution_count": 13,
   "metadata": {
    "tags": []
   },
   "outputs": [
    {
     "data": {
      "image/png": "[encoded data removed]",
      "text/plain": [
       "<Figure size 240x240 with 1 Axes>"
      ]
     },
     "metadata": {},
     "output_type": "display_data"
    }
   ],
   "source": [
    "c1 = 0\n",
    "c2 = 1\n",
    "\n",
    "plt.figure(figsize=(3, 3), dpi=80)\n",
    "plt.scatter(components[:,c1],components[:,c2],color = 'black', s=40, zorder = 9)\n",
    "\n",
    "\n",
    "x0 = components[14,c1]\n",
    "y0 = components[14,c2]\n",
    "plt.plot([-4.5,6.5],[y0,y0],'-',linewidth=0.5, color = 'grey')\n",
    "plt.plot([x0,x0],[-2.5,6],'-',linewidth=0.5, color = 'grey')\n",
    "plt.scatter(x0, y0, color = 'Red', s=50, zorder = 10, edgecolor = 'grey')\n",
    "\n",
    "plt.xlim(-4.5, 6.5)\n",
    "plt.ylim(-2.5, 6)\n",
    "plt.yticks(fontname = 'Arial', fontsize = 11)\n",
    "plt.xticks(fontname = 'Arial',fontsize=11)\n",
    "plt.xlabel('PC '+str(c1+1)+ '('+\"{:.0%}\".format(pca.explained_variance_[c1]/sum(pca.explained_variance_))+')' ,fontname = 'Arial')\n",
    "plt.ylabel('PC '+str(c2+1)+ '('+\"{:.0%}\".format(pca.explained_variance_[c2]/sum(pca.explained_variance_))+')' ,fontname = 'Arial')\n",
    "#plt.gca().set_aspect('equal', adjustable='box')\n",
    "plt.draw()\n",
    "plt.savefig('../../figures/Fig2D_PC_meanlog2FC',   bbox_inches='tight', dpi = 300)"
   ]
  },
  {
   "cell_type": "code",
   "execution_count": 14,
   "metadata": {},
   "outputs": [
    {
     "data": {
      "image/png": "[encoded data removed]",
      "text/plain": [
       "<Figure size 240x240 with 1 Axes>"
      ]
     },
     "metadata": {},
     "output_type": "display_data"
    }
   ],
   "source": [
    "c1 = 0\n",
    "c2 = 1\n",
    "\n",
    "plt.figure(figsize=(3, 3), dpi=80)\n",
    "x=pca.components_[c1,:]\n",
    "y=pca.components_[c2,:]\n",
    "fig=plt.plot(pca.components_[0,:],pca.components_[1,:],'ok')\n",
    "plt.plot([-1,1],[0,0],'k-',linewidth=0.5)\n",
    "plt.plot([0,0],[-1,1],'k-',linewidth=0.5)\n",
    "for i in range(df.shape[1]):\n",
    "    plt.text(x=x[i]+.02,y=y[i]+.02,s=df_mean.columns[i],fontname = 'Arial')\n",
    "plt.xlim(-.75, .3)\n",
    "plt.ylim(-.75, .75)\n",
    "plt.xlabel('PC 1 loadings',fontname = 'Arial')\n",
    "plt.ylabel('PC 2 loadings',fontname = 'Arial')\n",
    "plt.yticks(fontname = 'Arial')\n",
    "plt.xticks(fontname = 'Arial')\n",
    "#plt.gca().set_aspect('equal', adjustable='box')\n",
    "plt.draw()\n",
    "\n",
    "#plt.savefig('../../figures/fig_PC_loadings_meanlog2FC'+str(c1+1)+str(c2+1)+'wNewData.pdf',  bbox_inches='tight', dpi = 300)\n"
   ]
  },
  {
   "cell_type": "code",
   "execution_count": 15,
   "metadata": {},
   "outputs": [
    {
     "data": {
      "image/png": "[encoded data removed]",
      "text/plain": [
       "<Figure size 240x240 with 1 Axes>"
      ]
     },
     "metadata": {},
     "output_type": "display_data"
    }
   ],
   "source": [
    "c1 = 0\n",
    "c2 = 1\n",
    "\n",
    "plt.figure(figsize=(3, 3), dpi=80)\n",
    "x=pca.components_[c1,:]\n",
    "y=pca.components_[c2,:]\n",
    "fig=plt.scatter(pca.components_[0,:],pca.components_[1,:],color = 'black', s=40)\n",
    "plt.plot([-1,1],[0,0],'-',linewidth=0.5, color = 'grey')\n",
    "plt.plot([0,0],[-1,1],'-',linewidth=0.5, color = 'grey')\n",
    "\n",
    "plt.xlim(-.75, .3)\n",
    "plt.ylim(-.75, .75)\n",
    "plt.xlabel('PC 1 loadings',fontname = 'Arial')\n",
    "plt.ylabel('PC 2 loadings',fontname = 'Arial')\n",
    "plt.yticks(fontname = 'Arial', fontsize = 11)\n",
    "plt.xticks(fontname = 'Arial', fontsize = 11)\n",
    "#plt.gca().set_aspect('equal', adjustable='box')\n",
    "plt.draw()\n",
    "\n",
    "plt.savefig('../../figures/Fig2E_PC_loadings_meanlog2FC', \n",
    "            bbox_inches='tight', dpi = 300)\n"
   ]
  },
  {
   "cell_type": "markdown",
   "metadata": {},
   "source": [
    "### Specific changes, plotted using ratio of averages (rather than average of ratios)"
   ]
  },
  {
   "cell_type": "code",
   "execution_count": 16,
   "metadata": {
    "tags": []
   },
   "outputs": [
    {
     "data": {
      "text/html": [
       "<div>\n",
       "<style scoped>\n",
       "    .dataframe tbody tr th:only-of-type {\n",
       "        vertical-align: middle;\n",
       "    }\n",
       "\n",
       "    .dataframe tbody tr th {\n",
       "        vertical-align: top;\n",
       "    }\n",
       "\n",
       "    .dataframe thead th {\n",
       "        text-align: right;\n",
       "    }\n",
       "</style>\n",
       "<table border=\"1\" class=\"dataframe\">\n",
       "  <thead>\n",
       "    <tr style=\"text-align: right;\">\n",
       "      <th></th>\n",
       "      <th>Basal</th>\n",
       "      <th>Multiciliated</th>\n",
       "      <th>Club</th>\n",
       "      <th>Goblet</th>\n",
       "      <th>Ionocyte</th>\n",
       "      <th>Tuft</th>\n",
       "      <th>PNEC</th>\n",
       "      <th>All_Sec</th>\n",
       "      <th>Tuft_PNEC</th>\n",
       "    </tr>\n",
       "    <tr>\n",
       "      <th>Unnamed: 0</th>\n",
       "      <th></th>\n",
       "      <th></th>\n",
       "      <th></th>\n",
       "      <th></th>\n",
       "      <th></th>\n",
       "      <th></th>\n",
       "      <th></th>\n",
       "      <th></th>\n",
       "      <th></th>\n",
       "    </tr>\n",
       "  </thead>\n",
       "  <tbody>\n",
       "    <tr>\n",
       "      <th>ActA</th>\n",
       "      <td>0.814105</td>\n",
       "      <td>0.842008</td>\n",
       "      <td>1.394494</td>\n",
       "      <td>0.697435</td>\n",
       "      <td>0.696055</td>\n",
       "      <td>1.275561</td>\n",
       "      <td>0.826523</td>\n",
       "      <td>1.382330</td>\n",
       "      <td>1.214723</td>\n",
       "    </tr>\n",
       "    <tr>\n",
       "      <th>Adipo</th>\n",
       "      <td>1.182023</td>\n",
       "      <td>0.627822</td>\n",
       "      <td>1.181688</td>\n",
       "      <td>1.081556</td>\n",
       "      <td>0.574117</td>\n",
       "      <td>0.772421</td>\n",
       "      <td>0.805013</td>\n",
       "      <td>1.180030</td>\n",
       "      <td>0.779883</td>\n",
       "    </tr>\n",
       "    <tr>\n",
       "      <th>BMP4</th>\n",
       "      <td>1.593765</td>\n",
       "      <td>0.750773</td>\n",
       "      <td>0.703952</td>\n",
       "      <td>0.000000</td>\n",
       "      <td>0.000000</td>\n",
       "      <td>0.000000</td>\n",
       "      <td>0.000000</td>\n",
       "      <td>0.692300</td>\n",
       "      <td>0.000000</td>\n",
       "    </tr>\n",
       "    <tr>\n",
       "      <th>CHIR</th>\n",
       "      <td>1.169309</td>\n",
       "      <td>0.539348</td>\n",
       "      <td>1.323021</td>\n",
       "      <td>0.000000</td>\n",
       "      <td>0.000000</td>\n",
       "      <td>0.128379</td>\n",
       "      <td>0.432353</td>\n",
       "      <td>1.301123</td>\n",
       "      <td>0.197973</td>\n",
       "    </tr>\n",
       "    <tr>\n",
       "      <th>EGF</th>\n",
       "      <td>1.141922</td>\n",
       "      <td>0.560614</td>\n",
       "      <td>1.295125</td>\n",
       "      <td>1.317023</td>\n",
       "      <td>0.333543</td>\n",
       "      <td>0.130402</td>\n",
       "      <td>1.317504</td>\n",
       "      <td>1.295488</td>\n",
       "      <td>0.402188</td>\n",
       "    </tr>\n",
       "    <tr>\n",
       "      <th>FGF10</th>\n",
       "      <td>1.605633</td>\n",
       "      <td>0.606921</td>\n",
       "      <td>0.774284</td>\n",
       "      <td>0.953657</td>\n",
       "      <td>0.677727</td>\n",
       "      <td>0.739628</td>\n",
       "      <td>1.444881</td>\n",
       "      <td>0.777253</td>\n",
       "      <td>0.901094</td>\n",
       "    </tr>\n",
       "    <tr>\n",
       "      <th>FGF2</th>\n",
       "      <td>2.557674</td>\n",
       "      <td>0.474329</td>\n",
       "      <td>0.780527</td>\n",
       "      <td>0.627348</td>\n",
       "      <td>0.484971</td>\n",
       "      <td>0.375039</td>\n",
       "      <td>1.628271</td>\n",
       "      <td>0.777873</td>\n",
       "      <td>0.697105</td>\n",
       "    </tr>\n",
       "    <tr>\n",
       "      <th>HGF</th>\n",
       "      <td>1.046065</td>\n",
       "      <td>0.830585</td>\n",
       "      <td>1.110313</td>\n",
       "      <td>0.800547</td>\n",
       "      <td>1.108643</td>\n",
       "      <td>1.225752</td>\n",
       "      <td>0.875113</td>\n",
       "      <td>1.105186</td>\n",
       "      <td>1.145473</td>\n",
       "    </tr>\n",
       "    <tr>\n",
       "      <th>IFNA</th>\n",
       "      <td>2.106438</td>\n",
       "      <td>0.480960</td>\n",
       "      <td>0.382374</td>\n",
       "      <td>2.282526</td>\n",
       "      <td>0.805721</td>\n",
       "      <td>0.000000</td>\n",
       "      <td>0.330398</td>\n",
       "      <td>0.413825</td>\n",
       "      <td>0.075644</td>\n",
       "    </tr>\n",
       "    <tr>\n",
       "      <th>IFNG</th>\n",
       "      <td>1.460910</td>\n",
       "      <td>0.886544</td>\n",
       "      <td>0.366114</td>\n",
       "      <td>0.750313</td>\n",
       "      <td>0.022712</td>\n",
       "      <td>0.000000</td>\n",
       "      <td>0.000000</td>\n",
       "      <td>0.384874</td>\n",
       "      <td>0.000000</td>\n",
       "    </tr>\n",
       "    <tr>\n",
       "      <th>IGF1</th>\n",
       "      <td>1.293982</td>\n",
       "      <td>0.652974</td>\n",
       "      <td>1.023514</td>\n",
       "      <td>1.310530</td>\n",
       "      <td>0.965584</td>\n",
       "      <td>1.269180</td>\n",
       "      <td>0.866841</td>\n",
       "      <td>1.028264</td>\n",
       "      <td>1.177065</td>\n",
       "    </tr>\n",
       "    <tr>\n",
       "      <th>IL13</th>\n",
       "      <td>1.014085</td>\n",
       "      <td>1.136732</td>\n",
       "      <td>0.172728</td>\n",
       "      <td>42.628129</td>\n",
       "      <td>0.541844</td>\n",
       "      <td>0.819691</td>\n",
       "      <td>0.890654</td>\n",
       "      <td>0.875436</td>\n",
       "      <td>0.835938</td>\n",
       "    </tr>\n",
       "    <tr>\n",
       "      <th>IL17A</th>\n",
       "      <td>1.034242</td>\n",
       "      <td>0.401509</td>\n",
       "      <td>1.406295</td>\n",
       "      <td>9.403780</td>\n",
       "      <td>0.853017</td>\n",
       "      <td>0.346812</td>\n",
       "      <td>1.318880</td>\n",
       "      <td>1.538666</td>\n",
       "      <td>0.569366</td>\n",
       "    </tr>\n",
       "    <tr>\n",
       "      <th>Leptin</th>\n",
       "      <td>1.381690</td>\n",
       "      <td>0.647597</td>\n",
       "      <td>1.196234</td>\n",
       "      <td>1.996696</td>\n",
       "      <td>2.047236</td>\n",
       "      <td>1.942044</td>\n",
       "      <td>1.188108</td>\n",
       "      <td>1.210105</td>\n",
       "      <td>1.748291</td>\n",
       "    </tr>\n",
       "    <tr>\n",
       "      <th>None</th>\n",
       "      <td>1.000000</td>\n",
       "      <td>1.000000</td>\n",
       "      <td>1.000000</td>\n",
       "      <td>1.000000</td>\n",
       "      <td>1.000000</td>\n",
       "      <td>1.000000</td>\n",
       "      <td>1.000000</td>\n",
       "      <td>1.000000</td>\n",
       "      <td>1.000000</td>\n",
       "    </tr>\n",
       "    <tr>\n",
       "      <th>OSM</th>\n",
       "      <td>0.883119</td>\n",
       "      <td>0.563318</td>\n",
       "      <td>1.275535</td>\n",
       "      <td>0.737869</td>\n",
       "      <td>0.115449</td>\n",
       "      <td>0.188735</td>\n",
       "      <td>0.463191</td>\n",
       "      <td>1.249281</td>\n",
       "      <td>0.288552</td>\n",
       "    </tr>\n",
       "    <tr>\n",
       "      <th>TGFB1</th>\n",
       "      <td>2.908330</td>\n",
       "      <td>0.046753</td>\n",
       "      <td>0.045314</td>\n",
       "      <td>0.000000</td>\n",
       "      <td>0.035955</td>\n",
       "      <td>0.000000</td>\n",
       "      <td>0.596459</td>\n",
       "      <td>0.044564</td>\n",
       "      <td>0.136559</td>\n",
       "    </tr>\n",
       "    <tr>\n",
       "      <th>TNFA</th>\n",
       "      <td>0.940452</td>\n",
       "      <td>0.469628</td>\n",
       "      <td>1.566272</td>\n",
       "      <td>1.222936</td>\n",
       "      <td>0.720931</td>\n",
       "      <td>0.709578</td>\n",
       "      <td>0.852510</td>\n",
       "      <td>1.560589</td>\n",
       "      <td>0.742302</td>\n",
       "    </tr>\n",
       "  </tbody>\n",
       "</table>\n",
       "</div>"
      ],
      "text/plain": [
       "               Basal  Multiciliated      Club     Goblet  Ionocyte      Tuft  \\\n",
       "Unnamed: 0                                                                     \n",
       "ActA        0.814105       0.842008  1.394494   0.697435  0.696055  1.275561   \n",
       "Adipo       1.182023       0.627822  1.181688   1.081556  0.574117  0.772421   \n",
       "BMP4        1.593765       0.750773  0.703952   0.000000  0.000000  0.000000   \n",
       "CHIR        1.169309       0.539348  1.323021   0.000000  0.000000  0.128379   \n",
       "EGF         1.141922       0.560614  1.295125   1.317023  0.333543  0.130402   \n",
       "FGF10       1.605633       0.606921  0.774284   0.953657  0.677727  0.739628   \n",
       "FGF2        2.557674       0.474329  0.780527   0.627348  0.484971  0.375039   \n",
       "HGF         1.046065       0.830585  1.110313   0.800547  1.108643  1.225752   \n",
       "IFNA        2.106438       0.480960  0.382374   2.282526  0.805721  0.000000   \n",
       "IFNG        1.460910       0.886544  0.366114   0.750313  0.022712  0.000000   \n",
       "IGF1        1.293982       0.652974  1.023514   1.310530  0.965584  1.269180   \n",
       "IL13        1.014085       1.136732  0.172728  42.628129  0.541844  0.819691   \n",
       "IL17A       1.034242       0.401509  1.406295   9.403780  0.853017  0.346812   \n",
       "Leptin      1.381690       0.647597  1.196234   1.996696  2.047236  1.942044   \n",
       "None        1.000000       1.000000  1.000000   1.000000  1.000000  1.000000   \n",
       "OSM         0.883119       0.563318  1.275535   0.737869  0.115449  0.188735   \n",
       "TGFB1       2.908330       0.046753  0.045314   0.000000  0.035955  0.000000   \n",
       "TNFA        0.940452       0.469628  1.566272   1.222936  0.720931  0.709578   \n",
       "\n",
       "                PNEC   All_Sec  Tuft_PNEC  \n",
       "Unnamed: 0                                 \n",
       "ActA        0.826523  1.382330   1.214723  \n",
       "Adipo       0.805013  1.180030   0.779883  \n",
       "BMP4        0.000000  0.692300   0.000000  \n",
       "CHIR        0.432353  1.301123   0.197973  \n",
       "EGF         1.317504  1.295488   0.402188  \n",
       "FGF10       1.444881  0.777253   0.901094  \n",
       "FGF2        1.628271  0.777873   0.697105  \n",
       "HGF         0.875113  1.105186   1.145473  \n",
       "IFNA        0.330398  0.413825   0.075644  \n",
       "IFNG        0.000000  0.384874   0.000000  \n",
       "IGF1        0.866841  1.028264   1.177065  \n",
       "IL13        0.890654  0.875436   0.835938  \n",
       "IL17A       1.318880  1.538666   0.569366  \n",
       "Leptin      1.188108  1.210105   1.748291  \n",
       "None        1.000000  1.000000   1.000000  \n",
       "OSM         0.463191  1.249281   0.288552  \n",
       "TGFB1       0.596459  0.044564   0.136559  \n",
       "TNFA        0.852510  1.560589   0.742302  "
      ]
     },
     "execution_count": 16,
     "metadata": {},
     "output_type": "execute_result"
    }
   ],
   "source": [
    "# Log-Fold-changes of average, for included donors only in each condition \n",
    "\n",
    "# Prepare the average untreated reference values for each condition, including only relevant donors:\n",
    "df_donorMatched_untreated = {}\n",
    "df_donorMatched_untreated_nReps = dict((t,0) for t in df_dnrs[0].index)\n",
    "for t in list(df_dnrs[0].index):\n",
    "    for k in df_dnrs.keys():\n",
    "        if ~df_dnrs[k].loc[t].isna()['Basal']:\n",
    "            # Add up all values for untreated:\n",
    "            if df_donorMatched_untreated_nReps[t]==0:\n",
    "                df_donorMatched_untreated[t] = df_dnrs[k].loc['None'] # First value\n",
    "            else:\n",
    "                df_donorMatched_untreated[t] = df_donorMatched_untreated[t] + df_dnrs[k].loc['None'] # Add values\n",
    "            # Count how many donors:\n",
    "            df_donorMatched_untreated_nReps[t] = df_donorMatched_untreated_nReps[t] + 1\n",
    "    # Divide by number donors to get the average:\n",
    "    df_donorMatched_untreated[t] = df_donorMatched_untreated[t] / df_donorMatched_untreated_nReps[t]\n",
    "\n",
    "# Prepare the average of the full reference\n",
    "df_avg = (pd.concat(df_dnrs)).groupby('Unnamed: 0').mean()\n",
    "    \n",
    "# Now calculate fold-change:\n",
    "df_donorMatched_FC = df_avg.copy()\n",
    "for t in list(df_avg.index):\n",
    "    df_donorMatched_FC.loc[t] = df_avg.loc[t]/df_donorMatched_untreated[t]\n",
    "\n",
    "# Add in two rows for specific sums we care about:\n",
    "df_donorMatched_FC['All_Sec'] = df_donorMatched_FC['Club']\n",
    "df_donorMatched_FC['Tuft_PNEC']  = df_donorMatched_FC['Tuft']\n",
    "for t in list(df_avg.index):\n",
    "    df_donorMatched_FC.loc[t,'All_Sec'] = (df_avg.loc[t]['Club']+df_avg.loc[t]['Goblet'])/ \\\n",
    "                        (df_donorMatched_untreated[t]['Club']+df_donorMatched_untreated[t]['Goblet'])\n",
    "    df_donorMatched_FC.loc[t,'Tuft_PNEC'] = (df_avg.loc[t]['Tuft']+df_avg.loc[t]['PNEC'])/ \\\n",
    "                        (df_donorMatched_untreated[t]['Tuft']+df_donorMatched_untreated[t]['PNEC'])\n",
    "\n",
    "\n",
    "\n",
    "\n",
    "\n",
    "\n",
    "\n",
    "df_donorMatched_FC"
   ]
  },
  {
   "cell_type": "code",
   "execution_count": 17,
   "metadata": {},
   "outputs": [
    {
     "data": {
      "image/png": "[encoded data removed]",
      "text/plain": [
       "<Figure size 240x240 with 1 Axes>"
      ]
     },
     "metadata": {},
     "output_type": "display_data"
    }
   ],
   "source": [
    "# Formula for plotting scatter:\n",
    "# geom_mean(c_treated)/geom_mean(c_none)\n",
    "\n",
    "showLabels = False\n",
    "plt.figure(figsize=(3, 3), dpi=80)\n",
    "x= df_donorMatched_FC['Multiciliated']\n",
    "y= df_donorMatched_FC['All_Sec']\n",
    "\n",
    "plt.scatter(x,y,color='grey', s=40)\n",
    "plt.scatter(x[['IL17A','IFNA','IL13']],y[['IL17A','IFNA','IL13']],color = 'black',s=40)\n",
    "\n",
    "\n",
    "if showLabels:\n",
    "    for i in range(df_mean.shape[0]):\n",
    "        plt.text(x=x[i]+.02,y=y[i]+.02,s=df_donorMatched_FC.index[i],fontname = 'Arial')\n",
    "\n",
    "xfit=np.array([0,1.5])\n",
    "plt.plot(xfit,1*xfit,'-', color=\"0.5\", linewidth=0.5)    \n",
    "\n",
    "if 1:\n",
    "    plt.xlim(0, 1.3)\n",
    "    plt.ylim(0, 1.9)\n",
    "else:\n",
    "    plt.xscale('log')\n",
    "    plt.yscale('log')\n",
    "plt.xlabel('Multiciliated, fold-change (1=untreated)', fontname = 'Arial')    \n",
    "plt.ylabel('Club+Goblet, fold-change (1=untreated)', fontname = 'Arial')\n",
    "plt.yticks(fontname = 'Arial', fontsize = 11)\n",
    "plt.xticks(fontname = 'Arial', fontsize = 11)\n",
    "\n",
    "\n",
    "plt.draw()\n",
    "if showLabels:\n",
    "    plt.savefig('../../figures/FigS4C_MCC_Sec_FC.pdf',bbox_inches='tight', dpi = 300)\n",
    "else:\n",
    "    plt.savefig('../../figures/FigS4C_MCC_Sec_FC.pdf',bbox_inches='tight', dpi = 300)\n",
    "    "
   ]
  },
  {
   "cell_type": "code",
   "execution_count": 18,
   "metadata": {},
   "outputs": [
    {
     "data": {
      "image/png": "[encoded data removed]",
      "text/plain": [
       "<Figure size 240x240 with 1 Axes>"
      ]
     },
     "metadata": {},
     "output_type": "display_data"
    }
   ],
   "source": [
    "# Formula for plotting scatter:\n",
    "# geom_mean(c_treated)/geom_mean(c_none)\n",
    "\n",
    "showLabels = False\n",
    "plt.figure(figsize=(3, 3), dpi=80)\n",
    "x= df_donorMatched_FC['Multiciliated']\n",
    "y= df_donorMatched_FC['Goblet']\n",
    "\n",
    "plt.scatter(x,y,color='grey', s=40)\n",
    "plt.scatter(x[['IL17A','IFNA','IL13']],y[['IL17A','IFNA','IL13']],color = 'black',s=40)\n",
    "\n",
    "\n",
    "if showLabels:\n",
    "    for i in range(df_mean.shape[0]):\n",
    "        plt.text(x=x[i]+.02,y=y[i]+.02,s=df_donorMatched_FC.index[i],fontname = 'Arial')\n",
    "\n",
    "xfit=np.array([0,1.5])\n",
    "#plt.plot(xfit,1*xfit,'-', color=\"0.5\", linewidth=0.5)    \n",
    "\n",
    "plt.axhline(y=1, color = 'grey', linewidth = 0.5)\n",
    "#plt.axhline(y=2, color = 'grey', linewidth = 0.5)\n",
    "plt.axvline(x=1, color = 'grey', linewidth = 0.5)\n",
    "\n",
    "#if 1:\n",
    "#    plt.xlim(0, 1.3)\n",
    "#    plt.ylim(0, 1.9)\n",
    "#else:\n",
    "#    plt.xscale('log')\n",
    "#    plt.yscale('log')\n",
    "#plt.xscale('log')\n",
    "plt.yscale('log')\n",
    "#plt.xscale('log')\n",
    "\n",
    "\n",
    "plt.xlabel('Multiciliated, fold-change (1=untreated)', fontname = 'Arial')    \n",
    "plt.ylabel('Goblet, fold-change (1=untreated)', fontname = 'Arial')\n",
    "plt.yticks(fontname = 'Arial', fontsize = 11)\n",
    "plt.xticks(fontname = 'Arial', fontsize = 11)\n",
    "\n",
    "\n",
    "plt.draw()\n",
    "if showLabels:\n",
    "    plt.savefig('../../figures/Fig2J_MCC_goblet_FC.pdf',bbox_inches='tight', dpi = 300)\n",
    "else:\n",
    "    plt.savefig('../../figures/Fig2J_MCC_goblet_FC_noLabels.pdf',bbox_inches='tight', dpi = 300)\n",
    "    "
   ]
  },
  {
   "cell_type": "code",
   "execution_count": 19,
   "metadata": {},
   "outputs": [
    {
     "data": {
      "image/png": "[encoded data removed]",
      "text/plain": [
       "<Figure size 240x240 with 1 Axes>"
      ]
     },
     "metadata": {},
     "output_type": "display_data"
    }
   ],
   "source": [
    "showLabels = False\n",
    "plt.figure(figsize=(3, 3), dpi=80)\n",
    "x=df_donorMatched_FC['Club']\n",
    "y=df_donorMatched_FC['Goblet']\n",
    "plt.scatter(x,y,color='grey',s=40)\n",
    "plt.scatter(x[['IL17A','IFNA','IL13']],y[['IL17A','IFNA','IL13']],\n",
    "            color ='black',s=40)\n",
    "\n",
    "xfit=np.array([1e-9,2])\n",
    "#plt.plot(xfit,xfit,'r-')    \n",
    "    \n",
    "if 0:\n",
    "    #plt.xlim(0, 65)\n",
    "    #plt.ylim(0, 25)\n",
    "    \n",
    "    if showLabels:\n",
    "        for i in range(df.shape[0]):\n",
    "            plt.text(x=x[i]+.02,y=y[i]+.02,s=df_donorMatched_FC.index[i],fontname = 'Arial')\n",
    "    \n",
    "else:\n",
    "    plt.xlim(1e-1, 3)\n",
    "    plt.ylim(1e-1, 50)\n",
    "    \n",
    "    if showLabels:\n",
    "        for i in range(df.shape[0]):\n",
    "            plt.text(x=x[i]+.02,y=y[i]+.02,s=df_donorMatched_FC.index[i],fontname = 'Arial')\n",
    "\n",
    "\n",
    "    plt.xscale('log')\n",
    "    plt.yscale('log')\n",
    "plt.xlabel('Club, fold-change (1=untreated)',fontname = 'Arial')\n",
    "plt.ylabel('Goblet, fold-change (1=untreated)',fontname = 'Arial')\n",
    "#plt.gca().set_aspect('equal', adjustable='box')\n",
    "plt.yticks(fontname = 'Arial', fontsize = 11,ticks =[0.1,1,10,40] ,labels = [0.1,1,10,40])\n",
    "plt.xticks(fontname = 'Arial', fontsize = 11,ticks =[0.1,0.5,1,2,3] ,labels = [0.1,0.5,1,2,3])\n",
    "plt.grid(False)\n",
    "plt.axhline(y=1, color = 'grey', linewidth = 0.5)\n",
    "plt.axvline(x=1, color = 'grey', linewidth = 0.5)\n",
    "plt.draw()\n",
    "\n",
    "\n",
    "plt.draw()\n",
    "if showLabels:\n",
    "    plt.savefig('../../figures/Fig2I_Club_Goblet_FC.pdf',bbox_inches='tight', dpi = 300)\n",
    "else:\n",
    "    plt.savefig('../../figures/Fig2I_Club_Goblet_FC_noLabels.pdf',bbox_inches='tight', dpi = 300)\n",
    "    "
   ]
  },
  {
   "cell_type": "code",
   "execution_count": 20,
   "metadata": {
    "scrolled": true
   },
   "outputs": [
    {
     "name": "stdout",
     "output_type": "stream",
     "text": [
      "0.8521655266507256\n"
     ]
    },
    {
     "data": {
      "image/png": "[encoded data removed]",
      "text/plain": [
       "<Figure size 240x240 with 1 Axes>"
      ]
     },
     "metadata": {},
     "output_type": "display_data"
    }
   ],
   "source": [
    "showLabels = False\n",
    "plt.figure(figsize=(3, 3), dpi=80)\n",
    "y=df_donorMatched_FC['Ionocyte']\n",
    "x=df_donorMatched_FC['Tuft_PNEC']\n",
    "print(x.corr(y))\n",
    "plt.scatter(x,y, color = 'black', s=40,zorder = 10)\n",
    "\n",
    "xfit=np.array([1e-9,2.5])\n",
    "plt.plot(xfit,xfit,'r-')    \n",
    "    \n",
    "if 1:\n",
    "    plt.xlim(0, 2.5)\n",
    "    plt.ylim(0, 2.5)\n",
    "    \n",
    "    if showLabels:\n",
    "        for i in range(df.shape[0]):\n",
    "            plt.text(x=x[i]+.02,y=y[i]+.02,s=df_donorMatched_FC.index[i],fontname = 'Arial')\n",
    "    plt.grid(True)\n",
    "else:\n",
    "    plt.xlim(1e-1, 3.0)\n",
    "    plt.ylim(1e-1, 3.0)\n",
    "    \n",
    "    if showLabels:\n",
    "        for i in range(df.shape[0]):\n",
    "            plt.text(x=x[i]*1.05,y=y[i]*1.05,s=df_donorMatched_FC.index[i],fontname = 'Arial')\n",
    "\n",
    "    plt.xscale('log')\n",
    "    plt.yscale('log')\n",
    "    plt.grid(True)\n",
    "\n",
    "\n",
    "plt.xlabel('Tuft + PNEC, fold-change (1=untreated)',fontname = 'Arial')\n",
    "plt.ylabel('Ionocyte, fold-change (1=untreated)',fontname = 'Arial')\n",
    "#plt.gca().set_aspect('equal', adjustable='box')\n",
    "plt.yticks(fontname = 'Arial', fontsize = 11)\n",
    "plt.xticks(fontname = 'Arial', fontsize = 11)\n",
    "plt.grid(False)\n",
    "plt.axhline(y=1, color = 'grey', linewidth = 0.5)\n",
    "plt.axvline(x=1, color = 'grey', linewidth = 0.5)\n",
    "plt.draw()\n",
    "\n",
    "\n",
    "if showLabels:\n",
    "    plt.savefig('../../figures/Fig2L_PNEC_Tuft_Ionocyte_FC.pdf',bbox_inches='tight', dpi = 300)\n",
    "else:\n",
    "    plt.savefig('../../figures/Fig2L_PNEC_Tuft_Ionocyte_FC_noLabels.pdf',\n",
    "                bbox_inches='tight', dpi = 300)"
   ]
  },
  {
   "cell_type": "code",
   "execution_count": 21,
   "metadata": {},
   "outputs": [
    {
     "name": "stdout",
     "output_type": "stream",
     "text": [
      "0.7261860848119088\n"
     ]
    }
   ],
   "source": [
    "# Linear regression for ionocytes vs Tuft+PNEC\n",
    "from sklearn.linear_model import LinearRegression\n",
    "\n",
    "#initiate linear regression model\n",
    "model = LinearRegression()\n",
    "\n",
    "#fit regression model\n",
    "y=df_donorMatched_FC['Ionocyte']\n",
    "x=np.array(df_donorMatched_FC['Tuft_PNEC']).reshape(-1, 1)\n",
    "model.fit(x, y)\n",
    "\n",
    "#calculate R-squared of regression model\n",
    "r_squared = model.score(x, y)\n",
    "\n",
    "#view R-squared value\n",
    "print(r_squared)"
   ]
  },
  {
   "cell_type": "markdown",
   "metadata": {},
   "source": [
    "## Specific changes reported in the text"
   ]
  },
  {
   "cell_type": "code",
   "execution_count": 22,
   "metadata": {},
   "outputs": [
    {
     "data": {
      "text/plain": [
       "Unnamed: 0\n",
       "None      1.000000\n",
       "Leptin    1.569115\n",
       "TNFA      0.730135\n",
       "ActA      0.819628\n",
       "OSM       0.106737\n",
       "HGF       1.124505\n",
       "EGF       0.363106\n",
       "FGF2      0.497752\n",
       "Adipo     0.662735\n",
       "IGF1      1.056663\n",
       "FGF10     0.773925\n",
       "IL17A     0.730856\n",
       "IL13      0.668502\n",
       "BMP4      0.000000\n",
       "CHIR      0.085262\n",
       "IFNA      0.491297\n",
       "IFNG      0.013920\n",
       "TGFB1     0.079282\n",
       "dtype: float64"
      ]
     },
     "execution_count": 22,
     "metadata": {},
     "output_type": "execute_result"
    }
   ],
   "source": [
    "\n",
    "df[['Tuft','Ionocyte','PNEC']].sum(1)/(df.loc['None'][['Tuft','Ionocyte','PNEC']].sum())\n"
   ]
  },
  {
   "cell_type": "code",
   "execution_count": 23,
   "metadata": {},
   "outputs": [
    {
     "data": {
      "text/plain": [
       "Unnamed: 0\n",
       "None      1.000000\n",
       "Leptin    1.247647\n",
       "TNFA      1.212157\n",
       "ActA      1.157167\n",
       "OSM       0.923799\n",
       "HGF       1.137789\n",
       "EGF       1.102036\n",
       "FGF2      0.849030\n",
       "Adipo     1.069547\n",
       "IGF1      0.991394\n",
       "FGF10     0.812965\n",
       "IL17A     1.160618\n",
       "IL13      1.169854\n",
       "BMP4      0.842015\n",
       "CHIR      1.093532\n",
       "IFNA      0.521371\n",
       "IFNG      0.358262\n",
       "TGFB1     0.053318\n",
       "dtype: float64"
      ]
     },
     "execution_count": 23,
     "metadata": {},
     "output_type": "execute_result"
    }
   ],
   "source": [
    "df[['Multiciliated','Secretory','Goblet']].sum(1)/(df.loc['None'][['Multiciliated','Secretory','Goblet']].sum())\n",
    "\n"
   ]
  },
  {
   "cell_type": "code",
   "execution_count": 24,
   "metadata": {},
   "outputs": [
    {
     "data": {
      "text/plain": [
       "Unnamed: 0\n",
       "None      1.000000\n",
       "Leptin    1.257660\n",
       "TNFA      0.602343\n",
       "ActA      0.708306\n",
       "OSM       0.115541\n",
       "HGF       0.988325\n",
       "EGF       0.329487\n",
       "FGF2      0.586259\n",
       "Adipo     0.619640\n",
       "IGF1      1.065836\n",
       "FGF10     0.951978\n",
       "IL17A     0.629713\n",
       "IL13      0.571441\n",
       "BMP4      0.000000\n",
       "CHIR      0.077969\n",
       "IFNA      0.942319\n",
       "IFNG      0.038853\n",
       "TGFB1     1.486960\n",
       "dtype: float64"
      ]
     },
     "execution_count": 24,
     "metadata": {},
     "output_type": "execute_result"
    }
   ],
   "source": [
    "rareFC = df[['Tuft','Ionocyte','PNEC']].sum(1)/(df.loc['None'][['Tuft','Ionocyte','PNEC']].sum())\n",
    "mucocilFC = df[['Multiciliated','Secretory','Goblet']].sum(1)/(df.loc['None'][['Multiciliated','Secretory','Goblet']].sum())\n",
    "\n",
    "rareFC/mucocilFC\n"
   ]
  },
  {
   "cell_type": "code",
   "execution_count": null,
   "metadata": {},
   "outputs": [],
   "source": []
  }
 ],
 "metadata": {
  "kernelspec": {
   "display_name": "Python 3 (ipykernel)",
   "language": "python",
   "name": "python3"
  },
  "language_info": {
   "codemirror_mode": {
    "name": "ipython",
    "version": 3
   },
   "file_extension": ".py",
   "mimetype": "text/x-python",
   "name": "python",
   "nbconvert_exporter": "python",
   "pygments_lexer": "ipython3",
   "version": "3.10.6"
  }
 },
 "nbformat": 4,
 "nbformat_minor": 4
}
