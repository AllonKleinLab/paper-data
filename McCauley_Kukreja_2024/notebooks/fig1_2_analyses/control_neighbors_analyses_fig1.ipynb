{
 "cells": [
  {
   "cell_type": "markdown",
   "metadata": {
    "jp-MarkdownHeadingCollapsed": true,
    "tags": []
   },
   "source": [
    "# What this notebook does:\n",
    "\n",
    "This analysis finds fraction of nearest neighbors of a treatment condition in unperturbed data. For the detailed description of the method, refer to McCauley/Kukreja et. al. 2024 manuscript's method section: Fraction control neighbor analyses (Fig. 1G)\n"
   ]
  },
  {
   "cell_type": "markdown",
   "metadata": {},
   "source": [
    "# Set up"
   ]
  },
  {
   "cell_type": "code",
   "execution_count": 24,
   "metadata": {},
   "outputs": [],
   "source": [
    "import numpy as np, pandas as pd, matplotlib.pyplot as pl, scipy.sparse as ssp\n",
    "import scanpy as sc,scanpy.external as sce\n",
    "import sys\n",
    "sys.path.append('../../helper_functions/')\n",
    "import helper_functions_py3 as hf\n",
    "\n",
    "sc.settings.verbosity = 2  # verbosity: errors (0), warnings (1), info (2), hints (3)\n",
    "sc.settings.set_figure_params(dpi=100)  # low dpi (dots per inch) yields small inline figures\n",
    "\n",
    "import random\n",
    "import scipy.stats  as ss\n",
    "import statsmodels.stats.multitest as multitest\n",
    "from matplotlib.patches import Rectangle\n",
    "import seaborn as sn\n",
    "from sklearn.neighbors import NearestNeighbors\n",
    "from collections import Counter\n"
   ]
  },
  {
   "cell_type": "markdown",
   "metadata": {},
   "source": [
    "# Load data"
   ]
  },
  {
   "cell_type": "code",
   "execution_count": 25,
   "metadata": {},
   "outputs": [],
   "source": [
    "# load all data\n",
    "# update this with the path where your anndata objects are stored !!\n",
    "anndata_path = '../../data/anndata_objects/'\n",
    "adata = sc.read_h5ad('../../data/anndata_objects/all_indrops_data.h5ad')"
   ]
  },
  {
   "cell_type": "markdown",
   "metadata": {},
   "source": [
    "# Find fraction control neighbors"
   ]
  },
  {
   "cell_type": "markdown",
   "metadata": {},
   "source": [
    "## Find k-nearest neighbors"
   ]
  },
  {
   "cell_type": "code",
   "execution_count": 26,
   "metadata": {},
   "outputs": [],
   "source": [
    "# function to find knn of cells in anndata:\n",
    "\n",
    "def find_knn(adata, num_neighbors):\n",
    "    \n",
    "    # filter genes:\n",
    "    sc.pp.filter_genes(adata, min_cells=3)\n",
    "    sc.pp.filter_genes(adata, min_counts=6)\n",
    "    \n",
    "    # normalized data:\n",
    "    sc.pp.normalize_per_cell(adata, counts_per_cell_after=1e4)\n",
    "    adata.layers['raw_counts'] = adata.X.copy()\n",
    "    \n",
    "    # log transform data:\n",
    "    sc.pp.log1p(adata)\n",
    "\n",
    "    # identify highly variable genes:\n",
    "    sc.pp.highly_variable_genes(adata, flavor='cell_ranger', n_top_genes=4000)\n",
    "\n",
    "    # scale data:\n",
    "    sc.pp.scale(adata)\n",
    "\n",
    "    # find top 50 PCs:\n",
    "    sc.pp.pca(adata, n_comps=50, svd_solver='arpack')\n",
    "    \n",
    "    # find nearest neighbors:\n",
    "    E = adata.obsm['X_pca']\n",
    "\n",
    "    adata_neigbhors = NearestNeighbors(n_neighbors=num_neighbors, metric='euclidean').fit(E)\n",
    "    knn = adata_neigbhors.kneighbors(E)[1]\n",
    "    \n",
    "    return knn\n"
   ]
  },
  {
   "cell_type": "code",
   "execution_count": 27,
   "metadata": {},
   "outputs": [
    {
     "name": "stdout",
     "output_type": "stream",
     "text": [
      "filtered out 6937 genes that are detected in less than 3 cells\n",
      "filtered out 2906 genes that are detected in less than 6 counts\n",
      "normalizing by total count per cell\n",
      "    finished (0:00:02): normalized adata.X and added    'n_counts', counts per cell before normalization (adata.obs)\n",
      "If you pass `n_top_genes`, all cutoffs are ignored.\n",
      "extracting highly variable genes\n",
      "    finished (0:00:01)\n",
      "... as `zero_center=True`, sparse input is densified and may lead to large memory consumption\n",
      "computing PCA\n",
      "    on highly variable genes\n",
      "    with n_comps=50\n",
      "    finished (0:00:51)\n"
     ]
    }
   ],
   "source": [
    "# find 100 nearest neighbors:\n",
    "adata_knn100 = find_knn(adata, num_neighbors = 100)\n",
    "\n",
    "# find conditions corresponding to each neighbor\n",
    "neighbor_conditions100 = np.array(adata.obs.condition)[adata_knn100]\n"
   ]
  },
  {
   "cell_type": "code",
   "execution_count": 28,
   "metadata": {},
   "outputs": [
    {
     "data": {
      "text/plain": [
       "array([[    0,  1591,   875, ...,  1318,   420,  1144],\n",
       "       [    1, 11892,   734, ..., 31744, 66861,  1703],\n",
       "       [    2,  1277,   677, ..., 19286,  1083,   376],\n",
       "       ...,\n",
       "       [77565, 75411, 76206, ..., 76852, 66883, 76209],\n",
       "       [77566, 68818, 68142, ..., 68900, 34020, 64045],\n",
       "       [77567, 76221, 13767, ..., 27438, 12642, 27674]])"
      ]
     },
     "execution_count": 28,
     "metadata": {},
     "output_type": "execute_result"
    }
   ],
   "source": [
    "adata_knn100"
   ]
  },
  {
   "cell_type": "code",
   "execution_count": 29,
   "metadata": {},
   "outputs": [
    {
     "data": {
      "text/plain": [
       "array([['IL17A', 'IL17A', 'IL17A', ..., 'IL17A', 'IL17A', 'IL17A'],\n",
       "       ['IL17A', 'OSM', 'IL17A', ..., 'IGF1', 'Leptin', 'IL17A'],\n",
       "       ['IL17A', 'IL17A', 'IL17A', ..., 'TNFA', 'IL17A', 'IL17A'],\n",
       "       ...,\n",
       "       ['FGF2', 'FGF2', 'FGF2', ..., 'FGF2', 'Leptin', 'FGF2'],\n",
       "       ['FGF2', 'Leptin', 'Leptin', ..., 'Leptin', 'IGF1', 'FGF10'],\n",
       "       ['FGF2', 'FGF2', 'BMP4', ..., 'EGF', 'BMP4', 'EGF']], dtype=object)"
      ]
     },
     "execution_count": 29,
     "metadata": {},
     "output_type": "execute_result"
    }
   ],
   "source": [
    "neighbor_conditions100"
   ]
  },
  {
   "cell_type": "markdown",
   "metadata": {},
   "source": [
    "## Donor-wise analysis"
   ]
  },
  {
   "cell_type": "code",
   "execution_count": 30,
   "metadata": {},
   "outputs": [],
   "source": [
    "# subset neigbhors for each donor:\n",
    "neighbor_conditions_rep1 = neighbor_conditions100[adata.obs.assigned_donor == 'donor_1'].copy()\n",
    "neighbor_conditions_rep2 = neighbor_conditions100[adata.obs.assigned_donor == 'donor_2'].copy()\n",
    "neighbor_conditions_rep3 = neighbor_conditions100[adata.obs.assigned_donor == 'donor_3'].copy()"
   ]
  },
  {
   "cell_type": "code",
   "execution_count": 31,
   "metadata": {},
   "outputs": [],
   "source": [
    "# find number of neighbros for each condition for each donor: \n",
    "counts_conditions_rep1 = dict(Counter(adata[adata.obs.assigned_donor == 'donor_1'].obs.condition))\n",
    "counts_conditions_rep2 = dict(Counter(adata[adata.obs.assigned_donor == 'donor_2'].obs.condition)) \n",
    "counts_conditions_rep3 = dict(Counter(adata[adata.obs.assigned_donor == 'donor_3'].obs.condition)) "
   ]
  },
  {
   "cell_type": "code",
   "execution_count": 32,
   "metadata": {},
   "outputs": [
    {
     "data": {
      "text/plain": [
       "{'BMP4': 562,\n",
       " 'IL13': 884,\n",
       " 'Adipo': 669,\n",
       " 'CHIR': 495,\n",
       " 'TNFA': 1380,\n",
       " 'None': 1867,\n",
       " 'IGF1': 1178,\n",
       " 'IL17A': 1056,\n",
       " 'HGF': 839,\n",
       " 'EGF': 612,\n",
       " 'TGFB1': 1240,\n",
       " 'FGF10': 1891,\n",
       " 'Leptin': 1089,\n",
       " 'IFNA': 1242,\n",
       " 'FGF2': 765}"
      ]
     },
     "execution_count": 32,
     "metadata": {},
     "output_type": "execute_result"
    }
   ],
   "source": [
    "counts_conditions_rep1"
   ]
  },
  {
   "cell_type": "markdown",
   "metadata": {},
   "source": [
    "## Find observed/expected fraction"
   ]
  },
  {
   "cell_type": "markdown",
   "metadata": {},
   "source": [
    "### Donor 1"
   ]
  },
  {
   "cell_type": "code",
   "execution_count": 33,
   "metadata": {},
   "outputs": [],
   "source": [
    "# expected control neigbhor numbers out of 2 conditions\n",
    "exp1 = {}\n",
    "for conditions in counts_conditions_rep1.keys():\n",
    "    num =counts_conditions_rep1['None']\n",
    "    denom = counts_conditions_rep1['None']+ counts_conditions_rep1[conditions]\n",
    "    exp1[conditions] = num/denom\n"
   ]
  },
  {
   "cell_type": "code",
   "execution_count": 34,
   "metadata": {},
   "outputs": [],
   "source": [
    "# observed control neighbor numbers:\n",
    "\n",
    "adata_rep1 = adata[adata.obs.assigned_donor == 'donor_1'].copy()\n",
    "\n",
    "obs1={}\n",
    "for x in exp1.keys():\n",
    "    ctrl_num = Counter((neighbor_conditions_rep1[adata_rep1.obs.condition == x]).flatten())['None']\n",
    "    self_num = Counter((neighbor_conditions_rep1[adata_rep1.obs.condition == x]).flatten())[x]\n",
    "    obs1[x] = ctrl_num/(self_num+ctrl_num)"
   ]
  },
  {
   "cell_type": "code",
   "execution_count": 35,
   "metadata": {},
   "outputs": [],
   "source": [
    "obs_exp1=pd.Series(obs1)/pd.Series(exp1)"
   ]
  },
  {
   "cell_type": "markdown",
   "metadata": {},
   "source": [
    "### Replicate 2"
   ]
  },
  {
   "cell_type": "code",
   "execution_count": 36,
   "metadata": {},
   "outputs": [],
   "source": [
    "# expected control neighbor numbers out of 2 conditions\n",
    "exp2 = {}\n",
    "for conditions in counts_conditions_rep2.keys():\n",
    "    num =counts_conditions_rep2['None']\n",
    "    denom = counts_conditions_rep2['None']+ counts_conditions_rep2[conditions]\n",
    "    exp2[conditions] = num/denom\n",
    "\n",
    "# observed control neighbor numbers:\n",
    "\n",
    "adata_rep2 = adata[adata.obs.assigned_donor == 'donor_2'].copy()\n",
    "\n",
    "obs2={}\n",
    "for x in exp2.keys():\n",
    "    ctrl_num = Counter((neighbor_conditions_rep2[adata_rep2.obs.condition == x]).flatten())['None']\n",
    "    self_num = Counter((neighbor_conditions_rep2[adata_rep2.obs.condition == x]).flatten())[x]\n",
    "    obs2[x] = ctrl_num/(self_num+ctrl_num)\n",
    "\n",
    "obs_exp2=pd.Series(obs2)/pd.Series(exp2)"
   ]
  },
  {
   "cell_type": "markdown",
   "metadata": {},
   "source": [
    "### Replicate 3"
   ]
  },
  {
   "cell_type": "code",
   "execution_count": 37,
   "metadata": {},
   "outputs": [],
   "source": [
    "# expected control numbers out of 3 conditions\n",
    "exp3 = {}\n",
    "for conditions in counts_conditions_rep3.keys():\n",
    "    num =counts_conditions_rep3['None']\n",
    "    denom = counts_conditions_rep3['None']+ counts_conditions_rep3[conditions]\n",
    "    exp3[conditions] = num/denom\n",
    "\n",
    "# observed control neighbor numbers:\n",
    "\n",
    "adata_rep3 = adata[adata.obs.assigned_donor == 'donor_3'].copy()\n",
    "\n",
    "obs3={}\n",
    "for x in exp3.keys():\n",
    "    ctrl_num = Counter((neighbor_conditions_rep3[adata_rep3.obs.condition == x]).flatten())['None']\n",
    "    self_num = Counter((neighbor_conditions_rep3[adata_rep3.obs.condition == x]).flatten())[x]\n",
    "    obs3[x] = ctrl_num/(self_num+ctrl_num)\n",
    "\n",
    "obs_exp3=pd.Series(obs3)/pd.Series(exp3)"
   ]
  },
  {
   "cell_type": "markdown",
   "metadata": {},
   "source": [
    "## Plot data"
   ]
  },
  {
   "cell_type": "markdown",
   "metadata": {},
   "source": [
    "### Combine data from the 3 donors"
   ]
  },
  {
   "cell_type": "code",
   "execution_count": 38,
   "metadata": {},
   "outputs": [],
   "source": [
    "condition_list = ['None', 'HGF', 'IGF1', 'ActA', 'TNFA', 'Leptin', 'FGF2', 'Adipo',\n",
    "       'FGF10', 'IL17A', 'OSM', 'IL13', 'IFNA', 'CHIR', 'BMP4', 'EGF', 'IFNG',\n",
    "       'TGFB1']\n",
    "obs_exp = (pd.DataFrame([obs_exp1,obs_exp2,obs_exp3]).T).loc[condition_list]"
   ]
  },
  {
   "cell_type": "code",
   "execution_count": 39,
   "metadata": {},
   "outputs": [
    {
     "data": {
      "text/html": [
       "<div>\n",
       "<style scoped>\n",
       "    .dataframe tbody tr th:only-of-type {\n",
       "        vertical-align: middle;\n",
       "    }\n",
       "\n",
       "    .dataframe tbody tr th {\n",
       "        vertical-align: top;\n",
       "    }\n",
       "\n",
       "    .dataframe thead th {\n",
       "        text-align: right;\n",
       "    }\n",
       "</style>\n",
       "<table border=\"1\" class=\"dataframe\">\n",
       "  <thead>\n",
       "    <tr style=\"text-align: right;\">\n",
       "      <th></th>\n",
       "      <th>0</th>\n",
       "      <th>1</th>\n",
       "      <th>2</th>\n",
       "    </tr>\n",
       "  </thead>\n",
       "  <tbody>\n",
       "    <tr>\n",
       "      <th>None</th>\n",
       "      <td>1.000000</td>\n",
       "      <td>1.000000</td>\n",
       "      <td>1.000000</td>\n",
       "    </tr>\n",
       "    <tr>\n",
       "      <th>HGF</th>\n",
       "      <td>0.846824</td>\n",
       "      <td>0.749051</td>\n",
       "      <td>0.767472</td>\n",
       "    </tr>\n",
       "    <tr>\n",
       "      <th>IGF1</th>\n",
       "      <td>0.810798</td>\n",
       "      <td>0.815757</td>\n",
       "      <td>0.902290</td>\n",
       "    </tr>\n",
       "    <tr>\n",
       "      <th>ActA</th>\n",
       "      <td>NaN</td>\n",
       "      <td>0.789682</td>\n",
       "      <td>0.724480</td>\n",
       "    </tr>\n",
       "    <tr>\n",
       "      <th>TNFA</th>\n",
       "      <td>0.161627</td>\n",
       "      <td>0.497503</td>\n",
       "      <td>0.252913</td>\n",
       "    </tr>\n",
       "  </tbody>\n",
       "</table>\n",
       "</div>"
      ],
      "text/plain": [
       "             0         1         2\n",
       "None  1.000000  1.000000  1.000000\n",
       "HGF   0.846824  0.749051  0.767472\n",
       "IGF1  0.810798  0.815757  0.902290\n",
       "ActA       NaN  0.789682  0.724480\n",
       "TNFA  0.161627  0.497503  0.252913"
      ]
     },
     "execution_count": 39,
     "metadata": {},
     "output_type": "execute_result"
    }
   ],
   "source": [
    "obs_exp.head()"
   ]
  },
  {
   "cell_type": "code",
   "execution_count": 40,
   "metadata": {},
   "outputs": [],
   "source": [
    "obs_exp_mean = pd.Series(np.nanmean(obs_exp, axis=1))\n",
    "obs_exp_mean.index = obs_exp.index"
   ]
  },
  {
   "cell_type": "code",
   "execution_count": 41,
   "metadata": {},
   "outputs": [],
   "source": [
    "obs_exp_mean = obs_exp_mean.sort_values(ascending = False)"
   ]
  },
  {
   "cell_type": "code",
   "execution_count": 42,
   "metadata": {},
   "outputs": [],
   "source": [
    "obs_exp_sem = pd.Series(ss.sem(obs_exp, axis = 1, nan_policy='omit').data)\n",
    "obs_exp_sem.index = obs_exp_mean.index"
   ]
  },
  {
   "cell_type": "markdown",
   "metadata": {},
   "source": [
    "### Make final plot"
   ]
  },
  {
   "cell_type": "code",
   "execution_count": 43,
   "metadata": {},
   "outputs": [
    {
     "data": {
      "image/png": "[encoded data removed]",
      "text/plain": [
       "<Figure size 570x270 with 1 Axes>"
      ]
     },
     "metadata": {
      "image/png": {
       "height": 302,
       "width": 514
      }
     },
     "output_type": "display_data"
    }
   ],
   "source": [
    "pl.figure(figsize = (5.7,2.7))\n",
    "pl.scatter(np.arange(obs_exp_mean.shape[0]),obs_exp_mean, color = 'grey')\n",
    "pl.errorbar(np.arange(obs_exp_mean.shape[0]),obs_exp_mean, \n",
    "           yerr = obs_exp_sem, color = 'lightgrey', ls = 'none')\n",
    "\n",
    "pl.grid(False)\n",
    "\n",
    "bla = pl.xticks(np.arange(len(condition_list)), \n",
    "                labels =obs_exp_sem.index, rotation = 90, fontname = 'Arial', fontsize = 15)\n",
    "\n",
    "sn.despine()\n",
    "pl.yticks(fontname = 'Arial', fontsize = 15)\n",
    "\n",
    "\n",
    "pl.savefig(\"../../figures/Fig1G_control_neighbors_k100.pdf\", bbox_inches='tight', dpi = 300)\n"
   ]
  }
 ],
 "metadata": {
  "kernelspec": {
   "display_name": "Python 3 (ipykernel)",
   "language": "python",
   "name": "python3"
  },
  "language_info": {
   "codemirror_mode": {
    "name": "ipython",
    "version": 3
   },
   "file_extension": ".py",
   "mimetype": "text/x-python",
   "name": "python",
   "nbconvert_exporter": "python",
   "pygments_lexer": "ipython3",
   "version": "3.10.6"
  }
 },
 "nbformat": 4,
 "nbformat_minor": 4
}
